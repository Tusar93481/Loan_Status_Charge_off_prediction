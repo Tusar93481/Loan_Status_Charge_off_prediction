{
  "nbformat": 4,
  "nbformat_minor": 0,
  "metadata": {
    "colab": {
      "provenance": [],
      "toc_visible": true
    },
    "kernelspec": {
      "name": "python3",
      "display_name": "Python 3"
    },
    "language_info": {
      "name": "python"
    }
  },
  "cells": [
    {
      "cell_type": "markdown",
      "source": [
        "# PROBLEM STATEMENT\n",
        "\n",
        "Dataset link : https://www.kaggle.com/datasets/zaurbegiev/my-dataset?select=credit_train.csv"
      ],
      "metadata": {
        "id": "oKGOsGbrCoM2"
      }
    },
    {
      "cell_type": "markdown",
      "source": [
        "## Dataset Information\n",
        "This dataset contains information on customer demographic factors, credit history data, and loan information data of bank customers who have availed a loan previously. While most of them had fully paid off the loan and closed it, some of them had defaulted and the loan delinquency status went into charge-off.\n",
        "\n",
        "## Attribute Information\n",
        "There are about 82000 unique customer records and 19 variables.\n",
        "\n",
        "* Loan ID: Loan ID of each loan.\n",
        "* Customer ID: Customer ID of each customer.\n",
        "* Current Loan Amount: The loan amount of the current loan under consideration.\n",
        "* Term: Whether short term or loanf term loan.\n",
        "* Credit Score: The credit score of the client (credit worthiness).\n",
        "* Annual Income: Annual income of the client.\n",
        "* Years in current job: Number of years the client has been working in their current job.\n",
        "* Home Ownership: The type of home ownership of client, wheter on loan (mortgage), rented or owned.\n",
        "* Purpose: The reason/purpose for taking the current loan.\n",
        "* Monthly Debt: The total EMI charges and payments made towards already outstanding loans every month.\n",
        "* Years of Credit History: The number of years since the client first got a credit line approved from a financial institution. In other words, it is the number of years since the client first took a loan or credit from any bank or NBFC.\n",
        "* Months since last delinquent: The number of months since the last time customer was marked as delinquent. If a customer has been paying on time this number will increase.\n",
        "* Number of Open Accounts: Number of loan accounts that are currently open.\n",
        "* Number of Credit Problems: Number of times issues regarding loan repayment have been reported against the client. For example, an issue might be reported if a customer has not made any payment for three consecutive months.\n",
        "* Current Credit Balance: The current outstanding loan amount.\n",
        "* Maximum Open Credit: The maximum total loan outstanding amount that the client had at any point of time.\n",
        "* Bankruptcies: The number of times the customer was reported as bankrupt.\n",
        "* Tax Liens: The number of times a tax lien was marked against the customer for not paying taxes on time.\n",
        "* Loan Status: (Target variable) Current loan status, whether fully paid or charge-off. \n",
        "\n"
      ],
      "metadata": {
        "id": "qeo8Tgs0DEax"
      }
    },
    {
      "cell_type": "markdown",
      "source": [
        "## Project Objective\n",
        "\n",
        "### Background Goal :\n",
        "The data is from a bank. The bank wants to reduce the risk in its unsecured loans business by limiting the number of defaulters. The outstanding amount, credit history and customer demographic information of various customers is provided for about 82000 customers. Also, their actual loan status is mentioned, whether fully paid or charge-off.\n",
        "\n",
        "### Objective\n",
        "Our objective is to build a machine learning model to predict whether a customer will fully pay off their loan or will not pay and will be marked as charge-off, from the provided data. Since the model is related to credit-risk, we need to show cause and hence variable impact and information is important. So it is best that we do not use black box models. Best model would be logistic regression or decision tree.\n",
        "\n",
        "### Business impact\n",
        "The model will help the bank to identify potential defaulters from their behaviour pattern. This will provide meaningful business insight into risk management and decision making in regards to payment recovery, and portfolio management. It will futher help in estimating the volume of revenue, profit and loss, non-performing assets, expenses etc. Being able to have a foresight of these paramters will aid in better decision making and increase overall profitability of the business."
      ],
      "metadata": {
        "id": "4JPSJc6d9hXY"
      }
    },
    {
      "cell_type": "markdown",
      "source": [
        "# EXPLORATORY DATA ANALYSIS AND VALIDATION"
      ],
      "metadata": {
        "id": "AmywEX5M9zwK"
      }
    },
    {
      "cell_type": "code",
      "execution_count": 2,
      "metadata": {
        "colab": {
          "base_uri": "https://localhost:8080/"
        },
        "id": "WUdv1Tv19ghr",
        "outputId": "32da690a-ec8c-4c06-9442-e3fe7e68b9b7"
      },
      "outputs": [
        {
          "output_type": "stream",
          "name": "stdout",
          "text": [
            "(100514, 19)\n",
            "<class 'pandas.core.frame.DataFrame'>\n",
            "RangeIndex: 100514 entries, 0 to 100513\n",
            "Data columns (total 19 columns):\n",
            " #   Column                        Non-Null Count   Dtype  \n",
            "---  ------                        --------------   -----  \n",
            " 0   Loan ID                       100000 non-null  object \n",
            " 1   Customer ID                   100000 non-null  object \n",
            " 2   Loan Status                   100000 non-null  object \n",
            " 3   Current Loan Amount           100000 non-null  float64\n",
            " 4   Term                          100000 non-null  object \n",
            " 5   Credit Score                  80846 non-null   float64\n",
            " 6   Annual Income                 80846 non-null   float64\n",
            " 7   Years in current job          95778 non-null   object \n",
            " 8   Home Ownership                100000 non-null  object \n",
            " 9   Purpose                       100000 non-null  object \n",
            " 10  Monthly Debt                  100000 non-null  float64\n",
            " 11  Years of Credit History       100000 non-null  float64\n",
            " 12  Months since last delinquent  46859 non-null   float64\n",
            " 13  Number of Open Accounts       100000 non-null  float64\n",
            " 14  Number of Credit Problems     100000 non-null  float64\n",
            " 15  Current Credit Balance        100000 non-null  float64\n",
            " 16  Maximum Open Credit           99998 non-null   float64\n",
            " 17  Bankruptcies                  99796 non-null   float64\n",
            " 18  Tax Liens                     99990 non-null   float64\n",
            "dtypes: float64(12), object(7)\n",
            "memory usage: 14.6+ MB\n"
          ]
        }
      ],
      "source": [
        "import pandas as pd\n",
        "credit_train = pd.read_csv(\"https://raw.githubusercontent.com/A-Bhanupratap/ML_data_files/main/Project_1I_data/credit_train.csv\")\n",
        "print(credit_train.shape)\n",
        "credit_train.info()"
      ]
    },
    {
      "cell_type": "code",
      "source": [
        "credit_test = pd.read_csv(\"https://raw.githubusercontent.com/A-Bhanupratap/ML_data_files/main/Project_1I_data/credit_test.csv\")\n",
        "print(credit_test.shape)\n",
        "credit_test.info()"
      ],
      "metadata": {
        "colab": {
          "base_uri": "https://localhost:8080/"
        },
        "id": "waW7G-CrB3Wn",
        "outputId": "8ea042c7-f9f7-4a97-fc0a-416951131070"
      },
      "execution_count": 3,
      "outputs": [
        {
          "output_type": "stream",
          "name": "stdout",
          "text": [
            "(10353, 18)\n",
            "<class 'pandas.core.frame.DataFrame'>\n",
            "RangeIndex: 10353 entries, 0 to 10352\n",
            "Data columns (total 18 columns):\n",
            " #   Column                        Non-Null Count  Dtype  \n",
            "---  ------                        --------------  -----  \n",
            " 0   Loan ID                       10000 non-null  object \n",
            " 1   Customer ID                   10000 non-null  object \n",
            " 2   Current Loan Amount           10000 non-null  float64\n",
            " 3   Term                          10000 non-null  object \n",
            " 4   Credit Score                  8019 non-null   float64\n",
            " 5   Annual Income                 8019 non-null   float64\n",
            " 6   Years in current job          9573 non-null   object \n",
            " 7   Home Ownership                10000 non-null  object \n",
            " 8   Purpose                       10000 non-null  object \n",
            " 9   Monthly Debt                  10000 non-null  float64\n",
            " 10  Years of Credit History       10000 non-null  float64\n",
            " 11  Months since last delinquent  4694 non-null   float64\n",
            " 12  Number of Open Accounts       10000 non-null  float64\n",
            " 13  Number of Credit Problems     10000 non-null  float64\n",
            " 14  Current Credit Balance        10000 non-null  float64\n",
            " 15  Maximum Open Credit           10000 non-null  float64\n",
            " 16  Bankruptcies                  9978 non-null   float64\n",
            " 17  Tax Liens                     9999 non-null   float64\n",
            "dtypes: float64(12), object(6)\n",
            "memory usage: 1.4+ MB\n"
          ]
        }
      ]
    },
    {
      "cell_type": "code",
      "source": [
        "# Checking the overall data for null values\n",
        "\n",
        "credit_train.head(10)\n",
        "credit_train.tail(10)\n",
        "\n",
        "# We have NaN values in train data"
      ],
      "metadata": {
        "colab": {
          "base_uri": "https://localhost:8080/",
          "height": 479
        },
        "id": "B6iX67-VC2rq",
        "outputId": "2c4dcc13-4e31-412d-aebe-92c6c53bd0d0"
      },
      "execution_count": 4,
      "outputs": [
        {
          "output_type": "execute_result",
          "data": {
            "text/plain": [
              "       Loan ID Customer ID Loan Status  Current Loan Amount Term  \\\n",
              "100504     NaN         NaN         NaN                  NaN  NaN   \n",
              "100505     NaN         NaN         NaN                  NaN  NaN   \n",
              "100506     NaN         NaN         NaN                  NaN  NaN   \n",
              "100507     NaN         NaN         NaN                  NaN  NaN   \n",
              "100508     NaN         NaN         NaN                  NaN  NaN   \n",
              "100509     NaN         NaN         NaN                  NaN  NaN   \n",
              "100510     NaN         NaN         NaN                  NaN  NaN   \n",
              "100511     NaN         NaN         NaN                  NaN  NaN   \n",
              "100512     NaN         NaN         NaN                  NaN  NaN   \n",
              "100513     NaN         NaN         NaN                  NaN  NaN   \n",
              "\n",
              "        Credit Score  Annual Income Years in current job Home Ownership  \\\n",
              "100504           NaN            NaN                  NaN            NaN   \n",
              "100505           NaN            NaN                  NaN            NaN   \n",
              "100506           NaN            NaN                  NaN            NaN   \n",
              "100507           NaN            NaN                  NaN            NaN   \n",
              "100508           NaN            NaN                  NaN            NaN   \n",
              "100509           NaN            NaN                  NaN            NaN   \n",
              "100510           NaN            NaN                  NaN            NaN   \n",
              "100511           NaN            NaN                  NaN            NaN   \n",
              "100512           NaN            NaN                  NaN            NaN   \n",
              "100513           NaN            NaN                  NaN            NaN   \n",
              "\n",
              "       Purpose  Monthly Debt  Years of Credit History  \\\n",
              "100504     NaN           NaN                      NaN   \n",
              "100505     NaN           NaN                      NaN   \n",
              "100506     NaN           NaN                      NaN   \n",
              "100507     NaN           NaN                      NaN   \n",
              "100508     NaN           NaN                      NaN   \n",
              "100509     NaN           NaN                      NaN   \n",
              "100510     NaN           NaN                      NaN   \n",
              "100511     NaN           NaN                      NaN   \n",
              "100512     NaN           NaN                      NaN   \n",
              "100513     NaN           NaN                      NaN   \n",
              "\n",
              "        Months since last delinquent  Number of Open Accounts  \\\n",
              "100504                           NaN                      NaN   \n",
              "100505                           NaN                      NaN   \n",
              "100506                           NaN                      NaN   \n",
              "100507                           NaN                      NaN   \n",
              "100508                           NaN                      NaN   \n",
              "100509                           NaN                      NaN   \n",
              "100510                           NaN                      NaN   \n",
              "100511                           NaN                      NaN   \n",
              "100512                           NaN                      NaN   \n",
              "100513                           NaN                      NaN   \n",
              "\n",
              "        Number of Credit Problems  Current Credit Balance  \\\n",
              "100504                        NaN                     NaN   \n",
              "100505                        NaN                     NaN   \n",
              "100506                        NaN                     NaN   \n",
              "100507                        NaN                     NaN   \n",
              "100508                        NaN                     NaN   \n",
              "100509                        NaN                     NaN   \n",
              "100510                        NaN                     NaN   \n",
              "100511                        NaN                     NaN   \n",
              "100512                        NaN                     NaN   \n",
              "100513                        NaN                     NaN   \n",
              "\n",
              "        Maximum Open Credit  Bankruptcies  Tax Liens  \n",
              "100504                  NaN           NaN        NaN  \n",
              "100505                  NaN           NaN        NaN  \n",
              "100506                  NaN           NaN        NaN  \n",
              "100507                  NaN           NaN        NaN  \n",
              "100508                  NaN           NaN        NaN  \n",
              "100509                  NaN           NaN        NaN  \n",
              "100510                  NaN           NaN        NaN  \n",
              "100511                  NaN           NaN        NaN  \n",
              "100512                  NaN           NaN        NaN  \n",
              "100513                  NaN           NaN        NaN  "
            ],
            "text/html": [
              "\n",
              "  <div id=\"df-13deacbb-f3e6-4230-ad94-80fa3baeeba5\">\n",
              "    <div class=\"colab-df-container\">\n",
              "      <div>\n",
              "<style scoped>\n",
              "    .dataframe tbody tr th:only-of-type {\n",
              "        vertical-align: middle;\n",
              "    }\n",
              "\n",
              "    .dataframe tbody tr th {\n",
              "        vertical-align: top;\n",
              "    }\n",
              "\n",
              "    .dataframe thead th {\n",
              "        text-align: right;\n",
              "    }\n",
              "</style>\n",
              "<table border=\"1\" class=\"dataframe\">\n",
              "  <thead>\n",
              "    <tr style=\"text-align: right;\">\n",
              "      <th></th>\n",
              "      <th>Loan ID</th>\n",
              "      <th>Customer ID</th>\n",
              "      <th>Loan Status</th>\n",
              "      <th>Current Loan Amount</th>\n",
              "      <th>Term</th>\n",
              "      <th>Credit Score</th>\n",
              "      <th>Annual Income</th>\n",
              "      <th>Years in current job</th>\n",
              "      <th>Home Ownership</th>\n",
              "      <th>Purpose</th>\n",
              "      <th>Monthly Debt</th>\n",
              "      <th>Years of Credit History</th>\n",
              "      <th>Months since last delinquent</th>\n",
              "      <th>Number of Open Accounts</th>\n",
              "      <th>Number of Credit Problems</th>\n",
              "      <th>Current Credit Balance</th>\n",
              "      <th>Maximum Open Credit</th>\n",
              "      <th>Bankruptcies</th>\n",
              "      <th>Tax Liens</th>\n",
              "    </tr>\n",
              "  </thead>\n",
              "  <tbody>\n",
              "    <tr>\n",
              "      <th>100504</th>\n",
              "      <td>NaN</td>\n",
              "      <td>NaN</td>\n",
              "      <td>NaN</td>\n",
              "      <td>NaN</td>\n",
              "      <td>NaN</td>\n",
              "      <td>NaN</td>\n",
              "      <td>NaN</td>\n",
              "      <td>NaN</td>\n",
              "      <td>NaN</td>\n",
              "      <td>NaN</td>\n",
              "      <td>NaN</td>\n",
              "      <td>NaN</td>\n",
              "      <td>NaN</td>\n",
              "      <td>NaN</td>\n",
              "      <td>NaN</td>\n",
              "      <td>NaN</td>\n",
              "      <td>NaN</td>\n",
              "      <td>NaN</td>\n",
              "      <td>NaN</td>\n",
              "    </tr>\n",
              "    <tr>\n",
              "      <th>100505</th>\n",
              "      <td>NaN</td>\n",
              "      <td>NaN</td>\n",
              "      <td>NaN</td>\n",
              "      <td>NaN</td>\n",
              "      <td>NaN</td>\n",
              "      <td>NaN</td>\n",
              "      <td>NaN</td>\n",
              "      <td>NaN</td>\n",
              "      <td>NaN</td>\n",
              "      <td>NaN</td>\n",
              "      <td>NaN</td>\n",
              "      <td>NaN</td>\n",
              "      <td>NaN</td>\n",
              "      <td>NaN</td>\n",
              "      <td>NaN</td>\n",
              "      <td>NaN</td>\n",
              "      <td>NaN</td>\n",
              "      <td>NaN</td>\n",
              "      <td>NaN</td>\n",
              "    </tr>\n",
              "    <tr>\n",
              "      <th>100506</th>\n",
              "      <td>NaN</td>\n",
              "      <td>NaN</td>\n",
              "      <td>NaN</td>\n",
              "      <td>NaN</td>\n",
              "      <td>NaN</td>\n",
              "      <td>NaN</td>\n",
              "      <td>NaN</td>\n",
              "      <td>NaN</td>\n",
              "      <td>NaN</td>\n",
              "      <td>NaN</td>\n",
              "      <td>NaN</td>\n",
              "      <td>NaN</td>\n",
              "      <td>NaN</td>\n",
              "      <td>NaN</td>\n",
              "      <td>NaN</td>\n",
              "      <td>NaN</td>\n",
              "      <td>NaN</td>\n",
              "      <td>NaN</td>\n",
              "      <td>NaN</td>\n",
              "    </tr>\n",
              "    <tr>\n",
              "      <th>100507</th>\n",
              "      <td>NaN</td>\n",
              "      <td>NaN</td>\n",
              "      <td>NaN</td>\n",
              "      <td>NaN</td>\n",
              "      <td>NaN</td>\n",
              "      <td>NaN</td>\n",
              "      <td>NaN</td>\n",
              "      <td>NaN</td>\n",
              "      <td>NaN</td>\n",
              "      <td>NaN</td>\n",
              "      <td>NaN</td>\n",
              "      <td>NaN</td>\n",
              "      <td>NaN</td>\n",
              "      <td>NaN</td>\n",
              "      <td>NaN</td>\n",
              "      <td>NaN</td>\n",
              "      <td>NaN</td>\n",
              "      <td>NaN</td>\n",
              "      <td>NaN</td>\n",
              "    </tr>\n",
              "    <tr>\n",
              "      <th>100508</th>\n",
              "      <td>NaN</td>\n",
              "      <td>NaN</td>\n",
              "      <td>NaN</td>\n",
              "      <td>NaN</td>\n",
              "      <td>NaN</td>\n",
              "      <td>NaN</td>\n",
              "      <td>NaN</td>\n",
              "      <td>NaN</td>\n",
              "      <td>NaN</td>\n",
              "      <td>NaN</td>\n",
              "      <td>NaN</td>\n",
              "      <td>NaN</td>\n",
              "      <td>NaN</td>\n",
              "      <td>NaN</td>\n",
              "      <td>NaN</td>\n",
              "      <td>NaN</td>\n",
              "      <td>NaN</td>\n",
              "      <td>NaN</td>\n",
              "      <td>NaN</td>\n",
              "    </tr>\n",
              "    <tr>\n",
              "      <th>100509</th>\n",
              "      <td>NaN</td>\n",
              "      <td>NaN</td>\n",
              "      <td>NaN</td>\n",
              "      <td>NaN</td>\n",
              "      <td>NaN</td>\n",
              "      <td>NaN</td>\n",
              "      <td>NaN</td>\n",
              "      <td>NaN</td>\n",
              "      <td>NaN</td>\n",
              "      <td>NaN</td>\n",
              "      <td>NaN</td>\n",
              "      <td>NaN</td>\n",
              "      <td>NaN</td>\n",
              "      <td>NaN</td>\n",
              "      <td>NaN</td>\n",
              "      <td>NaN</td>\n",
              "      <td>NaN</td>\n",
              "      <td>NaN</td>\n",
              "      <td>NaN</td>\n",
              "    </tr>\n",
              "    <tr>\n",
              "      <th>100510</th>\n",
              "      <td>NaN</td>\n",
              "      <td>NaN</td>\n",
              "      <td>NaN</td>\n",
              "      <td>NaN</td>\n",
              "      <td>NaN</td>\n",
              "      <td>NaN</td>\n",
              "      <td>NaN</td>\n",
              "      <td>NaN</td>\n",
              "      <td>NaN</td>\n",
              "      <td>NaN</td>\n",
              "      <td>NaN</td>\n",
              "      <td>NaN</td>\n",
              "      <td>NaN</td>\n",
              "      <td>NaN</td>\n",
              "      <td>NaN</td>\n",
              "      <td>NaN</td>\n",
              "      <td>NaN</td>\n",
              "      <td>NaN</td>\n",
              "      <td>NaN</td>\n",
              "    </tr>\n",
              "    <tr>\n",
              "      <th>100511</th>\n",
              "      <td>NaN</td>\n",
              "      <td>NaN</td>\n",
              "      <td>NaN</td>\n",
              "      <td>NaN</td>\n",
              "      <td>NaN</td>\n",
              "      <td>NaN</td>\n",
              "      <td>NaN</td>\n",
              "      <td>NaN</td>\n",
              "      <td>NaN</td>\n",
              "      <td>NaN</td>\n",
              "      <td>NaN</td>\n",
              "      <td>NaN</td>\n",
              "      <td>NaN</td>\n",
              "      <td>NaN</td>\n",
              "      <td>NaN</td>\n",
              "      <td>NaN</td>\n",
              "      <td>NaN</td>\n",
              "      <td>NaN</td>\n",
              "      <td>NaN</td>\n",
              "    </tr>\n",
              "    <tr>\n",
              "      <th>100512</th>\n",
              "      <td>NaN</td>\n",
              "      <td>NaN</td>\n",
              "      <td>NaN</td>\n",
              "      <td>NaN</td>\n",
              "      <td>NaN</td>\n",
              "      <td>NaN</td>\n",
              "      <td>NaN</td>\n",
              "      <td>NaN</td>\n",
              "      <td>NaN</td>\n",
              "      <td>NaN</td>\n",
              "      <td>NaN</td>\n",
              "      <td>NaN</td>\n",
              "      <td>NaN</td>\n",
              "      <td>NaN</td>\n",
              "      <td>NaN</td>\n",
              "      <td>NaN</td>\n",
              "      <td>NaN</td>\n",
              "      <td>NaN</td>\n",
              "      <td>NaN</td>\n",
              "    </tr>\n",
              "    <tr>\n",
              "      <th>100513</th>\n",
              "      <td>NaN</td>\n",
              "      <td>NaN</td>\n",
              "      <td>NaN</td>\n",
              "      <td>NaN</td>\n",
              "      <td>NaN</td>\n",
              "      <td>NaN</td>\n",
              "      <td>NaN</td>\n",
              "      <td>NaN</td>\n",
              "      <td>NaN</td>\n",
              "      <td>NaN</td>\n",
              "      <td>NaN</td>\n",
              "      <td>NaN</td>\n",
              "      <td>NaN</td>\n",
              "      <td>NaN</td>\n",
              "      <td>NaN</td>\n",
              "      <td>NaN</td>\n",
              "      <td>NaN</td>\n",
              "      <td>NaN</td>\n",
              "      <td>NaN</td>\n",
              "    </tr>\n",
              "  </tbody>\n",
              "</table>\n",
              "</div>\n",
              "      <button class=\"colab-df-convert\" onclick=\"convertToInteractive('df-13deacbb-f3e6-4230-ad94-80fa3baeeba5')\"\n",
              "              title=\"Convert this dataframe to an interactive table.\"\n",
              "              style=\"display:none;\">\n",
              "        \n",
              "  <svg xmlns=\"http://www.w3.org/2000/svg\" height=\"24px\"viewBox=\"0 0 24 24\"\n",
              "       width=\"24px\">\n",
              "    <path d=\"M0 0h24v24H0V0z\" fill=\"none\"/>\n",
              "    <path d=\"M18.56 5.44l.94 2.06.94-2.06 2.06-.94-2.06-.94-.94-2.06-.94 2.06-2.06.94zm-11 1L8.5 8.5l.94-2.06 2.06-.94-2.06-.94L8.5 2.5l-.94 2.06-2.06.94zm10 10l.94 2.06.94-2.06 2.06-.94-2.06-.94-.94-2.06-.94 2.06-2.06.94z\"/><path d=\"M17.41 7.96l-1.37-1.37c-.4-.4-.92-.59-1.43-.59-.52 0-1.04.2-1.43.59L10.3 9.45l-7.72 7.72c-.78.78-.78 2.05 0 2.83L4 21.41c.39.39.9.59 1.41.59.51 0 1.02-.2 1.41-.59l7.78-7.78 2.81-2.81c.8-.78.8-2.07 0-2.86zM5.41 20L4 18.59l7.72-7.72 1.47 1.35L5.41 20z\"/>\n",
              "  </svg>\n",
              "      </button>\n",
              "      \n",
              "  <style>\n",
              "    .colab-df-container {\n",
              "      display:flex;\n",
              "      flex-wrap:wrap;\n",
              "      gap: 12px;\n",
              "    }\n",
              "\n",
              "    .colab-df-convert {\n",
              "      background-color: #E8F0FE;\n",
              "      border: none;\n",
              "      border-radius: 50%;\n",
              "      cursor: pointer;\n",
              "      display: none;\n",
              "      fill: #1967D2;\n",
              "      height: 32px;\n",
              "      padding: 0 0 0 0;\n",
              "      width: 32px;\n",
              "    }\n",
              "\n",
              "    .colab-df-convert:hover {\n",
              "      background-color: #E2EBFA;\n",
              "      box-shadow: 0px 1px 2px rgba(60, 64, 67, 0.3), 0px 1px 3px 1px rgba(60, 64, 67, 0.15);\n",
              "      fill: #174EA6;\n",
              "    }\n",
              "\n",
              "    [theme=dark] .colab-df-convert {\n",
              "      background-color: #3B4455;\n",
              "      fill: #D2E3FC;\n",
              "    }\n",
              "\n",
              "    [theme=dark] .colab-df-convert:hover {\n",
              "      background-color: #434B5C;\n",
              "      box-shadow: 0px 1px 3px 1px rgba(0, 0, 0, 0.15);\n",
              "      filter: drop-shadow(0px 1px 2px rgba(0, 0, 0, 0.3));\n",
              "      fill: #FFFFFF;\n",
              "    }\n",
              "  </style>\n",
              "\n",
              "      <script>\n",
              "        const buttonEl =\n",
              "          document.querySelector('#df-13deacbb-f3e6-4230-ad94-80fa3baeeba5 button.colab-df-convert');\n",
              "        buttonEl.style.display =\n",
              "          google.colab.kernel.accessAllowed ? 'block' : 'none';\n",
              "\n",
              "        async function convertToInteractive(key) {\n",
              "          const element = document.querySelector('#df-13deacbb-f3e6-4230-ad94-80fa3baeeba5');\n",
              "          const dataTable =\n",
              "            await google.colab.kernel.invokeFunction('convertToInteractive',\n",
              "                                                     [key], {});\n",
              "          if (!dataTable) return;\n",
              "\n",
              "          const docLinkHtml = 'Like what you see? Visit the ' +\n",
              "            '<a target=\"_blank\" href=https://colab.research.google.com/notebooks/data_table.ipynb>data table notebook</a>'\n",
              "            + ' to learn more about interactive tables.';\n",
              "          element.innerHTML = '';\n",
              "          dataTable['output_type'] = 'display_data';\n",
              "          await google.colab.output.renderOutput(dataTable, element);\n",
              "          const docLink = document.createElement('div');\n",
              "          docLink.innerHTML = docLinkHtml;\n",
              "          element.appendChild(docLink);\n",
              "        }\n",
              "      </script>\n",
              "    </div>\n",
              "  </div>\n",
              "  "
            ]
          },
          "metadata": {},
          "execution_count": 4
        }
      ]
    },
    {
      "cell_type": "code",
      "source": [
        "credit_test.head(10)\n",
        "credit_test.tail(10)\n",
        "\n",
        "# We have NaN values in test data"
      ],
      "metadata": {
        "colab": {
          "base_uri": "https://localhost:8080/",
          "height": 479
        },
        "id": "mTEX_BxvHr7h",
        "outputId": "566d34f4-3ad6-4a15-8a93-f0fc2e03a269"
      },
      "execution_count": 5,
      "outputs": [
        {
          "output_type": "execute_result",
          "data": {
            "text/plain": [
              "      Loan ID Customer ID  Current Loan Amount Term  Credit Score  \\\n",
              "10343     NaN         NaN                  NaN  NaN           NaN   \n",
              "10344     NaN         NaN                  NaN  NaN           NaN   \n",
              "10345     NaN         NaN                  NaN  NaN           NaN   \n",
              "10346     NaN         NaN                  NaN  NaN           NaN   \n",
              "10347     NaN         NaN                  NaN  NaN           NaN   \n",
              "10348     NaN         NaN                  NaN  NaN           NaN   \n",
              "10349     NaN         NaN                  NaN  NaN           NaN   \n",
              "10350     NaN         NaN                  NaN  NaN           NaN   \n",
              "10351     NaN         NaN                  NaN  NaN           NaN   \n",
              "10352     NaN         NaN                  NaN  NaN           NaN   \n",
              "\n",
              "       Annual Income Years in current job Home Ownership Purpose  \\\n",
              "10343            NaN                  NaN            NaN     NaN   \n",
              "10344            NaN                  NaN            NaN     NaN   \n",
              "10345            NaN                  NaN            NaN     NaN   \n",
              "10346            NaN                  NaN            NaN     NaN   \n",
              "10347            NaN                  NaN            NaN     NaN   \n",
              "10348            NaN                  NaN            NaN     NaN   \n",
              "10349            NaN                  NaN            NaN     NaN   \n",
              "10350            NaN                  NaN            NaN     NaN   \n",
              "10351            NaN                  NaN            NaN     NaN   \n",
              "10352            NaN                  NaN            NaN     NaN   \n",
              "\n",
              "       Monthly Debt  Years of Credit History  Months since last delinquent  \\\n",
              "10343           NaN                      NaN                           NaN   \n",
              "10344           NaN                      NaN                           NaN   \n",
              "10345           NaN                      NaN                           NaN   \n",
              "10346           NaN                      NaN                           NaN   \n",
              "10347           NaN                      NaN                           NaN   \n",
              "10348           NaN                      NaN                           NaN   \n",
              "10349           NaN                      NaN                           NaN   \n",
              "10350           NaN                      NaN                           NaN   \n",
              "10351           NaN                      NaN                           NaN   \n",
              "10352           NaN                      NaN                           NaN   \n",
              "\n",
              "       Number of Open Accounts  Number of Credit Problems  \\\n",
              "10343                      NaN                        NaN   \n",
              "10344                      NaN                        NaN   \n",
              "10345                      NaN                        NaN   \n",
              "10346                      NaN                        NaN   \n",
              "10347                      NaN                        NaN   \n",
              "10348                      NaN                        NaN   \n",
              "10349                      NaN                        NaN   \n",
              "10350                      NaN                        NaN   \n",
              "10351                      NaN                        NaN   \n",
              "10352                      NaN                        NaN   \n",
              "\n",
              "       Current Credit Balance  Maximum Open Credit  Bankruptcies  Tax Liens  \n",
              "10343                     NaN                  NaN           NaN        NaN  \n",
              "10344                     NaN                  NaN           NaN        NaN  \n",
              "10345                     NaN                  NaN           NaN        NaN  \n",
              "10346                     NaN                  NaN           NaN        NaN  \n",
              "10347                     NaN                  NaN           NaN        NaN  \n",
              "10348                     NaN                  NaN           NaN        NaN  \n",
              "10349                     NaN                  NaN           NaN        NaN  \n",
              "10350                     NaN                  NaN           NaN        NaN  \n",
              "10351                     NaN                  NaN           NaN        NaN  \n",
              "10352                     NaN                  NaN           NaN        NaN  "
            ],
            "text/html": [
              "\n",
              "  <div id=\"df-8dc0eb3d-b88f-4210-ad44-bdac07a96fc4\">\n",
              "    <div class=\"colab-df-container\">\n",
              "      <div>\n",
              "<style scoped>\n",
              "    .dataframe tbody tr th:only-of-type {\n",
              "        vertical-align: middle;\n",
              "    }\n",
              "\n",
              "    .dataframe tbody tr th {\n",
              "        vertical-align: top;\n",
              "    }\n",
              "\n",
              "    .dataframe thead th {\n",
              "        text-align: right;\n",
              "    }\n",
              "</style>\n",
              "<table border=\"1\" class=\"dataframe\">\n",
              "  <thead>\n",
              "    <tr style=\"text-align: right;\">\n",
              "      <th></th>\n",
              "      <th>Loan ID</th>\n",
              "      <th>Customer ID</th>\n",
              "      <th>Current Loan Amount</th>\n",
              "      <th>Term</th>\n",
              "      <th>Credit Score</th>\n",
              "      <th>Annual Income</th>\n",
              "      <th>Years in current job</th>\n",
              "      <th>Home Ownership</th>\n",
              "      <th>Purpose</th>\n",
              "      <th>Monthly Debt</th>\n",
              "      <th>Years of Credit History</th>\n",
              "      <th>Months since last delinquent</th>\n",
              "      <th>Number of Open Accounts</th>\n",
              "      <th>Number of Credit Problems</th>\n",
              "      <th>Current Credit Balance</th>\n",
              "      <th>Maximum Open Credit</th>\n",
              "      <th>Bankruptcies</th>\n",
              "      <th>Tax Liens</th>\n",
              "    </tr>\n",
              "  </thead>\n",
              "  <tbody>\n",
              "    <tr>\n",
              "      <th>10343</th>\n",
              "      <td>NaN</td>\n",
              "      <td>NaN</td>\n",
              "      <td>NaN</td>\n",
              "      <td>NaN</td>\n",
              "      <td>NaN</td>\n",
              "      <td>NaN</td>\n",
              "      <td>NaN</td>\n",
              "      <td>NaN</td>\n",
              "      <td>NaN</td>\n",
              "      <td>NaN</td>\n",
              "      <td>NaN</td>\n",
              "      <td>NaN</td>\n",
              "      <td>NaN</td>\n",
              "      <td>NaN</td>\n",
              "      <td>NaN</td>\n",
              "      <td>NaN</td>\n",
              "      <td>NaN</td>\n",
              "      <td>NaN</td>\n",
              "    </tr>\n",
              "    <tr>\n",
              "      <th>10344</th>\n",
              "      <td>NaN</td>\n",
              "      <td>NaN</td>\n",
              "      <td>NaN</td>\n",
              "      <td>NaN</td>\n",
              "      <td>NaN</td>\n",
              "      <td>NaN</td>\n",
              "      <td>NaN</td>\n",
              "      <td>NaN</td>\n",
              "      <td>NaN</td>\n",
              "      <td>NaN</td>\n",
              "      <td>NaN</td>\n",
              "      <td>NaN</td>\n",
              "      <td>NaN</td>\n",
              "      <td>NaN</td>\n",
              "      <td>NaN</td>\n",
              "      <td>NaN</td>\n",
              "      <td>NaN</td>\n",
              "      <td>NaN</td>\n",
              "    </tr>\n",
              "    <tr>\n",
              "      <th>10345</th>\n",
              "      <td>NaN</td>\n",
              "      <td>NaN</td>\n",
              "      <td>NaN</td>\n",
              "      <td>NaN</td>\n",
              "      <td>NaN</td>\n",
              "      <td>NaN</td>\n",
              "      <td>NaN</td>\n",
              "      <td>NaN</td>\n",
              "      <td>NaN</td>\n",
              "      <td>NaN</td>\n",
              "      <td>NaN</td>\n",
              "      <td>NaN</td>\n",
              "      <td>NaN</td>\n",
              "      <td>NaN</td>\n",
              "      <td>NaN</td>\n",
              "      <td>NaN</td>\n",
              "      <td>NaN</td>\n",
              "      <td>NaN</td>\n",
              "    </tr>\n",
              "    <tr>\n",
              "      <th>10346</th>\n",
              "      <td>NaN</td>\n",
              "      <td>NaN</td>\n",
              "      <td>NaN</td>\n",
              "      <td>NaN</td>\n",
              "      <td>NaN</td>\n",
              "      <td>NaN</td>\n",
              "      <td>NaN</td>\n",
              "      <td>NaN</td>\n",
              "      <td>NaN</td>\n",
              "      <td>NaN</td>\n",
              "      <td>NaN</td>\n",
              "      <td>NaN</td>\n",
              "      <td>NaN</td>\n",
              "      <td>NaN</td>\n",
              "      <td>NaN</td>\n",
              "      <td>NaN</td>\n",
              "      <td>NaN</td>\n",
              "      <td>NaN</td>\n",
              "    </tr>\n",
              "    <tr>\n",
              "      <th>10347</th>\n",
              "      <td>NaN</td>\n",
              "      <td>NaN</td>\n",
              "      <td>NaN</td>\n",
              "      <td>NaN</td>\n",
              "      <td>NaN</td>\n",
              "      <td>NaN</td>\n",
              "      <td>NaN</td>\n",
              "      <td>NaN</td>\n",
              "      <td>NaN</td>\n",
              "      <td>NaN</td>\n",
              "      <td>NaN</td>\n",
              "      <td>NaN</td>\n",
              "      <td>NaN</td>\n",
              "      <td>NaN</td>\n",
              "      <td>NaN</td>\n",
              "      <td>NaN</td>\n",
              "      <td>NaN</td>\n",
              "      <td>NaN</td>\n",
              "    </tr>\n",
              "    <tr>\n",
              "      <th>10348</th>\n",
              "      <td>NaN</td>\n",
              "      <td>NaN</td>\n",
              "      <td>NaN</td>\n",
              "      <td>NaN</td>\n",
              "      <td>NaN</td>\n",
              "      <td>NaN</td>\n",
              "      <td>NaN</td>\n",
              "      <td>NaN</td>\n",
              "      <td>NaN</td>\n",
              "      <td>NaN</td>\n",
              "      <td>NaN</td>\n",
              "      <td>NaN</td>\n",
              "      <td>NaN</td>\n",
              "      <td>NaN</td>\n",
              "      <td>NaN</td>\n",
              "      <td>NaN</td>\n",
              "      <td>NaN</td>\n",
              "      <td>NaN</td>\n",
              "    </tr>\n",
              "    <tr>\n",
              "      <th>10349</th>\n",
              "      <td>NaN</td>\n",
              "      <td>NaN</td>\n",
              "      <td>NaN</td>\n",
              "      <td>NaN</td>\n",
              "      <td>NaN</td>\n",
              "      <td>NaN</td>\n",
              "      <td>NaN</td>\n",
              "      <td>NaN</td>\n",
              "      <td>NaN</td>\n",
              "      <td>NaN</td>\n",
              "      <td>NaN</td>\n",
              "      <td>NaN</td>\n",
              "      <td>NaN</td>\n",
              "      <td>NaN</td>\n",
              "      <td>NaN</td>\n",
              "      <td>NaN</td>\n",
              "      <td>NaN</td>\n",
              "      <td>NaN</td>\n",
              "    </tr>\n",
              "    <tr>\n",
              "      <th>10350</th>\n",
              "      <td>NaN</td>\n",
              "      <td>NaN</td>\n",
              "      <td>NaN</td>\n",
              "      <td>NaN</td>\n",
              "      <td>NaN</td>\n",
              "      <td>NaN</td>\n",
              "      <td>NaN</td>\n",
              "      <td>NaN</td>\n",
              "      <td>NaN</td>\n",
              "      <td>NaN</td>\n",
              "      <td>NaN</td>\n",
              "      <td>NaN</td>\n",
              "      <td>NaN</td>\n",
              "      <td>NaN</td>\n",
              "      <td>NaN</td>\n",
              "      <td>NaN</td>\n",
              "      <td>NaN</td>\n",
              "      <td>NaN</td>\n",
              "    </tr>\n",
              "    <tr>\n",
              "      <th>10351</th>\n",
              "      <td>NaN</td>\n",
              "      <td>NaN</td>\n",
              "      <td>NaN</td>\n",
              "      <td>NaN</td>\n",
              "      <td>NaN</td>\n",
              "      <td>NaN</td>\n",
              "      <td>NaN</td>\n",
              "      <td>NaN</td>\n",
              "      <td>NaN</td>\n",
              "      <td>NaN</td>\n",
              "      <td>NaN</td>\n",
              "      <td>NaN</td>\n",
              "      <td>NaN</td>\n",
              "      <td>NaN</td>\n",
              "      <td>NaN</td>\n",
              "      <td>NaN</td>\n",
              "      <td>NaN</td>\n",
              "      <td>NaN</td>\n",
              "    </tr>\n",
              "    <tr>\n",
              "      <th>10352</th>\n",
              "      <td>NaN</td>\n",
              "      <td>NaN</td>\n",
              "      <td>NaN</td>\n",
              "      <td>NaN</td>\n",
              "      <td>NaN</td>\n",
              "      <td>NaN</td>\n",
              "      <td>NaN</td>\n",
              "      <td>NaN</td>\n",
              "      <td>NaN</td>\n",
              "      <td>NaN</td>\n",
              "      <td>NaN</td>\n",
              "      <td>NaN</td>\n",
              "      <td>NaN</td>\n",
              "      <td>NaN</td>\n",
              "      <td>NaN</td>\n",
              "      <td>NaN</td>\n",
              "      <td>NaN</td>\n",
              "      <td>NaN</td>\n",
              "    </tr>\n",
              "  </tbody>\n",
              "</table>\n",
              "</div>\n",
              "      <button class=\"colab-df-convert\" onclick=\"convertToInteractive('df-8dc0eb3d-b88f-4210-ad44-bdac07a96fc4')\"\n",
              "              title=\"Convert this dataframe to an interactive table.\"\n",
              "              style=\"display:none;\">\n",
              "        \n",
              "  <svg xmlns=\"http://www.w3.org/2000/svg\" height=\"24px\"viewBox=\"0 0 24 24\"\n",
              "       width=\"24px\">\n",
              "    <path d=\"M0 0h24v24H0V0z\" fill=\"none\"/>\n",
              "    <path d=\"M18.56 5.44l.94 2.06.94-2.06 2.06-.94-2.06-.94-.94-2.06-.94 2.06-2.06.94zm-11 1L8.5 8.5l.94-2.06 2.06-.94-2.06-.94L8.5 2.5l-.94 2.06-2.06.94zm10 10l.94 2.06.94-2.06 2.06-.94-2.06-.94-.94-2.06-.94 2.06-2.06.94z\"/><path d=\"M17.41 7.96l-1.37-1.37c-.4-.4-.92-.59-1.43-.59-.52 0-1.04.2-1.43.59L10.3 9.45l-7.72 7.72c-.78.78-.78 2.05 0 2.83L4 21.41c.39.39.9.59 1.41.59.51 0 1.02-.2 1.41-.59l7.78-7.78 2.81-2.81c.8-.78.8-2.07 0-2.86zM5.41 20L4 18.59l7.72-7.72 1.47 1.35L5.41 20z\"/>\n",
              "  </svg>\n",
              "      </button>\n",
              "      \n",
              "  <style>\n",
              "    .colab-df-container {\n",
              "      display:flex;\n",
              "      flex-wrap:wrap;\n",
              "      gap: 12px;\n",
              "    }\n",
              "\n",
              "    .colab-df-convert {\n",
              "      background-color: #E8F0FE;\n",
              "      border: none;\n",
              "      border-radius: 50%;\n",
              "      cursor: pointer;\n",
              "      display: none;\n",
              "      fill: #1967D2;\n",
              "      height: 32px;\n",
              "      padding: 0 0 0 0;\n",
              "      width: 32px;\n",
              "    }\n",
              "\n",
              "    .colab-df-convert:hover {\n",
              "      background-color: #E2EBFA;\n",
              "      box-shadow: 0px 1px 2px rgba(60, 64, 67, 0.3), 0px 1px 3px 1px rgba(60, 64, 67, 0.15);\n",
              "      fill: #174EA6;\n",
              "    }\n",
              "\n",
              "    [theme=dark] .colab-df-convert {\n",
              "      background-color: #3B4455;\n",
              "      fill: #D2E3FC;\n",
              "    }\n",
              "\n",
              "    [theme=dark] .colab-df-convert:hover {\n",
              "      background-color: #434B5C;\n",
              "      box-shadow: 0px 1px 3px 1px rgba(0, 0, 0, 0.15);\n",
              "      filter: drop-shadow(0px 1px 2px rgba(0, 0, 0, 0.3));\n",
              "      fill: #FFFFFF;\n",
              "    }\n",
              "  </style>\n",
              "\n",
              "      <script>\n",
              "        const buttonEl =\n",
              "          document.querySelector('#df-8dc0eb3d-b88f-4210-ad44-bdac07a96fc4 button.colab-df-convert');\n",
              "        buttonEl.style.display =\n",
              "          google.colab.kernel.accessAllowed ? 'block' : 'none';\n",
              "\n",
              "        async function convertToInteractive(key) {\n",
              "          const element = document.querySelector('#df-8dc0eb3d-b88f-4210-ad44-bdac07a96fc4');\n",
              "          const dataTable =\n",
              "            await google.colab.kernel.invokeFunction('convertToInteractive',\n",
              "                                                     [key], {});\n",
              "          if (!dataTable) return;\n",
              "\n",
              "          const docLinkHtml = 'Like what you see? Visit the ' +\n",
              "            '<a target=\"_blank\" href=https://colab.research.google.com/notebooks/data_table.ipynb>data table notebook</a>'\n",
              "            + ' to learn more about interactive tables.';\n",
              "          element.innerHTML = '';\n",
              "          dataTable['output_type'] = 'display_data';\n",
              "          await google.colab.output.renderOutput(dataTable, element);\n",
              "          const docLink = document.createElement('div');\n",
              "          docLink.innerHTML = docLinkHtml;\n",
              "          element.appendChild(docLink);\n",
              "        }\n",
              "      </script>\n",
              "    </div>\n",
              "  </div>\n",
              "  "
            ]
          },
          "metadata": {},
          "execution_count": 5
        }
      ]
    },
    {
      "cell_type": "code",
      "source": [
        "credit_train.head(10)"
      ],
      "metadata": {
        "colab": {
          "base_uri": "https://localhost:8080/",
          "height": 999
        },
        "id": "zcaieOPwJi5M",
        "outputId": "4a6fadeb-8957-4fb0-d5f4-25496c606cc0"
      },
      "execution_count": 6,
      "outputs": [
        {
          "output_type": "execute_result",
          "data": {
            "text/plain": [
              "                                Loan ID                           Customer ID  \\\n",
              "0  14dd8831-6af5-400b-83ec-68e61888a048  981165ec-3274-42f5-a3b4-d104041a9ca9   \n",
              "1  4771cc26-131a-45db-b5aa-537ea4ba5342  2de017a3-2e01-49cb-a581-08169e83be29   \n",
              "2  4eed4e6a-aa2f-4c91-8651-ce984ee8fb26  5efb2b2b-bf11-4dfd-a572-3761a2694725   \n",
              "3  77598f7b-32e7-4e3b-a6e5-06ba0d98fe8a  e777faab-98ae-45af-9a86-7ce5b33b1011   \n",
              "4  d4062e70-befa-4995-8643-a0de73938182  81536ad9-5ccf-4eb8-befb-47a4d608658e   \n",
              "5  89d8cb0c-e5c2-4f54-b056-48a645c543dd  4ffe99d3-7f2a-44db-afc1-40943f1f9750   \n",
              "6  273581de-85d8-4332-81a5-19b04ce68666  90a75dde-34d5-419c-90dc-1e58b04b3e35   \n",
              "7  db0dc6e1-77ee-4826-acca-772f9039e1c7  018973c9-e316-4956-b363-67e134fb0931   \n",
              "8  8af915d9-9e91-44a0-b5a2-564a45c12089  af534dea-d27e-4fd6-9de8-efaa52a78ec0   \n",
              "9  0b1c4e3d-bd97-45ce-9622-22732fcdc9a0  235c4a43-dadf-483d-aa44-9d6d77ae4583   \n",
              "\n",
              "   Loan Status  Current Loan Amount        Term  Credit Score  Annual Income  \\\n",
              "0   Fully Paid             445412.0  Short Term         709.0      1167493.0   \n",
              "1   Fully Paid             262328.0  Short Term           NaN            NaN   \n",
              "2   Fully Paid           99999999.0  Short Term         741.0      2231892.0   \n",
              "3   Fully Paid             347666.0   Long Term         721.0       806949.0   \n",
              "4   Fully Paid             176220.0  Short Term           NaN            NaN   \n",
              "5  Charged Off             206602.0  Short Term        7290.0       896857.0   \n",
              "6   Fully Paid             217646.0  Short Term         730.0      1184194.0   \n",
              "7  Charged Off             648714.0   Long Term           NaN            NaN   \n",
              "8   Fully Paid             548746.0  Short Term         678.0      2559110.0   \n",
              "9   Fully Paid             215952.0  Short Term         739.0      1454735.0   \n",
              "\n",
              "  Years in current job Home Ownership             Purpose  Monthly Debt  \\\n",
              "0              8 years  Home Mortgage   Home Improvements       5214.74   \n",
              "1            10+ years  Home Mortgage  Debt Consolidation      33295.98   \n",
              "2              8 years       Own Home  Debt Consolidation      29200.53   \n",
              "3              3 years       Own Home  Debt Consolidation       8741.90   \n",
              "4              5 years           Rent  Debt Consolidation      20639.70   \n",
              "5            10+ years  Home Mortgage  Debt Consolidation      16367.74   \n",
              "6             < 1 year  Home Mortgage  Debt Consolidation      10855.08   \n",
              "7             < 1 year  Home Mortgage           Buy House      14806.13   \n",
              "8              2 years           Rent  Debt Consolidation      18660.28   \n",
              "9             < 1 year           Rent  Debt Consolidation      39277.75   \n",
              "\n",
              "   Years of Credit History  Months since last delinquent  \\\n",
              "0                     17.2                           NaN   \n",
              "1                     21.1                           8.0   \n",
              "2                     14.9                          29.0   \n",
              "3                     12.0                           NaN   \n",
              "4                      6.1                           NaN   \n",
              "5                     17.3                           NaN   \n",
              "6                     19.6                          10.0   \n",
              "7                      8.2                           8.0   \n",
              "8                     22.6                          33.0   \n",
              "9                     13.9                           NaN   \n",
              "\n",
              "   Number of Open Accounts  Number of Credit Problems  Current Credit Balance  \\\n",
              "0                      6.0                        1.0                228190.0   \n",
              "1                     35.0                        0.0                229976.0   \n",
              "2                     18.0                        1.0                297996.0   \n",
              "3                      9.0                        0.0                256329.0   \n",
              "4                     15.0                        0.0                253460.0   \n",
              "5                      6.0                        0.0                215308.0   \n",
              "6                     13.0                        1.0                122170.0   \n",
              "7                     15.0                        0.0                193306.0   \n",
              "8                      4.0                        0.0                437171.0   \n",
              "9                     20.0                        0.0                669560.0   \n",
              "\n",
              "   Maximum Open Credit  Bankruptcies  Tax Liens  \n",
              "0             416746.0           1.0        0.0  \n",
              "1             850784.0           0.0        0.0  \n",
              "2             750090.0           0.0        0.0  \n",
              "3             386958.0           0.0        0.0  \n",
              "4             427174.0           0.0        0.0  \n",
              "5             272448.0           0.0        0.0  \n",
              "6             272052.0           1.0        0.0  \n",
              "7             864204.0           0.0        0.0  \n",
              "8             555038.0           0.0        0.0  \n",
              "9            1021460.0           0.0        0.0  "
            ],
            "text/html": [
              "\n",
              "  <div id=\"df-aaea949a-c672-4c96-9ac6-bcfe8265c162\">\n",
              "    <div class=\"colab-df-container\">\n",
              "      <div>\n",
              "<style scoped>\n",
              "    .dataframe tbody tr th:only-of-type {\n",
              "        vertical-align: middle;\n",
              "    }\n",
              "\n",
              "    .dataframe tbody tr th {\n",
              "        vertical-align: top;\n",
              "    }\n",
              "\n",
              "    .dataframe thead th {\n",
              "        text-align: right;\n",
              "    }\n",
              "</style>\n",
              "<table border=\"1\" class=\"dataframe\">\n",
              "  <thead>\n",
              "    <tr style=\"text-align: right;\">\n",
              "      <th></th>\n",
              "      <th>Loan ID</th>\n",
              "      <th>Customer ID</th>\n",
              "      <th>Loan Status</th>\n",
              "      <th>Current Loan Amount</th>\n",
              "      <th>Term</th>\n",
              "      <th>Credit Score</th>\n",
              "      <th>Annual Income</th>\n",
              "      <th>Years in current job</th>\n",
              "      <th>Home Ownership</th>\n",
              "      <th>Purpose</th>\n",
              "      <th>Monthly Debt</th>\n",
              "      <th>Years of Credit History</th>\n",
              "      <th>Months since last delinquent</th>\n",
              "      <th>Number of Open Accounts</th>\n",
              "      <th>Number of Credit Problems</th>\n",
              "      <th>Current Credit Balance</th>\n",
              "      <th>Maximum Open Credit</th>\n",
              "      <th>Bankruptcies</th>\n",
              "      <th>Tax Liens</th>\n",
              "    </tr>\n",
              "  </thead>\n",
              "  <tbody>\n",
              "    <tr>\n",
              "      <th>0</th>\n",
              "      <td>14dd8831-6af5-400b-83ec-68e61888a048</td>\n",
              "      <td>981165ec-3274-42f5-a3b4-d104041a9ca9</td>\n",
              "      <td>Fully Paid</td>\n",
              "      <td>445412.0</td>\n",
              "      <td>Short Term</td>\n",
              "      <td>709.0</td>\n",
              "      <td>1167493.0</td>\n",
              "      <td>8 years</td>\n",
              "      <td>Home Mortgage</td>\n",
              "      <td>Home Improvements</td>\n",
              "      <td>5214.74</td>\n",
              "      <td>17.2</td>\n",
              "      <td>NaN</td>\n",
              "      <td>6.0</td>\n",
              "      <td>1.0</td>\n",
              "      <td>228190.0</td>\n",
              "      <td>416746.0</td>\n",
              "      <td>1.0</td>\n",
              "      <td>0.0</td>\n",
              "    </tr>\n",
              "    <tr>\n",
              "      <th>1</th>\n",
              "      <td>4771cc26-131a-45db-b5aa-537ea4ba5342</td>\n",
              "      <td>2de017a3-2e01-49cb-a581-08169e83be29</td>\n",
              "      <td>Fully Paid</td>\n",
              "      <td>262328.0</td>\n",
              "      <td>Short Term</td>\n",
              "      <td>NaN</td>\n",
              "      <td>NaN</td>\n",
              "      <td>10+ years</td>\n",
              "      <td>Home Mortgage</td>\n",
              "      <td>Debt Consolidation</td>\n",
              "      <td>33295.98</td>\n",
              "      <td>21.1</td>\n",
              "      <td>8.0</td>\n",
              "      <td>35.0</td>\n",
              "      <td>0.0</td>\n",
              "      <td>229976.0</td>\n",
              "      <td>850784.0</td>\n",
              "      <td>0.0</td>\n",
              "      <td>0.0</td>\n",
              "    </tr>\n",
              "    <tr>\n",
              "      <th>2</th>\n",
              "      <td>4eed4e6a-aa2f-4c91-8651-ce984ee8fb26</td>\n",
              "      <td>5efb2b2b-bf11-4dfd-a572-3761a2694725</td>\n",
              "      <td>Fully Paid</td>\n",
              "      <td>99999999.0</td>\n",
              "      <td>Short Term</td>\n",
              "      <td>741.0</td>\n",
              "      <td>2231892.0</td>\n",
              "      <td>8 years</td>\n",
              "      <td>Own Home</td>\n",
              "      <td>Debt Consolidation</td>\n",
              "      <td>29200.53</td>\n",
              "      <td>14.9</td>\n",
              "      <td>29.0</td>\n",
              "      <td>18.0</td>\n",
              "      <td>1.0</td>\n",
              "      <td>297996.0</td>\n",
              "      <td>750090.0</td>\n",
              "      <td>0.0</td>\n",
              "      <td>0.0</td>\n",
              "    </tr>\n",
              "    <tr>\n",
              "      <th>3</th>\n",
              "      <td>77598f7b-32e7-4e3b-a6e5-06ba0d98fe8a</td>\n",
              "      <td>e777faab-98ae-45af-9a86-7ce5b33b1011</td>\n",
              "      <td>Fully Paid</td>\n",
              "      <td>347666.0</td>\n",
              "      <td>Long Term</td>\n",
              "      <td>721.0</td>\n",
              "      <td>806949.0</td>\n",
              "      <td>3 years</td>\n",
              "      <td>Own Home</td>\n",
              "      <td>Debt Consolidation</td>\n",
              "      <td>8741.90</td>\n",
              "      <td>12.0</td>\n",
              "      <td>NaN</td>\n",
              "      <td>9.0</td>\n",
              "      <td>0.0</td>\n",
              "      <td>256329.0</td>\n",
              "      <td>386958.0</td>\n",
              "      <td>0.0</td>\n",
              "      <td>0.0</td>\n",
              "    </tr>\n",
              "    <tr>\n",
              "      <th>4</th>\n",
              "      <td>d4062e70-befa-4995-8643-a0de73938182</td>\n",
              "      <td>81536ad9-5ccf-4eb8-befb-47a4d608658e</td>\n",
              "      <td>Fully Paid</td>\n",
              "      <td>176220.0</td>\n",
              "      <td>Short Term</td>\n",
              "      <td>NaN</td>\n",
              "      <td>NaN</td>\n",
              "      <td>5 years</td>\n",
              "      <td>Rent</td>\n",
              "      <td>Debt Consolidation</td>\n",
              "      <td>20639.70</td>\n",
              "      <td>6.1</td>\n",
              "      <td>NaN</td>\n",
              "      <td>15.0</td>\n",
              "      <td>0.0</td>\n",
              "      <td>253460.0</td>\n",
              "      <td>427174.0</td>\n",
              "      <td>0.0</td>\n",
              "      <td>0.0</td>\n",
              "    </tr>\n",
              "    <tr>\n",
              "      <th>5</th>\n",
              "      <td>89d8cb0c-e5c2-4f54-b056-48a645c543dd</td>\n",
              "      <td>4ffe99d3-7f2a-44db-afc1-40943f1f9750</td>\n",
              "      <td>Charged Off</td>\n",
              "      <td>206602.0</td>\n",
              "      <td>Short Term</td>\n",
              "      <td>7290.0</td>\n",
              "      <td>896857.0</td>\n",
              "      <td>10+ years</td>\n",
              "      <td>Home Mortgage</td>\n",
              "      <td>Debt Consolidation</td>\n",
              "      <td>16367.74</td>\n",
              "      <td>17.3</td>\n",
              "      <td>NaN</td>\n",
              "      <td>6.0</td>\n",
              "      <td>0.0</td>\n",
              "      <td>215308.0</td>\n",
              "      <td>272448.0</td>\n",
              "      <td>0.0</td>\n",
              "      <td>0.0</td>\n",
              "    </tr>\n",
              "    <tr>\n",
              "      <th>6</th>\n",
              "      <td>273581de-85d8-4332-81a5-19b04ce68666</td>\n",
              "      <td>90a75dde-34d5-419c-90dc-1e58b04b3e35</td>\n",
              "      <td>Fully Paid</td>\n",
              "      <td>217646.0</td>\n",
              "      <td>Short Term</td>\n",
              "      <td>730.0</td>\n",
              "      <td>1184194.0</td>\n",
              "      <td>&lt; 1 year</td>\n",
              "      <td>Home Mortgage</td>\n",
              "      <td>Debt Consolidation</td>\n",
              "      <td>10855.08</td>\n",
              "      <td>19.6</td>\n",
              "      <td>10.0</td>\n",
              "      <td>13.0</td>\n",
              "      <td>1.0</td>\n",
              "      <td>122170.0</td>\n",
              "      <td>272052.0</td>\n",
              "      <td>1.0</td>\n",
              "      <td>0.0</td>\n",
              "    </tr>\n",
              "    <tr>\n",
              "      <th>7</th>\n",
              "      <td>db0dc6e1-77ee-4826-acca-772f9039e1c7</td>\n",
              "      <td>018973c9-e316-4956-b363-67e134fb0931</td>\n",
              "      <td>Charged Off</td>\n",
              "      <td>648714.0</td>\n",
              "      <td>Long Term</td>\n",
              "      <td>NaN</td>\n",
              "      <td>NaN</td>\n",
              "      <td>&lt; 1 year</td>\n",
              "      <td>Home Mortgage</td>\n",
              "      <td>Buy House</td>\n",
              "      <td>14806.13</td>\n",
              "      <td>8.2</td>\n",
              "      <td>8.0</td>\n",
              "      <td>15.0</td>\n",
              "      <td>0.0</td>\n",
              "      <td>193306.0</td>\n",
              "      <td>864204.0</td>\n",
              "      <td>0.0</td>\n",
              "      <td>0.0</td>\n",
              "    </tr>\n",
              "    <tr>\n",
              "      <th>8</th>\n",
              "      <td>8af915d9-9e91-44a0-b5a2-564a45c12089</td>\n",
              "      <td>af534dea-d27e-4fd6-9de8-efaa52a78ec0</td>\n",
              "      <td>Fully Paid</td>\n",
              "      <td>548746.0</td>\n",
              "      <td>Short Term</td>\n",
              "      <td>678.0</td>\n",
              "      <td>2559110.0</td>\n",
              "      <td>2 years</td>\n",
              "      <td>Rent</td>\n",
              "      <td>Debt Consolidation</td>\n",
              "      <td>18660.28</td>\n",
              "      <td>22.6</td>\n",
              "      <td>33.0</td>\n",
              "      <td>4.0</td>\n",
              "      <td>0.0</td>\n",
              "      <td>437171.0</td>\n",
              "      <td>555038.0</td>\n",
              "      <td>0.0</td>\n",
              "      <td>0.0</td>\n",
              "    </tr>\n",
              "    <tr>\n",
              "      <th>9</th>\n",
              "      <td>0b1c4e3d-bd97-45ce-9622-22732fcdc9a0</td>\n",
              "      <td>235c4a43-dadf-483d-aa44-9d6d77ae4583</td>\n",
              "      <td>Fully Paid</td>\n",
              "      <td>215952.0</td>\n",
              "      <td>Short Term</td>\n",
              "      <td>739.0</td>\n",
              "      <td>1454735.0</td>\n",
              "      <td>&lt; 1 year</td>\n",
              "      <td>Rent</td>\n",
              "      <td>Debt Consolidation</td>\n",
              "      <td>39277.75</td>\n",
              "      <td>13.9</td>\n",
              "      <td>NaN</td>\n",
              "      <td>20.0</td>\n",
              "      <td>0.0</td>\n",
              "      <td>669560.0</td>\n",
              "      <td>1021460.0</td>\n",
              "      <td>0.0</td>\n",
              "      <td>0.0</td>\n",
              "    </tr>\n",
              "  </tbody>\n",
              "</table>\n",
              "</div>\n",
              "      <button class=\"colab-df-convert\" onclick=\"convertToInteractive('df-aaea949a-c672-4c96-9ac6-bcfe8265c162')\"\n",
              "              title=\"Convert this dataframe to an interactive table.\"\n",
              "              style=\"display:none;\">\n",
              "        \n",
              "  <svg xmlns=\"http://www.w3.org/2000/svg\" height=\"24px\"viewBox=\"0 0 24 24\"\n",
              "       width=\"24px\">\n",
              "    <path d=\"M0 0h24v24H0V0z\" fill=\"none\"/>\n",
              "    <path d=\"M18.56 5.44l.94 2.06.94-2.06 2.06-.94-2.06-.94-.94-2.06-.94 2.06-2.06.94zm-11 1L8.5 8.5l.94-2.06 2.06-.94-2.06-.94L8.5 2.5l-.94 2.06-2.06.94zm10 10l.94 2.06.94-2.06 2.06-.94-2.06-.94-.94-2.06-.94 2.06-2.06.94z\"/><path d=\"M17.41 7.96l-1.37-1.37c-.4-.4-.92-.59-1.43-.59-.52 0-1.04.2-1.43.59L10.3 9.45l-7.72 7.72c-.78.78-.78 2.05 0 2.83L4 21.41c.39.39.9.59 1.41.59.51 0 1.02-.2 1.41-.59l7.78-7.78 2.81-2.81c.8-.78.8-2.07 0-2.86zM5.41 20L4 18.59l7.72-7.72 1.47 1.35L5.41 20z\"/>\n",
              "  </svg>\n",
              "      </button>\n",
              "      \n",
              "  <style>\n",
              "    .colab-df-container {\n",
              "      display:flex;\n",
              "      flex-wrap:wrap;\n",
              "      gap: 12px;\n",
              "    }\n",
              "\n",
              "    .colab-df-convert {\n",
              "      background-color: #E8F0FE;\n",
              "      border: none;\n",
              "      border-radius: 50%;\n",
              "      cursor: pointer;\n",
              "      display: none;\n",
              "      fill: #1967D2;\n",
              "      height: 32px;\n",
              "      padding: 0 0 0 0;\n",
              "      width: 32px;\n",
              "    }\n",
              "\n",
              "    .colab-df-convert:hover {\n",
              "      background-color: #E2EBFA;\n",
              "      box-shadow: 0px 1px 2px rgba(60, 64, 67, 0.3), 0px 1px 3px 1px rgba(60, 64, 67, 0.15);\n",
              "      fill: #174EA6;\n",
              "    }\n",
              "\n",
              "    [theme=dark] .colab-df-convert {\n",
              "      background-color: #3B4455;\n",
              "      fill: #D2E3FC;\n",
              "    }\n",
              "\n",
              "    [theme=dark] .colab-df-convert:hover {\n",
              "      background-color: #434B5C;\n",
              "      box-shadow: 0px 1px 3px 1px rgba(0, 0, 0, 0.15);\n",
              "      filter: drop-shadow(0px 1px 2px rgba(0, 0, 0, 0.3));\n",
              "      fill: #FFFFFF;\n",
              "    }\n",
              "  </style>\n",
              "\n",
              "      <script>\n",
              "        const buttonEl =\n",
              "          document.querySelector('#df-aaea949a-c672-4c96-9ac6-bcfe8265c162 button.colab-df-convert');\n",
              "        buttonEl.style.display =\n",
              "          google.colab.kernel.accessAllowed ? 'block' : 'none';\n",
              "\n",
              "        async function convertToInteractive(key) {\n",
              "          const element = document.querySelector('#df-aaea949a-c672-4c96-9ac6-bcfe8265c162');\n",
              "          const dataTable =\n",
              "            await google.colab.kernel.invokeFunction('convertToInteractive',\n",
              "                                                     [key], {});\n",
              "          if (!dataTable) return;\n",
              "\n",
              "          const docLinkHtml = 'Like what you see? Visit the ' +\n",
              "            '<a target=\"_blank\" href=https://colab.research.google.com/notebooks/data_table.ipynb>data table notebook</a>'\n",
              "            + ' to learn more about interactive tables.';\n",
              "          element.innerHTML = '';\n",
              "          dataTable['output_type'] = 'display_data';\n",
              "          await google.colab.output.renderOutput(dataTable, element);\n",
              "          const docLink = document.createElement('div');\n",
              "          docLink.innerHTML = docLinkHtml;\n",
              "          element.appendChild(docLink);\n",
              "        }\n",
              "      </script>\n",
              "    </div>\n",
              "  </div>\n",
              "  "
            ]
          },
          "metadata": {},
          "execution_count": 6
        }
      ]
    },
    {
      "cell_type": "code",
      "source": [
        "# Checking for duplicate values of Loan ID\n",
        "credit_train['Loan ID'].duplicated().value_counts()\n",
        "\n",
        "# We have duplicate 18514 values, which includes null values as well"
      ],
      "metadata": {
        "colab": {
          "base_uri": "https://localhost:8080/"
        },
        "id": "VKH4RxSoIolF",
        "outputId": "47cd12ac-23fc-4263-95f3-8fd09d716b81"
      },
      "execution_count": 7,
      "outputs": [
        {
          "output_type": "execute_result",
          "data": {
            "text/plain": [
              "False    82000\n",
              "True     18514\n",
              "Name: Loan ID, dtype: int64"
            ]
          },
          "metadata": {},
          "execution_count": 7
        }
      ]
    },
    {
      "cell_type": "code",
      "source": [
        "# Checking for duplicate values of Customer ID\n",
        "credit_train['Customer ID'].duplicated().value_counts()\n",
        "\n",
        "# We have duplicate 18514 values, which includes null values as well"
      ],
      "metadata": {
        "colab": {
          "base_uri": "https://localhost:8080/"
        },
        "id": "orUCXhqaJcFy",
        "outputId": "dad10896-a321-4226-80e7-38c4861de107"
      },
      "execution_count": 8,
      "outputs": [
        {
          "output_type": "execute_result",
          "data": {
            "text/plain": [
              "False    82000\n",
              "True     18514\n",
              "Name: Customer ID, dtype: int64"
            ]
          },
          "metadata": {},
          "execution_count": 8
        }
      ]
    },
    {
      "cell_type": "code",
      "source": [
        "credit_test.head(10)"
      ],
      "metadata": {
        "colab": {
          "base_uri": "https://localhost:8080/",
          "height": 999
        },
        "id": "vK_ZnGAML8zV",
        "outputId": "f2d43314-8b7e-434a-8fcb-09af827c3cd7"
      },
      "execution_count": 9,
      "outputs": [
        {
          "output_type": "execute_result",
          "data": {
            "text/plain": [
              "                                Loan ID                           Customer ID  \\\n",
              "0  f738779f-c726-40dc-92cf-689d73af533d  ded0b3c3-6bf4-4091-8726-47039f2c1b90   \n",
              "1  6dcc0947-164d-476c-a1de-3ae7283dde0a  1630e6e3-34e3-461a-8fda-09297d3140c8   \n",
              "2  f7744d01-894b-49c3-8777-fc6431a2cff1  2c60938b-ad2b-4702-804d-eeca43949c52   \n",
              "3  83721ffb-b99a-4a0f-aea5-ef472a138b41  12116614-2f3c-4d16-ad34-d92883718806   \n",
              "4  08f3789f-5714-4b10-929d-e1527ab5e5a3  39888105-fd5f-4023-860a-30a3e6f5ccb7   \n",
              "5  a4957169-d809-44cc-847b-975400bc8d11  6878d414-6a22-4712-ae43-9b3f798e463a   \n",
              "6  43467302-94fe-494b-b52f-3fd891fea71c  48113a98-a4a0-4956-b57d-f0ce344826fb   \n",
              "7  930c7cb3-6086-434a-9547-3ed41c181552  19941661-98e2-4800-93c9-a0e92057c813   \n",
              "8  0b2f1b66-741e-4e37-a929-99926cdc9e9a  6a1adeda-079b-49e5-ac7c-91828f2806a0   \n",
              "9  d08f3a5e-93df-40e7-bdd8-cba59180bddf  4080a828-a61a-4f04-a627-397f4319500c   \n",
              "\n",
              "   Current Loan Amount        Term  Credit Score  Annual Income  \\\n",
              "0             611314.0  Short Term         747.0      2074116.0   \n",
              "1             266662.0  Short Term         734.0      1919190.0   \n",
              "2             153494.0  Short Term         709.0       871112.0   \n",
              "3             176242.0  Short Term         727.0       780083.0   \n",
              "4             321992.0  Short Term         744.0      1761148.0   \n",
              "5             202928.0  Short Term         741.0       760380.0   \n",
              "6             621786.0   Long Term         733.0      1783606.0   \n",
              "7             266794.0   Long Term           NaN            NaN   \n",
              "8             202466.0  Short Term         736.0      1068617.0   \n",
              "9             266288.0   Long Term         683.0      2031518.0   \n",
              "\n",
              "  Years in current job Home Ownership             Purpose  Monthly Debt  \\\n",
              "0            10+ years  Home Mortgage  Debt Consolidation      42000.83   \n",
              "1            10+ years  Home Mortgage  Debt Consolidation      36624.40   \n",
              "2              2 years           Rent  Debt Consolidation       8391.73   \n",
              "3            10+ years           Rent  Debt Consolidation      16771.87   \n",
              "4            10+ years  Home Mortgage  Debt Consolidation      39478.77   \n",
              "5               1 year           Rent  Debt Consolidation       6526.69   \n",
              "6            10+ years  Home Mortgage  Debt Consolidation      36563.98   \n",
              "7             < 1 year       Own Home  Debt Consolidation      12336.89   \n",
              "8              5 years           Rent  Debt Consolidation      18745.21   \n",
              "9              2 years           Rent  Debt Consolidation      12443.10   \n",
              "\n",
              "   Years of Credit History  Months since last delinquent  \\\n",
              "0                     21.8                           NaN   \n",
              "1                     19.4                           NaN   \n",
              "2                     12.5                          10.0   \n",
              "3                     16.5                          27.0   \n",
              "4                     26.0                          44.0   \n",
              "5                     13.8                           NaN   \n",
              "6                     15.3                           NaN   \n",
              "7                      5.8                           NaN   \n",
              "8                     20.5                           NaN   \n",
              "9                     24.4                          56.0   \n",
              "\n",
              "   Number of Open Accounts  Number of Credit Problems  Current Credit Balance  \\\n",
              "0                      9.0                        0.0                621908.0   \n",
              "1                     11.0                        0.0                679573.0   \n",
              "2                     10.0                        0.0                 38532.0   \n",
              "3                     16.0                        1.0                156940.0   \n",
              "4                     14.0                        0.0                359765.0   \n",
              "5                      6.0                        0.0                258647.0   \n",
              "6                     42.0                        0.0                281599.0   \n",
              "7                      9.0                        0.0                233206.0   \n",
              "8                      2.0                        0.0                     0.0   \n",
              "9                      8.0                        2.0                 31445.0   \n",
              "\n",
              "   Maximum Open Credit  Bankruptcies  Tax Liens  \n",
              "0            1058970.0           0.0        0.0  \n",
              "1             904442.0           0.0        0.0  \n",
              "2             388036.0           0.0        0.0  \n",
              "3             531322.0           1.0        0.0  \n",
              "4             468072.0           0.0        0.0  \n",
              "5             476872.0           0.0        0.0  \n",
              "6            1449162.0           0.0        0.0  \n",
              "7             342232.0           0.0        0.0  \n",
              "8                  0.0           0.0        0.0  \n",
              "9             251130.0           2.0        0.0  "
            ],
            "text/html": [
              "\n",
              "  <div id=\"df-f74db4e9-1e6f-4ae7-b0a3-1d27163b94fe\">\n",
              "    <div class=\"colab-df-container\">\n",
              "      <div>\n",
              "<style scoped>\n",
              "    .dataframe tbody tr th:only-of-type {\n",
              "        vertical-align: middle;\n",
              "    }\n",
              "\n",
              "    .dataframe tbody tr th {\n",
              "        vertical-align: top;\n",
              "    }\n",
              "\n",
              "    .dataframe thead th {\n",
              "        text-align: right;\n",
              "    }\n",
              "</style>\n",
              "<table border=\"1\" class=\"dataframe\">\n",
              "  <thead>\n",
              "    <tr style=\"text-align: right;\">\n",
              "      <th></th>\n",
              "      <th>Loan ID</th>\n",
              "      <th>Customer ID</th>\n",
              "      <th>Current Loan Amount</th>\n",
              "      <th>Term</th>\n",
              "      <th>Credit Score</th>\n",
              "      <th>Annual Income</th>\n",
              "      <th>Years in current job</th>\n",
              "      <th>Home Ownership</th>\n",
              "      <th>Purpose</th>\n",
              "      <th>Monthly Debt</th>\n",
              "      <th>Years of Credit History</th>\n",
              "      <th>Months since last delinquent</th>\n",
              "      <th>Number of Open Accounts</th>\n",
              "      <th>Number of Credit Problems</th>\n",
              "      <th>Current Credit Balance</th>\n",
              "      <th>Maximum Open Credit</th>\n",
              "      <th>Bankruptcies</th>\n",
              "      <th>Tax Liens</th>\n",
              "    </tr>\n",
              "  </thead>\n",
              "  <tbody>\n",
              "    <tr>\n",
              "      <th>0</th>\n",
              "      <td>f738779f-c726-40dc-92cf-689d73af533d</td>\n",
              "      <td>ded0b3c3-6bf4-4091-8726-47039f2c1b90</td>\n",
              "      <td>611314.0</td>\n",
              "      <td>Short Term</td>\n",
              "      <td>747.0</td>\n",
              "      <td>2074116.0</td>\n",
              "      <td>10+ years</td>\n",
              "      <td>Home Mortgage</td>\n",
              "      <td>Debt Consolidation</td>\n",
              "      <td>42000.83</td>\n",
              "      <td>21.8</td>\n",
              "      <td>NaN</td>\n",
              "      <td>9.0</td>\n",
              "      <td>0.0</td>\n",
              "      <td>621908.0</td>\n",
              "      <td>1058970.0</td>\n",
              "      <td>0.0</td>\n",
              "      <td>0.0</td>\n",
              "    </tr>\n",
              "    <tr>\n",
              "      <th>1</th>\n",
              "      <td>6dcc0947-164d-476c-a1de-3ae7283dde0a</td>\n",
              "      <td>1630e6e3-34e3-461a-8fda-09297d3140c8</td>\n",
              "      <td>266662.0</td>\n",
              "      <td>Short Term</td>\n",
              "      <td>734.0</td>\n",
              "      <td>1919190.0</td>\n",
              "      <td>10+ years</td>\n",
              "      <td>Home Mortgage</td>\n",
              "      <td>Debt Consolidation</td>\n",
              "      <td>36624.40</td>\n",
              "      <td>19.4</td>\n",
              "      <td>NaN</td>\n",
              "      <td>11.0</td>\n",
              "      <td>0.0</td>\n",
              "      <td>679573.0</td>\n",
              "      <td>904442.0</td>\n",
              "      <td>0.0</td>\n",
              "      <td>0.0</td>\n",
              "    </tr>\n",
              "    <tr>\n",
              "      <th>2</th>\n",
              "      <td>f7744d01-894b-49c3-8777-fc6431a2cff1</td>\n",
              "      <td>2c60938b-ad2b-4702-804d-eeca43949c52</td>\n",
              "      <td>153494.0</td>\n",
              "      <td>Short Term</td>\n",
              "      <td>709.0</td>\n",
              "      <td>871112.0</td>\n",
              "      <td>2 years</td>\n",
              "      <td>Rent</td>\n",
              "      <td>Debt Consolidation</td>\n",
              "      <td>8391.73</td>\n",
              "      <td>12.5</td>\n",
              "      <td>10.0</td>\n",
              "      <td>10.0</td>\n",
              "      <td>0.0</td>\n",
              "      <td>38532.0</td>\n",
              "      <td>388036.0</td>\n",
              "      <td>0.0</td>\n",
              "      <td>0.0</td>\n",
              "    </tr>\n",
              "    <tr>\n",
              "      <th>3</th>\n",
              "      <td>83721ffb-b99a-4a0f-aea5-ef472a138b41</td>\n",
              "      <td>12116614-2f3c-4d16-ad34-d92883718806</td>\n",
              "      <td>176242.0</td>\n",
              "      <td>Short Term</td>\n",
              "      <td>727.0</td>\n",
              "      <td>780083.0</td>\n",
              "      <td>10+ years</td>\n",
              "      <td>Rent</td>\n",
              "      <td>Debt Consolidation</td>\n",
              "      <td>16771.87</td>\n",
              "      <td>16.5</td>\n",
              "      <td>27.0</td>\n",
              "      <td>16.0</td>\n",
              "      <td>1.0</td>\n",
              "      <td>156940.0</td>\n",
              "      <td>531322.0</td>\n",
              "      <td>1.0</td>\n",
              "      <td>0.0</td>\n",
              "    </tr>\n",
              "    <tr>\n",
              "      <th>4</th>\n",
              "      <td>08f3789f-5714-4b10-929d-e1527ab5e5a3</td>\n",
              "      <td>39888105-fd5f-4023-860a-30a3e6f5ccb7</td>\n",
              "      <td>321992.0</td>\n",
              "      <td>Short Term</td>\n",
              "      <td>744.0</td>\n",
              "      <td>1761148.0</td>\n",
              "      <td>10+ years</td>\n",
              "      <td>Home Mortgage</td>\n",
              "      <td>Debt Consolidation</td>\n",
              "      <td>39478.77</td>\n",
              "      <td>26.0</td>\n",
              "      <td>44.0</td>\n",
              "      <td>14.0</td>\n",
              "      <td>0.0</td>\n",
              "      <td>359765.0</td>\n",
              "      <td>468072.0</td>\n",
              "      <td>0.0</td>\n",
              "      <td>0.0</td>\n",
              "    </tr>\n",
              "    <tr>\n",
              "      <th>5</th>\n",
              "      <td>a4957169-d809-44cc-847b-975400bc8d11</td>\n",
              "      <td>6878d414-6a22-4712-ae43-9b3f798e463a</td>\n",
              "      <td>202928.0</td>\n",
              "      <td>Short Term</td>\n",
              "      <td>741.0</td>\n",
              "      <td>760380.0</td>\n",
              "      <td>1 year</td>\n",
              "      <td>Rent</td>\n",
              "      <td>Debt Consolidation</td>\n",
              "      <td>6526.69</td>\n",
              "      <td>13.8</td>\n",
              "      <td>NaN</td>\n",
              "      <td>6.0</td>\n",
              "      <td>0.0</td>\n",
              "      <td>258647.0</td>\n",
              "      <td>476872.0</td>\n",
              "      <td>0.0</td>\n",
              "      <td>0.0</td>\n",
              "    </tr>\n",
              "    <tr>\n",
              "      <th>6</th>\n",
              "      <td>43467302-94fe-494b-b52f-3fd891fea71c</td>\n",
              "      <td>48113a98-a4a0-4956-b57d-f0ce344826fb</td>\n",
              "      <td>621786.0</td>\n",
              "      <td>Long Term</td>\n",
              "      <td>733.0</td>\n",
              "      <td>1783606.0</td>\n",
              "      <td>10+ years</td>\n",
              "      <td>Home Mortgage</td>\n",
              "      <td>Debt Consolidation</td>\n",
              "      <td>36563.98</td>\n",
              "      <td>15.3</td>\n",
              "      <td>NaN</td>\n",
              "      <td>42.0</td>\n",
              "      <td>0.0</td>\n",
              "      <td>281599.0</td>\n",
              "      <td>1449162.0</td>\n",
              "      <td>0.0</td>\n",
              "      <td>0.0</td>\n",
              "    </tr>\n",
              "    <tr>\n",
              "      <th>7</th>\n",
              "      <td>930c7cb3-6086-434a-9547-3ed41c181552</td>\n",
              "      <td>19941661-98e2-4800-93c9-a0e92057c813</td>\n",
              "      <td>266794.0</td>\n",
              "      <td>Long Term</td>\n",
              "      <td>NaN</td>\n",
              "      <td>NaN</td>\n",
              "      <td>&lt; 1 year</td>\n",
              "      <td>Own Home</td>\n",
              "      <td>Debt Consolidation</td>\n",
              "      <td>12336.89</td>\n",
              "      <td>5.8</td>\n",
              "      <td>NaN</td>\n",
              "      <td>9.0</td>\n",
              "      <td>0.0</td>\n",
              "      <td>233206.0</td>\n",
              "      <td>342232.0</td>\n",
              "      <td>0.0</td>\n",
              "      <td>0.0</td>\n",
              "    </tr>\n",
              "    <tr>\n",
              "      <th>8</th>\n",
              "      <td>0b2f1b66-741e-4e37-a929-99926cdc9e9a</td>\n",
              "      <td>6a1adeda-079b-49e5-ac7c-91828f2806a0</td>\n",
              "      <td>202466.0</td>\n",
              "      <td>Short Term</td>\n",
              "      <td>736.0</td>\n",
              "      <td>1068617.0</td>\n",
              "      <td>5 years</td>\n",
              "      <td>Rent</td>\n",
              "      <td>Debt Consolidation</td>\n",
              "      <td>18745.21</td>\n",
              "      <td>20.5</td>\n",
              "      <td>NaN</td>\n",
              "      <td>2.0</td>\n",
              "      <td>0.0</td>\n",
              "      <td>0.0</td>\n",
              "      <td>0.0</td>\n",
              "      <td>0.0</td>\n",
              "      <td>0.0</td>\n",
              "    </tr>\n",
              "    <tr>\n",
              "      <th>9</th>\n",
              "      <td>d08f3a5e-93df-40e7-bdd8-cba59180bddf</td>\n",
              "      <td>4080a828-a61a-4f04-a627-397f4319500c</td>\n",
              "      <td>266288.0</td>\n",
              "      <td>Long Term</td>\n",
              "      <td>683.0</td>\n",
              "      <td>2031518.0</td>\n",
              "      <td>2 years</td>\n",
              "      <td>Rent</td>\n",
              "      <td>Debt Consolidation</td>\n",
              "      <td>12443.10</td>\n",
              "      <td>24.4</td>\n",
              "      <td>56.0</td>\n",
              "      <td>8.0</td>\n",
              "      <td>2.0</td>\n",
              "      <td>31445.0</td>\n",
              "      <td>251130.0</td>\n",
              "      <td>2.0</td>\n",
              "      <td>0.0</td>\n",
              "    </tr>\n",
              "  </tbody>\n",
              "</table>\n",
              "</div>\n",
              "      <button class=\"colab-df-convert\" onclick=\"convertToInteractive('df-f74db4e9-1e6f-4ae7-b0a3-1d27163b94fe')\"\n",
              "              title=\"Convert this dataframe to an interactive table.\"\n",
              "              style=\"display:none;\">\n",
              "        \n",
              "  <svg xmlns=\"http://www.w3.org/2000/svg\" height=\"24px\"viewBox=\"0 0 24 24\"\n",
              "       width=\"24px\">\n",
              "    <path d=\"M0 0h24v24H0V0z\" fill=\"none\"/>\n",
              "    <path d=\"M18.56 5.44l.94 2.06.94-2.06 2.06-.94-2.06-.94-.94-2.06-.94 2.06-2.06.94zm-11 1L8.5 8.5l.94-2.06 2.06-.94-2.06-.94L8.5 2.5l-.94 2.06-2.06.94zm10 10l.94 2.06.94-2.06 2.06-.94-2.06-.94-.94-2.06-.94 2.06-2.06.94z\"/><path d=\"M17.41 7.96l-1.37-1.37c-.4-.4-.92-.59-1.43-.59-.52 0-1.04.2-1.43.59L10.3 9.45l-7.72 7.72c-.78.78-.78 2.05 0 2.83L4 21.41c.39.39.9.59 1.41.59.51 0 1.02-.2 1.41-.59l7.78-7.78 2.81-2.81c.8-.78.8-2.07 0-2.86zM5.41 20L4 18.59l7.72-7.72 1.47 1.35L5.41 20z\"/>\n",
              "  </svg>\n",
              "      </button>\n",
              "      \n",
              "  <style>\n",
              "    .colab-df-container {\n",
              "      display:flex;\n",
              "      flex-wrap:wrap;\n",
              "      gap: 12px;\n",
              "    }\n",
              "\n",
              "    .colab-df-convert {\n",
              "      background-color: #E8F0FE;\n",
              "      border: none;\n",
              "      border-radius: 50%;\n",
              "      cursor: pointer;\n",
              "      display: none;\n",
              "      fill: #1967D2;\n",
              "      height: 32px;\n",
              "      padding: 0 0 0 0;\n",
              "      width: 32px;\n",
              "    }\n",
              "\n",
              "    .colab-df-convert:hover {\n",
              "      background-color: #E2EBFA;\n",
              "      box-shadow: 0px 1px 2px rgba(60, 64, 67, 0.3), 0px 1px 3px 1px rgba(60, 64, 67, 0.15);\n",
              "      fill: #174EA6;\n",
              "    }\n",
              "\n",
              "    [theme=dark] .colab-df-convert {\n",
              "      background-color: #3B4455;\n",
              "      fill: #D2E3FC;\n",
              "    }\n",
              "\n",
              "    [theme=dark] .colab-df-convert:hover {\n",
              "      background-color: #434B5C;\n",
              "      box-shadow: 0px 1px 3px 1px rgba(0, 0, 0, 0.15);\n",
              "      filter: drop-shadow(0px 1px 2px rgba(0, 0, 0, 0.3));\n",
              "      fill: #FFFFFF;\n",
              "    }\n",
              "  </style>\n",
              "\n",
              "      <script>\n",
              "        const buttonEl =\n",
              "          document.querySelector('#df-f74db4e9-1e6f-4ae7-b0a3-1d27163b94fe button.colab-df-convert');\n",
              "        buttonEl.style.display =\n",
              "          google.colab.kernel.accessAllowed ? 'block' : 'none';\n",
              "\n",
              "        async function convertToInteractive(key) {\n",
              "          const element = document.querySelector('#df-f74db4e9-1e6f-4ae7-b0a3-1d27163b94fe');\n",
              "          const dataTable =\n",
              "            await google.colab.kernel.invokeFunction('convertToInteractive',\n",
              "                                                     [key], {});\n",
              "          if (!dataTable) return;\n",
              "\n",
              "          const docLinkHtml = 'Like what you see? Visit the ' +\n",
              "            '<a target=\"_blank\" href=https://colab.research.google.com/notebooks/data_table.ipynb>data table notebook</a>'\n",
              "            + ' to learn more about interactive tables.';\n",
              "          element.innerHTML = '';\n",
              "          dataTable['output_type'] = 'display_data';\n",
              "          await google.colab.output.renderOutput(dataTable, element);\n",
              "          const docLink = document.createElement('div');\n",
              "          docLink.innerHTML = docLinkHtml;\n",
              "          element.appendChild(docLink);\n",
              "        }\n",
              "      </script>\n",
              "    </div>\n",
              "  </div>\n",
              "  "
            ]
          },
          "metadata": {},
          "execution_count": 9
        }
      ]
    },
    {
      "cell_type": "markdown",
      "source": [
        "Checking for duplicate values in Test data"
      ],
      "metadata": {
        "id": "YjOHeeo9sx6A"
      }
    },
    {
      "cell_type": "code",
      "source": [
        "credit_test['Loan ID'].duplicated().value_counts()"
      ],
      "metadata": {
        "colab": {
          "base_uri": "https://localhost:8080/"
        },
        "id": "Nsd71pOfJcJV",
        "outputId": "33fd6fd0-14c2-41ce-c52f-71f37014e3c0"
      },
      "execution_count": 10,
      "outputs": [
        {
          "output_type": "execute_result",
          "data": {
            "text/plain": [
              "False    10001\n",
              "True       352\n",
              "Name: Loan ID, dtype: int64"
            ]
          },
          "metadata": {},
          "execution_count": 10
        }
      ]
    },
    {
      "cell_type": "code",
      "source": [
        "credit_test['Loan ID'].duplicated().value_counts()"
      ],
      "metadata": {
        "colab": {
          "base_uri": "https://localhost:8080/"
        },
        "id": "ETbgxr3jJ8bV",
        "outputId": "0991334b-420a-4cb0-e672-2bae240d0490"
      },
      "execution_count": 11,
      "outputs": [
        {
          "output_type": "execute_result",
          "data": {
            "text/plain": [
              "False    10001\n",
              "True       352\n",
              "Name: Loan ID, dtype: int64"
            ]
          },
          "metadata": {},
          "execution_count": 11
        }
      ]
    },
    {
      "cell_type": "markdown",
      "source": [
        "## Findings\n",
        "\n",
        "Train data has all the required variables. [Loan Status] is the target variable.\n",
        "Test data is missing the target variable. So, it cannot be used to validate the model. We ignore the test data from the file credit_test.csv for now.\n",
        "Use the train data as the overall data.\n",
        "\n",
        "Actions :\n",
        "1. Train data also has NaN values. First step is to delete them. Delete the rows.\n",
        "2. Train data has duplicates 18000 duplicate values of Customer ID and Loan ID. Need to check and find out a condition as to which one of the duplicate values to keep and which one to drop.\n",
        "\n"
      ],
      "metadata": {
        "id": "8RorwxHlPK9s"
      }
    },
    {
      "cell_type": "markdown",
      "source": [
        "### Deleting NaN rows"
      ],
      "metadata": {
        "id": "1GLh-YtgaBdm"
      }
    },
    {
      "cell_type": "code",
      "source": [
        "credit_data = credit_train.copy()"
      ],
      "metadata": {
        "id": "NZtSfidtNvv_"
      },
      "execution_count": 12,
      "outputs": []
    },
    {
      "cell_type": "code",
      "source": [
        "# Getting the index of all NaN values in Loan ID variable\n",
        "\n",
        "na= credit_data[credit_data['Loan ID'].isnull()].index.tolist()\n",
        "len(na)"
      ],
      "metadata": {
        "colab": {
          "base_uri": "https://localhost:8080/"
        },
        "id": "bGnyfkmjYwOM",
        "outputId": "6440d7ae-bea7-4d52-f17c-e0c83056d3aa"
      },
      "execution_count": 13,
      "outputs": [
        {
          "output_type": "execute_result",
          "data": {
            "text/plain": [
              "514"
            ]
          },
          "metadata": {},
          "execution_count": 13
        }
      ]
    },
    {
      "cell_type": "code",
      "source": [
        "credit_data.drop(na, inplace=True)\n",
        "print(credit_data.shape)"
      ],
      "metadata": {
        "colab": {
          "base_uri": "https://localhost:8080/"
        },
        "id": "Zad1fsAnZZyN",
        "outputId": "1a172047-2d7c-4645-ad80-1c224979fe21"
      },
      "execution_count": 14,
      "outputs": [
        {
          "output_type": "stream",
          "name": "stdout",
          "text": [
            "(100000, 19)\n"
          ]
        }
      ]
    },
    {
      "cell_type": "markdown",
      "source": [
        "### Handling duplicate values"
      ],
      "metadata": {
        "id": "EqNZwDAvaLMZ"
      }
    },
    {
      "cell_type": "code",
      "source": [
        "# Getting the records of duplicate values of Loan ID\n",
        "credit_data[credit_data['Loan ID'].duplicated()==True]"
      ],
      "metadata": {
        "colab": {
          "base_uri": "https://localhost:8080/",
          "height": 1000
        },
        "id": "AbHH3nuqaT7p",
        "outputId": "11ed3812-0b74-4534-d0ad-fdf44185e0d3"
      },
      "execution_count": 15,
      "outputs": [
        {
          "output_type": "execute_result",
          "data": {
            "text/plain": [
              "                                    Loan ID  \\\n",
              "420    a1301a8a-e66e-4747-beb7-c2f243f2c689   \n",
              "967    32200a7e-c65e-4e5e-9878-1161d256bcfe   \n",
              "1003   c5a1a3e9-da4a-4c9e-8d29-2907c613b82f   \n",
              "1627   4c1d5195-f43a-44af-8322-f831800ce490   \n",
              "1828   191a92bd-67d1-4998-b680-08489937390d   \n",
              "...                                     ...   \n",
              "99991  326d0f2b-015f-480e-90e9-9c0d7d307196   \n",
              "99992  c568adaa-16f9-43d3-b522-8532fb57cb16   \n",
              "99993  79b81158-5d55-4766-8ad6-ebcd683f7d59   \n",
              "99994  8506a4e9-af7d-47d2-a1bf-7ea2c41858f0   \n",
              "99995  3f94c18c-ba8f-45d0-8610-88a684a410a9   \n",
              "\n",
              "                                Customer ID Loan Status  Current Loan Amount  \\\n",
              "420    ab46b1a7-f937-4ba9-ac98-270344120cf7  Fully Paid             152372.0   \n",
              "967    64dcd3aa-3c82-4c70-929a-a83d249d894a  Fully Paid           99999999.0   \n",
              "1003   a239a831-642f-4cf8-926c-beac6ee5f36d  Fully Paid             448712.0   \n",
              "1627   e849b404-a91e-4ffe-92f1-2a06e99d65a6  Fully Paid             751300.0   \n",
              "1828   0e0fa488-b6cb-444e-b3cf-c2021a74cad8  Fully Paid             341352.0   \n",
              "...                                     ...         ...                  ...   \n",
              "99991  ed9a397b-8a72-45c2-92de-b91f990a623d  Fully Paid             244266.0   \n",
              "99992  cbb29fd6-e418-4f09-a4bd-4de83428caab  Fully Paid              48796.0   \n",
              "99993  e45e8dc4-05ad-4efe-92cc-784a6d5ef61a  Fully Paid              44484.0   \n",
              "99994  be67200e-1ef1-4b63-86a6-2bf27d3c704d  Fully Paid             210584.0   \n",
              "99995  2da51983-cfef-4b8f-a733-5dfaf69e9281  Fully Paid             147070.0   \n",
              "\n",
              "             Term  Credit Score  Annual Income Years in current job  \\\n",
              "420    Short Term         697.0       845937.0             < 1 year   \n",
              "967     Long Term         689.0       866799.0              9 years   \n",
              "1003    Long Term         696.0      1264602.0                  NaN   \n",
              "1627   Short Term         716.0      3614978.0              6 years   \n",
              "1828    Long Term         712.0       751108.0             < 1 year   \n",
              "...           ...           ...            ...                  ...   \n",
              "99991  Short Term         714.0      1619047.0            10+ years   \n",
              "99992  Short Term           NaN            NaN              4 years   \n",
              "99993  Short Term         717.0      1152426.0            10+ years   \n",
              "99994  Short Term         719.0       783389.0               1 year   \n",
              "99995  Short Term         725.0       475437.0              7 years   \n",
              "\n",
              "      Home Ownership             Purpose  Monthly Debt  \\\n",
              "420             Rent  Debt Consolidation       2876.22   \n",
              "967    Home Mortgage  Debt Consolidation       3676.69   \n",
              "1003   Home Mortgage  Debt Consolidation      33722.91   \n",
              "1627   Home Mortgage  Debt Consolidation      72600.71   \n",
              "1828   Home Mortgage  Debt Consolidation      10327.83   \n",
              "...              ...                 ...           ...   \n",
              "99991           Rent  Debt Consolidation       4290.39   \n",
              "99992  Home Mortgage      major_purchase       8298.63   \n",
              "99993  Home Mortgage      small_business       6280.64   \n",
              "99994  Home Mortgage               Other       3727.61   \n",
              "99995       Own Home               other       2202.86   \n",
              "\n",
              "       Years of Credit History  Months since last delinquent  \\\n",
              "420                        8.8                          46.0   \n",
              "967                       14.1                           7.0   \n",
              "1003                      16.7                          22.0   \n",
              "1627                      11.9                          69.0   \n",
              "1828                      13.3                           NaN   \n",
              "...                        ...                           ...   \n",
              "99991                     21.4                           NaN   \n",
              "99992                      8.3                           NaN   \n",
              "99993                     21.0                          12.0   \n",
              "99994                     17.4                          18.0   \n",
              "99995                     22.3                           NaN   \n",
              "\n",
              "       Number of Open Accounts  Number of Credit Problems  \\\n",
              "420                       10.0                        0.0   \n",
              "967                        4.0                        2.0   \n",
              "1003                      28.0                        2.0   \n",
              "1627                      29.0                        0.0   \n",
              "1828                      11.0                        0.0   \n",
              "...                        ...                        ...   \n",
              "99991                      5.0                        1.0   \n",
              "99992                      9.0                        0.0   \n",
              "99993                      6.0                        0.0   \n",
              "99994                      6.0                        0.0   \n",
              "99995                      5.0                        0.0   \n",
              "\n",
              "       Current Credit Balance  Maximum Open Credit  Bankruptcies  Tax Liens  \n",
              "420                   56943.0             215468.0           0.0        0.0  \n",
              "967                   86051.0             167750.0           2.0        0.0  \n",
              "1003                 328054.0             895906.0           0.0        2.0  \n",
              "1627                 957752.0            2128522.0           0.0        0.0  \n",
              "1828                  81377.0             110858.0           0.0        0.0  \n",
              "...                       ...                  ...           ...        ...  \n",
              "99991                132012.0             242660.0           1.0        0.0  \n",
              "99992                 87875.0             239404.0           0.0        0.0  \n",
              "99993                961932.0                  0.0           0.0        0.0  \n",
              "99994                   456.0             259160.0           0.0        0.0  \n",
              "99995                 47766.0             658548.0           0.0        0.0  \n",
              "\n",
              "[18001 rows x 19 columns]"
            ],
            "text/html": [
              "\n",
              "  <div id=\"df-3c41eb1d-20f9-4e79-bc9a-bc1fedaff712\">\n",
              "    <div class=\"colab-df-container\">\n",
              "      <div>\n",
              "<style scoped>\n",
              "    .dataframe tbody tr th:only-of-type {\n",
              "        vertical-align: middle;\n",
              "    }\n",
              "\n",
              "    .dataframe tbody tr th {\n",
              "        vertical-align: top;\n",
              "    }\n",
              "\n",
              "    .dataframe thead th {\n",
              "        text-align: right;\n",
              "    }\n",
              "</style>\n",
              "<table border=\"1\" class=\"dataframe\">\n",
              "  <thead>\n",
              "    <tr style=\"text-align: right;\">\n",
              "      <th></th>\n",
              "      <th>Loan ID</th>\n",
              "      <th>Customer ID</th>\n",
              "      <th>Loan Status</th>\n",
              "      <th>Current Loan Amount</th>\n",
              "      <th>Term</th>\n",
              "      <th>Credit Score</th>\n",
              "      <th>Annual Income</th>\n",
              "      <th>Years in current job</th>\n",
              "      <th>Home Ownership</th>\n",
              "      <th>Purpose</th>\n",
              "      <th>Monthly Debt</th>\n",
              "      <th>Years of Credit History</th>\n",
              "      <th>Months since last delinquent</th>\n",
              "      <th>Number of Open Accounts</th>\n",
              "      <th>Number of Credit Problems</th>\n",
              "      <th>Current Credit Balance</th>\n",
              "      <th>Maximum Open Credit</th>\n",
              "      <th>Bankruptcies</th>\n",
              "      <th>Tax Liens</th>\n",
              "    </tr>\n",
              "  </thead>\n",
              "  <tbody>\n",
              "    <tr>\n",
              "      <th>420</th>\n",
              "      <td>a1301a8a-e66e-4747-beb7-c2f243f2c689</td>\n",
              "      <td>ab46b1a7-f937-4ba9-ac98-270344120cf7</td>\n",
              "      <td>Fully Paid</td>\n",
              "      <td>152372.0</td>\n",
              "      <td>Short Term</td>\n",
              "      <td>697.0</td>\n",
              "      <td>845937.0</td>\n",
              "      <td>&lt; 1 year</td>\n",
              "      <td>Rent</td>\n",
              "      <td>Debt Consolidation</td>\n",
              "      <td>2876.22</td>\n",
              "      <td>8.8</td>\n",
              "      <td>46.0</td>\n",
              "      <td>10.0</td>\n",
              "      <td>0.0</td>\n",
              "      <td>56943.0</td>\n",
              "      <td>215468.0</td>\n",
              "      <td>0.0</td>\n",
              "      <td>0.0</td>\n",
              "    </tr>\n",
              "    <tr>\n",
              "      <th>967</th>\n",
              "      <td>32200a7e-c65e-4e5e-9878-1161d256bcfe</td>\n",
              "      <td>64dcd3aa-3c82-4c70-929a-a83d249d894a</td>\n",
              "      <td>Fully Paid</td>\n",
              "      <td>99999999.0</td>\n",
              "      <td>Long Term</td>\n",
              "      <td>689.0</td>\n",
              "      <td>866799.0</td>\n",
              "      <td>9 years</td>\n",
              "      <td>Home Mortgage</td>\n",
              "      <td>Debt Consolidation</td>\n",
              "      <td>3676.69</td>\n",
              "      <td>14.1</td>\n",
              "      <td>7.0</td>\n",
              "      <td>4.0</td>\n",
              "      <td>2.0</td>\n",
              "      <td>86051.0</td>\n",
              "      <td>167750.0</td>\n",
              "      <td>2.0</td>\n",
              "      <td>0.0</td>\n",
              "    </tr>\n",
              "    <tr>\n",
              "      <th>1003</th>\n",
              "      <td>c5a1a3e9-da4a-4c9e-8d29-2907c613b82f</td>\n",
              "      <td>a239a831-642f-4cf8-926c-beac6ee5f36d</td>\n",
              "      <td>Fully Paid</td>\n",
              "      <td>448712.0</td>\n",
              "      <td>Long Term</td>\n",
              "      <td>696.0</td>\n",
              "      <td>1264602.0</td>\n",
              "      <td>NaN</td>\n",
              "      <td>Home Mortgage</td>\n",
              "      <td>Debt Consolidation</td>\n",
              "      <td>33722.91</td>\n",
              "      <td>16.7</td>\n",
              "      <td>22.0</td>\n",
              "      <td>28.0</td>\n",
              "      <td>2.0</td>\n",
              "      <td>328054.0</td>\n",
              "      <td>895906.0</td>\n",
              "      <td>0.0</td>\n",
              "      <td>2.0</td>\n",
              "    </tr>\n",
              "    <tr>\n",
              "      <th>1627</th>\n",
              "      <td>4c1d5195-f43a-44af-8322-f831800ce490</td>\n",
              "      <td>e849b404-a91e-4ffe-92f1-2a06e99d65a6</td>\n",
              "      <td>Fully Paid</td>\n",
              "      <td>751300.0</td>\n",
              "      <td>Short Term</td>\n",
              "      <td>716.0</td>\n",
              "      <td>3614978.0</td>\n",
              "      <td>6 years</td>\n",
              "      <td>Home Mortgage</td>\n",
              "      <td>Debt Consolidation</td>\n",
              "      <td>72600.71</td>\n",
              "      <td>11.9</td>\n",
              "      <td>69.0</td>\n",
              "      <td>29.0</td>\n",
              "      <td>0.0</td>\n",
              "      <td>957752.0</td>\n",
              "      <td>2128522.0</td>\n",
              "      <td>0.0</td>\n",
              "      <td>0.0</td>\n",
              "    </tr>\n",
              "    <tr>\n",
              "      <th>1828</th>\n",
              "      <td>191a92bd-67d1-4998-b680-08489937390d</td>\n",
              "      <td>0e0fa488-b6cb-444e-b3cf-c2021a74cad8</td>\n",
              "      <td>Fully Paid</td>\n",
              "      <td>341352.0</td>\n",
              "      <td>Long Term</td>\n",
              "      <td>712.0</td>\n",
              "      <td>751108.0</td>\n",
              "      <td>&lt; 1 year</td>\n",
              "      <td>Home Mortgage</td>\n",
              "      <td>Debt Consolidation</td>\n",
              "      <td>10327.83</td>\n",
              "      <td>13.3</td>\n",
              "      <td>NaN</td>\n",
              "      <td>11.0</td>\n",
              "      <td>0.0</td>\n",
              "      <td>81377.0</td>\n",
              "      <td>110858.0</td>\n",
              "      <td>0.0</td>\n",
              "      <td>0.0</td>\n",
              "    </tr>\n",
              "    <tr>\n",
              "      <th>...</th>\n",
              "      <td>...</td>\n",
              "      <td>...</td>\n",
              "      <td>...</td>\n",
              "      <td>...</td>\n",
              "      <td>...</td>\n",
              "      <td>...</td>\n",
              "      <td>...</td>\n",
              "      <td>...</td>\n",
              "      <td>...</td>\n",
              "      <td>...</td>\n",
              "      <td>...</td>\n",
              "      <td>...</td>\n",
              "      <td>...</td>\n",
              "      <td>...</td>\n",
              "      <td>...</td>\n",
              "      <td>...</td>\n",
              "      <td>...</td>\n",
              "      <td>...</td>\n",
              "      <td>...</td>\n",
              "    </tr>\n",
              "    <tr>\n",
              "      <th>99991</th>\n",
              "      <td>326d0f2b-015f-480e-90e9-9c0d7d307196</td>\n",
              "      <td>ed9a397b-8a72-45c2-92de-b91f990a623d</td>\n",
              "      <td>Fully Paid</td>\n",
              "      <td>244266.0</td>\n",
              "      <td>Short Term</td>\n",
              "      <td>714.0</td>\n",
              "      <td>1619047.0</td>\n",
              "      <td>10+ years</td>\n",
              "      <td>Rent</td>\n",
              "      <td>Debt Consolidation</td>\n",
              "      <td>4290.39</td>\n",
              "      <td>21.4</td>\n",
              "      <td>NaN</td>\n",
              "      <td>5.0</td>\n",
              "      <td>1.0</td>\n",
              "      <td>132012.0</td>\n",
              "      <td>242660.0</td>\n",
              "      <td>1.0</td>\n",
              "      <td>0.0</td>\n",
              "    </tr>\n",
              "    <tr>\n",
              "      <th>99992</th>\n",
              "      <td>c568adaa-16f9-43d3-b522-8532fb57cb16</td>\n",
              "      <td>cbb29fd6-e418-4f09-a4bd-4de83428caab</td>\n",
              "      <td>Fully Paid</td>\n",
              "      <td>48796.0</td>\n",
              "      <td>Short Term</td>\n",
              "      <td>NaN</td>\n",
              "      <td>NaN</td>\n",
              "      <td>4 years</td>\n",
              "      <td>Home Mortgage</td>\n",
              "      <td>major_purchase</td>\n",
              "      <td>8298.63</td>\n",
              "      <td>8.3</td>\n",
              "      <td>NaN</td>\n",
              "      <td>9.0</td>\n",
              "      <td>0.0</td>\n",
              "      <td>87875.0</td>\n",
              "      <td>239404.0</td>\n",
              "      <td>0.0</td>\n",
              "      <td>0.0</td>\n",
              "    </tr>\n",
              "    <tr>\n",
              "      <th>99993</th>\n",
              "      <td>79b81158-5d55-4766-8ad6-ebcd683f7d59</td>\n",
              "      <td>e45e8dc4-05ad-4efe-92cc-784a6d5ef61a</td>\n",
              "      <td>Fully Paid</td>\n",
              "      <td>44484.0</td>\n",
              "      <td>Short Term</td>\n",
              "      <td>717.0</td>\n",
              "      <td>1152426.0</td>\n",
              "      <td>10+ years</td>\n",
              "      <td>Home Mortgage</td>\n",
              "      <td>small_business</td>\n",
              "      <td>6280.64</td>\n",
              "      <td>21.0</td>\n",
              "      <td>12.0</td>\n",
              "      <td>6.0</td>\n",
              "      <td>0.0</td>\n",
              "      <td>961932.0</td>\n",
              "      <td>0.0</td>\n",
              "      <td>0.0</td>\n",
              "      <td>0.0</td>\n",
              "    </tr>\n",
              "    <tr>\n",
              "      <th>99994</th>\n",
              "      <td>8506a4e9-af7d-47d2-a1bf-7ea2c41858f0</td>\n",
              "      <td>be67200e-1ef1-4b63-86a6-2bf27d3c704d</td>\n",
              "      <td>Fully Paid</td>\n",
              "      <td>210584.0</td>\n",
              "      <td>Short Term</td>\n",
              "      <td>719.0</td>\n",
              "      <td>783389.0</td>\n",
              "      <td>1 year</td>\n",
              "      <td>Home Mortgage</td>\n",
              "      <td>Other</td>\n",
              "      <td>3727.61</td>\n",
              "      <td>17.4</td>\n",
              "      <td>18.0</td>\n",
              "      <td>6.0</td>\n",
              "      <td>0.0</td>\n",
              "      <td>456.0</td>\n",
              "      <td>259160.0</td>\n",
              "      <td>0.0</td>\n",
              "      <td>0.0</td>\n",
              "    </tr>\n",
              "    <tr>\n",
              "      <th>99995</th>\n",
              "      <td>3f94c18c-ba8f-45d0-8610-88a684a410a9</td>\n",
              "      <td>2da51983-cfef-4b8f-a733-5dfaf69e9281</td>\n",
              "      <td>Fully Paid</td>\n",
              "      <td>147070.0</td>\n",
              "      <td>Short Term</td>\n",
              "      <td>725.0</td>\n",
              "      <td>475437.0</td>\n",
              "      <td>7 years</td>\n",
              "      <td>Own Home</td>\n",
              "      <td>other</td>\n",
              "      <td>2202.86</td>\n",
              "      <td>22.3</td>\n",
              "      <td>NaN</td>\n",
              "      <td>5.0</td>\n",
              "      <td>0.0</td>\n",
              "      <td>47766.0</td>\n",
              "      <td>658548.0</td>\n",
              "      <td>0.0</td>\n",
              "      <td>0.0</td>\n",
              "    </tr>\n",
              "  </tbody>\n",
              "</table>\n",
              "<p>18001 rows × 19 columns</p>\n",
              "</div>\n",
              "      <button class=\"colab-df-convert\" onclick=\"convertToInteractive('df-3c41eb1d-20f9-4e79-bc9a-bc1fedaff712')\"\n",
              "              title=\"Convert this dataframe to an interactive table.\"\n",
              "              style=\"display:none;\">\n",
              "        \n",
              "  <svg xmlns=\"http://www.w3.org/2000/svg\" height=\"24px\"viewBox=\"0 0 24 24\"\n",
              "       width=\"24px\">\n",
              "    <path d=\"M0 0h24v24H0V0z\" fill=\"none\"/>\n",
              "    <path d=\"M18.56 5.44l.94 2.06.94-2.06 2.06-.94-2.06-.94-.94-2.06-.94 2.06-2.06.94zm-11 1L8.5 8.5l.94-2.06 2.06-.94-2.06-.94L8.5 2.5l-.94 2.06-2.06.94zm10 10l.94 2.06.94-2.06 2.06-.94-2.06-.94-.94-2.06-.94 2.06-2.06.94z\"/><path d=\"M17.41 7.96l-1.37-1.37c-.4-.4-.92-.59-1.43-.59-.52 0-1.04.2-1.43.59L10.3 9.45l-7.72 7.72c-.78.78-.78 2.05 0 2.83L4 21.41c.39.39.9.59 1.41.59.51 0 1.02-.2 1.41-.59l7.78-7.78 2.81-2.81c.8-.78.8-2.07 0-2.86zM5.41 20L4 18.59l7.72-7.72 1.47 1.35L5.41 20z\"/>\n",
              "  </svg>\n",
              "      </button>\n",
              "      \n",
              "  <style>\n",
              "    .colab-df-container {\n",
              "      display:flex;\n",
              "      flex-wrap:wrap;\n",
              "      gap: 12px;\n",
              "    }\n",
              "\n",
              "    .colab-df-convert {\n",
              "      background-color: #E8F0FE;\n",
              "      border: none;\n",
              "      border-radius: 50%;\n",
              "      cursor: pointer;\n",
              "      display: none;\n",
              "      fill: #1967D2;\n",
              "      height: 32px;\n",
              "      padding: 0 0 0 0;\n",
              "      width: 32px;\n",
              "    }\n",
              "\n",
              "    .colab-df-convert:hover {\n",
              "      background-color: #E2EBFA;\n",
              "      box-shadow: 0px 1px 2px rgba(60, 64, 67, 0.3), 0px 1px 3px 1px rgba(60, 64, 67, 0.15);\n",
              "      fill: #174EA6;\n",
              "    }\n",
              "\n",
              "    [theme=dark] .colab-df-convert {\n",
              "      background-color: #3B4455;\n",
              "      fill: #D2E3FC;\n",
              "    }\n",
              "\n",
              "    [theme=dark] .colab-df-convert:hover {\n",
              "      background-color: #434B5C;\n",
              "      box-shadow: 0px 1px 3px 1px rgba(0, 0, 0, 0.15);\n",
              "      filter: drop-shadow(0px 1px 2px rgba(0, 0, 0, 0.3));\n",
              "      fill: #FFFFFF;\n",
              "    }\n",
              "  </style>\n",
              "\n",
              "      <script>\n",
              "        const buttonEl =\n",
              "          document.querySelector('#df-3c41eb1d-20f9-4e79-bc9a-bc1fedaff712 button.colab-df-convert');\n",
              "        buttonEl.style.display =\n",
              "          google.colab.kernel.accessAllowed ? 'block' : 'none';\n",
              "\n",
              "        async function convertToInteractive(key) {\n",
              "          const element = document.querySelector('#df-3c41eb1d-20f9-4e79-bc9a-bc1fedaff712');\n",
              "          const dataTable =\n",
              "            await google.colab.kernel.invokeFunction('convertToInteractive',\n",
              "                                                     [key], {});\n",
              "          if (!dataTable) return;\n",
              "\n",
              "          const docLinkHtml = 'Like what you see? Visit the ' +\n",
              "            '<a target=\"_blank\" href=https://colab.research.google.com/notebooks/data_table.ipynb>data table notebook</a>'\n",
              "            + ' to learn more about interactive tables.';\n",
              "          element.innerHTML = '';\n",
              "          dataTable['output_type'] = 'display_data';\n",
              "          await google.colab.output.renderOutput(dataTable, element);\n",
              "          const docLink = document.createElement('div');\n",
              "          docLink.innerHTML = docLinkHtml;\n",
              "          element.appendChild(docLink);\n",
              "        }\n",
              "      </script>\n",
              "    </div>\n",
              "  </div>\n",
              "  "
            ]
          },
          "metadata": {},
          "execution_count": 15
        }
      ]
    },
    {
      "cell_type": "code",
      "source": [
        "# Checking random records for data of other variables where Loan ID is duplicate\n",
        "\n",
        "credit_data[credit_data['Loan ID']=='a1301a8a-e66e-4747-beb7-c2f243f2c689']\n",
        "# Same data in all variables"
      ],
      "metadata": {
        "colab": {
          "base_uri": "https://localhost:8080/",
          "height": 332
        },
        "id": "yPupR9oqd4A_",
        "outputId": "d93a7ac0-8e70-4dc3-9ce3-8fcfc98dc3f5"
      },
      "execution_count": 16,
      "outputs": [
        {
          "output_type": "execute_result",
          "data": {
            "text/plain": [
              "                                  Loan ID  \\\n",
              "418  a1301a8a-e66e-4747-beb7-c2f243f2c689   \n",
              "420  a1301a8a-e66e-4747-beb7-c2f243f2c689   \n",
              "\n",
              "                              Customer ID Loan Status  Current Loan Amount  \\\n",
              "418  ab46b1a7-f937-4ba9-ac98-270344120cf7  Fully Paid             152372.0   \n",
              "420  ab46b1a7-f937-4ba9-ac98-270344120cf7  Fully Paid             152372.0   \n",
              "\n",
              "           Term  Credit Score  Annual Income Years in current job  \\\n",
              "418  Short Term         697.0       845937.0             < 1 year   \n",
              "420  Short Term         697.0       845937.0             < 1 year   \n",
              "\n",
              "    Home Ownership             Purpose  Monthly Debt  Years of Credit History  \\\n",
              "418           Rent  Debt Consolidation       2876.22                      8.8   \n",
              "420           Rent  Debt Consolidation       2876.22                      8.8   \n",
              "\n",
              "     Months since last delinquent  Number of Open Accounts  \\\n",
              "418                          46.0                     10.0   \n",
              "420                          46.0                     10.0   \n",
              "\n",
              "     Number of Credit Problems  Current Credit Balance  Maximum Open Credit  \\\n",
              "418                        0.0                 56943.0             215468.0   \n",
              "420                        0.0                 56943.0             215468.0   \n",
              "\n",
              "     Bankruptcies  Tax Liens  \n",
              "418           0.0        0.0  \n",
              "420           0.0        0.0  "
            ],
            "text/html": [
              "\n",
              "  <div id=\"df-c3ff2d8f-4c4e-487f-b156-46fea6d750a2\">\n",
              "    <div class=\"colab-df-container\">\n",
              "      <div>\n",
              "<style scoped>\n",
              "    .dataframe tbody tr th:only-of-type {\n",
              "        vertical-align: middle;\n",
              "    }\n",
              "\n",
              "    .dataframe tbody tr th {\n",
              "        vertical-align: top;\n",
              "    }\n",
              "\n",
              "    .dataframe thead th {\n",
              "        text-align: right;\n",
              "    }\n",
              "</style>\n",
              "<table border=\"1\" class=\"dataframe\">\n",
              "  <thead>\n",
              "    <tr style=\"text-align: right;\">\n",
              "      <th></th>\n",
              "      <th>Loan ID</th>\n",
              "      <th>Customer ID</th>\n",
              "      <th>Loan Status</th>\n",
              "      <th>Current Loan Amount</th>\n",
              "      <th>Term</th>\n",
              "      <th>Credit Score</th>\n",
              "      <th>Annual Income</th>\n",
              "      <th>Years in current job</th>\n",
              "      <th>Home Ownership</th>\n",
              "      <th>Purpose</th>\n",
              "      <th>Monthly Debt</th>\n",
              "      <th>Years of Credit History</th>\n",
              "      <th>Months since last delinquent</th>\n",
              "      <th>Number of Open Accounts</th>\n",
              "      <th>Number of Credit Problems</th>\n",
              "      <th>Current Credit Balance</th>\n",
              "      <th>Maximum Open Credit</th>\n",
              "      <th>Bankruptcies</th>\n",
              "      <th>Tax Liens</th>\n",
              "    </tr>\n",
              "  </thead>\n",
              "  <tbody>\n",
              "    <tr>\n",
              "      <th>418</th>\n",
              "      <td>a1301a8a-e66e-4747-beb7-c2f243f2c689</td>\n",
              "      <td>ab46b1a7-f937-4ba9-ac98-270344120cf7</td>\n",
              "      <td>Fully Paid</td>\n",
              "      <td>152372.0</td>\n",
              "      <td>Short Term</td>\n",
              "      <td>697.0</td>\n",
              "      <td>845937.0</td>\n",
              "      <td>&lt; 1 year</td>\n",
              "      <td>Rent</td>\n",
              "      <td>Debt Consolidation</td>\n",
              "      <td>2876.22</td>\n",
              "      <td>8.8</td>\n",
              "      <td>46.0</td>\n",
              "      <td>10.0</td>\n",
              "      <td>0.0</td>\n",
              "      <td>56943.0</td>\n",
              "      <td>215468.0</td>\n",
              "      <td>0.0</td>\n",
              "      <td>0.0</td>\n",
              "    </tr>\n",
              "    <tr>\n",
              "      <th>420</th>\n",
              "      <td>a1301a8a-e66e-4747-beb7-c2f243f2c689</td>\n",
              "      <td>ab46b1a7-f937-4ba9-ac98-270344120cf7</td>\n",
              "      <td>Fully Paid</td>\n",
              "      <td>152372.0</td>\n",
              "      <td>Short Term</td>\n",
              "      <td>697.0</td>\n",
              "      <td>845937.0</td>\n",
              "      <td>&lt; 1 year</td>\n",
              "      <td>Rent</td>\n",
              "      <td>Debt Consolidation</td>\n",
              "      <td>2876.22</td>\n",
              "      <td>8.8</td>\n",
              "      <td>46.0</td>\n",
              "      <td>10.0</td>\n",
              "      <td>0.0</td>\n",
              "      <td>56943.0</td>\n",
              "      <td>215468.0</td>\n",
              "      <td>0.0</td>\n",
              "      <td>0.0</td>\n",
              "    </tr>\n",
              "  </tbody>\n",
              "</table>\n",
              "</div>\n",
              "      <button class=\"colab-df-convert\" onclick=\"convertToInteractive('df-c3ff2d8f-4c4e-487f-b156-46fea6d750a2')\"\n",
              "              title=\"Convert this dataframe to an interactive table.\"\n",
              "              style=\"display:none;\">\n",
              "        \n",
              "  <svg xmlns=\"http://www.w3.org/2000/svg\" height=\"24px\"viewBox=\"0 0 24 24\"\n",
              "       width=\"24px\">\n",
              "    <path d=\"M0 0h24v24H0V0z\" fill=\"none\"/>\n",
              "    <path d=\"M18.56 5.44l.94 2.06.94-2.06 2.06-.94-2.06-.94-.94-2.06-.94 2.06-2.06.94zm-11 1L8.5 8.5l.94-2.06 2.06-.94-2.06-.94L8.5 2.5l-.94 2.06-2.06.94zm10 10l.94 2.06.94-2.06 2.06-.94-2.06-.94-.94-2.06-.94 2.06-2.06.94z\"/><path d=\"M17.41 7.96l-1.37-1.37c-.4-.4-.92-.59-1.43-.59-.52 0-1.04.2-1.43.59L10.3 9.45l-7.72 7.72c-.78.78-.78 2.05 0 2.83L4 21.41c.39.39.9.59 1.41.59.51 0 1.02-.2 1.41-.59l7.78-7.78 2.81-2.81c.8-.78.8-2.07 0-2.86zM5.41 20L4 18.59l7.72-7.72 1.47 1.35L5.41 20z\"/>\n",
              "  </svg>\n",
              "      </button>\n",
              "      \n",
              "  <style>\n",
              "    .colab-df-container {\n",
              "      display:flex;\n",
              "      flex-wrap:wrap;\n",
              "      gap: 12px;\n",
              "    }\n",
              "\n",
              "    .colab-df-convert {\n",
              "      background-color: #E8F0FE;\n",
              "      border: none;\n",
              "      border-radius: 50%;\n",
              "      cursor: pointer;\n",
              "      display: none;\n",
              "      fill: #1967D2;\n",
              "      height: 32px;\n",
              "      padding: 0 0 0 0;\n",
              "      width: 32px;\n",
              "    }\n",
              "\n",
              "    .colab-df-convert:hover {\n",
              "      background-color: #E2EBFA;\n",
              "      box-shadow: 0px 1px 2px rgba(60, 64, 67, 0.3), 0px 1px 3px 1px rgba(60, 64, 67, 0.15);\n",
              "      fill: #174EA6;\n",
              "    }\n",
              "\n",
              "    [theme=dark] .colab-df-convert {\n",
              "      background-color: #3B4455;\n",
              "      fill: #D2E3FC;\n",
              "    }\n",
              "\n",
              "    [theme=dark] .colab-df-convert:hover {\n",
              "      background-color: #434B5C;\n",
              "      box-shadow: 0px 1px 3px 1px rgba(0, 0, 0, 0.15);\n",
              "      filter: drop-shadow(0px 1px 2px rgba(0, 0, 0, 0.3));\n",
              "      fill: #FFFFFF;\n",
              "    }\n",
              "  </style>\n",
              "\n",
              "      <script>\n",
              "        const buttonEl =\n",
              "          document.querySelector('#df-c3ff2d8f-4c4e-487f-b156-46fea6d750a2 button.colab-df-convert');\n",
              "        buttonEl.style.display =\n",
              "          google.colab.kernel.accessAllowed ? 'block' : 'none';\n",
              "\n",
              "        async function convertToInteractive(key) {\n",
              "          const element = document.querySelector('#df-c3ff2d8f-4c4e-487f-b156-46fea6d750a2');\n",
              "          const dataTable =\n",
              "            await google.colab.kernel.invokeFunction('convertToInteractive',\n",
              "                                                     [key], {});\n",
              "          if (!dataTable) return;\n",
              "\n",
              "          const docLinkHtml = 'Like what you see? Visit the ' +\n",
              "            '<a target=\"_blank\" href=https://colab.research.google.com/notebooks/data_table.ipynb>data table notebook</a>'\n",
              "            + ' to learn more about interactive tables.';\n",
              "          element.innerHTML = '';\n",
              "          dataTable['output_type'] = 'display_data';\n",
              "          await google.colab.output.renderOutput(dataTable, element);\n",
              "          const docLink = document.createElement('div');\n",
              "          docLink.innerHTML = docLinkHtml;\n",
              "          element.appendChild(docLink);\n",
              "        }\n",
              "      </script>\n",
              "    </div>\n",
              "  </div>\n",
              "  "
            ]
          },
          "metadata": {},
          "execution_count": 16
        }
      ]
    },
    {
      "cell_type": "code",
      "source": [
        "credit_data[credit_data['Loan ID'].isin(['4c1d5195-f43a-44af-8322-f831800ce490','8506a4e9-af7d-47d2-a1bf-7ea2c41858f0','c568adaa-16f9-43d3-b522-8532fb57cb16',\n",
        "                                         '326d0f2b-015f-480e-90e9-9c0d7d307196','191a92bd-67d1-4998-b680-08489937390d'])].sort_values(['Loan ID'])"
      ],
      "metadata": {
        "colab": {
          "base_uri": "https://localhost:8080/",
          "height": 999
        },
        "id": "xIZlr0u6fYRT",
        "outputId": "5fd58436-71b6-47ba-c3d5-bef6b5788db5"
      },
      "execution_count": 17,
      "outputs": [
        {
          "output_type": "execute_result",
          "data": {
            "text/plain": [
              "                                    Loan ID  \\\n",
              "204    191a92bd-67d1-4998-b680-08489937390d   \n",
              "1828   191a92bd-67d1-4998-b680-08489937390d   \n",
              "41000  326d0f2b-015f-480e-90e9-9c0d7d307196   \n",
              "99991  326d0f2b-015f-480e-90e9-9c0d7d307196   \n",
              "1024   4c1d5195-f43a-44af-8322-f831800ce490   \n",
              "1627   4c1d5195-f43a-44af-8322-f831800ce490   \n",
              "60503  8506a4e9-af7d-47d2-a1bf-7ea2c41858f0   \n",
              "99994  8506a4e9-af7d-47d2-a1bf-7ea2c41858f0   \n",
              "91976  c568adaa-16f9-43d3-b522-8532fb57cb16   \n",
              "99992  c568adaa-16f9-43d3-b522-8532fb57cb16   \n",
              "\n",
              "                                Customer ID Loan Status  Current Loan Amount  \\\n",
              "204    0e0fa488-b6cb-444e-b3cf-c2021a74cad8  Fully Paid             341352.0   \n",
              "1828   0e0fa488-b6cb-444e-b3cf-c2021a74cad8  Fully Paid             341352.0   \n",
              "41000  ed9a397b-8a72-45c2-92de-b91f990a623d  Fully Paid             244266.0   \n",
              "99991  ed9a397b-8a72-45c2-92de-b91f990a623d  Fully Paid             244266.0   \n",
              "1024   e849b404-a91e-4ffe-92f1-2a06e99d65a6  Fully Paid             751300.0   \n",
              "1627   e849b404-a91e-4ffe-92f1-2a06e99d65a6  Fully Paid             751300.0   \n",
              "60503  be67200e-1ef1-4b63-86a6-2bf27d3c704d  Fully Paid             210584.0   \n",
              "99994  be67200e-1ef1-4b63-86a6-2bf27d3c704d  Fully Paid             210584.0   \n",
              "91976  cbb29fd6-e418-4f09-a4bd-4de83428caab  Fully Paid              48796.0   \n",
              "99992  cbb29fd6-e418-4f09-a4bd-4de83428caab  Fully Paid              48796.0   \n",
              "\n",
              "             Term  Credit Score  Annual Income Years in current job  \\\n",
              "204     Long Term         712.0       751108.0             < 1 year   \n",
              "1828    Long Term         712.0       751108.0             < 1 year   \n",
              "41000  Short Term         714.0      1619047.0            10+ years   \n",
              "99991  Short Term         714.0      1619047.0            10+ years   \n",
              "1024   Short Term         716.0      3614978.0              6 years   \n",
              "1627   Short Term         716.0      3614978.0              6 years   \n",
              "60503  Short Term           NaN            NaN               1 year   \n",
              "99994  Short Term         719.0       783389.0               1 year   \n",
              "91976  Short Term         724.0       431091.0              4 years   \n",
              "99992  Short Term           NaN            NaN              4 years   \n",
              "\n",
              "      Home Ownership             Purpose  Monthly Debt  \\\n",
              "204    Home Mortgage  Debt Consolidation      10327.83   \n",
              "1828   Home Mortgage  Debt Consolidation      10327.83   \n",
              "41000           Rent  Debt Consolidation       4290.39   \n",
              "99991           Rent  Debt Consolidation       4290.39   \n",
              "1024   Home Mortgage  Debt Consolidation      72600.71   \n",
              "1627   Home Mortgage  Debt Consolidation      72600.71   \n",
              "60503  Home Mortgage               Other       3727.61   \n",
              "99994  Home Mortgage               Other       3727.61   \n",
              "91976  Home Mortgage      major_purchase       8298.63   \n",
              "99992  Home Mortgage      major_purchase       8298.63   \n",
              "\n",
              "       Years of Credit History  Months since last delinquent  \\\n",
              "204                       13.3                           NaN   \n",
              "1828                      13.3                           NaN   \n",
              "41000                     21.4                           NaN   \n",
              "99991                     21.4                           NaN   \n",
              "1024                      11.9                          69.0   \n",
              "1627                      11.9                          69.0   \n",
              "60503                     17.4                          18.0   \n",
              "99994                     17.4                          18.0   \n",
              "91976                      8.3                           NaN   \n",
              "99992                      8.3                           NaN   \n",
              "\n",
              "       Number of Open Accounts  Number of Credit Problems  \\\n",
              "204                       11.0                        0.0   \n",
              "1828                      11.0                        0.0   \n",
              "41000                      5.0                        1.0   \n",
              "99991                      5.0                        1.0   \n",
              "1024                      29.0                        0.0   \n",
              "1627                      29.0                        0.0   \n",
              "60503                      6.0                        0.0   \n",
              "99994                      6.0                        0.0   \n",
              "91976                      9.0                        0.0   \n",
              "99992                      9.0                        0.0   \n",
              "\n",
              "       Current Credit Balance  Maximum Open Credit  Bankruptcies  Tax Liens  \n",
              "204                   81377.0             110858.0           0.0        0.0  \n",
              "1828                  81377.0             110858.0           0.0        0.0  \n",
              "41000                132012.0             242660.0           1.0        0.0  \n",
              "99991                132012.0             242660.0           1.0        0.0  \n",
              "1024                 957752.0            2128522.0           0.0        0.0  \n",
              "1627                 957752.0            2128522.0           0.0        0.0  \n",
              "60503                   456.0             259160.0           0.0        0.0  \n",
              "99994                   456.0             259160.0           0.0        0.0  \n",
              "91976                 87875.0             239404.0           0.0        0.0  \n",
              "99992                 87875.0             239404.0           0.0        0.0  "
            ],
            "text/html": [
              "\n",
              "  <div id=\"df-ea2dbf6c-1a2c-4533-9ab2-b008c6fcf8ef\">\n",
              "    <div class=\"colab-df-container\">\n",
              "      <div>\n",
              "<style scoped>\n",
              "    .dataframe tbody tr th:only-of-type {\n",
              "        vertical-align: middle;\n",
              "    }\n",
              "\n",
              "    .dataframe tbody tr th {\n",
              "        vertical-align: top;\n",
              "    }\n",
              "\n",
              "    .dataframe thead th {\n",
              "        text-align: right;\n",
              "    }\n",
              "</style>\n",
              "<table border=\"1\" class=\"dataframe\">\n",
              "  <thead>\n",
              "    <tr style=\"text-align: right;\">\n",
              "      <th></th>\n",
              "      <th>Loan ID</th>\n",
              "      <th>Customer ID</th>\n",
              "      <th>Loan Status</th>\n",
              "      <th>Current Loan Amount</th>\n",
              "      <th>Term</th>\n",
              "      <th>Credit Score</th>\n",
              "      <th>Annual Income</th>\n",
              "      <th>Years in current job</th>\n",
              "      <th>Home Ownership</th>\n",
              "      <th>Purpose</th>\n",
              "      <th>Monthly Debt</th>\n",
              "      <th>Years of Credit History</th>\n",
              "      <th>Months since last delinquent</th>\n",
              "      <th>Number of Open Accounts</th>\n",
              "      <th>Number of Credit Problems</th>\n",
              "      <th>Current Credit Balance</th>\n",
              "      <th>Maximum Open Credit</th>\n",
              "      <th>Bankruptcies</th>\n",
              "      <th>Tax Liens</th>\n",
              "    </tr>\n",
              "  </thead>\n",
              "  <tbody>\n",
              "    <tr>\n",
              "      <th>204</th>\n",
              "      <td>191a92bd-67d1-4998-b680-08489937390d</td>\n",
              "      <td>0e0fa488-b6cb-444e-b3cf-c2021a74cad8</td>\n",
              "      <td>Fully Paid</td>\n",
              "      <td>341352.0</td>\n",
              "      <td>Long Term</td>\n",
              "      <td>712.0</td>\n",
              "      <td>751108.0</td>\n",
              "      <td>&lt; 1 year</td>\n",
              "      <td>Home Mortgage</td>\n",
              "      <td>Debt Consolidation</td>\n",
              "      <td>10327.83</td>\n",
              "      <td>13.3</td>\n",
              "      <td>NaN</td>\n",
              "      <td>11.0</td>\n",
              "      <td>0.0</td>\n",
              "      <td>81377.0</td>\n",
              "      <td>110858.0</td>\n",
              "      <td>0.0</td>\n",
              "      <td>0.0</td>\n",
              "    </tr>\n",
              "    <tr>\n",
              "      <th>1828</th>\n",
              "      <td>191a92bd-67d1-4998-b680-08489937390d</td>\n",
              "      <td>0e0fa488-b6cb-444e-b3cf-c2021a74cad8</td>\n",
              "      <td>Fully Paid</td>\n",
              "      <td>341352.0</td>\n",
              "      <td>Long Term</td>\n",
              "      <td>712.0</td>\n",
              "      <td>751108.0</td>\n",
              "      <td>&lt; 1 year</td>\n",
              "      <td>Home Mortgage</td>\n",
              "      <td>Debt Consolidation</td>\n",
              "      <td>10327.83</td>\n",
              "      <td>13.3</td>\n",
              "      <td>NaN</td>\n",
              "      <td>11.0</td>\n",
              "      <td>0.0</td>\n",
              "      <td>81377.0</td>\n",
              "      <td>110858.0</td>\n",
              "      <td>0.0</td>\n",
              "      <td>0.0</td>\n",
              "    </tr>\n",
              "    <tr>\n",
              "      <th>41000</th>\n",
              "      <td>326d0f2b-015f-480e-90e9-9c0d7d307196</td>\n",
              "      <td>ed9a397b-8a72-45c2-92de-b91f990a623d</td>\n",
              "      <td>Fully Paid</td>\n",
              "      <td>244266.0</td>\n",
              "      <td>Short Term</td>\n",
              "      <td>714.0</td>\n",
              "      <td>1619047.0</td>\n",
              "      <td>10+ years</td>\n",
              "      <td>Rent</td>\n",
              "      <td>Debt Consolidation</td>\n",
              "      <td>4290.39</td>\n",
              "      <td>21.4</td>\n",
              "      <td>NaN</td>\n",
              "      <td>5.0</td>\n",
              "      <td>1.0</td>\n",
              "      <td>132012.0</td>\n",
              "      <td>242660.0</td>\n",
              "      <td>1.0</td>\n",
              "      <td>0.0</td>\n",
              "    </tr>\n",
              "    <tr>\n",
              "      <th>99991</th>\n",
              "      <td>326d0f2b-015f-480e-90e9-9c0d7d307196</td>\n",
              "      <td>ed9a397b-8a72-45c2-92de-b91f990a623d</td>\n",
              "      <td>Fully Paid</td>\n",
              "      <td>244266.0</td>\n",
              "      <td>Short Term</td>\n",
              "      <td>714.0</td>\n",
              "      <td>1619047.0</td>\n",
              "      <td>10+ years</td>\n",
              "      <td>Rent</td>\n",
              "      <td>Debt Consolidation</td>\n",
              "      <td>4290.39</td>\n",
              "      <td>21.4</td>\n",
              "      <td>NaN</td>\n",
              "      <td>5.0</td>\n",
              "      <td>1.0</td>\n",
              "      <td>132012.0</td>\n",
              "      <td>242660.0</td>\n",
              "      <td>1.0</td>\n",
              "      <td>0.0</td>\n",
              "    </tr>\n",
              "    <tr>\n",
              "      <th>1024</th>\n",
              "      <td>4c1d5195-f43a-44af-8322-f831800ce490</td>\n",
              "      <td>e849b404-a91e-4ffe-92f1-2a06e99d65a6</td>\n",
              "      <td>Fully Paid</td>\n",
              "      <td>751300.0</td>\n",
              "      <td>Short Term</td>\n",
              "      <td>716.0</td>\n",
              "      <td>3614978.0</td>\n",
              "      <td>6 years</td>\n",
              "      <td>Home Mortgage</td>\n",
              "      <td>Debt Consolidation</td>\n",
              "      <td>72600.71</td>\n",
              "      <td>11.9</td>\n",
              "      <td>69.0</td>\n",
              "      <td>29.0</td>\n",
              "      <td>0.0</td>\n",
              "      <td>957752.0</td>\n",
              "      <td>2128522.0</td>\n",
              "      <td>0.0</td>\n",
              "      <td>0.0</td>\n",
              "    </tr>\n",
              "    <tr>\n",
              "      <th>1627</th>\n",
              "      <td>4c1d5195-f43a-44af-8322-f831800ce490</td>\n",
              "      <td>e849b404-a91e-4ffe-92f1-2a06e99d65a6</td>\n",
              "      <td>Fully Paid</td>\n",
              "      <td>751300.0</td>\n",
              "      <td>Short Term</td>\n",
              "      <td>716.0</td>\n",
              "      <td>3614978.0</td>\n",
              "      <td>6 years</td>\n",
              "      <td>Home Mortgage</td>\n",
              "      <td>Debt Consolidation</td>\n",
              "      <td>72600.71</td>\n",
              "      <td>11.9</td>\n",
              "      <td>69.0</td>\n",
              "      <td>29.0</td>\n",
              "      <td>0.0</td>\n",
              "      <td>957752.0</td>\n",
              "      <td>2128522.0</td>\n",
              "      <td>0.0</td>\n",
              "      <td>0.0</td>\n",
              "    </tr>\n",
              "    <tr>\n",
              "      <th>60503</th>\n",
              "      <td>8506a4e9-af7d-47d2-a1bf-7ea2c41858f0</td>\n",
              "      <td>be67200e-1ef1-4b63-86a6-2bf27d3c704d</td>\n",
              "      <td>Fully Paid</td>\n",
              "      <td>210584.0</td>\n",
              "      <td>Short Term</td>\n",
              "      <td>NaN</td>\n",
              "      <td>NaN</td>\n",
              "      <td>1 year</td>\n",
              "      <td>Home Mortgage</td>\n",
              "      <td>Other</td>\n",
              "      <td>3727.61</td>\n",
              "      <td>17.4</td>\n",
              "      <td>18.0</td>\n",
              "      <td>6.0</td>\n",
              "      <td>0.0</td>\n",
              "      <td>456.0</td>\n",
              "      <td>259160.0</td>\n",
              "      <td>0.0</td>\n",
              "      <td>0.0</td>\n",
              "    </tr>\n",
              "    <tr>\n",
              "      <th>99994</th>\n",
              "      <td>8506a4e9-af7d-47d2-a1bf-7ea2c41858f0</td>\n",
              "      <td>be67200e-1ef1-4b63-86a6-2bf27d3c704d</td>\n",
              "      <td>Fully Paid</td>\n",
              "      <td>210584.0</td>\n",
              "      <td>Short Term</td>\n",
              "      <td>719.0</td>\n",
              "      <td>783389.0</td>\n",
              "      <td>1 year</td>\n",
              "      <td>Home Mortgage</td>\n",
              "      <td>Other</td>\n",
              "      <td>3727.61</td>\n",
              "      <td>17.4</td>\n",
              "      <td>18.0</td>\n",
              "      <td>6.0</td>\n",
              "      <td>0.0</td>\n",
              "      <td>456.0</td>\n",
              "      <td>259160.0</td>\n",
              "      <td>0.0</td>\n",
              "      <td>0.0</td>\n",
              "    </tr>\n",
              "    <tr>\n",
              "      <th>91976</th>\n",
              "      <td>c568adaa-16f9-43d3-b522-8532fb57cb16</td>\n",
              "      <td>cbb29fd6-e418-4f09-a4bd-4de83428caab</td>\n",
              "      <td>Fully Paid</td>\n",
              "      <td>48796.0</td>\n",
              "      <td>Short Term</td>\n",
              "      <td>724.0</td>\n",
              "      <td>431091.0</td>\n",
              "      <td>4 years</td>\n",
              "      <td>Home Mortgage</td>\n",
              "      <td>major_purchase</td>\n",
              "      <td>8298.63</td>\n",
              "      <td>8.3</td>\n",
              "      <td>NaN</td>\n",
              "      <td>9.0</td>\n",
              "      <td>0.0</td>\n",
              "      <td>87875.0</td>\n",
              "      <td>239404.0</td>\n",
              "      <td>0.0</td>\n",
              "      <td>0.0</td>\n",
              "    </tr>\n",
              "    <tr>\n",
              "      <th>99992</th>\n",
              "      <td>c568adaa-16f9-43d3-b522-8532fb57cb16</td>\n",
              "      <td>cbb29fd6-e418-4f09-a4bd-4de83428caab</td>\n",
              "      <td>Fully Paid</td>\n",
              "      <td>48796.0</td>\n",
              "      <td>Short Term</td>\n",
              "      <td>NaN</td>\n",
              "      <td>NaN</td>\n",
              "      <td>4 years</td>\n",
              "      <td>Home Mortgage</td>\n",
              "      <td>major_purchase</td>\n",
              "      <td>8298.63</td>\n",
              "      <td>8.3</td>\n",
              "      <td>NaN</td>\n",
              "      <td>9.0</td>\n",
              "      <td>0.0</td>\n",
              "      <td>87875.0</td>\n",
              "      <td>239404.0</td>\n",
              "      <td>0.0</td>\n",
              "      <td>0.0</td>\n",
              "    </tr>\n",
              "  </tbody>\n",
              "</table>\n",
              "</div>\n",
              "      <button class=\"colab-df-convert\" onclick=\"convertToInteractive('df-ea2dbf6c-1a2c-4533-9ab2-b008c6fcf8ef')\"\n",
              "              title=\"Convert this dataframe to an interactive table.\"\n",
              "              style=\"display:none;\">\n",
              "        \n",
              "  <svg xmlns=\"http://www.w3.org/2000/svg\" height=\"24px\"viewBox=\"0 0 24 24\"\n",
              "       width=\"24px\">\n",
              "    <path d=\"M0 0h24v24H0V0z\" fill=\"none\"/>\n",
              "    <path d=\"M18.56 5.44l.94 2.06.94-2.06 2.06-.94-2.06-.94-.94-2.06-.94 2.06-2.06.94zm-11 1L8.5 8.5l.94-2.06 2.06-.94-2.06-.94L8.5 2.5l-.94 2.06-2.06.94zm10 10l.94 2.06.94-2.06 2.06-.94-2.06-.94-.94-2.06-.94 2.06-2.06.94z\"/><path d=\"M17.41 7.96l-1.37-1.37c-.4-.4-.92-.59-1.43-.59-.52 0-1.04.2-1.43.59L10.3 9.45l-7.72 7.72c-.78.78-.78 2.05 0 2.83L4 21.41c.39.39.9.59 1.41.59.51 0 1.02-.2 1.41-.59l7.78-7.78 2.81-2.81c.8-.78.8-2.07 0-2.86zM5.41 20L4 18.59l7.72-7.72 1.47 1.35L5.41 20z\"/>\n",
              "  </svg>\n",
              "      </button>\n",
              "      \n",
              "  <style>\n",
              "    .colab-df-container {\n",
              "      display:flex;\n",
              "      flex-wrap:wrap;\n",
              "      gap: 12px;\n",
              "    }\n",
              "\n",
              "    .colab-df-convert {\n",
              "      background-color: #E8F0FE;\n",
              "      border: none;\n",
              "      border-radius: 50%;\n",
              "      cursor: pointer;\n",
              "      display: none;\n",
              "      fill: #1967D2;\n",
              "      height: 32px;\n",
              "      padding: 0 0 0 0;\n",
              "      width: 32px;\n",
              "    }\n",
              "\n",
              "    .colab-df-convert:hover {\n",
              "      background-color: #E2EBFA;\n",
              "      box-shadow: 0px 1px 2px rgba(60, 64, 67, 0.3), 0px 1px 3px 1px rgba(60, 64, 67, 0.15);\n",
              "      fill: #174EA6;\n",
              "    }\n",
              "\n",
              "    [theme=dark] .colab-df-convert {\n",
              "      background-color: #3B4455;\n",
              "      fill: #D2E3FC;\n",
              "    }\n",
              "\n",
              "    [theme=dark] .colab-df-convert:hover {\n",
              "      background-color: #434B5C;\n",
              "      box-shadow: 0px 1px 3px 1px rgba(0, 0, 0, 0.15);\n",
              "      filter: drop-shadow(0px 1px 2px rgba(0, 0, 0, 0.3));\n",
              "      fill: #FFFFFF;\n",
              "    }\n",
              "  </style>\n",
              "\n",
              "      <script>\n",
              "        const buttonEl =\n",
              "          document.querySelector('#df-ea2dbf6c-1a2c-4533-9ab2-b008c6fcf8ef button.colab-df-convert');\n",
              "        buttonEl.style.display =\n",
              "          google.colab.kernel.accessAllowed ? 'block' : 'none';\n",
              "\n",
              "        async function convertToInteractive(key) {\n",
              "          const element = document.querySelector('#df-ea2dbf6c-1a2c-4533-9ab2-b008c6fcf8ef');\n",
              "          const dataTable =\n",
              "            await google.colab.kernel.invokeFunction('convertToInteractive',\n",
              "                                                     [key], {});\n",
              "          if (!dataTable) return;\n",
              "\n",
              "          const docLinkHtml = 'Like what you see? Visit the ' +\n",
              "            '<a target=\"_blank\" href=https://colab.research.google.com/notebooks/data_table.ipynb>data table notebook</a>'\n",
              "            + ' to learn more about interactive tables.';\n",
              "          element.innerHTML = '';\n",
              "          dataTable['output_type'] = 'display_data';\n",
              "          await google.colab.output.renderOutput(dataTable, element);\n",
              "          const docLink = document.createElement('div');\n",
              "          docLink.innerHTML = docLinkHtml;\n",
              "          element.appendChild(docLink);\n",
              "        }\n",
              "      </script>\n",
              "    </div>\n",
              "  </div>\n",
              "  "
            ]
          },
          "metadata": {},
          "execution_count": 17
        }
      ]
    },
    {
      "cell_type": "markdown",
      "source": [
        "Findings : Some set of duplicate records have same values in all variables. Some set have different values, which are NaN values.\n",
        "\n",
        "It is better to drop records which have more NaN values in other fields.\n",
        "To achieve this let's follow the below steps\n",
        "1. Identify the duplicate records. Identify both the records where the data is matching.\n",
        "2. Count the NaN values in each variable for a record and put this number in a new variable null_count.\n",
        "3. Sort the dataset in ascending order of null_count, Loan_ID.\n",
        "Records which have least number of null variables will come first and records with most number of null variables will come later.\n",
        "4. Identify and delete the second occurence of the duplicate. It will delete the rows having more number of null values."
      ],
      "metadata": {
        "id": "46tw-5JthOdF"
      }
    },
    {
      "cell_type": "code",
      "source": [
        "credit_data['Loan ID'].duplicated().value_counts()\n",
        "# We have 82000 unique and 18000 duplicate values of Loan ID"
      ],
      "metadata": {
        "colab": {
          "base_uri": "https://localhost:8080/"
        },
        "id": "NzTRoccjfiiB",
        "outputId": "2f98d1a2-7db3-4455-fa2c-cae40a0dac0c"
      },
      "execution_count": 18,
      "outputs": [
        {
          "output_type": "execute_result",
          "data": {
            "text/plain": [
              "False    81999\n",
              "True     18001\n",
              "Name: Loan ID, dtype: int64"
            ]
          },
          "metadata": {},
          "execution_count": 18
        }
      ]
    },
    {
      "cell_type": "code",
      "source": [
        "# Get the count of null values in each record\n",
        "credit_data['null_count'] = credit_data.isnull().sum(axis=1)\n",
        "credit_data"
      ],
      "metadata": {
        "colab": {
          "base_uri": "https://localhost:8080/",
          "height": 1000
        },
        "id": "DT-TQ5kglLtY",
        "outputId": "2e9ea429-9125-4fbf-bcbe-d9b7119f1470"
      },
      "execution_count": 19,
      "outputs": [
        {
          "output_type": "execute_result",
          "data": {
            "text/plain": [
              "                                    Loan ID  \\\n",
              "0      14dd8831-6af5-400b-83ec-68e61888a048   \n",
              "1      4771cc26-131a-45db-b5aa-537ea4ba5342   \n",
              "2      4eed4e6a-aa2f-4c91-8651-ce984ee8fb26   \n",
              "3      77598f7b-32e7-4e3b-a6e5-06ba0d98fe8a   \n",
              "4      d4062e70-befa-4995-8643-a0de73938182   \n",
              "...                                     ...   \n",
              "99995  3f94c18c-ba8f-45d0-8610-88a684a410a9   \n",
              "99996  06eba04f-58fc-424a-b666-ed72aa008900   \n",
              "99997  e1cb4050-eff5-4bdb-a1b0-aabd3f7eaac7   \n",
              "99998  81ab928b-d1a5-4523-9a3c-271ebb01b4fb   \n",
              "99999  c63916c6-6d46-47a9-949a-51d09af4414f   \n",
              "\n",
              "                                Customer ID Loan Status  Current Loan Amount  \\\n",
              "0      981165ec-3274-42f5-a3b4-d104041a9ca9  Fully Paid             445412.0   \n",
              "1      2de017a3-2e01-49cb-a581-08169e83be29  Fully Paid             262328.0   \n",
              "2      5efb2b2b-bf11-4dfd-a572-3761a2694725  Fully Paid           99999999.0   \n",
              "3      e777faab-98ae-45af-9a86-7ce5b33b1011  Fully Paid             347666.0   \n",
              "4      81536ad9-5ccf-4eb8-befb-47a4d608658e  Fully Paid             176220.0   \n",
              "...                                     ...         ...                  ...   \n",
              "99995  2da51983-cfef-4b8f-a733-5dfaf69e9281  Fully Paid             147070.0   \n",
              "99996  77f2252a-b7d1-4b07-a746-1202a8304290  Fully Paid           99999999.0   \n",
              "99997  2ced5f10-bd60-4a11-9134-cadce4e7b0a3  Fully Paid             103136.0   \n",
              "99998  3e45ffda-99fd-4cfc-b8b8-446f4a505f36  Fully Paid             530332.0   \n",
              "99999  1b3014be-5c07-4d41-abe7-44573c375886  Fully Paid           99999999.0   \n",
              "\n",
              "             Term  Credit Score  Annual Income Years in current job  \\\n",
              "0      Short Term         709.0      1167493.0              8 years   \n",
              "1      Short Term           NaN            NaN            10+ years   \n",
              "2      Short Term         741.0      2231892.0              8 years   \n",
              "3       Long Term         721.0       806949.0              3 years   \n",
              "4      Short Term           NaN            NaN              5 years   \n",
              "...           ...           ...            ...                  ...   \n",
              "99995  Short Term         725.0       475437.0              7 years   \n",
              "99996  Short Term         732.0      1289416.0               1 year   \n",
              "99997  Short Term         742.0      1150545.0              6 years   \n",
              "99998  Short Term         746.0      1717524.0              9 years   \n",
              "99999  Short Term         743.0       935180.0                  NaN   \n",
              "\n",
              "      Home Ownership             Purpose  Monthly Debt  \\\n",
              "0      Home Mortgage   Home Improvements       5214.74   \n",
              "1      Home Mortgage  Debt Consolidation      33295.98   \n",
              "2           Own Home  Debt Consolidation      29200.53   \n",
              "3           Own Home  Debt Consolidation       8741.90   \n",
              "4               Rent  Debt Consolidation      20639.70   \n",
              "...              ...                 ...           ...   \n",
              "99995       Own Home               other       2202.86   \n",
              "99996           Rent  Debt Consolidation      13109.05   \n",
              "99997           Rent  Debt Consolidation       7315.57   \n",
              "99998           Rent  Debt Consolidation       9890.07   \n",
              "99999       Own Home  Debt Consolidation       9118.10   \n",
              "\n",
              "       Years of Credit History  Months since last delinquent  \\\n",
              "0                         17.2                           NaN   \n",
              "1                         21.1                           8.0   \n",
              "2                         14.9                          29.0   \n",
              "3                         12.0                           NaN   \n",
              "4                          6.1                           NaN   \n",
              "...                        ...                           ...   \n",
              "99995                     22.3                           NaN   \n",
              "99996                      9.4                          21.0   \n",
              "99997                     18.8                          18.0   \n",
              "99998                     15.0                           NaN   \n",
              "99999                     13.0                           NaN   \n",
              "\n",
              "       Number of Open Accounts  Number of Credit Problems  \\\n",
              "0                          6.0                        1.0   \n",
              "1                         35.0                        0.0   \n",
              "2                         18.0                        1.0   \n",
              "3                          9.0                        0.0   \n",
              "4                         15.0                        0.0   \n",
              "...                        ...                        ...   \n",
              "99995                      5.0                        0.0   \n",
              "99996                     22.0                        0.0   \n",
              "99997                     12.0                        1.0   \n",
              "99998                      8.0                        0.0   \n",
              "99999                      4.0                        1.0   \n",
              "\n",
              "       Current Credit Balance  Maximum Open Credit  Bankruptcies  Tax Liens  \\\n",
              "0                    228190.0             416746.0           1.0        0.0   \n",
              "1                    229976.0             850784.0           0.0        0.0   \n",
              "2                    297996.0             750090.0           0.0        0.0   \n",
              "3                    256329.0             386958.0           0.0        0.0   \n",
              "4                    253460.0             427174.0           0.0        0.0   \n",
              "...                       ...                  ...           ...        ...   \n",
              "99995                 47766.0             658548.0           0.0        0.0   \n",
              "99996                153045.0             509234.0           0.0        0.0   \n",
              "99997                109554.0             537548.0           1.0        0.0   \n",
              "99998                404225.0             738254.0           0.0        0.0   \n",
              "99999                 45600.0              91014.0           1.0        0.0   \n",
              "\n",
              "       null_count  \n",
              "0               1  \n",
              "1               2  \n",
              "2               0  \n",
              "3               1  \n",
              "4               3  \n",
              "...           ...  \n",
              "99995           1  \n",
              "99996           0  \n",
              "99997           0  \n",
              "99998           1  \n",
              "99999           2  \n",
              "\n",
              "[100000 rows x 20 columns]"
            ],
            "text/html": [
              "\n",
              "  <div id=\"df-2141afc8-5ddb-43f3-9464-fb0d34090c7a\">\n",
              "    <div class=\"colab-df-container\">\n",
              "      <div>\n",
              "<style scoped>\n",
              "    .dataframe tbody tr th:only-of-type {\n",
              "        vertical-align: middle;\n",
              "    }\n",
              "\n",
              "    .dataframe tbody tr th {\n",
              "        vertical-align: top;\n",
              "    }\n",
              "\n",
              "    .dataframe thead th {\n",
              "        text-align: right;\n",
              "    }\n",
              "</style>\n",
              "<table border=\"1\" class=\"dataframe\">\n",
              "  <thead>\n",
              "    <tr style=\"text-align: right;\">\n",
              "      <th></th>\n",
              "      <th>Loan ID</th>\n",
              "      <th>Customer ID</th>\n",
              "      <th>Loan Status</th>\n",
              "      <th>Current Loan Amount</th>\n",
              "      <th>Term</th>\n",
              "      <th>Credit Score</th>\n",
              "      <th>Annual Income</th>\n",
              "      <th>Years in current job</th>\n",
              "      <th>Home Ownership</th>\n",
              "      <th>Purpose</th>\n",
              "      <th>Monthly Debt</th>\n",
              "      <th>Years of Credit History</th>\n",
              "      <th>Months since last delinquent</th>\n",
              "      <th>Number of Open Accounts</th>\n",
              "      <th>Number of Credit Problems</th>\n",
              "      <th>Current Credit Balance</th>\n",
              "      <th>Maximum Open Credit</th>\n",
              "      <th>Bankruptcies</th>\n",
              "      <th>Tax Liens</th>\n",
              "      <th>null_count</th>\n",
              "    </tr>\n",
              "  </thead>\n",
              "  <tbody>\n",
              "    <tr>\n",
              "      <th>0</th>\n",
              "      <td>14dd8831-6af5-400b-83ec-68e61888a048</td>\n",
              "      <td>981165ec-3274-42f5-a3b4-d104041a9ca9</td>\n",
              "      <td>Fully Paid</td>\n",
              "      <td>445412.0</td>\n",
              "      <td>Short Term</td>\n",
              "      <td>709.0</td>\n",
              "      <td>1167493.0</td>\n",
              "      <td>8 years</td>\n",
              "      <td>Home Mortgage</td>\n",
              "      <td>Home Improvements</td>\n",
              "      <td>5214.74</td>\n",
              "      <td>17.2</td>\n",
              "      <td>NaN</td>\n",
              "      <td>6.0</td>\n",
              "      <td>1.0</td>\n",
              "      <td>228190.0</td>\n",
              "      <td>416746.0</td>\n",
              "      <td>1.0</td>\n",
              "      <td>0.0</td>\n",
              "      <td>1</td>\n",
              "    </tr>\n",
              "    <tr>\n",
              "      <th>1</th>\n",
              "      <td>4771cc26-131a-45db-b5aa-537ea4ba5342</td>\n",
              "      <td>2de017a3-2e01-49cb-a581-08169e83be29</td>\n",
              "      <td>Fully Paid</td>\n",
              "      <td>262328.0</td>\n",
              "      <td>Short Term</td>\n",
              "      <td>NaN</td>\n",
              "      <td>NaN</td>\n",
              "      <td>10+ years</td>\n",
              "      <td>Home Mortgage</td>\n",
              "      <td>Debt Consolidation</td>\n",
              "      <td>33295.98</td>\n",
              "      <td>21.1</td>\n",
              "      <td>8.0</td>\n",
              "      <td>35.0</td>\n",
              "      <td>0.0</td>\n",
              "      <td>229976.0</td>\n",
              "      <td>850784.0</td>\n",
              "      <td>0.0</td>\n",
              "      <td>0.0</td>\n",
              "      <td>2</td>\n",
              "    </tr>\n",
              "    <tr>\n",
              "      <th>2</th>\n",
              "      <td>4eed4e6a-aa2f-4c91-8651-ce984ee8fb26</td>\n",
              "      <td>5efb2b2b-bf11-4dfd-a572-3761a2694725</td>\n",
              "      <td>Fully Paid</td>\n",
              "      <td>99999999.0</td>\n",
              "      <td>Short Term</td>\n",
              "      <td>741.0</td>\n",
              "      <td>2231892.0</td>\n",
              "      <td>8 years</td>\n",
              "      <td>Own Home</td>\n",
              "      <td>Debt Consolidation</td>\n",
              "      <td>29200.53</td>\n",
              "      <td>14.9</td>\n",
              "      <td>29.0</td>\n",
              "      <td>18.0</td>\n",
              "      <td>1.0</td>\n",
              "      <td>297996.0</td>\n",
              "      <td>750090.0</td>\n",
              "      <td>0.0</td>\n",
              "      <td>0.0</td>\n",
              "      <td>0</td>\n",
              "    </tr>\n",
              "    <tr>\n",
              "      <th>3</th>\n",
              "      <td>77598f7b-32e7-4e3b-a6e5-06ba0d98fe8a</td>\n",
              "      <td>e777faab-98ae-45af-9a86-7ce5b33b1011</td>\n",
              "      <td>Fully Paid</td>\n",
              "      <td>347666.0</td>\n",
              "      <td>Long Term</td>\n",
              "      <td>721.0</td>\n",
              "      <td>806949.0</td>\n",
              "      <td>3 years</td>\n",
              "      <td>Own Home</td>\n",
              "      <td>Debt Consolidation</td>\n",
              "      <td>8741.90</td>\n",
              "      <td>12.0</td>\n",
              "      <td>NaN</td>\n",
              "      <td>9.0</td>\n",
              "      <td>0.0</td>\n",
              "      <td>256329.0</td>\n",
              "      <td>386958.0</td>\n",
              "      <td>0.0</td>\n",
              "      <td>0.0</td>\n",
              "      <td>1</td>\n",
              "    </tr>\n",
              "    <tr>\n",
              "      <th>4</th>\n",
              "      <td>d4062e70-befa-4995-8643-a0de73938182</td>\n",
              "      <td>81536ad9-5ccf-4eb8-befb-47a4d608658e</td>\n",
              "      <td>Fully Paid</td>\n",
              "      <td>176220.0</td>\n",
              "      <td>Short Term</td>\n",
              "      <td>NaN</td>\n",
              "      <td>NaN</td>\n",
              "      <td>5 years</td>\n",
              "      <td>Rent</td>\n",
              "      <td>Debt Consolidation</td>\n",
              "      <td>20639.70</td>\n",
              "      <td>6.1</td>\n",
              "      <td>NaN</td>\n",
              "      <td>15.0</td>\n",
              "      <td>0.0</td>\n",
              "      <td>253460.0</td>\n",
              "      <td>427174.0</td>\n",
              "      <td>0.0</td>\n",
              "      <td>0.0</td>\n",
              "      <td>3</td>\n",
              "    </tr>\n",
              "    <tr>\n",
              "      <th>...</th>\n",
              "      <td>...</td>\n",
              "      <td>...</td>\n",
              "      <td>...</td>\n",
              "      <td>...</td>\n",
              "      <td>...</td>\n",
              "      <td>...</td>\n",
              "      <td>...</td>\n",
              "      <td>...</td>\n",
              "      <td>...</td>\n",
              "      <td>...</td>\n",
              "      <td>...</td>\n",
              "      <td>...</td>\n",
              "      <td>...</td>\n",
              "      <td>...</td>\n",
              "      <td>...</td>\n",
              "      <td>...</td>\n",
              "      <td>...</td>\n",
              "      <td>...</td>\n",
              "      <td>...</td>\n",
              "      <td>...</td>\n",
              "    </tr>\n",
              "    <tr>\n",
              "      <th>99995</th>\n",
              "      <td>3f94c18c-ba8f-45d0-8610-88a684a410a9</td>\n",
              "      <td>2da51983-cfef-4b8f-a733-5dfaf69e9281</td>\n",
              "      <td>Fully Paid</td>\n",
              "      <td>147070.0</td>\n",
              "      <td>Short Term</td>\n",
              "      <td>725.0</td>\n",
              "      <td>475437.0</td>\n",
              "      <td>7 years</td>\n",
              "      <td>Own Home</td>\n",
              "      <td>other</td>\n",
              "      <td>2202.86</td>\n",
              "      <td>22.3</td>\n",
              "      <td>NaN</td>\n",
              "      <td>5.0</td>\n",
              "      <td>0.0</td>\n",
              "      <td>47766.0</td>\n",
              "      <td>658548.0</td>\n",
              "      <td>0.0</td>\n",
              "      <td>0.0</td>\n",
              "      <td>1</td>\n",
              "    </tr>\n",
              "    <tr>\n",
              "      <th>99996</th>\n",
              "      <td>06eba04f-58fc-424a-b666-ed72aa008900</td>\n",
              "      <td>77f2252a-b7d1-4b07-a746-1202a8304290</td>\n",
              "      <td>Fully Paid</td>\n",
              "      <td>99999999.0</td>\n",
              "      <td>Short Term</td>\n",
              "      <td>732.0</td>\n",
              "      <td>1289416.0</td>\n",
              "      <td>1 year</td>\n",
              "      <td>Rent</td>\n",
              "      <td>Debt Consolidation</td>\n",
              "      <td>13109.05</td>\n",
              "      <td>9.4</td>\n",
              "      <td>21.0</td>\n",
              "      <td>22.0</td>\n",
              "      <td>0.0</td>\n",
              "      <td>153045.0</td>\n",
              "      <td>509234.0</td>\n",
              "      <td>0.0</td>\n",
              "      <td>0.0</td>\n",
              "      <td>0</td>\n",
              "    </tr>\n",
              "    <tr>\n",
              "      <th>99997</th>\n",
              "      <td>e1cb4050-eff5-4bdb-a1b0-aabd3f7eaac7</td>\n",
              "      <td>2ced5f10-bd60-4a11-9134-cadce4e7b0a3</td>\n",
              "      <td>Fully Paid</td>\n",
              "      <td>103136.0</td>\n",
              "      <td>Short Term</td>\n",
              "      <td>742.0</td>\n",
              "      <td>1150545.0</td>\n",
              "      <td>6 years</td>\n",
              "      <td>Rent</td>\n",
              "      <td>Debt Consolidation</td>\n",
              "      <td>7315.57</td>\n",
              "      <td>18.8</td>\n",
              "      <td>18.0</td>\n",
              "      <td>12.0</td>\n",
              "      <td>1.0</td>\n",
              "      <td>109554.0</td>\n",
              "      <td>537548.0</td>\n",
              "      <td>1.0</td>\n",
              "      <td>0.0</td>\n",
              "      <td>0</td>\n",
              "    </tr>\n",
              "    <tr>\n",
              "      <th>99998</th>\n",
              "      <td>81ab928b-d1a5-4523-9a3c-271ebb01b4fb</td>\n",
              "      <td>3e45ffda-99fd-4cfc-b8b8-446f4a505f36</td>\n",
              "      <td>Fully Paid</td>\n",
              "      <td>530332.0</td>\n",
              "      <td>Short Term</td>\n",
              "      <td>746.0</td>\n",
              "      <td>1717524.0</td>\n",
              "      <td>9 years</td>\n",
              "      <td>Rent</td>\n",
              "      <td>Debt Consolidation</td>\n",
              "      <td>9890.07</td>\n",
              "      <td>15.0</td>\n",
              "      <td>NaN</td>\n",
              "      <td>8.0</td>\n",
              "      <td>0.0</td>\n",
              "      <td>404225.0</td>\n",
              "      <td>738254.0</td>\n",
              "      <td>0.0</td>\n",
              "      <td>0.0</td>\n",
              "      <td>1</td>\n",
              "    </tr>\n",
              "    <tr>\n",
              "      <th>99999</th>\n",
              "      <td>c63916c6-6d46-47a9-949a-51d09af4414f</td>\n",
              "      <td>1b3014be-5c07-4d41-abe7-44573c375886</td>\n",
              "      <td>Fully Paid</td>\n",
              "      <td>99999999.0</td>\n",
              "      <td>Short Term</td>\n",
              "      <td>743.0</td>\n",
              "      <td>935180.0</td>\n",
              "      <td>NaN</td>\n",
              "      <td>Own Home</td>\n",
              "      <td>Debt Consolidation</td>\n",
              "      <td>9118.10</td>\n",
              "      <td>13.0</td>\n",
              "      <td>NaN</td>\n",
              "      <td>4.0</td>\n",
              "      <td>1.0</td>\n",
              "      <td>45600.0</td>\n",
              "      <td>91014.0</td>\n",
              "      <td>1.0</td>\n",
              "      <td>0.0</td>\n",
              "      <td>2</td>\n",
              "    </tr>\n",
              "  </tbody>\n",
              "</table>\n",
              "<p>100000 rows × 20 columns</p>\n",
              "</div>\n",
              "      <button class=\"colab-df-convert\" onclick=\"convertToInteractive('df-2141afc8-5ddb-43f3-9464-fb0d34090c7a')\"\n",
              "              title=\"Convert this dataframe to an interactive table.\"\n",
              "              style=\"display:none;\">\n",
              "        \n",
              "  <svg xmlns=\"http://www.w3.org/2000/svg\" height=\"24px\"viewBox=\"0 0 24 24\"\n",
              "       width=\"24px\">\n",
              "    <path d=\"M0 0h24v24H0V0z\" fill=\"none\"/>\n",
              "    <path d=\"M18.56 5.44l.94 2.06.94-2.06 2.06-.94-2.06-.94-.94-2.06-.94 2.06-2.06.94zm-11 1L8.5 8.5l.94-2.06 2.06-.94-2.06-.94L8.5 2.5l-.94 2.06-2.06.94zm10 10l.94 2.06.94-2.06 2.06-.94-2.06-.94-.94-2.06-.94 2.06-2.06.94z\"/><path d=\"M17.41 7.96l-1.37-1.37c-.4-.4-.92-.59-1.43-.59-.52 0-1.04.2-1.43.59L10.3 9.45l-7.72 7.72c-.78.78-.78 2.05 0 2.83L4 21.41c.39.39.9.59 1.41.59.51 0 1.02-.2 1.41-.59l7.78-7.78 2.81-2.81c.8-.78.8-2.07 0-2.86zM5.41 20L4 18.59l7.72-7.72 1.47 1.35L5.41 20z\"/>\n",
              "  </svg>\n",
              "      </button>\n",
              "      \n",
              "  <style>\n",
              "    .colab-df-container {\n",
              "      display:flex;\n",
              "      flex-wrap:wrap;\n",
              "      gap: 12px;\n",
              "    }\n",
              "\n",
              "    .colab-df-convert {\n",
              "      background-color: #E8F0FE;\n",
              "      border: none;\n",
              "      border-radius: 50%;\n",
              "      cursor: pointer;\n",
              "      display: none;\n",
              "      fill: #1967D2;\n",
              "      height: 32px;\n",
              "      padding: 0 0 0 0;\n",
              "      width: 32px;\n",
              "    }\n",
              "\n",
              "    .colab-df-convert:hover {\n",
              "      background-color: #E2EBFA;\n",
              "      box-shadow: 0px 1px 2px rgba(60, 64, 67, 0.3), 0px 1px 3px 1px rgba(60, 64, 67, 0.15);\n",
              "      fill: #174EA6;\n",
              "    }\n",
              "\n",
              "    [theme=dark] .colab-df-convert {\n",
              "      background-color: #3B4455;\n",
              "      fill: #D2E3FC;\n",
              "    }\n",
              "\n",
              "    [theme=dark] .colab-df-convert:hover {\n",
              "      background-color: #434B5C;\n",
              "      box-shadow: 0px 1px 3px 1px rgba(0, 0, 0, 0.15);\n",
              "      filter: drop-shadow(0px 1px 2px rgba(0, 0, 0, 0.3));\n",
              "      fill: #FFFFFF;\n",
              "    }\n",
              "  </style>\n",
              "\n",
              "      <script>\n",
              "        const buttonEl =\n",
              "          document.querySelector('#df-2141afc8-5ddb-43f3-9464-fb0d34090c7a button.colab-df-convert');\n",
              "        buttonEl.style.display =\n",
              "          google.colab.kernel.accessAllowed ? 'block' : 'none';\n",
              "\n",
              "        async function convertToInteractive(key) {\n",
              "          const element = document.querySelector('#df-2141afc8-5ddb-43f3-9464-fb0d34090c7a');\n",
              "          const dataTable =\n",
              "            await google.colab.kernel.invokeFunction('convertToInteractive',\n",
              "                                                     [key], {});\n",
              "          if (!dataTable) return;\n",
              "\n",
              "          const docLinkHtml = 'Like what you see? Visit the ' +\n",
              "            '<a target=\"_blank\" href=https://colab.research.google.com/notebooks/data_table.ipynb>data table notebook</a>'\n",
              "            + ' to learn more about interactive tables.';\n",
              "          element.innerHTML = '';\n",
              "          dataTable['output_type'] = 'display_data';\n",
              "          await google.colab.output.renderOutput(dataTable, element);\n",
              "          const docLink = document.createElement('div');\n",
              "          docLink.innerHTML = docLinkHtml;\n",
              "          element.appendChild(docLink);\n",
              "        }\n",
              "      </script>\n",
              "    </div>\n",
              "  </div>\n",
              "  "
            ]
          },
          "metadata": {},
          "execution_count": 19
        }
      ]
    },
    {
      "cell_type": "code",
      "source": [
        "# Sort the dataset \n",
        "credit_data.sort_values(by=['null_count','Loan ID'], inplace = True, ignore_index = True)"
      ],
      "metadata": {
        "id": "bBYjVo0hm1WG"
      },
      "execution_count": 20,
      "outputs": []
    },
    {
      "cell_type": "code",
      "source": [
        "# credit_data\n",
        "credit_data[credit_data['Loan ID']=='c568adaa-16f9-43d3-b522-8532fb57cb16']"
      ],
      "metadata": {
        "colab": {
          "base_uri": "https://localhost:8080/",
          "height": 332
        },
        "id": "Rl79CdZxnT86",
        "outputId": "3dd783e1-d646-455b-a4f8-1b13dc605d0d"
      },
      "execution_count": 21,
      "outputs": [
        {
          "output_type": "execute_result",
          "data": {
            "text/plain": [
              "                                    Loan ID  \\\n",
              "69262  c568adaa-16f9-43d3-b522-8532fb57cb16   \n",
              "97196  c568adaa-16f9-43d3-b522-8532fb57cb16   \n",
              "\n",
              "                                Customer ID Loan Status  Current Loan Amount  \\\n",
              "69262  cbb29fd6-e418-4f09-a4bd-4de83428caab  Fully Paid              48796.0   \n",
              "97196  cbb29fd6-e418-4f09-a4bd-4de83428caab  Fully Paid              48796.0   \n",
              "\n",
              "             Term  Credit Score  Annual Income Years in current job  \\\n",
              "69262  Short Term         724.0       431091.0              4 years   \n",
              "97196  Short Term           NaN            NaN              4 years   \n",
              "\n",
              "      Home Ownership         Purpose  Monthly Debt  Years of Credit History  \\\n",
              "69262  Home Mortgage  major_purchase       8298.63                      8.3   \n",
              "97196  Home Mortgage  major_purchase       8298.63                      8.3   \n",
              "\n",
              "       Months since last delinquent  Number of Open Accounts  \\\n",
              "69262                           NaN                      9.0   \n",
              "97196                           NaN                      9.0   \n",
              "\n",
              "       Number of Credit Problems  Current Credit Balance  Maximum Open Credit  \\\n",
              "69262                        0.0                 87875.0             239404.0   \n",
              "97196                        0.0                 87875.0             239404.0   \n",
              "\n",
              "       Bankruptcies  Tax Liens  null_count  \n",
              "69262           0.0        0.0           1  \n",
              "97196           0.0        0.0           3  "
            ],
            "text/html": [
              "\n",
              "  <div id=\"df-1e0a19af-a4b4-41b1-b679-0bdc60676c27\">\n",
              "    <div class=\"colab-df-container\">\n",
              "      <div>\n",
              "<style scoped>\n",
              "    .dataframe tbody tr th:only-of-type {\n",
              "        vertical-align: middle;\n",
              "    }\n",
              "\n",
              "    .dataframe tbody tr th {\n",
              "        vertical-align: top;\n",
              "    }\n",
              "\n",
              "    .dataframe thead th {\n",
              "        text-align: right;\n",
              "    }\n",
              "</style>\n",
              "<table border=\"1\" class=\"dataframe\">\n",
              "  <thead>\n",
              "    <tr style=\"text-align: right;\">\n",
              "      <th></th>\n",
              "      <th>Loan ID</th>\n",
              "      <th>Customer ID</th>\n",
              "      <th>Loan Status</th>\n",
              "      <th>Current Loan Amount</th>\n",
              "      <th>Term</th>\n",
              "      <th>Credit Score</th>\n",
              "      <th>Annual Income</th>\n",
              "      <th>Years in current job</th>\n",
              "      <th>Home Ownership</th>\n",
              "      <th>Purpose</th>\n",
              "      <th>Monthly Debt</th>\n",
              "      <th>Years of Credit History</th>\n",
              "      <th>Months since last delinquent</th>\n",
              "      <th>Number of Open Accounts</th>\n",
              "      <th>Number of Credit Problems</th>\n",
              "      <th>Current Credit Balance</th>\n",
              "      <th>Maximum Open Credit</th>\n",
              "      <th>Bankruptcies</th>\n",
              "      <th>Tax Liens</th>\n",
              "      <th>null_count</th>\n",
              "    </tr>\n",
              "  </thead>\n",
              "  <tbody>\n",
              "    <tr>\n",
              "      <th>69262</th>\n",
              "      <td>c568adaa-16f9-43d3-b522-8532fb57cb16</td>\n",
              "      <td>cbb29fd6-e418-4f09-a4bd-4de83428caab</td>\n",
              "      <td>Fully Paid</td>\n",
              "      <td>48796.0</td>\n",
              "      <td>Short Term</td>\n",
              "      <td>724.0</td>\n",
              "      <td>431091.0</td>\n",
              "      <td>4 years</td>\n",
              "      <td>Home Mortgage</td>\n",
              "      <td>major_purchase</td>\n",
              "      <td>8298.63</td>\n",
              "      <td>8.3</td>\n",
              "      <td>NaN</td>\n",
              "      <td>9.0</td>\n",
              "      <td>0.0</td>\n",
              "      <td>87875.0</td>\n",
              "      <td>239404.0</td>\n",
              "      <td>0.0</td>\n",
              "      <td>0.0</td>\n",
              "      <td>1</td>\n",
              "    </tr>\n",
              "    <tr>\n",
              "      <th>97196</th>\n",
              "      <td>c568adaa-16f9-43d3-b522-8532fb57cb16</td>\n",
              "      <td>cbb29fd6-e418-4f09-a4bd-4de83428caab</td>\n",
              "      <td>Fully Paid</td>\n",
              "      <td>48796.0</td>\n",
              "      <td>Short Term</td>\n",
              "      <td>NaN</td>\n",
              "      <td>NaN</td>\n",
              "      <td>4 years</td>\n",
              "      <td>Home Mortgage</td>\n",
              "      <td>major_purchase</td>\n",
              "      <td>8298.63</td>\n",
              "      <td>8.3</td>\n",
              "      <td>NaN</td>\n",
              "      <td>9.0</td>\n",
              "      <td>0.0</td>\n",
              "      <td>87875.0</td>\n",
              "      <td>239404.0</td>\n",
              "      <td>0.0</td>\n",
              "      <td>0.0</td>\n",
              "      <td>3</td>\n",
              "    </tr>\n",
              "  </tbody>\n",
              "</table>\n",
              "</div>\n",
              "      <button class=\"colab-df-convert\" onclick=\"convertToInteractive('df-1e0a19af-a4b4-41b1-b679-0bdc60676c27')\"\n",
              "              title=\"Convert this dataframe to an interactive table.\"\n",
              "              style=\"display:none;\">\n",
              "        \n",
              "  <svg xmlns=\"http://www.w3.org/2000/svg\" height=\"24px\"viewBox=\"0 0 24 24\"\n",
              "       width=\"24px\">\n",
              "    <path d=\"M0 0h24v24H0V0z\" fill=\"none\"/>\n",
              "    <path d=\"M18.56 5.44l.94 2.06.94-2.06 2.06-.94-2.06-.94-.94-2.06-.94 2.06-2.06.94zm-11 1L8.5 8.5l.94-2.06 2.06-.94-2.06-.94L8.5 2.5l-.94 2.06-2.06.94zm10 10l.94 2.06.94-2.06 2.06-.94-2.06-.94-.94-2.06-.94 2.06-2.06.94z\"/><path d=\"M17.41 7.96l-1.37-1.37c-.4-.4-.92-.59-1.43-.59-.52 0-1.04.2-1.43.59L10.3 9.45l-7.72 7.72c-.78.78-.78 2.05 0 2.83L4 21.41c.39.39.9.59 1.41.59.51 0 1.02-.2 1.41-.59l7.78-7.78 2.81-2.81c.8-.78.8-2.07 0-2.86zM5.41 20L4 18.59l7.72-7.72 1.47 1.35L5.41 20z\"/>\n",
              "  </svg>\n",
              "      </button>\n",
              "      \n",
              "  <style>\n",
              "    .colab-df-container {\n",
              "      display:flex;\n",
              "      flex-wrap:wrap;\n",
              "      gap: 12px;\n",
              "    }\n",
              "\n",
              "    .colab-df-convert {\n",
              "      background-color: #E8F0FE;\n",
              "      border: none;\n",
              "      border-radius: 50%;\n",
              "      cursor: pointer;\n",
              "      display: none;\n",
              "      fill: #1967D2;\n",
              "      height: 32px;\n",
              "      padding: 0 0 0 0;\n",
              "      width: 32px;\n",
              "    }\n",
              "\n",
              "    .colab-df-convert:hover {\n",
              "      background-color: #E2EBFA;\n",
              "      box-shadow: 0px 1px 2px rgba(60, 64, 67, 0.3), 0px 1px 3px 1px rgba(60, 64, 67, 0.15);\n",
              "      fill: #174EA6;\n",
              "    }\n",
              "\n",
              "    [theme=dark] .colab-df-convert {\n",
              "      background-color: #3B4455;\n",
              "      fill: #D2E3FC;\n",
              "    }\n",
              "\n",
              "    [theme=dark] .colab-df-convert:hover {\n",
              "      background-color: #434B5C;\n",
              "      box-shadow: 0px 1px 3px 1px rgba(0, 0, 0, 0.15);\n",
              "      filter: drop-shadow(0px 1px 2px rgba(0, 0, 0, 0.3));\n",
              "      fill: #FFFFFF;\n",
              "    }\n",
              "  </style>\n",
              "\n",
              "      <script>\n",
              "        const buttonEl =\n",
              "          document.querySelector('#df-1e0a19af-a4b4-41b1-b679-0bdc60676c27 button.colab-df-convert');\n",
              "        buttonEl.style.display =\n",
              "          google.colab.kernel.accessAllowed ? 'block' : 'none';\n",
              "\n",
              "        async function convertToInteractive(key) {\n",
              "          const element = document.querySelector('#df-1e0a19af-a4b4-41b1-b679-0bdc60676c27');\n",
              "          const dataTable =\n",
              "            await google.colab.kernel.invokeFunction('convertToInteractive',\n",
              "                                                     [key], {});\n",
              "          if (!dataTable) return;\n",
              "\n",
              "          const docLinkHtml = 'Like what you see? Visit the ' +\n",
              "            '<a target=\"_blank\" href=https://colab.research.google.com/notebooks/data_table.ipynb>data table notebook</a>'\n",
              "            + ' to learn more about interactive tables.';\n",
              "          element.innerHTML = '';\n",
              "          dataTable['output_type'] = 'display_data';\n",
              "          await google.colab.output.renderOutput(dataTable, element);\n",
              "          const docLink = document.createElement('div');\n",
              "          docLink.innerHTML = docLinkHtml;\n",
              "          element.appendChild(docLink);\n",
              "        }\n",
              "      </script>\n",
              "    </div>\n",
              "  </div>\n",
              "  "
            ]
          },
          "metadata": {},
          "execution_count": 21
        }
      ]
    },
    {
      "cell_type": "code",
      "source": [
        "credit_data[credit_data['Loan ID']=='8506a4e9-af7d-47d2-a1bf-7ea2c41858f0']"
      ],
      "metadata": {
        "colab": {
          "base_uri": "https://localhost:8080/",
          "height": 332
        },
        "id": "uBpGU6aHo3gt",
        "outputId": "0781e5e0-2b7f-4c25-f411-76b30a6e54e3"
      },
      "execution_count": 22,
      "outputs": [
        {
          "output_type": "execute_result",
          "data": {
            "text/plain": [
              "                                    Loan ID  \\\n",
              "18941  8506a4e9-af7d-47d2-a1bf-7ea2c41858f0   \n",
              "84287  8506a4e9-af7d-47d2-a1bf-7ea2c41858f0   \n",
              "\n",
              "                                Customer ID Loan Status  Current Loan Amount  \\\n",
              "18941  be67200e-1ef1-4b63-86a6-2bf27d3c704d  Fully Paid             210584.0   \n",
              "84287  be67200e-1ef1-4b63-86a6-2bf27d3c704d  Fully Paid             210584.0   \n",
              "\n",
              "             Term  Credit Score  Annual Income Years in current job  \\\n",
              "18941  Short Term         719.0       783389.0               1 year   \n",
              "84287  Short Term           NaN            NaN               1 year   \n",
              "\n",
              "      Home Ownership Purpose  Monthly Debt  Years of Credit History  \\\n",
              "18941  Home Mortgage   Other       3727.61                     17.4   \n",
              "84287  Home Mortgage   Other       3727.61                     17.4   \n",
              "\n",
              "       Months since last delinquent  Number of Open Accounts  \\\n",
              "18941                          18.0                      6.0   \n",
              "84287                          18.0                      6.0   \n",
              "\n",
              "       Number of Credit Problems  Current Credit Balance  Maximum Open Credit  \\\n",
              "18941                        0.0                   456.0             259160.0   \n",
              "84287                        0.0                   456.0             259160.0   \n",
              "\n",
              "       Bankruptcies  Tax Liens  null_count  \n",
              "18941           0.0        0.0           0  \n",
              "84287           0.0        0.0           2  "
            ],
            "text/html": [
              "\n",
              "  <div id=\"df-bf4d1c86-63e0-4335-9452-1d8b6154eb22\">\n",
              "    <div class=\"colab-df-container\">\n",
              "      <div>\n",
              "<style scoped>\n",
              "    .dataframe tbody tr th:only-of-type {\n",
              "        vertical-align: middle;\n",
              "    }\n",
              "\n",
              "    .dataframe tbody tr th {\n",
              "        vertical-align: top;\n",
              "    }\n",
              "\n",
              "    .dataframe thead th {\n",
              "        text-align: right;\n",
              "    }\n",
              "</style>\n",
              "<table border=\"1\" class=\"dataframe\">\n",
              "  <thead>\n",
              "    <tr style=\"text-align: right;\">\n",
              "      <th></th>\n",
              "      <th>Loan ID</th>\n",
              "      <th>Customer ID</th>\n",
              "      <th>Loan Status</th>\n",
              "      <th>Current Loan Amount</th>\n",
              "      <th>Term</th>\n",
              "      <th>Credit Score</th>\n",
              "      <th>Annual Income</th>\n",
              "      <th>Years in current job</th>\n",
              "      <th>Home Ownership</th>\n",
              "      <th>Purpose</th>\n",
              "      <th>Monthly Debt</th>\n",
              "      <th>Years of Credit History</th>\n",
              "      <th>Months since last delinquent</th>\n",
              "      <th>Number of Open Accounts</th>\n",
              "      <th>Number of Credit Problems</th>\n",
              "      <th>Current Credit Balance</th>\n",
              "      <th>Maximum Open Credit</th>\n",
              "      <th>Bankruptcies</th>\n",
              "      <th>Tax Liens</th>\n",
              "      <th>null_count</th>\n",
              "    </tr>\n",
              "  </thead>\n",
              "  <tbody>\n",
              "    <tr>\n",
              "      <th>18941</th>\n",
              "      <td>8506a4e9-af7d-47d2-a1bf-7ea2c41858f0</td>\n",
              "      <td>be67200e-1ef1-4b63-86a6-2bf27d3c704d</td>\n",
              "      <td>Fully Paid</td>\n",
              "      <td>210584.0</td>\n",
              "      <td>Short Term</td>\n",
              "      <td>719.0</td>\n",
              "      <td>783389.0</td>\n",
              "      <td>1 year</td>\n",
              "      <td>Home Mortgage</td>\n",
              "      <td>Other</td>\n",
              "      <td>3727.61</td>\n",
              "      <td>17.4</td>\n",
              "      <td>18.0</td>\n",
              "      <td>6.0</td>\n",
              "      <td>0.0</td>\n",
              "      <td>456.0</td>\n",
              "      <td>259160.0</td>\n",
              "      <td>0.0</td>\n",
              "      <td>0.0</td>\n",
              "      <td>0</td>\n",
              "    </tr>\n",
              "    <tr>\n",
              "      <th>84287</th>\n",
              "      <td>8506a4e9-af7d-47d2-a1bf-7ea2c41858f0</td>\n",
              "      <td>be67200e-1ef1-4b63-86a6-2bf27d3c704d</td>\n",
              "      <td>Fully Paid</td>\n",
              "      <td>210584.0</td>\n",
              "      <td>Short Term</td>\n",
              "      <td>NaN</td>\n",
              "      <td>NaN</td>\n",
              "      <td>1 year</td>\n",
              "      <td>Home Mortgage</td>\n",
              "      <td>Other</td>\n",
              "      <td>3727.61</td>\n",
              "      <td>17.4</td>\n",
              "      <td>18.0</td>\n",
              "      <td>6.0</td>\n",
              "      <td>0.0</td>\n",
              "      <td>456.0</td>\n",
              "      <td>259160.0</td>\n",
              "      <td>0.0</td>\n",
              "      <td>0.0</td>\n",
              "      <td>2</td>\n",
              "    </tr>\n",
              "  </tbody>\n",
              "</table>\n",
              "</div>\n",
              "      <button class=\"colab-df-convert\" onclick=\"convertToInteractive('df-bf4d1c86-63e0-4335-9452-1d8b6154eb22')\"\n",
              "              title=\"Convert this dataframe to an interactive table.\"\n",
              "              style=\"display:none;\">\n",
              "        \n",
              "  <svg xmlns=\"http://www.w3.org/2000/svg\" height=\"24px\"viewBox=\"0 0 24 24\"\n",
              "       width=\"24px\">\n",
              "    <path d=\"M0 0h24v24H0V0z\" fill=\"none\"/>\n",
              "    <path d=\"M18.56 5.44l.94 2.06.94-2.06 2.06-.94-2.06-.94-.94-2.06-.94 2.06-2.06.94zm-11 1L8.5 8.5l.94-2.06 2.06-.94-2.06-.94L8.5 2.5l-.94 2.06-2.06.94zm10 10l.94 2.06.94-2.06 2.06-.94-2.06-.94-.94-2.06-.94 2.06-2.06.94z\"/><path d=\"M17.41 7.96l-1.37-1.37c-.4-.4-.92-.59-1.43-.59-.52 0-1.04.2-1.43.59L10.3 9.45l-7.72 7.72c-.78.78-.78 2.05 0 2.83L4 21.41c.39.39.9.59 1.41.59.51 0 1.02-.2 1.41-.59l7.78-7.78 2.81-2.81c.8-.78.8-2.07 0-2.86zM5.41 20L4 18.59l7.72-7.72 1.47 1.35L5.41 20z\"/>\n",
              "  </svg>\n",
              "      </button>\n",
              "      \n",
              "  <style>\n",
              "    .colab-df-container {\n",
              "      display:flex;\n",
              "      flex-wrap:wrap;\n",
              "      gap: 12px;\n",
              "    }\n",
              "\n",
              "    .colab-df-convert {\n",
              "      background-color: #E8F0FE;\n",
              "      border: none;\n",
              "      border-radius: 50%;\n",
              "      cursor: pointer;\n",
              "      display: none;\n",
              "      fill: #1967D2;\n",
              "      height: 32px;\n",
              "      padding: 0 0 0 0;\n",
              "      width: 32px;\n",
              "    }\n",
              "\n",
              "    .colab-df-convert:hover {\n",
              "      background-color: #E2EBFA;\n",
              "      box-shadow: 0px 1px 2px rgba(60, 64, 67, 0.3), 0px 1px 3px 1px rgba(60, 64, 67, 0.15);\n",
              "      fill: #174EA6;\n",
              "    }\n",
              "\n",
              "    [theme=dark] .colab-df-convert {\n",
              "      background-color: #3B4455;\n",
              "      fill: #D2E3FC;\n",
              "    }\n",
              "\n",
              "    [theme=dark] .colab-df-convert:hover {\n",
              "      background-color: #434B5C;\n",
              "      box-shadow: 0px 1px 3px 1px rgba(0, 0, 0, 0.15);\n",
              "      filter: drop-shadow(0px 1px 2px rgba(0, 0, 0, 0.3));\n",
              "      fill: #FFFFFF;\n",
              "    }\n",
              "  </style>\n",
              "\n",
              "      <script>\n",
              "        const buttonEl =\n",
              "          document.querySelector('#df-bf4d1c86-63e0-4335-9452-1d8b6154eb22 button.colab-df-convert');\n",
              "        buttonEl.style.display =\n",
              "          google.colab.kernel.accessAllowed ? 'block' : 'none';\n",
              "\n",
              "        async function convertToInteractive(key) {\n",
              "          const element = document.querySelector('#df-bf4d1c86-63e0-4335-9452-1d8b6154eb22');\n",
              "          const dataTable =\n",
              "            await google.colab.kernel.invokeFunction('convertToInteractive',\n",
              "                                                     [key], {});\n",
              "          if (!dataTable) return;\n",
              "\n",
              "          const docLinkHtml = 'Like what you see? Visit the ' +\n",
              "            '<a target=\"_blank\" href=https://colab.research.google.com/notebooks/data_table.ipynb>data table notebook</a>'\n",
              "            + ' to learn more about interactive tables.';\n",
              "          element.innerHTML = '';\n",
              "          dataTable['output_type'] = 'display_data';\n",
              "          await google.colab.output.renderOutput(dataTable, element);\n",
              "          const docLink = document.createElement('div');\n",
              "          docLink.innerHTML = docLinkHtml;\n",
              "          element.appendChild(docLink);\n",
              "        }\n",
              "      </script>\n",
              "    </div>\n",
              "  </div>\n",
              "  "
            ]
          },
          "metadata": {},
          "execution_count": 22
        }
      ]
    },
    {
      "cell_type": "code",
      "source": [
        "#credit1 = credit_data.copy()\n",
        "credit_data.shape"
      ],
      "metadata": {
        "colab": {
          "base_uri": "https://localhost:8080/"
        },
        "id": "PNRKhdtapQfp",
        "outputId": "65c08aac-d647-4b61-aec1-6fe31a38736f"
      },
      "execution_count": 23,
      "outputs": [
        {
          "output_type": "execute_result",
          "data": {
            "text/plain": [
              "(100000, 20)"
            ]
          },
          "metadata": {},
          "execution_count": 23
        }
      ]
    },
    {
      "cell_type": "code",
      "source": [
        "# Keep the first record, drop the second or subsequent records\n",
        "credit_data.drop_duplicates(subset=['Loan ID'], keep='first', inplace=True)"
      ],
      "metadata": {
        "id": "ZAnDob_LpO4S"
      },
      "execution_count": 24,
      "outputs": []
    },
    {
      "cell_type": "code",
      "source": [
        "credit_data.shape"
      ],
      "metadata": {
        "colab": {
          "base_uri": "https://localhost:8080/"
        },
        "id": "eGhyv-WlqUDK",
        "outputId": "2fa7fb89-0b6a-426c-cf00-afb65763b4ab"
      },
      "execution_count": 25,
      "outputs": [
        {
          "output_type": "execute_result",
          "data": {
            "text/plain": [
              "(81999, 20)"
            ]
          },
          "metadata": {},
          "execution_count": 25
        }
      ]
    },
    {
      "cell_type": "code",
      "source": [
        "credit_data[credit_data['Loan ID']=='8506a4e9-af7d-47d2-a1bf-7ea2c41858f0']\n",
        "credit_data[credit_data['Loan ID']=='c568adaa-16f9-43d3-b522-8532fb57cb16']"
      ],
      "metadata": {
        "colab": {
          "base_uri": "https://localhost:8080/",
          "height": 249
        },
        "id": "jh8wzsUzumcn",
        "outputId": "10b231e3-4d24-4f8a-b292-dbf7ae1435e1"
      },
      "execution_count": 26,
      "outputs": [
        {
          "output_type": "execute_result",
          "data": {
            "text/plain": [
              "                                    Loan ID  \\\n",
              "69262  c568adaa-16f9-43d3-b522-8532fb57cb16   \n",
              "\n",
              "                                Customer ID Loan Status  Current Loan Amount  \\\n",
              "69262  cbb29fd6-e418-4f09-a4bd-4de83428caab  Fully Paid              48796.0   \n",
              "\n",
              "             Term  Credit Score  Annual Income Years in current job  \\\n",
              "69262  Short Term         724.0       431091.0              4 years   \n",
              "\n",
              "      Home Ownership         Purpose  Monthly Debt  Years of Credit History  \\\n",
              "69262  Home Mortgage  major_purchase       8298.63                      8.3   \n",
              "\n",
              "       Months since last delinquent  Number of Open Accounts  \\\n",
              "69262                           NaN                      9.0   \n",
              "\n",
              "       Number of Credit Problems  Current Credit Balance  Maximum Open Credit  \\\n",
              "69262                        0.0                 87875.0             239404.0   \n",
              "\n",
              "       Bankruptcies  Tax Liens  null_count  \n",
              "69262           0.0        0.0           1  "
            ],
            "text/html": [
              "\n",
              "  <div id=\"df-7adb8410-806f-4b04-a8bc-934f8f99e11b\">\n",
              "    <div class=\"colab-df-container\">\n",
              "      <div>\n",
              "<style scoped>\n",
              "    .dataframe tbody tr th:only-of-type {\n",
              "        vertical-align: middle;\n",
              "    }\n",
              "\n",
              "    .dataframe tbody tr th {\n",
              "        vertical-align: top;\n",
              "    }\n",
              "\n",
              "    .dataframe thead th {\n",
              "        text-align: right;\n",
              "    }\n",
              "</style>\n",
              "<table border=\"1\" class=\"dataframe\">\n",
              "  <thead>\n",
              "    <tr style=\"text-align: right;\">\n",
              "      <th></th>\n",
              "      <th>Loan ID</th>\n",
              "      <th>Customer ID</th>\n",
              "      <th>Loan Status</th>\n",
              "      <th>Current Loan Amount</th>\n",
              "      <th>Term</th>\n",
              "      <th>Credit Score</th>\n",
              "      <th>Annual Income</th>\n",
              "      <th>Years in current job</th>\n",
              "      <th>Home Ownership</th>\n",
              "      <th>Purpose</th>\n",
              "      <th>Monthly Debt</th>\n",
              "      <th>Years of Credit History</th>\n",
              "      <th>Months since last delinquent</th>\n",
              "      <th>Number of Open Accounts</th>\n",
              "      <th>Number of Credit Problems</th>\n",
              "      <th>Current Credit Balance</th>\n",
              "      <th>Maximum Open Credit</th>\n",
              "      <th>Bankruptcies</th>\n",
              "      <th>Tax Liens</th>\n",
              "      <th>null_count</th>\n",
              "    </tr>\n",
              "  </thead>\n",
              "  <tbody>\n",
              "    <tr>\n",
              "      <th>69262</th>\n",
              "      <td>c568adaa-16f9-43d3-b522-8532fb57cb16</td>\n",
              "      <td>cbb29fd6-e418-4f09-a4bd-4de83428caab</td>\n",
              "      <td>Fully Paid</td>\n",
              "      <td>48796.0</td>\n",
              "      <td>Short Term</td>\n",
              "      <td>724.0</td>\n",
              "      <td>431091.0</td>\n",
              "      <td>4 years</td>\n",
              "      <td>Home Mortgage</td>\n",
              "      <td>major_purchase</td>\n",
              "      <td>8298.63</td>\n",
              "      <td>8.3</td>\n",
              "      <td>NaN</td>\n",
              "      <td>9.0</td>\n",
              "      <td>0.0</td>\n",
              "      <td>87875.0</td>\n",
              "      <td>239404.0</td>\n",
              "      <td>0.0</td>\n",
              "      <td>0.0</td>\n",
              "      <td>1</td>\n",
              "    </tr>\n",
              "  </tbody>\n",
              "</table>\n",
              "</div>\n",
              "      <button class=\"colab-df-convert\" onclick=\"convertToInteractive('df-7adb8410-806f-4b04-a8bc-934f8f99e11b')\"\n",
              "              title=\"Convert this dataframe to an interactive table.\"\n",
              "              style=\"display:none;\">\n",
              "        \n",
              "  <svg xmlns=\"http://www.w3.org/2000/svg\" height=\"24px\"viewBox=\"0 0 24 24\"\n",
              "       width=\"24px\">\n",
              "    <path d=\"M0 0h24v24H0V0z\" fill=\"none\"/>\n",
              "    <path d=\"M18.56 5.44l.94 2.06.94-2.06 2.06-.94-2.06-.94-.94-2.06-.94 2.06-2.06.94zm-11 1L8.5 8.5l.94-2.06 2.06-.94-2.06-.94L8.5 2.5l-.94 2.06-2.06.94zm10 10l.94 2.06.94-2.06 2.06-.94-2.06-.94-.94-2.06-.94 2.06-2.06.94z\"/><path d=\"M17.41 7.96l-1.37-1.37c-.4-.4-.92-.59-1.43-.59-.52 0-1.04.2-1.43.59L10.3 9.45l-7.72 7.72c-.78.78-.78 2.05 0 2.83L4 21.41c.39.39.9.59 1.41.59.51 0 1.02-.2 1.41-.59l7.78-7.78 2.81-2.81c.8-.78.8-2.07 0-2.86zM5.41 20L4 18.59l7.72-7.72 1.47 1.35L5.41 20z\"/>\n",
              "  </svg>\n",
              "      </button>\n",
              "      \n",
              "  <style>\n",
              "    .colab-df-container {\n",
              "      display:flex;\n",
              "      flex-wrap:wrap;\n",
              "      gap: 12px;\n",
              "    }\n",
              "\n",
              "    .colab-df-convert {\n",
              "      background-color: #E8F0FE;\n",
              "      border: none;\n",
              "      border-radius: 50%;\n",
              "      cursor: pointer;\n",
              "      display: none;\n",
              "      fill: #1967D2;\n",
              "      height: 32px;\n",
              "      padding: 0 0 0 0;\n",
              "      width: 32px;\n",
              "    }\n",
              "\n",
              "    .colab-df-convert:hover {\n",
              "      background-color: #E2EBFA;\n",
              "      box-shadow: 0px 1px 2px rgba(60, 64, 67, 0.3), 0px 1px 3px 1px rgba(60, 64, 67, 0.15);\n",
              "      fill: #174EA6;\n",
              "    }\n",
              "\n",
              "    [theme=dark] .colab-df-convert {\n",
              "      background-color: #3B4455;\n",
              "      fill: #D2E3FC;\n",
              "    }\n",
              "\n",
              "    [theme=dark] .colab-df-convert:hover {\n",
              "      background-color: #434B5C;\n",
              "      box-shadow: 0px 1px 3px 1px rgba(0, 0, 0, 0.15);\n",
              "      filter: drop-shadow(0px 1px 2px rgba(0, 0, 0, 0.3));\n",
              "      fill: #FFFFFF;\n",
              "    }\n",
              "  </style>\n",
              "\n",
              "      <script>\n",
              "        const buttonEl =\n",
              "          document.querySelector('#df-7adb8410-806f-4b04-a8bc-934f8f99e11b button.colab-df-convert');\n",
              "        buttonEl.style.display =\n",
              "          google.colab.kernel.accessAllowed ? 'block' : 'none';\n",
              "\n",
              "        async function convertToInteractive(key) {\n",
              "          const element = document.querySelector('#df-7adb8410-806f-4b04-a8bc-934f8f99e11b');\n",
              "          const dataTable =\n",
              "            await google.colab.kernel.invokeFunction('convertToInteractive',\n",
              "                                                     [key], {});\n",
              "          if (!dataTable) return;\n",
              "\n",
              "          const docLinkHtml = 'Like what you see? Visit the ' +\n",
              "            '<a target=\"_blank\" href=https://colab.research.google.com/notebooks/data_table.ipynb>data table notebook</a>'\n",
              "            + ' to learn more about interactive tables.';\n",
              "          element.innerHTML = '';\n",
              "          dataTable['output_type'] = 'display_data';\n",
              "          await google.colab.output.renderOutput(dataTable, element);\n",
              "          const docLink = document.createElement('div');\n",
              "          docLink.innerHTML = docLinkHtml;\n",
              "          element.appendChild(docLink);\n",
              "        }\n",
              "      </script>\n",
              "    </div>\n",
              "  </div>\n",
              "  "
            ]
          },
          "metadata": {},
          "execution_count": 26
        }
      ]
    },
    {
      "cell_type": "code",
      "source": [
        "credit_data.info()"
      ],
      "metadata": {
        "colab": {
          "base_uri": "https://localhost:8080/"
        },
        "id": "9c6eOL1ysn7n",
        "outputId": "5afdb7e4-45cd-4559-ac4e-7c7b164a7fc0"
      },
      "execution_count": 27,
      "outputs": [
        {
          "output_type": "stream",
          "name": "stdout",
          "text": [
            "<class 'pandas.core.frame.DataFrame'>\n",
            "Int64Index: 81999 entries, 0 to 99999\n",
            "Data columns (total 20 columns):\n",
            " #   Column                        Non-Null Count  Dtype  \n",
            "---  ------                        --------------  -----  \n",
            " 0   Loan ID                       81999 non-null  object \n",
            " 1   Customer ID                   81999 non-null  object \n",
            " 2   Loan Status                   81999 non-null  object \n",
            " 3   Current Loan Amount           81999 non-null  float64\n",
            " 4   Term                          81999 non-null  object \n",
            " 5   Credit Score                  67052 non-null  float64\n",
            " 6   Annual Income                 67052 non-null  float64\n",
            " 7   Years in current job          78491 non-null  object \n",
            " 8   Home Ownership                81999 non-null  object \n",
            " 9   Purpose                       81999 non-null  object \n",
            " 10  Monthly Debt                  81999 non-null  float64\n",
            " 11  Years of Credit History       81999 non-null  float64\n",
            " 12  Months since last delinquent  37378 non-null  float64\n",
            " 13  Number of Open Accounts       81999 non-null  float64\n",
            " 14  Number of Credit Problems     81999 non-null  float64\n",
            " 15  Current Credit Balance        81999 non-null  float64\n",
            " 16  Maximum Open Credit           81997 non-null  float64\n",
            " 17  Bankruptcies                  81824 non-null  float64\n",
            " 18  Tax Liens                     81991 non-null  float64\n",
            " 19  null_count                    81999 non-null  int64  \n",
            "dtypes: float64(12), int64(1), object(7)\n",
            "memory usage: 13.1+ MB\n"
          ]
        }
      ]
    },
    {
      "cell_type": "markdown",
      "source": [
        "We now have the dataset ready for further variable wise exploration"
      ],
      "metadata": {
        "id": "pAKySrtys02z"
      }
    },
    {
      "cell_type": "markdown",
      "source": [
        "## Categorical Variable Exploration"
      ],
      "metadata": {
        "id": "hs9tV5v7vOt7"
      }
    },
    {
      "cell_type": "markdown",
      "source": [
        "### 1. Loan ID\n",
        "ID of the loan. All values should be unique.\n",
        "\n",
        "No need to use use frequency table as every record has should have a unique value."
      ],
      "metadata": {
        "id": "KDDaTDCsvs8I"
      }
    },
    {
      "cell_type": "code",
      "source": [
        "credit_data['Loan ID'].duplicated().value_counts()"
      ],
      "metadata": {
        "colab": {
          "base_uri": "https://localhost:8080/"
        },
        "id": "Twbww_jKvdr9",
        "outputId": "25c3e2d7-6046-489b-c2da-88dac148414e"
      },
      "execution_count": 28,
      "outputs": [
        {
          "output_type": "execute_result",
          "data": {
            "text/plain": [
              "False    81999\n",
              "Name: Loan ID, dtype: int64"
            ]
          },
          "metadata": {},
          "execution_count": 28
        }
      ]
    },
    {
      "cell_type": "markdown",
      "source": [
        "### 2. Customer ID\n",
        "Customer ID of the customer.\n",
        "\n",
        "No need to use use frequency table as every record has should have a unique value."
      ],
      "metadata": {
        "id": "lkIdwFd7xOP0"
      }
    },
    {
      "cell_type": "code",
      "source": [
        "credit_data['Customer ID'].duplicated().value_counts()"
      ],
      "metadata": {
        "colab": {
          "base_uri": "https://localhost:8080/"
        },
        "id": "2YXYy8iezpQk",
        "outputId": "350a7479-3c32-4ad9-f405-9d47e8dc2cbe"
      },
      "execution_count": 29,
      "outputs": [
        {
          "output_type": "execute_result",
          "data": {
            "text/plain": [
              "False    81999\n",
              "Name: Customer ID, dtype: int64"
            ]
          },
          "metadata": {},
          "execution_count": 29
        }
      ]
    },
    {
      "cell_type": "markdown",
      "source": [
        "### 3. Term\n",
        "The tenure of the loan - short term or long term.\n",
        "\n",
        "\n",
        "Short term is usually 1-5 years while long term is 10-20 years."
      ],
      "metadata": {
        "id": "YrLZIQna0EMf"
      }
    },
    {
      "cell_type": "code",
      "source": [
        "import numpy as np\n",
        "import matplotlib.pyplot as plt\n",
        "import seaborn as sns\n",
        "\n",
        "credit_data[\"Term\"].value_counts()\n",
        "# sns.countplot(y= \"Term\", data = credit_data)\n",
        "\n",
        "# Data is clean"
      ],
      "metadata": {
        "colab": {
          "base_uri": "https://localhost:8080/"
        },
        "id": "DnHL8BW9sHlL",
        "outputId": "67cbff55-8e06-448f-bfa0-9fdc354e8df5"
      },
      "execution_count": 30,
      "outputs": [
        {
          "output_type": "execute_result",
          "data": {
            "text/plain": [
              "Short Term    61387\n",
              "Long Term     20612\n",
              "Name: Term, dtype: int64"
            ]
          },
          "metadata": {},
          "execution_count": 30
        }
      ]
    },
    {
      "cell_type": "markdown",
      "source": [
        "### 4. Years in current job\n",
        "Number of years the customer has been employed in the current job.\n",
        "\n",
        "Although it is a discrete field, the variable here is categorical as it is string type (object). We have to convert it into discrete using labelling later. The values are ordinal (can be ordered), hence Labelling."
      ],
      "metadata": {
        "id": "v0NoWeGdtutv"
      }
    },
    {
      "cell_type": "code",
      "source": [
        "credit_data[\"Years in current job\"].value_counts()"
      ],
      "metadata": {
        "colab": {
          "base_uri": "https://localhost:8080/"
        },
        "id": "QqTBRdxuuOJn",
        "outputId": "d25b9a88-b9c3-46fa-a341-efb99e8b495f"
      },
      "execution_count": 31,
      "outputs": [
        {
          "output_type": "execute_result",
          "data": {
            "text/plain": [
              "10+ years    25271\n",
              "2 years       7560\n",
              "< 1 year      6755\n",
              "3 years       6671\n",
              "5 years       5619\n",
              "1 year        5317\n",
              "4 years       5029\n",
              "6 years       4702\n",
              "7 years       4566\n",
              "8 years       3781\n",
              "9 years       3220\n",
              "Name: Years in current job, dtype: int64"
            ]
          },
          "metadata": {},
          "execution_count": 31
        }
      ]
    },
    {
      "cell_type": "code",
      "source": [
        "credit_data[\"Years in current job\"].value_counts().sum() # 78491\n",
        "credit_data[\"Years in current job\"].isnull().sum() # 3508\n",
        "print(3508*100/82000, '% null values')"
      ],
      "metadata": {
        "colab": {
          "base_uri": "https://localhost:8080/"
        },
        "id": "K1gvk0dIujVP",
        "outputId": "a1ecf4c7-ecc9-4a0b-a13f-17aecd49f068"
      },
      "execution_count": 32,
      "outputs": [
        {
          "output_type": "stream",
          "name": "stdout",
          "text": [
            "4.278048780487805 % null values\n"
          ]
        }
      ]
    },
    {
      "cell_type": "markdown",
      "source": [
        "4.3% values are null values. We can either go for target based imputation considering the field as categorical or go for imputing with median. \n",
        "\n",
        "Better option is to go with target based imputation since the number of distinct values is 11. But, when we go for target based imputation then the 4.3% data might get added to one of the classes which has data around 5% data thereby doubling the records and causing major distortion in that class. \n",
        "\n",
        "\n",
        "So, if possible divide the data into more than one matching classes. It will give the closest matching value while minimalizing distortion in frequency.\n",
        "\n"
      ],
      "metadata": {
        "id": "cuJG-BR9wkNe"
      }
    },
    {
      "cell_type": "markdown",
      "source": [
        "### 5. Home Ownership\n"
      ],
      "metadata": {
        "id": "cfAKw7sk5AO0"
      }
    },
    {
      "cell_type": "code",
      "source": [
        "credit_data['Home Ownership'].value_counts()\n",
        "\n",
        "# No nulls\n",
        "# HaveMortgage seems like Home Mortgage and not a different class"
      ],
      "metadata": {
        "colab": {
          "base_uri": "https://localhost:8080/"
        },
        "id": "E6zVJ58C5VNw",
        "outputId": "8177cb7c-d3d4-4224-cc43-c49427e77119"
      },
      "execution_count": 33,
      "outputs": [
        {
          "output_type": "execute_result",
          "data": {
            "text/plain": [
              "Home Mortgage    39879\n",
              "Rent             34499\n",
              "Own Home          7458\n",
              "HaveMortgage       163\n",
              "Name: Home Ownership, dtype: int64"
            ]
          },
          "metadata": {},
          "execution_count": 33
        }
      ]
    },
    {
      "cell_type": "code",
      "source": [
        "# Checking if should consider HaveMortgage as a different class or not\n",
        "\n",
        "credit_data[credit_data['Home Ownership']=='HaveMortgage'].sample(5)"
      ],
      "metadata": {
        "colab": {
          "base_uri": "https://localhost:8080/",
          "height": 582
        },
        "id": "ZAx1D5Mu6WPp",
        "outputId": "5daee3cb-cdc7-495d-a970-383e4dbc46ea"
      },
      "execution_count": 34,
      "outputs": [
        {
          "output_type": "execute_result",
          "data": {
            "text/plain": [
              "                                    Loan ID  \\\n",
              "38390  0b5845e6-3497-4151-9b9c-dd5c27fa4914   \n",
              "88241  eab8c1fc-8e6c-423d-ac33-5248123b2b94   \n",
              "63064  a0200a96-4634-4a56-9e35-06626687822d   \n",
              "56925  7b248fbd-a05b-4154-85eb-4ca824d035a5   \n",
              "27455  c08a6d3c-a403-4253-9c97-8a50fdcf37ec   \n",
              "\n",
              "                                Customer ID  Loan Status  Current Loan Amount  \\\n",
              "38390  8f2ac3d2-3308-49f9-a93b-8e253330087d   Fully Paid              53174.0   \n",
              "88241  25e1fe77-3e38-44ea-a704-1f51a23dd180  Charged Off             337194.0   \n",
              "63064  9ead87d1-9727-4728-bd90-a3df92708f03   Fully Paid              65538.0   \n",
              "56925  133994e3-fe77-4213-a570-c945efce3c35  Charged Off              53284.0   \n",
              "27455  a9cfea8b-3893-4d63-a35d-2b65188fa025   Fully Paid             175428.0   \n",
              "\n",
              "             Term  Credit Score  Annual Income Years in current job  \\\n",
              "38390  Short Term         703.0      1568754.0            10+ years   \n",
              "88241   Long Term           NaN            NaN            10+ years   \n",
              "63064  Short Term         677.0      1415025.0              5 years   \n",
              "56925  Short Term        6930.0       670985.0            10+ years   \n",
              "27455  Short Term         698.0      2367400.0              7 years   \n",
              "\n",
              "      Home Ownership      Purpose  Monthly Debt  Years of Credit History  \\\n",
              "38390   HaveMortgage  Take a Trip      15033.75                     13.5   \n",
              "88241   HaveMortgage  Take a Trip      15885.52                     18.8   \n",
              "63064   HaveMortgage  Take a Trip      12959.33                     16.5   \n",
              "56925   HaveMortgage  Take a Trip      13587.47                     18.3   \n",
              "27455   HaveMortgage  Take a Trip      26041.40                     28.5   \n",
              "\n",
              "       Months since last delinquent  Number of Open Accounts  \\\n",
              "38390                           NaN                      8.0   \n",
              "88241                          48.0                      8.0   \n",
              "63064                           NaN                     12.0   \n",
              "56925                           NaN                     12.0   \n",
              "27455                          12.0                     10.0   \n",
              "\n",
              "       Number of Credit Problems  Current Credit Balance  Maximum Open Credit  \\\n",
              "38390                        0.0                220362.0             296692.0   \n",
              "88241                        0.0                176852.0             860398.0   \n",
              "63064                        1.0                180500.0             212190.0   \n",
              "56925                        0.0                220533.0             595210.0   \n",
              "27455                        0.0                350455.0             401368.0   \n",
              "\n",
              "       Bankruptcies  Tax Liens  null_count  \n",
              "38390           0.0        0.0           1  \n",
              "88241           0.0        0.0           2  \n",
              "63064           1.0        0.0           1  \n",
              "56925           0.0        0.0           1  \n",
              "27455           0.0        0.0           0  "
            ],
            "text/html": [
              "\n",
              "  <div id=\"df-f8c61e70-1fa4-45a0-93d8-135c75910572\">\n",
              "    <div class=\"colab-df-container\">\n",
              "      <div>\n",
              "<style scoped>\n",
              "    .dataframe tbody tr th:only-of-type {\n",
              "        vertical-align: middle;\n",
              "    }\n",
              "\n",
              "    .dataframe tbody tr th {\n",
              "        vertical-align: top;\n",
              "    }\n",
              "\n",
              "    .dataframe thead th {\n",
              "        text-align: right;\n",
              "    }\n",
              "</style>\n",
              "<table border=\"1\" class=\"dataframe\">\n",
              "  <thead>\n",
              "    <tr style=\"text-align: right;\">\n",
              "      <th></th>\n",
              "      <th>Loan ID</th>\n",
              "      <th>Customer ID</th>\n",
              "      <th>Loan Status</th>\n",
              "      <th>Current Loan Amount</th>\n",
              "      <th>Term</th>\n",
              "      <th>Credit Score</th>\n",
              "      <th>Annual Income</th>\n",
              "      <th>Years in current job</th>\n",
              "      <th>Home Ownership</th>\n",
              "      <th>Purpose</th>\n",
              "      <th>Monthly Debt</th>\n",
              "      <th>Years of Credit History</th>\n",
              "      <th>Months since last delinquent</th>\n",
              "      <th>Number of Open Accounts</th>\n",
              "      <th>Number of Credit Problems</th>\n",
              "      <th>Current Credit Balance</th>\n",
              "      <th>Maximum Open Credit</th>\n",
              "      <th>Bankruptcies</th>\n",
              "      <th>Tax Liens</th>\n",
              "      <th>null_count</th>\n",
              "    </tr>\n",
              "  </thead>\n",
              "  <tbody>\n",
              "    <tr>\n",
              "      <th>38390</th>\n",
              "      <td>0b5845e6-3497-4151-9b9c-dd5c27fa4914</td>\n",
              "      <td>8f2ac3d2-3308-49f9-a93b-8e253330087d</td>\n",
              "      <td>Fully Paid</td>\n",
              "      <td>53174.0</td>\n",
              "      <td>Short Term</td>\n",
              "      <td>703.0</td>\n",
              "      <td>1568754.0</td>\n",
              "      <td>10+ years</td>\n",
              "      <td>HaveMortgage</td>\n",
              "      <td>Take a Trip</td>\n",
              "      <td>15033.75</td>\n",
              "      <td>13.5</td>\n",
              "      <td>NaN</td>\n",
              "      <td>8.0</td>\n",
              "      <td>0.0</td>\n",
              "      <td>220362.0</td>\n",
              "      <td>296692.0</td>\n",
              "      <td>0.0</td>\n",
              "      <td>0.0</td>\n",
              "      <td>1</td>\n",
              "    </tr>\n",
              "    <tr>\n",
              "      <th>88241</th>\n",
              "      <td>eab8c1fc-8e6c-423d-ac33-5248123b2b94</td>\n",
              "      <td>25e1fe77-3e38-44ea-a704-1f51a23dd180</td>\n",
              "      <td>Charged Off</td>\n",
              "      <td>337194.0</td>\n",
              "      <td>Long Term</td>\n",
              "      <td>NaN</td>\n",
              "      <td>NaN</td>\n",
              "      <td>10+ years</td>\n",
              "      <td>HaveMortgage</td>\n",
              "      <td>Take a Trip</td>\n",
              "      <td>15885.52</td>\n",
              "      <td>18.8</td>\n",
              "      <td>48.0</td>\n",
              "      <td>8.0</td>\n",
              "      <td>0.0</td>\n",
              "      <td>176852.0</td>\n",
              "      <td>860398.0</td>\n",
              "      <td>0.0</td>\n",
              "      <td>0.0</td>\n",
              "      <td>2</td>\n",
              "    </tr>\n",
              "    <tr>\n",
              "      <th>63064</th>\n",
              "      <td>a0200a96-4634-4a56-9e35-06626687822d</td>\n",
              "      <td>9ead87d1-9727-4728-bd90-a3df92708f03</td>\n",
              "      <td>Fully Paid</td>\n",
              "      <td>65538.0</td>\n",
              "      <td>Short Term</td>\n",
              "      <td>677.0</td>\n",
              "      <td>1415025.0</td>\n",
              "      <td>5 years</td>\n",
              "      <td>HaveMortgage</td>\n",
              "      <td>Take a Trip</td>\n",
              "      <td>12959.33</td>\n",
              "      <td>16.5</td>\n",
              "      <td>NaN</td>\n",
              "      <td>12.0</td>\n",
              "      <td>1.0</td>\n",
              "      <td>180500.0</td>\n",
              "      <td>212190.0</td>\n",
              "      <td>1.0</td>\n",
              "      <td>0.0</td>\n",
              "      <td>1</td>\n",
              "    </tr>\n",
              "    <tr>\n",
              "      <th>56925</th>\n",
              "      <td>7b248fbd-a05b-4154-85eb-4ca824d035a5</td>\n",
              "      <td>133994e3-fe77-4213-a570-c945efce3c35</td>\n",
              "      <td>Charged Off</td>\n",
              "      <td>53284.0</td>\n",
              "      <td>Short Term</td>\n",
              "      <td>6930.0</td>\n",
              "      <td>670985.0</td>\n",
              "      <td>10+ years</td>\n",
              "      <td>HaveMortgage</td>\n",
              "      <td>Take a Trip</td>\n",
              "      <td>13587.47</td>\n",
              "      <td>18.3</td>\n",
              "      <td>NaN</td>\n",
              "      <td>12.0</td>\n",
              "      <td>0.0</td>\n",
              "      <td>220533.0</td>\n",
              "      <td>595210.0</td>\n",
              "      <td>0.0</td>\n",
              "      <td>0.0</td>\n",
              "      <td>1</td>\n",
              "    </tr>\n",
              "    <tr>\n",
              "      <th>27455</th>\n",
              "      <td>c08a6d3c-a403-4253-9c97-8a50fdcf37ec</td>\n",
              "      <td>a9cfea8b-3893-4d63-a35d-2b65188fa025</td>\n",
              "      <td>Fully Paid</td>\n",
              "      <td>175428.0</td>\n",
              "      <td>Short Term</td>\n",
              "      <td>698.0</td>\n",
              "      <td>2367400.0</td>\n",
              "      <td>7 years</td>\n",
              "      <td>HaveMortgage</td>\n",
              "      <td>Take a Trip</td>\n",
              "      <td>26041.40</td>\n",
              "      <td>28.5</td>\n",
              "      <td>12.0</td>\n",
              "      <td>10.0</td>\n",
              "      <td>0.0</td>\n",
              "      <td>350455.0</td>\n",
              "      <td>401368.0</td>\n",
              "      <td>0.0</td>\n",
              "      <td>0.0</td>\n",
              "      <td>0</td>\n",
              "    </tr>\n",
              "  </tbody>\n",
              "</table>\n",
              "</div>\n",
              "      <button class=\"colab-df-convert\" onclick=\"convertToInteractive('df-f8c61e70-1fa4-45a0-93d8-135c75910572')\"\n",
              "              title=\"Convert this dataframe to an interactive table.\"\n",
              "              style=\"display:none;\">\n",
              "        \n",
              "  <svg xmlns=\"http://www.w3.org/2000/svg\" height=\"24px\"viewBox=\"0 0 24 24\"\n",
              "       width=\"24px\">\n",
              "    <path d=\"M0 0h24v24H0V0z\" fill=\"none\"/>\n",
              "    <path d=\"M18.56 5.44l.94 2.06.94-2.06 2.06-.94-2.06-.94-.94-2.06-.94 2.06-2.06.94zm-11 1L8.5 8.5l.94-2.06 2.06-.94-2.06-.94L8.5 2.5l-.94 2.06-2.06.94zm10 10l.94 2.06.94-2.06 2.06-.94-2.06-.94-.94-2.06-.94 2.06-2.06.94z\"/><path d=\"M17.41 7.96l-1.37-1.37c-.4-.4-.92-.59-1.43-.59-.52 0-1.04.2-1.43.59L10.3 9.45l-7.72 7.72c-.78.78-.78 2.05 0 2.83L4 21.41c.39.39.9.59 1.41.59.51 0 1.02-.2 1.41-.59l7.78-7.78 2.81-2.81c.8-.78.8-2.07 0-2.86zM5.41 20L4 18.59l7.72-7.72 1.47 1.35L5.41 20z\"/>\n",
              "  </svg>\n",
              "      </button>\n",
              "      \n",
              "  <style>\n",
              "    .colab-df-container {\n",
              "      display:flex;\n",
              "      flex-wrap:wrap;\n",
              "      gap: 12px;\n",
              "    }\n",
              "\n",
              "    .colab-df-convert {\n",
              "      background-color: #E8F0FE;\n",
              "      border: none;\n",
              "      border-radius: 50%;\n",
              "      cursor: pointer;\n",
              "      display: none;\n",
              "      fill: #1967D2;\n",
              "      height: 32px;\n",
              "      padding: 0 0 0 0;\n",
              "      width: 32px;\n",
              "    }\n",
              "\n",
              "    .colab-df-convert:hover {\n",
              "      background-color: #E2EBFA;\n",
              "      box-shadow: 0px 1px 2px rgba(60, 64, 67, 0.3), 0px 1px 3px 1px rgba(60, 64, 67, 0.15);\n",
              "      fill: #174EA6;\n",
              "    }\n",
              "\n",
              "    [theme=dark] .colab-df-convert {\n",
              "      background-color: #3B4455;\n",
              "      fill: #D2E3FC;\n",
              "    }\n",
              "\n",
              "    [theme=dark] .colab-df-convert:hover {\n",
              "      background-color: #434B5C;\n",
              "      box-shadow: 0px 1px 3px 1px rgba(0, 0, 0, 0.15);\n",
              "      filter: drop-shadow(0px 1px 2px rgba(0, 0, 0, 0.3));\n",
              "      fill: #FFFFFF;\n",
              "    }\n",
              "  </style>\n",
              "\n",
              "      <script>\n",
              "        const buttonEl =\n",
              "          document.querySelector('#df-f8c61e70-1fa4-45a0-93d8-135c75910572 button.colab-df-convert');\n",
              "        buttonEl.style.display =\n",
              "          google.colab.kernel.accessAllowed ? 'block' : 'none';\n",
              "\n",
              "        async function convertToInteractive(key) {\n",
              "          const element = document.querySelector('#df-f8c61e70-1fa4-45a0-93d8-135c75910572');\n",
              "          const dataTable =\n",
              "            await google.colab.kernel.invokeFunction('convertToInteractive',\n",
              "                                                     [key], {});\n",
              "          if (!dataTable) return;\n",
              "\n",
              "          const docLinkHtml = 'Like what you see? Visit the ' +\n",
              "            '<a target=\"_blank\" href=https://colab.research.google.com/notebooks/data_table.ipynb>data table notebook</a>'\n",
              "            + ' to learn more about interactive tables.';\n",
              "          element.innerHTML = '';\n",
              "          dataTable['output_type'] = 'display_data';\n",
              "          await google.colab.output.renderOutput(dataTable, element);\n",
              "          const docLink = document.createElement('div');\n",
              "          docLink.innerHTML = docLinkHtml;\n",
              "          element.appendChild(docLink);\n",
              "        }\n",
              "      </script>\n",
              "    </div>\n",
              "  </div>\n",
              "  "
            ]
          },
          "metadata": {},
          "execution_count": 34
        }
      ]
    },
    {
      "cell_type": "code",
      "source": [
        "credit_data[credit_data['Home Ownership']=='Home Mortgage'].sample(5)"
      ],
      "metadata": {
        "colab": {
          "base_uri": "https://localhost:8080/",
          "height": 582
        },
        "id": "EVi1QToo7PKb",
        "outputId": "2f754063-0a16-4280-804c-f8e6802f8f69"
      },
      "execution_count": 35,
      "outputs": [
        {
          "output_type": "execute_result",
          "data": {
            "text/plain": [
              "                                    Loan ID  \\\n",
              "71782  d4369668-89a6-4a3b-b241-63397d3c6b1e   \n",
              "63185  a0e2556c-200f-48db-bd98-96141bd05944   \n",
              "9297   421f4f59-c727-4abd-88ac-e65076b7cfc4   \n",
              "42738  24eac6fe-c94b-42d2-9495-eb9467875cb0   \n",
              "61260  95aaa46f-6d9e-485d-bde1-37b88c9c3855   \n",
              "\n",
              "                                Customer ID  Loan Status  Current Loan Amount  \\\n",
              "71782  a106f704-a260-40da-ac03-b57dcca7be61  Charged Off             568348.0   \n",
              "63185  9464ed58-d2c4-49e0-8e23-cc14c5d40325   Fully Paid             540936.0   \n",
              "9297   affa71f8-1291-4b40-aaad-049bdccb4264   Fully Paid              68112.0   \n",
              "42738  72a493ea-7dc9-495e-b59a-0659516fb961   Fully Paid             430936.0   \n",
              "61260  538c1d57-093e-48d4-afae-bfd4784af90d   Fully Paid             343948.0   \n",
              "\n",
              "             Term  Credit Score  Annual Income Years in current job  \\\n",
              "71782   Long Term         664.0      1147505.0              5 years   \n",
              "63185  Short Term         732.0      2142307.0            10+ years   \n",
              "9297   Short Term         719.0       734179.0            10+ years   \n",
              "42738  Short Term         733.0      2326075.0             < 1 year   \n",
              "61260   Long Term         708.0       798285.0              8 years   \n",
              "\n",
              "      Home Ownership             Purpose  Monthly Debt  \\\n",
              "71782  Home Mortgage  Debt Consolidation      28974.43   \n",
              "63185  Home Mortgage  Debt Consolidation      17727.76   \n",
              "9297   Home Mortgage  Debt Consolidation      13827.06   \n",
              "42738  Home Mortgage  Debt Consolidation      35472.62   \n",
              "61260  Home Mortgage  Debt Consolidation      24946.62   \n",
              "\n",
              "       Years of Credit History  Months since last delinquent  \\\n",
              "71782                      9.0                           NaN   \n",
              "63185                     28.3                           NaN   \n",
              "9297                      26.1                          61.0   \n",
              "42738                     18.0                           NaN   \n",
              "61260                     11.0                           NaN   \n",
              "\n",
              "       Number of Open Accounts  Number of Credit Problems  \\\n",
              "71782                     19.0                        0.0   \n",
              "63185                     21.0                        0.0   \n",
              "9297                      14.0                        1.0   \n",
              "42738                     11.0                        0.0   \n",
              "61260                     18.0                        0.0   \n",
              "\n",
              "       Current Credit Balance  Maximum Open Credit  Bankruptcies  Tax Liens  \\\n",
              "71782                393965.0             833932.0           0.0        0.0   \n",
              "63185                471922.0             785114.0           0.0        0.0   \n",
              "9297                  49704.0             267652.0           0.0        0.0   \n",
              "42738                333488.0             512798.0           0.0        0.0   \n",
              "61260                351443.0             485584.0           0.0        0.0   \n",
              "\n",
              "       null_count  \n",
              "71782           1  \n",
              "63185           1  \n",
              "9297            0  \n",
              "42738           1  \n",
              "61260           1  "
            ],
            "text/html": [
              "\n",
              "  <div id=\"df-d2426abd-a48b-44eb-a6ab-8270588e4fef\">\n",
              "    <div class=\"colab-df-container\">\n",
              "      <div>\n",
              "<style scoped>\n",
              "    .dataframe tbody tr th:only-of-type {\n",
              "        vertical-align: middle;\n",
              "    }\n",
              "\n",
              "    .dataframe tbody tr th {\n",
              "        vertical-align: top;\n",
              "    }\n",
              "\n",
              "    .dataframe thead th {\n",
              "        text-align: right;\n",
              "    }\n",
              "</style>\n",
              "<table border=\"1\" class=\"dataframe\">\n",
              "  <thead>\n",
              "    <tr style=\"text-align: right;\">\n",
              "      <th></th>\n",
              "      <th>Loan ID</th>\n",
              "      <th>Customer ID</th>\n",
              "      <th>Loan Status</th>\n",
              "      <th>Current Loan Amount</th>\n",
              "      <th>Term</th>\n",
              "      <th>Credit Score</th>\n",
              "      <th>Annual Income</th>\n",
              "      <th>Years in current job</th>\n",
              "      <th>Home Ownership</th>\n",
              "      <th>Purpose</th>\n",
              "      <th>Monthly Debt</th>\n",
              "      <th>Years of Credit History</th>\n",
              "      <th>Months since last delinquent</th>\n",
              "      <th>Number of Open Accounts</th>\n",
              "      <th>Number of Credit Problems</th>\n",
              "      <th>Current Credit Balance</th>\n",
              "      <th>Maximum Open Credit</th>\n",
              "      <th>Bankruptcies</th>\n",
              "      <th>Tax Liens</th>\n",
              "      <th>null_count</th>\n",
              "    </tr>\n",
              "  </thead>\n",
              "  <tbody>\n",
              "    <tr>\n",
              "      <th>71782</th>\n",
              "      <td>d4369668-89a6-4a3b-b241-63397d3c6b1e</td>\n",
              "      <td>a106f704-a260-40da-ac03-b57dcca7be61</td>\n",
              "      <td>Charged Off</td>\n",
              "      <td>568348.0</td>\n",
              "      <td>Long Term</td>\n",
              "      <td>664.0</td>\n",
              "      <td>1147505.0</td>\n",
              "      <td>5 years</td>\n",
              "      <td>Home Mortgage</td>\n",
              "      <td>Debt Consolidation</td>\n",
              "      <td>28974.43</td>\n",
              "      <td>9.0</td>\n",
              "      <td>NaN</td>\n",
              "      <td>19.0</td>\n",
              "      <td>0.0</td>\n",
              "      <td>393965.0</td>\n",
              "      <td>833932.0</td>\n",
              "      <td>0.0</td>\n",
              "      <td>0.0</td>\n",
              "      <td>1</td>\n",
              "    </tr>\n",
              "    <tr>\n",
              "      <th>63185</th>\n",
              "      <td>a0e2556c-200f-48db-bd98-96141bd05944</td>\n",
              "      <td>9464ed58-d2c4-49e0-8e23-cc14c5d40325</td>\n",
              "      <td>Fully Paid</td>\n",
              "      <td>540936.0</td>\n",
              "      <td>Short Term</td>\n",
              "      <td>732.0</td>\n",
              "      <td>2142307.0</td>\n",
              "      <td>10+ years</td>\n",
              "      <td>Home Mortgage</td>\n",
              "      <td>Debt Consolidation</td>\n",
              "      <td>17727.76</td>\n",
              "      <td>28.3</td>\n",
              "      <td>NaN</td>\n",
              "      <td>21.0</td>\n",
              "      <td>0.0</td>\n",
              "      <td>471922.0</td>\n",
              "      <td>785114.0</td>\n",
              "      <td>0.0</td>\n",
              "      <td>0.0</td>\n",
              "      <td>1</td>\n",
              "    </tr>\n",
              "    <tr>\n",
              "      <th>9297</th>\n",
              "      <td>421f4f59-c727-4abd-88ac-e65076b7cfc4</td>\n",
              "      <td>affa71f8-1291-4b40-aaad-049bdccb4264</td>\n",
              "      <td>Fully Paid</td>\n",
              "      <td>68112.0</td>\n",
              "      <td>Short Term</td>\n",
              "      <td>719.0</td>\n",
              "      <td>734179.0</td>\n",
              "      <td>10+ years</td>\n",
              "      <td>Home Mortgage</td>\n",
              "      <td>Debt Consolidation</td>\n",
              "      <td>13827.06</td>\n",
              "      <td>26.1</td>\n",
              "      <td>61.0</td>\n",
              "      <td>14.0</td>\n",
              "      <td>1.0</td>\n",
              "      <td>49704.0</td>\n",
              "      <td>267652.0</td>\n",
              "      <td>0.0</td>\n",
              "      <td>0.0</td>\n",
              "      <td>0</td>\n",
              "    </tr>\n",
              "    <tr>\n",
              "      <th>42738</th>\n",
              "      <td>24eac6fe-c94b-42d2-9495-eb9467875cb0</td>\n",
              "      <td>72a493ea-7dc9-495e-b59a-0659516fb961</td>\n",
              "      <td>Fully Paid</td>\n",
              "      <td>430936.0</td>\n",
              "      <td>Short Term</td>\n",
              "      <td>733.0</td>\n",
              "      <td>2326075.0</td>\n",
              "      <td>&lt; 1 year</td>\n",
              "      <td>Home Mortgage</td>\n",
              "      <td>Debt Consolidation</td>\n",
              "      <td>35472.62</td>\n",
              "      <td>18.0</td>\n",
              "      <td>NaN</td>\n",
              "      <td>11.0</td>\n",
              "      <td>0.0</td>\n",
              "      <td>333488.0</td>\n",
              "      <td>512798.0</td>\n",
              "      <td>0.0</td>\n",
              "      <td>0.0</td>\n",
              "      <td>1</td>\n",
              "    </tr>\n",
              "    <tr>\n",
              "      <th>61260</th>\n",
              "      <td>95aaa46f-6d9e-485d-bde1-37b88c9c3855</td>\n",
              "      <td>538c1d57-093e-48d4-afae-bfd4784af90d</td>\n",
              "      <td>Fully Paid</td>\n",
              "      <td>343948.0</td>\n",
              "      <td>Long Term</td>\n",
              "      <td>708.0</td>\n",
              "      <td>798285.0</td>\n",
              "      <td>8 years</td>\n",
              "      <td>Home Mortgage</td>\n",
              "      <td>Debt Consolidation</td>\n",
              "      <td>24946.62</td>\n",
              "      <td>11.0</td>\n",
              "      <td>NaN</td>\n",
              "      <td>18.0</td>\n",
              "      <td>0.0</td>\n",
              "      <td>351443.0</td>\n",
              "      <td>485584.0</td>\n",
              "      <td>0.0</td>\n",
              "      <td>0.0</td>\n",
              "      <td>1</td>\n",
              "    </tr>\n",
              "  </tbody>\n",
              "</table>\n",
              "</div>\n",
              "      <button class=\"colab-df-convert\" onclick=\"convertToInteractive('df-d2426abd-a48b-44eb-a6ab-8270588e4fef')\"\n",
              "              title=\"Convert this dataframe to an interactive table.\"\n",
              "              style=\"display:none;\">\n",
              "        \n",
              "  <svg xmlns=\"http://www.w3.org/2000/svg\" height=\"24px\"viewBox=\"0 0 24 24\"\n",
              "       width=\"24px\">\n",
              "    <path d=\"M0 0h24v24H0V0z\" fill=\"none\"/>\n",
              "    <path d=\"M18.56 5.44l.94 2.06.94-2.06 2.06-.94-2.06-.94-.94-2.06-.94 2.06-2.06.94zm-11 1L8.5 8.5l.94-2.06 2.06-.94-2.06-.94L8.5 2.5l-.94 2.06-2.06.94zm10 10l.94 2.06.94-2.06 2.06-.94-2.06-.94-.94-2.06-.94 2.06-2.06.94z\"/><path d=\"M17.41 7.96l-1.37-1.37c-.4-.4-.92-.59-1.43-.59-.52 0-1.04.2-1.43.59L10.3 9.45l-7.72 7.72c-.78.78-.78 2.05 0 2.83L4 21.41c.39.39.9.59 1.41.59.51 0 1.02-.2 1.41-.59l7.78-7.78 2.81-2.81c.8-.78.8-2.07 0-2.86zM5.41 20L4 18.59l7.72-7.72 1.47 1.35L5.41 20z\"/>\n",
              "  </svg>\n",
              "      </button>\n",
              "      \n",
              "  <style>\n",
              "    .colab-df-container {\n",
              "      display:flex;\n",
              "      flex-wrap:wrap;\n",
              "      gap: 12px;\n",
              "    }\n",
              "\n",
              "    .colab-df-convert {\n",
              "      background-color: #E8F0FE;\n",
              "      border: none;\n",
              "      border-radius: 50%;\n",
              "      cursor: pointer;\n",
              "      display: none;\n",
              "      fill: #1967D2;\n",
              "      height: 32px;\n",
              "      padding: 0 0 0 0;\n",
              "      width: 32px;\n",
              "    }\n",
              "\n",
              "    .colab-df-convert:hover {\n",
              "      background-color: #E2EBFA;\n",
              "      box-shadow: 0px 1px 2px rgba(60, 64, 67, 0.3), 0px 1px 3px 1px rgba(60, 64, 67, 0.15);\n",
              "      fill: #174EA6;\n",
              "    }\n",
              "\n",
              "    [theme=dark] .colab-df-convert {\n",
              "      background-color: #3B4455;\n",
              "      fill: #D2E3FC;\n",
              "    }\n",
              "\n",
              "    [theme=dark] .colab-df-convert:hover {\n",
              "      background-color: #434B5C;\n",
              "      box-shadow: 0px 1px 3px 1px rgba(0, 0, 0, 0.15);\n",
              "      filter: drop-shadow(0px 1px 2px rgba(0, 0, 0, 0.3));\n",
              "      fill: #FFFFFF;\n",
              "    }\n",
              "  </style>\n",
              "\n",
              "      <script>\n",
              "        const buttonEl =\n",
              "          document.querySelector('#df-d2426abd-a48b-44eb-a6ab-8270588e4fef button.colab-df-convert');\n",
              "        buttonEl.style.display =\n",
              "          google.colab.kernel.accessAllowed ? 'block' : 'none';\n",
              "\n",
              "        async function convertToInteractive(key) {\n",
              "          const element = document.querySelector('#df-d2426abd-a48b-44eb-a6ab-8270588e4fef');\n",
              "          const dataTable =\n",
              "            await google.colab.kernel.invokeFunction('convertToInteractive',\n",
              "                                                     [key], {});\n",
              "          if (!dataTable) return;\n",
              "\n",
              "          const docLinkHtml = 'Like what you see? Visit the ' +\n",
              "            '<a target=\"_blank\" href=https://colab.research.google.com/notebooks/data_table.ipynb>data table notebook</a>'\n",
              "            + ' to learn more about interactive tables.';\n",
              "          element.innerHTML = '';\n",
              "          dataTable['output_type'] = 'display_data';\n",
              "          await google.colab.output.renderOutput(dataTable, element);\n",
              "          const docLink = document.createElement('div');\n",
              "          docLink.innerHTML = docLinkHtml;\n",
              "          element.appendChild(docLink);\n",
              "        }\n",
              "      </script>\n",
              "    </div>\n",
              "  </div>\n",
              "  "
            ]
          },
          "metadata": {},
          "execution_count": 35
        }
      ]
    },
    {
      "cell_type": "code",
      "source": [
        "credit_data['Purpose'][credit_data['Home Ownership']=='Home Mortgage'].value_counts()"
      ],
      "metadata": {
        "colab": {
          "base_uri": "https://localhost:8080/"
        },
        "id": "upX-r0Yf7hNn",
        "outputId": "cf464eb3-6321-47b6-cdf7-fad638acce23"
      },
      "execution_count": 36,
      "outputs": [
        {
          "output_type": "execute_result",
          "data": {
            "text/plain": [
              "Debt Consolidation      31357\n",
              "Home Improvements        3783\n",
              "other                    1822\n",
              "Other                     962\n",
              "Business Loan             598\n",
              "Buy a Car                 457\n",
              "Medical Bills             406\n",
              "Buy House                 179\n",
              "major_purchase            127\n",
              "small_business            101\n",
              "Educational Expenses       24\n",
              "wedding                    23\n",
              "moving                     19\n",
              "vacation                   17\n",
              "renewable_energy            4\n",
              "Name: Purpose, dtype: int64"
            ]
          },
          "metadata": {},
          "execution_count": 36
        }
      ]
    },
    {
      "cell_type": "code",
      "source": [
        "credit_data['Purpose'][credit_data['Home Ownership']=='HaveMortgage'].value_counts()"
      ],
      "metadata": {
        "colab": {
          "base_uri": "https://localhost:8080/"
        },
        "id": "NfytNt037-Tv",
        "outputId": "a2cf9fc0-33c9-4869-d61e-0a8a79ca7cb9"
      },
      "execution_count": 37,
      "outputs": [
        {
          "output_type": "execute_result",
          "data": {
            "text/plain": [
              "Take a Trip    163\n",
              "Name: Purpose, dtype: int64"
            ]
          },
          "metadata": {},
          "execution_count": 37
        }
      ]
    },
    {
      "cell_type": "markdown",
      "source": [
        "Finding : It seems like where the purpose was selected as 'Take a Trip', there the type of Home Ownership is 'HaveMortgage'. This looks like a system error. We can replace this with 'Home Mortgage'."
      ],
      "metadata": {
        "id": "If8gfgl9880h"
      }
    },
    {
      "cell_type": "markdown",
      "source": [
        "### 6. Purpose\n",
        "The reason for which the loan was taken."
      ],
      "metadata": {
        "id": "cbzxGH3w-YPQ"
      }
    },
    {
      "cell_type": "code",
      "source": [
        "credit_data['Purpose'].value_counts()"
      ],
      "metadata": {
        "colab": {
          "base_uri": "https://localhost:8080/"
        },
        "id": "OxHckUcq-qpC",
        "outputId": "6e179913-eaec-4b37-e4a4-1d3556cb98a8"
      },
      "execution_count": 38,
      "outputs": [
        {
          "output_type": "execute_result",
          "data": {
            "text/plain": [
              "Debt Consolidation      64907\n",
              "Home Improvements        4795\n",
              "other                    4604\n",
              "Other                    2634\n",
              "Business Loan            1229\n",
              "Buy a Car                1081\n",
              "Medical Bills             880\n",
              "Buy House                 519\n",
              "Take a Trip               435\n",
              "major_purchase            303\n",
              "small_business            230\n",
              "moving                    116\n",
              "wedding                    93\n",
              "Educational Expenses       85\n",
              "vacation                   80\n",
              "renewable_energy            8\n",
              "Name: Purpose, dtype: int64"
            ]
          },
          "metadata": {},
          "execution_count": 38
        }
      ]
    },
    {
      "cell_type": "markdown",
      "source": [
        "Two fields called Other should be combined to one. Apart from this there are no issues. No null values."
      ],
      "metadata": {
        "id": "I60JKZzx_BWE"
      }
    },
    {
      "cell_type": "markdown",
      "source": [
        "### 7. Loan Status (Target Variable)\n",
        "The actual status of loan. Fully paid means the customer has paid and closed the loan. Charge Off means the customer did not pay the loan in full or in part."
      ],
      "metadata": {
        "id": "hhKUtssfB-S1"
      }
    },
    {
      "cell_type": "code",
      "source": [
        "credit_data['Loan Status'].value_counts()\n",
        "\n",
        "# No null values. Data is clean."
      ],
      "metadata": {
        "colab": {
          "base_uri": "https://localhost:8080/"
        },
        "id": "9xzxIqJXCGWi",
        "outputId": "be587e03-e72f-432f-883b-6853ec7ae4d8"
      },
      "execution_count": 39,
      "outputs": [
        {
          "output_type": "execute_result",
          "data": {
            "text/plain": [
              "Fully Paid     59360\n",
              "Charged Off    22639\n",
              "Name: Loan Status, dtype: int64"
            ]
          },
          "metadata": {},
          "execution_count": 39
        }
      ]
    },
    {
      "cell_type": "markdown",
      "source": [
        "## Continuous and Discrete Variable Exploration"
      ],
      "metadata": {
        "id": "aiomKKgnAjTh"
      }
    },
    {
      "cell_type": "markdown",
      "source": [
        "### 8. Current Loan Amount\n",
        "The amount of the current loan that the customer has taken."
      ],
      "metadata": {
        "id": "jARmi1z5BSZD"
      }
    },
    {
      "cell_type": "code",
      "source": [
        "# Percentile distribution and summary statistics\n",
        "print('Min = ', credit_data['Current Loan Amount'].min())\n",
        "print('Max = ', credit_data['Current Loan Amount'].max())\n",
        "print('Mean = ', credit_data['Current Loan Amount'].mean())\n",
        "print('Median', credit_data['Current Loan Amount'].median())\n",
        "\n",
        "percentile = credit_data['Current Loan Amount'].quantile([0, 0.1, 0.2, 0.25, 0.3, 0.4, 0.5, 0.6, 0.7, 0.75, 0.8, 0.9, 1.0])\n",
        "print(round(percentile, 2))\n",
        "\n",
        "percentile1 = credit_data['Current Loan Amount'].quantile([0.81, 0.82, 0.83, 0.84, 0.85, 0.86, 0.87, 0.88, 0.89, 0.90])\n",
        "print(round(percentile1, 2))\n",
        "\n",
        "# Boxplot\n",
        "plt.boxplot(credit_data['Current Loan Amount'])\n",
        "plt.show()"
      ],
      "metadata": {
        "colab": {
          "base_uri": "https://localhost:8080/",
          "height": 779
        },
        "id": "eqwCjqYRFFOy",
        "outputId": "e14ecdc1-11b5-44db-e52c-e73faf749a47"
      },
      "execution_count": 40,
      "outputs": [
        {
          "output_type": "stream",
          "name": "stdout",
          "text": [
            "Min =  10802.0\n",
            "Max =  99999999.0\n",
            "Mean =  12086403.309674509\n",
            "Median 307780.0\n",
            "0.00       10802.0\n",
            "0.10      109423.6\n",
            "0.20      157102.0\n",
            "0.25      179256.0\n",
            "0.30      212374.8\n",
            "0.40      248758.4\n",
            "0.50      307780.0\n",
            "0.60      364201.2\n",
            "0.70      446556.0\n",
            "0.75      519453.0\n",
            "0.80      587290.0\n",
            "0.90    99999999.0\n",
            "1.00    99999999.0\n",
            "Name: Current Loan Amount, dtype: float64\n",
            "0.81      614152.00\n",
            "0.82      640699.84\n",
            "0.83      660132.00\n",
            "0.84      682972.40\n",
            "0.85      752532.00\n",
            "0.86      763402.64\n",
            "0.87      774862.00\n",
            "0.88      787094.00\n",
            "0.89    99999999.00\n",
            "0.90    99999999.00\n",
            "Name: Current Loan Amount, dtype: float64\n"
          ]
        },
        {
          "output_type": "display_data",
          "data": {
            "text/plain": [
              "<Figure size 432x288 with 1 Axes>"
            ],
            "image/png": "[encoded data removed]"
          },
          "metadata": {
            "needs_background": "light"
          }
        }
      ]
    },
    {
      "cell_type": "markdown",
      "source": [
        "Findings : 99999999.00 is default value taken by the system. About 12%. \n",
        "\n",
        "Action : Create a new category as missing and non missing and mark the default values. Impute the default value with median."
      ],
      "metadata": {
        "id": "rnhtsYmFGdM9"
      }
    },
    {
      "cell_type": "markdown",
      "source": [
        "### 9. Credit Score\n",
        "The credit score of the customer. It determines credit worthiness. Generally it lies between a range of 300 and 950. The range may be different in different countries."
      ],
      "metadata": {
        "id": "TFEbOosaHQMx"
      }
    },
    {
      "cell_type": "code",
      "source": [
        "credit_data['Credit Score'].isnull().sum() # 14947\n",
        "# 14947 Null Values"
      ],
      "metadata": {
        "colab": {
          "base_uri": "https://localhost:8080/"
        },
        "id": "899zqNsiIEL9",
        "outputId": "2a5c7a3a-3ca3-4c56-b0ad-ad0a16a4a23b"
      },
      "execution_count": 41,
      "outputs": [
        {
          "output_type": "execute_result",
          "data": {
            "text/plain": [
              "14947"
            ]
          },
          "metadata": {},
          "execution_count": 41
        }
      ]
    },
    {
      "cell_type": "code",
      "source": [
        "print(14947*100/82000, '% null values')"
      ],
      "metadata": {
        "colab": {
          "base_uri": "https://localhost:8080/"
        },
        "id": "4wnIZtNwNPiW",
        "outputId": "28907991-dc4b-4d9d-bdde-34470b5b04e2"
      },
      "execution_count": 42,
      "outputs": [
        {
          "output_type": "stream",
          "name": "stdout",
          "text": [
            "18.228048780487804 % null values\n"
          ]
        }
      ]
    },
    {
      "cell_type": "code",
      "source": [
        "# Percentile distribution and summary statistics\n",
        "print('Min = ', credit_data['Credit Score'].min())\n",
        "print('Max = ', credit_data['Credit Score'].max())\n",
        "print('Mean = ', credit_data['Credit Score'].mean())\n",
        "print('Median', credit_data['Credit Score'].median())\n",
        "\n",
        "percentile = credit_data['Credit Score'].quantile([0, 0.1, 0.2, 0.25, 0.3, 0.4, 0.5, 0.6, 0.7, 0.75, 0.8, 0.9, 1.0])\n",
        "print(round(percentile, 2))\n",
        "\n",
        "percentile1 = credit_data['Credit Score'].quantile([0.91, 0.92, 0.93, 0.94, 0.95, 0.96, 0.97, 0.98, 0.99, 1.0])\n",
        "print(round(percentile1, 2))\n"
      ],
      "metadata": {
        "colab": {
          "base_uri": "https://localhost:8080/"
        },
        "id": "ylxuafyFHwyO",
        "outputId": "6884b01e-55f9-4f7f-e68e-58f7f981bd5f"
      },
      "execution_count": 43,
      "outputs": [
        {
          "output_type": "stream",
          "name": "stdout",
          "text": [
            "Min =  585.0\n",
            "Max =  7510.0\n",
            "Mean =  1153.8584083994513\n",
            "Median 730.0\n",
            "0.00     585.0\n",
            "0.10     684.0\n",
            "0.20     704.0\n",
            "0.25     710.0\n",
            "0.30     715.0\n",
            "0.40     723.0\n",
            "0.50     730.0\n",
            "0.60     737.0\n",
            "0.70     741.0\n",
            "0.75     743.0\n",
            "0.80     745.0\n",
            "0.90     749.0\n",
            "1.00    7510.0\n",
            "Name: Credit Score, dtype: float64\n",
            "0.91     750.0\n",
            "0.92     750.0\n",
            "0.93     751.0\n",
            "0.94    6710.0\n",
            "0.95    6970.0\n",
            "0.96    7120.0\n",
            "0.97    7230.0\n",
            "0.98    7320.0\n",
            "0.99    7400.0\n",
            "1.00    7510.0\n",
            "Name: Credit Score, dtype: float64\n"
          ]
        }
      ]
    },
    {
      "cell_type": "markdown",
      "source": [
        "It looks like from 94 %ile the values are out of the normal range. However, a more sensible understanding would be that the actual credit score has been multiplied by 10 by mistake. We need to explore further to confirm this."
      ],
      "metadata": {
        "id": "6rpuhsiEJrEq"
      }
    },
    {
      "cell_type": "code",
      "source": [
        "credit_data['Credit Score'][credit_data['Credit Score']>751].sort_values()"
      ],
      "metadata": {
        "colab": {
          "base_uri": "https://localhost:8080/"
        },
        "id": "B8Ym2LNJKnB9",
        "outputId": "e5c7b9af-5baa-4b3d-8755-3a2be42bf3c4"
      },
      "execution_count": 44,
      "outputs": [
        {
          "output_type": "execute_result",
          "data": {
            "text/plain": [
              "35970    5850.0\n",
              "57010    5850.0\n",
              "19257    5860.0\n",
              "37720    5890.0\n",
              "19334    5900.0\n",
              "          ...  \n",
              "39825    7510.0\n",
              "74896    7510.0\n",
              "55663    7510.0\n",
              "22901    7510.0\n",
              "36967    7510.0\n",
              "Name: Credit Score, Length: 4551, dtype: float64"
            ]
          },
          "metadata": {},
          "execution_count": 44
        }
      ]
    },
    {
      "cell_type": "markdown",
      "source": [
        "751 seems to be the highest possible correct value. Beyond it all values have been multiplied by 10. \n",
        "\n",
        "Action 1 : Divide the values which are greater than 751 by 10. This will give the correct values.\n",
        "\n",
        "Action 2 : Create a flag variable as missing and non-missing. Impute with median. Performing Action 1  will make the median more accurate."
      ],
      "metadata": {
        "id": "hhbfYvgSMIv7"
      }
    },
    {
      "cell_type": "markdown",
      "source": [
        "### 10. Annual Income\n",
        "Annual income of the customer."
      ],
      "metadata": {
        "id": "WzWqFdHR8nM-"
      }
    },
    {
      "cell_type": "code",
      "source": [
        "credit_data['Annual Income'].isnull().sum() # 14947\n",
        "# 14947 Null Values"
      ],
      "metadata": {
        "id": "adbrvwNKIwlP",
        "colab": {
          "base_uri": "https://localhost:8080/"
        },
        "outputId": "ff9e4382-5e96-4728-c5e1-b152c70ff41d"
      },
      "execution_count": 45,
      "outputs": [
        {
          "output_type": "execute_result",
          "data": {
            "text/plain": [
              "14947"
            ]
          },
          "metadata": {},
          "execution_count": 45
        }
      ]
    },
    {
      "cell_type": "code",
      "source": [
        "print(14947*100/82000, '% null values')"
      ],
      "metadata": {
        "colab": {
          "base_uri": "https://localhost:8080/"
        },
        "id": "Lb7iUiDj-OpD",
        "outputId": "2e166c9c-db0f-4780-a9a8-29cdd0452940"
      },
      "execution_count": 46,
      "outputs": [
        {
          "output_type": "stream",
          "name": "stdout",
          "text": [
            "18.228048780487804 % null values\n"
          ]
        }
      ]
    },
    {
      "cell_type": "code",
      "source": [
        "# Percentile distribution and summary statistics\n",
        "print('Min = ', credit_data['Annual Income'].min())\n",
        "print('Max = ', credit_data['Annual Income'].max())\n",
        "print('Mean = ', credit_data['Annual Income'].mean())\n",
        "print('Median', credit_data['Annual Income'].median())\n",
        "\n",
        "percentile = credit_data['Annual Income'].quantile([0, 0.1, 0.2, 0.25, 0.3, 0.4, 0.5, 0.6, 0.7, 0.75, 0.8, 0.9, 1.0])\n",
        "print(round(percentile, 2))\n",
        "\n",
        "percentile1 = credit_data['Annual Income'].quantile([0.91, 0.92, 0.93, 0.94, 0.95, 0.96, 0.97, 0.98, 0.99, 1.0])\n",
        "print(round(percentile1, 2))\n"
      ],
      "metadata": {
        "colab": {
          "base_uri": "https://localhost:8080/"
        },
        "id": "Kqd20itz-w7b",
        "outputId": "698cf249-423d-44c3-9bfd-bc1f9f6c08b3"
      },
      "execution_count": 47,
      "outputs": [
        {
          "output_type": "stream",
          "name": "stdout",
          "text": [
            "Min =  76627.0\n",
            "Max =  165557393.0\n",
            "Mean =  1376503.1287806479\n",
            "Median 1170628.0\n",
            "0.00    7.662700e+04\n",
            "0.10    6.325157e+05\n",
            "0.20    7.753520e+05\n",
            "0.25    8.478608e+05\n",
            "0.30    9.176145e+05\n",
            "0.40    1.039984e+06\n",
            "0.50    1.170628e+06\n",
            "0.60    1.340241e+06\n",
            "0.70    1.530296e+06\n",
            "0.75    1.649257e+06\n",
            "0.80    1.799992e+06\n",
            "0.90    2.279316e+06\n",
            "1.00    1.655574e+08\n",
            "Name: Annual Income, dtype: float64\n",
            "0.91    2.334562e+06\n",
            "0.92    2.423278e+06\n",
            "0.93    2.521376e+06\n",
            "0.94    2.659452e+06\n",
            "0.95    2.806238e+06\n",
            "0.96    2.959109e+06\n",
            "0.97    3.253382e+06\n",
            "0.98    3.709180e+06\n",
            "0.99    4.552640e+06\n",
            "1.00    1.655574e+08\n",
            "Name: Annual Income, dtype: float64\n"
          ]
        }
      ]
    },
    {
      "cell_type": "code",
      "source": [
        "# Detecting the value above which we can consider the rest as outlliers\n",
        "credit_data['Annual Income'][(credit_data['Annual Income']>3000000.0)].sort_values()"
      ],
      "metadata": {
        "colab": {
          "base_uri": "https://localhost:8080/"
        },
        "id": "7MRVvjinBecO",
        "outputId": "8fe55770-330e-48ed-c2f9-427de3d6eadf"
      },
      "execution_count": 48,
      "outputs": [
        {
          "output_type": "execute_result",
          "data": {
            "text/plain": [
              "55313      3000480.0\n",
              "10690      3000670.0\n",
              "37879      3000955.0\n",
              "18503      3001354.0\n",
              "18811      3001544.0\n",
              "            ...     \n",
              "58639     24161540.0\n",
              "9894      28095300.0\n",
              "30576     30838995.0\n",
              "37711     36475440.0\n",
              "54760    165557393.0\n",
              "Name: Annual Income, Length: 2566, dtype: float64"
            ]
          },
          "metadata": {},
          "execution_count": 48
        }
      ]
    },
    {
      "cell_type": "markdown",
      "source": [
        "Findings - We can consider values above 3,000,000 as outliers which constitutes 4% of the values.\n",
        "\n",
        "Action 1: Impute the high side outliers (values above 3000000) with median.\n",
        "\n",
        "Action 2: Create a flag variable to highlight outlier + null values. Impute the null values with median.\n"
      ],
      "metadata": {
        "id": "Ib1kM96zDrQO"
      }
    },
    {
      "cell_type": "markdown",
      "source": [
        "### 11. Monthly Debt\n",
        " Monthly installment on loans. The amount the customer spents in repaying loans every month."
      ],
      "metadata": {
        "id": "jp3MnQiKEiUn"
      }
    },
    {
      "cell_type": "code",
      "source": [
        "credit_data['Monthly Debt'].isnull().sum() # 0\n",
        "# No Null Values"
      ],
      "metadata": {
        "colab": {
          "base_uri": "https://localhost:8080/"
        },
        "id": "Ed8pOKehEv7N",
        "outputId": "d5deb172-2ffb-4a03-f692-ba2b9d8f1d30"
      },
      "execution_count": 49,
      "outputs": [
        {
          "output_type": "execute_result",
          "data": {
            "text/plain": [
              "0"
            ]
          },
          "metadata": {},
          "execution_count": 49
        }
      ]
    },
    {
      "cell_type": "code",
      "source": [
        "# Percentile distribution and summary statistics\n",
        "print('Min = ', credit_data['Monthly Debt'].min())\n",
        "print('Max = ', credit_data['Monthly Debt'].max())\n",
        "print('Mean = ', credit_data['Monthly Debt'].mean())\n",
        "print('Median', credit_data['Monthly Debt'].median())\n",
        "\n",
        "percentile = credit_data['Monthly Debt'].quantile([0, 0.1, 0.2, 0.25, 0.3, 0.4, 0.5, 0.6, 0.7, 0.75, 0.8, 0.9, 1.0])\n",
        "print(round(percentile, 2))\n",
        "\n",
        "percentile1 = credit_data['Monthly Debt'].quantile([0.91, 0.92, 0.93, 0.94, 0.95, 0.96, 0.97, 0.98, 0.99, 1.0])\n",
        "print(round(percentile1, 2))\n",
        "\n",
        "# Boxplot\n",
        "plt.boxplot(credit_data['Monthly Debt'])\n",
        "plt.show()\n"
      ],
      "metadata": {
        "colab": {
          "base_uri": "https://localhost:8080/",
          "height": 768
        },
        "id": "ShrkqSQ5FSo5",
        "outputId": "0cb36531-22d9-443c-aa0f-c6aad7809a00"
      },
      "execution_count": 50,
      "outputs": [
        {
          "output_type": "stream",
          "name": "stdout",
          "text": [
            "Min =  0.0\n",
            "Max =  435843.28\n",
            "Mean =  18330.633109550115\n",
            "Median 16075.33\n",
            "0.00         0.00\n",
            "0.10      5699.70\n",
            "0.20      8821.70\n",
            "0.25     10117.60\n",
            "0.30     11327.88\n",
            "0.40     13692.81\n",
            "0.50     16075.33\n",
            "0.60     18733.77\n",
            "0.70     21924.02\n",
            "0.75     23811.37\n",
            "0.80     26130.70\n",
            "0.90     33188.67\n",
            "1.00    435843.28\n",
            "Name: Monthly Debt, dtype: float64\n",
            "0.91     34263.58\n",
            "0.92     35512.23\n",
            "0.93     36772.33\n",
            "0.94     38403.40\n",
            "0.95     40235.88\n",
            "0.96     42607.70\n",
            "0.97     45791.00\n",
            "0.98     50521.35\n",
            "0.99     58543.92\n",
            "1.00    435843.28\n",
            "Name: Monthly Debt, dtype: float64\n"
          ]
        },
        {
          "output_type": "display_data",
          "data": {
            "text/plain": [
              "<Figure size 432x288 with 1 Axes>"
            ],
            "image/png": "[encoded data removed]"
          },
          "metadata": {
            "needs_background": "light"
          }
        }
      ]
    },
    {
      "cell_type": "code",
      "source": [
        "# Investigating the high side outliers\n",
        "\n",
        "debt = credit_data['Monthly Debt'][credit_data['Monthly Debt'] > 58543.92]\n",
        "percentile = debt.quantile([0, 0.1, 0.2, 0.25, 0.3, 0.4, 0.5, 0.6, 0.7, 0.75, 0.8, 0.9, 1.0])\n",
        "print(round(percentile, 2))"
      ],
      "metadata": {
        "colab": {
          "base_uri": "https://localhost:8080/"
        },
        "id": "mDfceANRFtju",
        "outputId": "9971d849-b2a3-4f5e-f04a-d1c71ddbe4c7"
      },
      "execution_count": 51,
      "outputs": [
        {
          "output_type": "stream",
          "name": "stdout",
          "text": [
            "0.00     58552.49\n",
            "0.10     59909.98\n",
            "0.20     61574.86\n",
            "0.25     62247.99\n",
            "0.30     63175.59\n",
            "0.40     65403.21\n",
            "0.50     67592.02\n",
            "0.60     70567.71\n",
            "0.70     74080.43\n",
            "0.75     76957.98\n",
            "0.80     80437.07\n",
            "0.90     93899.22\n",
            "1.00    435843.28\n",
            "Name: Monthly Debt, dtype: float64\n"
          ]
        }
      ]
    },
    {
      "cell_type": "markdown",
      "source": [
        "Findings : Consider values above 70000 as outliers. Impute with median. Rest all are fine."
      ],
      "metadata": {
        "id": "nTIHRvq-Gl3a"
      }
    },
    {
      "cell_type": "markdown",
      "source": [
        "### 12. Years of Credit History\n",
        "How old is the credit history of the customer. The time in years since the customer got a credit line approved by a financial institution for the first time."
      ],
      "metadata": {
        "id": "D8ERg5dEHh4Q"
      }
    },
    {
      "cell_type": "code",
      "source": [
        "credit_data['Years of Credit History'].isnull().sum() # 0\n",
        "# No Null Values"
      ],
      "metadata": {
        "colab": {
          "base_uri": "https://localhost:8080/"
        },
        "id": "odthd1-AH9-4",
        "outputId": "10229c52-af0d-42ef-b1a1-59761bf7019e"
      },
      "execution_count": 52,
      "outputs": [
        {
          "output_type": "execute_result",
          "data": {
            "text/plain": [
              "0"
            ]
          },
          "metadata": {},
          "execution_count": 52
        }
      ]
    },
    {
      "cell_type": "code",
      "source": [
        "# Percentile distribution and summary statistics\n",
        "print('Min = ', credit_data['Years of Credit History'].min())\n",
        "print('Max = ', credit_data['Years of Credit History'].max())\n",
        "print('Mean = ', credit_data['Years of Credit History'].mean())\n",
        "print('Median', credit_data['Years of Credit History'].median())\n",
        "\n",
        "percentile = credit_data['Years of Credit History'].quantile([0, 0.1, 0.2, 0.25, 0.3, 0.4, 0.5, 0.6, 0.7, 0.75, 0.8, 0.9, 1.0])\n",
        "print(round(percentile, 2))\n",
        "\n",
        "percentile1 = credit_data['Years of Credit History'].quantile([0.91, 0.92, 0.93, 0.94, 0.95, 0.96, 0.97, 0.98, 0.99, 1.0])\n",
        "print(round(percentile1, 2))\n",
        "\n",
        "# Boxplot\n",
        "plt.boxplot(credit_data['Years of Credit History'])\n",
        "plt.show()\n"
      ],
      "metadata": {
        "colab": {
          "base_uri": "https://localhost:8080/",
          "height": 768
        },
        "id": "DRSIfF5xIGT-",
        "outputId": "0d53838c-0890-4c19-fa7b-63cec1e5f7b4"
      },
      "execution_count": 53,
      "outputs": [
        {
          "output_type": "stream",
          "name": "stdout",
          "text": [
            "Min =  3.6\n",
            "Max =  70.5\n",
            "Mean =  18.29678288759619\n",
            "Median 17.0\n",
            "0.00     3.6\n",
            "0.10    10.5\n",
            "0.20    12.7\n",
            "0.25    13.5\n",
            "0.30    14.3\n",
            "0.40    15.7\n",
            "0.50    17.0\n",
            "0.60    18.6\n",
            "0.70    20.6\n",
            "0.75    21.8\n",
            "0.80    23.1\n",
            "0.90    27.9\n",
            "1.00    70.5\n",
            "Name: Years of Credit History, dtype: float64\n",
            "0.91    28.5\n",
            "0.92    29.1\n",
            "0.93    30.0\n",
            "0.94    30.9\n",
            "0.95    31.8\n",
            "0.96    33.0\n",
            "0.97    34.5\n",
            "0.98    37.1\n",
            "0.99    40.4\n",
            "1.00    70.5\n",
            "Name: Years of Credit History, dtype: float64\n"
          ]
        },
        {
          "output_type": "display_data",
          "data": {
            "text/plain": [
              "<Figure size 432x288 with 1 Axes>"
            ],
            "image/png": "[encoded data removed]"
          },
          "metadata": {
            "needs_background": "light"
          }
        }
      ]
    },
    {
      "cell_type": "code",
      "source": [
        "# Investigating the high side outliers\n",
        "\n",
        "credit_data['Years of Credit History'][(credit_data['Years of Credit History'] > 45)].sort_values()"
      ],
      "metadata": {
        "colab": {
          "base_uri": "https://localhost:8080/"
        },
        "id": "ZEXIP57aIg9l",
        "outputId": "15e51357-1ca2-40f0-fb7f-ff77c984c8ea"
      },
      "execution_count": 54,
      "outputs": [
        {
          "output_type": "execute_result",
          "data": {
            "text/plain": [
              "60523    45.1\n",
              "91628    45.1\n",
              "35919    45.1\n",
              "73960    45.2\n",
              "23698    45.2\n",
              "         ... \n",
              "70659    59.9\n",
              "65242    60.5\n",
              "79537    60.5\n",
              "32585    65.0\n",
              "17879    70.5\n",
              "Name: Years of Credit History, Length: 298, dtype: float64"
            ]
          },
          "metadata": {},
          "execution_count": 54
        }
      ]
    },
    {
      "cell_type": "markdown",
      "source": [
        "Findings : Since the distribution seems normal even in the top 1 %ile of values and the highest credit history of 70.5 years is practically possible, we can consider that there are no outliers. Data is clean."
      ],
      "metadata": {
        "id": "SWDCS5IMI-Fk"
      }
    },
    {
      "cell_type": "markdown",
      "source": [
        "### 13. Months since last delinquent\n",
        "Number of months since the customer since the customer was last reported as delinquent. In other words, the number of months since which the customer moved from delinquent to non-delinquent, hand has been regular in payments."
      ],
      "metadata": {
        "id": "WikVAduDJZ9z"
      }
    },
    {
      "cell_type": "code",
      "source": [
        "credit_data['Months since last delinquent'].isnull().sum() # 44621\n",
        "print(44621*100/82000, '% Null values')"
      ],
      "metadata": {
        "colab": {
          "base_uri": "https://localhost:8080/"
        },
        "id": "YhY50egkJi6c",
        "outputId": "4bcf9f58-2725-480f-e1c3-7a3d68da476a"
      },
      "execution_count": 55,
      "outputs": [
        {
          "output_type": "stream",
          "name": "stdout",
          "text": [
            "54.415853658536584 % Null values\n"
          ]
        }
      ]
    },
    {
      "cell_type": "code",
      "source": [
        "available = credit_data['Months since last delinquent'][credit_data['Months since last delinquent'].isnull()==False]\n",
        "percentile = available.quantile([0, 0.1, 0.2, 0.25, 0.3, 0.4, 0.5, 0.6, 0.7, 0.75, 0.8, 0.9, 1.0])\n",
        "print(round(percentile, 2))"
      ],
      "metadata": {
        "colab": {
          "base_uri": "https://localhost:8080/"
        },
        "id": "OMb8PXFfsaVM",
        "outputId": "53aae10e-3d6d-4b32-8510-0e231f120f83"
      },
      "execution_count": 56,
      "outputs": [
        {
          "output_type": "stream",
          "name": "stdout",
          "text": [
            "0.00      0.0\n",
            "0.10      8.0\n",
            "0.20     14.0\n",
            "0.25     16.0\n",
            "0.30     19.0\n",
            "0.40     25.0\n",
            "0.50     32.0\n",
            "0.60     39.0\n",
            "0.70     47.0\n",
            "0.75     51.0\n",
            "0.80     57.0\n",
            "0.90     69.0\n",
            "1.00    176.0\n",
            "Name: Months since last delinquent, dtype: float64\n"
          ]
        }
      ]
    },
    {
      "cell_type": "code",
      "source": [
        "percentile = available.quantile([0.91, 0.92, 0.93, 0.94, 0.95, 0.96, 0.97, 0.98, 0.99, 1.0])\n",
        "print(round(percentile, 2))"
      ],
      "metadata": {
        "colab": {
          "base_uri": "https://localhost:8080/"
        },
        "id": "A9ZJaC4nshsM",
        "outputId": "66a4d1db-ce15-4391-d3aa-319e1a4fe8fa"
      },
      "execution_count": 57,
      "outputs": [
        {
          "output_type": "stream",
          "name": "stdout",
          "text": [
            "0.91     70.0\n",
            "0.92     71.0\n",
            "0.93     72.0\n",
            "0.94     74.0\n",
            "0.95     75.0\n",
            "0.96     76.0\n",
            "0.97     78.0\n",
            "0.98     79.0\n",
            "0.99     81.0\n",
            "1.00    176.0\n",
            "Name: Months since last delinquent, dtype: float64\n"
          ]
        }
      ]
    },
    {
      "cell_type": "markdown",
      "source": [
        "Findings : Percentage of null values is greater than 50%. There are no outliers in available values. We cannot use this data in model building. So we will exclude this data.\n",
        "\n",
        "Action : Create a flag of missing and non-missing and mark the null values."
      ],
      "metadata": {
        "id": "jr7HiiwUKQhY"
      }
    },
    {
      "cell_type": "markdown",
      "source": [
        "### 14. Number of Open Accounts\n",
        "Number of open loan accounts showing in the credit report/history."
      ],
      "metadata": {
        "id": "VCvz_ZzPKkXv"
      }
    },
    {
      "cell_type": "code",
      "source": [
        "credit_data['Number of Open Accounts'].isnull().sum() # 0\n",
        "# No Null Values"
      ],
      "metadata": {
        "colab": {
          "base_uri": "https://localhost:8080/"
        },
        "id": "sRrOao7oMAPM",
        "outputId": "a42507ed-42bc-48a5-9e2f-fbd90ca0a8e1"
      },
      "execution_count": 58,
      "outputs": [
        {
          "output_type": "execute_result",
          "data": {
            "text/plain": [
              "0"
            ]
          },
          "metadata": {},
          "execution_count": 58
        }
      ]
    },
    {
      "cell_type": "code",
      "source": [
        "# Percentile distribution and summary statistics\n",
        "print('Min = ', credit_data['Number of Open Accounts'].min())\n",
        "print('Max = ', credit_data['Number of Open Accounts'].max())\n",
        "print('Mean = ', credit_data['Number of Open Accounts'].mean())\n",
        "print('Median', credit_data['Number of Open Accounts'].median())\n",
        "\n",
        "percentile = credit_data['Number of Open Accounts'].quantile([0, 0.1, 0.2, 0.25, 0.3, 0.4, 0.5, 0.6, 0.7, 0.75, 0.8, 0.9, 1.0])\n",
        "print(round(percentile, 2))\n",
        "\n",
        "percentile1 = credit_data['Number of Open Accounts'].quantile([0.91, 0.92, 0.93, 0.94, 0.95, 0.96, 0.97, 0.98, 0.99, 1.0])\n",
        "print(round(percentile1, 2))\n",
        "\n",
        "# Boxplot\n",
        "plt.boxplot(credit_data['Number of Open Accounts'])\n",
        "plt.show()"
      ],
      "metadata": {
        "colab": {
          "base_uri": "https://localhost:8080/",
          "height": 768
        },
        "id": "UIp4Uix5MJOv",
        "outputId": "9f0ac8e8-4ad2-4a86-fd09-ffaa7e9d26c4"
      },
      "execution_count": 59,
      "outputs": [
        {
          "output_type": "stream",
          "name": "stdout",
          "text": [
            "Min =  0.0\n",
            "Max =  76.0\n",
            "Mean =  11.114489201087817\n",
            "Median 10.0\n",
            "0.00     0.0\n",
            "0.10     6.0\n",
            "0.20     7.0\n",
            "0.25     8.0\n",
            "0.30     8.0\n",
            "0.40     9.0\n",
            "0.50    10.0\n",
            "0.60    11.0\n",
            "0.70    13.0\n",
            "0.75    14.0\n",
            "0.80    15.0\n",
            "0.90    18.0\n",
            "1.00    76.0\n",
            "Name: Number of Open Accounts, dtype: float64\n",
            "0.91    18.0\n",
            "0.92    19.0\n",
            "0.93    19.0\n",
            "0.94    20.0\n",
            "0.95    20.0\n",
            "0.96    21.0\n",
            "0.97    22.0\n",
            "0.98    24.0\n",
            "0.99    27.0\n",
            "1.00    76.0\n",
            "Name: Number of Open Accounts, dtype: float64\n"
          ]
        },
        {
          "output_type": "display_data",
          "data": {
            "text/plain": [
              "<Figure size 432x288 with 1 Axes>"
            ],
            "image/png": "[encoded data removed]"
          },
          "metadata": {
            "needs_background": "light"
          }
        }
      ]
    },
    {
      "cell_type": "code",
      "source": [
        "# Investigating the high side outliers\n",
        "\n",
        "credit_data['Number of Open Accounts'][(credit_data['Number of Open Accounts'] > 30)].sort_values()\n",
        "credit_data['Number of Open Accounts'][(credit_data['Number of Open Accounts'] > 30)].value_counts().sum()"
      ],
      "metadata": {
        "colab": {
          "base_uri": "https://localhost:8080/"
        },
        "id": "LFFE9FZVMiid",
        "outputId": "cf38e092-bae4-4bc6-9464-e181d651e903"
      },
      "execution_count": 60,
      "outputs": [
        {
          "output_type": "execute_result",
          "data": {
            "text/plain": [
              "300"
            ]
          },
          "metadata": {},
          "execution_count": 60
        }
      ]
    },
    {
      "cell_type": "markdown",
      "source": [
        "Findings : Taking 30 as the maximum number of open loan accounts, we have 300 outliers. Since it is less than 1%, we can impute with the median."
      ],
      "metadata": {
        "id": "q8-z23NVNpV2"
      }
    },
    {
      "cell_type": "markdown",
      "source": [
        "### 15. Number of Credit Problems\n",
        "Number of times some issue regarding delinquency in repayment was reported."
      ],
      "metadata": {
        "id": "bGr0duvNONma"
      }
    },
    {
      "cell_type": "code",
      "source": [
        "credit_data['Number of Credit Problems'].isnull().sum() # 0\n",
        "# No Null Values"
      ],
      "metadata": {
        "colab": {
          "base_uri": "https://localhost:8080/"
        },
        "id": "VsMew4Z7OMOY",
        "outputId": "290885fd-31bb-4745-8f0b-55fa7ea822f1"
      },
      "execution_count": 61,
      "outputs": [
        {
          "output_type": "execute_result",
          "data": {
            "text/plain": [
              "0"
            ]
          },
          "metadata": {},
          "execution_count": 61
        }
      ]
    },
    {
      "cell_type": "code",
      "source": [
        "# Discrete variable\n",
        "credit_data['Number of Credit Problems'].value_counts()"
      ],
      "metadata": {
        "colab": {
          "base_uri": "https://localhost:8080/"
        },
        "id": "c_j8P8o0P1DY",
        "outputId": "e33a5a0c-efeb-4d1f-c922-c02c1e97eea3"
      },
      "execution_count": 62,
      "outputs": [
        {
          "output_type": "execute_result",
          "data": {
            "text/plain": [
              "0.0     70990\n",
              "1.0      9539\n",
              "2.0      1014\n",
              "3.0       293\n",
              "4.0        95\n",
              "5.0        40\n",
              "6.0        13\n",
              "7.0         6\n",
              "8.0         2\n",
              "9.0         2\n",
              "10.0        2\n",
              "15.0        1\n",
              "12.0        1\n",
              "11.0        1\n",
              "Name: Number of Credit Problems, dtype: int64"
            ]
          },
          "metadata": {},
          "execution_count": 62
        }
      ]
    },
    {
      "cell_type": "markdown",
      "source": [
        "Findings : No issues. Data is clean."
      ],
      "metadata": {
        "id": "r3x2lv4LQxcY"
      }
    },
    {
      "cell_type": "markdown",
      "source": [
        "### 16. Current Credit Balance"
      ],
      "metadata": {
        "id": "mcNfs6cYRSFt"
      }
    },
    {
      "cell_type": "code",
      "source": [
        "credit_data['Current Credit Balance'].isnull().sum() # 0\n",
        "# No Null Values"
      ],
      "metadata": {
        "colab": {
          "base_uri": "https://localhost:8080/"
        },
        "id": "79sfeiwtP_Yc",
        "outputId": "99bd45b9-8cb1-432f-88a5-06326defce55"
      },
      "execution_count": 63,
      "outputs": [
        {
          "output_type": "execute_result",
          "data": {
            "text/plain": [
              "0"
            ]
          },
          "metadata": {},
          "execution_count": 63
        }
      ]
    },
    {
      "cell_type": "code",
      "source": [
        "# Percentile distribution and summary statistics\n",
        "print('Min = ', credit_data['Current Credit Balance'].min())\n",
        "print('Max = ', credit_data['Current Credit Balance'].max())\n",
        "print('Mean = ', credit_data['Current Credit Balance'].mean())\n",
        "print('Median', credit_data['Current Credit Balance'].median())\n",
        "\n",
        "percentile = credit_data['Current Credit Balance'].quantile([0, 0.1, 0.2, 0.25, 0.3, 0.4, 0.5, 0.6, 0.7, 0.75, 0.8, 0.9, 1.0])\n",
        "print(round(percentile, 2))\n",
        "\n",
        "percentile1 = credit_data['Current Credit Balance'].quantile([0.91, 0.92, 0.93, 0.94, 0.95, 0.96, 0.97, 0.98, 0.99, 1.0])\n",
        "print(round(percentile1, 2))\n",
        "\n",
        "# Boxplot\n",
        "plt.boxplot(credit_data['Current Credit Balance'])\n",
        "plt.show()"
      ],
      "metadata": {
        "colab": {
          "base_uri": "https://localhost:8080/",
          "height": 779
        },
        "id": "K0da3ViYSAex",
        "outputId": "a1fb20ff-db76-4a03-a27c-c1eee662cc11"
      },
      "execution_count": 64,
      "outputs": [
        {
          "output_type": "stream",
          "name": "stdout",
          "text": [
            "Min =  0.0\n",
            "Max =  32878968.0\n",
            "Mean =  293620.31336967525\n",
            "Median 209931.0\n",
            "0.00           0.0\n",
            "0.10       57551.0\n",
            "0.20       95855.0\n",
            "0.25      113316.0\n",
            "0.30      130860.6\n",
            "0.40      167960.0\n",
            "0.50      209931.0\n",
            "0.60      260106.2\n",
            "0.70      325006.4\n",
            "0.75      366994.5\n",
            "0.80      419083.0\n",
            "0.90      587065.8\n",
            "1.00    32878968.0\n",
            "Name: Current Credit Balance, dtype: float64\n",
            "0.91      613022.84\n",
            "0.92      641129.16\n",
            "0.93      674120.00\n",
            "0.94      713262.28\n",
            "0.95      759855.60\n",
            "0.96      827666.60\n",
            "0.97      923714.26\n",
            "0.98     1102270.56\n",
            "0.99     1539760.76\n",
            "1.00    32878968.00\n",
            "Name: Current Credit Balance, dtype: float64\n"
          ]
        },
        {
          "output_type": "display_data",
          "data": {
            "text/plain": [
              "<Figure size 432x288 with 1 Axes>"
            ],
            "image/png": "[encoded data removed]"
          },
          "metadata": {
            "needs_background": "light"
          }
        }
      ]
    },
    {
      "cell_type": "code",
      "source": [
        "# Investigating the high side outliers\n",
        "\n",
        "credit_data['Current Credit Balance'][(credit_data['Current Credit Balance'] > 1000000)].sort_values()"
      ],
      "metadata": {
        "colab": {
          "base_uri": "https://localhost:8080/"
        },
        "id": "7xTJ4bliT63H",
        "outputId": "b48ed957-1897-4876-fe53-706ddf065a4f"
      },
      "execution_count": 65,
      "outputs": [
        {
          "output_type": "execute_result",
          "data": {
            "text/plain": [
              "33071     1000122.0\n",
              "54868     1000198.0\n",
              "92557     1000540.0\n",
              "41270     1000559.0\n",
              "56147     1000654.0\n",
              "            ...    \n",
              "62699    11361924.0\n",
              "46840    11796435.0\n",
              "36510    12746397.0\n",
              "69161    12986956.0\n",
              "68665    32878968.0\n",
              "Name: Current Credit Balance, Length: 2027, dtype: float64"
            ]
          },
          "metadata": {},
          "execution_count": 65
        }
      ]
    },
    {
      "cell_type": "code",
      "source": [
        "curr_cred = credit_data['Current Credit Balance'][(credit_data['Current Credit Balance'] > 1000000)]\n",
        "\n",
        "percentile = curr_cred.quantile([0, 0.1, 0.2, 0.25, 0.3, 0.4, 0.5, 0.6, 0.7, 0.75, 0.8, 0.9, 1.0])\n",
        "print(round(percentile, 2))"
      ],
      "metadata": {
        "colab": {
          "base_uri": "https://localhost:8080/"
        },
        "id": "rqqRFfAmU6NH",
        "outputId": "3ff592da-a19a-4e9f-fa42-0a2b42c40dac"
      },
      "execution_count": 66,
      "outputs": [
        {
          "output_type": "stream",
          "name": "stdout",
          "text": [
            "0.00     1000122.0\n",
            "0.10     1046945.6\n",
            "0.20     1108604.4\n",
            "0.25     1149300.5\n",
            "0.30     1183187.0\n",
            "0.40     1270218.4\n",
            "0.50     1385062.0\n",
            "0.60     1545038.2\n",
            "0.70     1781086.6\n",
            "0.75     1927645.0\n",
            "0.80     2115361.2\n",
            "0.90     2836593.6\n",
            "1.00    32878968.0\n",
            "Name: Current Credit Balance, dtype: float64\n"
          ]
        }
      ]
    },
    {
      "cell_type": "code",
      "source": [
        "curr_cred = credit_data['Current Credit Balance'][(credit_data['Current Credit Balance'] > 2115360)].sort_values()\n",
        "percentile = curr_cred.quantile([0, 0.1, 0.2, 0.25, 0.3, 0.4, 0.5, 0.6, 0.7, 0.75, 0.8, 0.9, 1.0])\n",
        "print(round(percentile, 2))"
      ],
      "metadata": {
        "colab": {
          "base_uri": "https://localhost:8080/"
        },
        "id": "4dOxOHX0WJmh",
        "outputId": "5007b356-af9b-450a-d247-f8fdeca39308"
      },
      "execution_count": 67,
      "outputs": [
        {
          "output_type": "stream",
          "name": "stdout",
          "text": [
            "0.00     2115517.00\n",
            "0.10     2200941.00\n",
            "0.20     2309716.00\n",
            "0.25     2354883.75\n",
            "0.30     2429473.00\n",
            "0.40     2611835.00\n",
            "0.50     2836947.00\n",
            "0.60     3240374.00\n",
            "0.70     3832585.00\n",
            "0.75     4063753.25\n",
            "0.80     4367245.00\n",
            "0.90     5742560.00\n",
            "1.00    32878968.00\n",
            "Name: Current Credit Balance, dtype: float64\n"
          ]
        }
      ]
    },
    {
      "cell_type": "code",
      "source": [
        "credit_data['Current Credit Balance'][(credit_data['Current Credit Balance'] > 3000000.00)].sort_values()"
      ],
      "metadata": {
        "colab": {
          "base_uri": "https://localhost:8080/"
        },
        "id": "NXkhJ3dyXm-y",
        "outputId": "b8ea7080-8457-46bc-8f8a-5ab20280a62c"
      },
      "execution_count": 68,
      "outputs": [
        {
          "output_type": "execute_result",
          "data": {
            "text/plain": [
              "82701     3014255.0\n",
              "54738     3024344.0\n",
              "84902     3029702.0\n",
              "25301     3052103.0\n",
              "47847     3058012.0\n",
              "            ...    \n",
              "62699    11361924.0\n",
              "46840    11796435.0\n",
              "36510    12746397.0\n",
              "69161    12986956.0\n",
              "68665    32878968.0\n",
              "Name: Current Credit Balance, Length: 183, dtype: float64"
            ]
          },
          "metadata": {},
          "execution_count": 68
        }
      ]
    },
    {
      "cell_type": "markdown",
      "source": [
        "Findings : After drilling down multiple levels, we are considering 3000000 as the threshold value. The rest 183 values above this can be considered outliers as the gap between these data points keeps on increasing.\n",
        "\n",
        "Action : Impute these 183 values with the median."
      ],
      "metadata": {
        "id": "BOOuFHp0Xh_4"
      }
    },
    {
      "cell_type": "markdown",
      "source": [
        "### 17. Maximum Open Credit\n",
        "The maximum amount of open credit the customer has had since a credit line was assigned to them."
      ],
      "metadata": {
        "id": "_azBR7oJaLbp"
      }
    },
    {
      "cell_type": "code",
      "source": [
        "credit_data['Maximum Open Credit'].isnull().sum() # 2\n",
        "# 2 Null Values"
      ],
      "metadata": {
        "colab": {
          "base_uri": "https://localhost:8080/"
        },
        "id": "AY4QsdXeamTW",
        "outputId": "f2eaad17-1669-48d5-c647-a0ae9134adff"
      },
      "execution_count": 69,
      "outputs": [
        {
          "output_type": "execute_result",
          "data": {
            "text/plain": [
              "2"
            ]
          },
          "metadata": {},
          "execution_count": 69
        }
      ]
    },
    {
      "cell_type": "code",
      "source": [
        "# Percentile distribution and summary statistics\n",
        "print('Min = ', credit_data['Maximum Open Credit'].min())\n",
        "print('Max = ', credit_data['Maximum Open Credit'].max())\n",
        "print('Mean = ', credit_data['Maximum Open Credit'].mean())\n",
        "print('Median', credit_data['Maximum Open Credit'].median())\n",
        "\n",
        "percentile = credit_data['Maximum Open Credit'].quantile([0, 0.1, 0.2, 0.25, 0.3, 0.4, 0.5, 0.6, 0.7, 0.75, 0.8, 0.9, 1.0])\n",
        "print(round(percentile, 2))\n",
        "\n",
        "percentile1 = credit_data['Maximum Open Credit'].quantile([0.91, 0.92, 0.93, 0.94, 0.95, 0.96, 0.97, 0.98, 0.99, 1.0])\n",
        "print(round(percentile1, 2))"
      ],
      "metadata": {
        "colab": {
          "base_uri": "https://localhost:8080/"
        },
        "id": "_2HvKs71cKhj",
        "outputId": "54806a25-b5fc-4ea4-8dea-1187b8c027e2"
      },
      "execution_count": 70,
      "outputs": [
        {
          "output_type": "stream",
          "name": "stdout",
          "text": [
            "Min =  0.0\n",
            "Max =  1539737892.0\n",
            "Mean =  793535.8144810176\n",
            "Median 477774.0\n",
            "0.00    0.000000e+00\n",
            "0.10    1.651584e+05\n",
            "0.20    2.436940e+05\n",
            "0.25    2.804560e+05\n",
            "0.30    3.162940e+05\n",
            "0.40    3.916880e+05\n",
            "0.50    4.777740e+05\n",
            "0.60    5.821420e+05\n",
            "0.70    7.150484e+05\n",
            "0.75    7.984900e+05\n",
            "0.80    9.038612e+05\n",
            "0.90    1.252526e+06\n",
            "1.00    1.539738e+09\n",
            "Name: Maximum Open Credit, dtype: float64\n",
            "0.91    1.308364e+06\n",
            "0.92    1.378570e+06\n",
            "0.93    1.457041e+06\n",
            "0.94    1.554645e+06\n",
            "0.95    1.679955e+06\n",
            "0.96    1.847343e+06\n",
            "0.97    2.103455e+06\n",
            "0.98    2.518562e+06\n",
            "0.99    3.728199e+06\n",
            "1.00    1.539738e+09\n",
            "Name: Maximum Open Credit, dtype: float64\n"
          ]
        }
      ]
    },
    {
      "cell_type": "code",
      "source": [
        "# Need to explore 97 %ile onwards\n",
        "open_cred = credit_data['Maximum Open Credit'][(credit_data['Maximum Open Credit'] > 2103455)]\n",
        "percentile = open_cred.quantile([0, 0.1, 0.2, 0.25, 0.3, 0.4, 0.5, 0.6, 0.7, 0.75, 0.8, 0.9, 1.0])\n",
        "print(round(percentile, 2))"
      ],
      "metadata": {
        "colab": {
          "base_uri": "https://localhost:8080/"
        },
        "id": "Q-dvinoadHbr",
        "outputId": "c3c69f59-3fdc-4198-fe5f-76c8f12bb7c6"
      },
      "execution_count": 71,
      "outputs": [
        {
          "output_type": "stream",
          "name": "stdout",
          "text": [
            "0.00    2.103552e+06\n",
            "0.10    2.200711e+06\n",
            "0.20    2.318127e+06\n",
            "0.25    2.393430e+06\n",
            "0.30    2.467782e+06\n",
            "0.40    2.643071e+06\n",
            "0.50    2.933711e+06\n",
            "0.60    3.322013e+06\n",
            "0.70    3.998526e+06\n",
            "0.75    4.666074e+06\n",
            "0.80    5.393573e+06\n",
            "0.90    9.135458e+06\n",
            "1.00    1.539738e+09\n",
            "Name: Maximum Open Credit, dtype: float64\n"
          ]
        }
      ]
    },
    {
      "cell_type": "code",
      "source": [
        "open_cred = credit_data['Maximum Open Credit'][(credit_data['Maximum Open Credit'] > 3322013)]\n",
        "percentile = open_cred.quantile([0, 0.1, 0.2, 0.25, 0.3, 0.4, 0.5, 0.6, 0.7, 0.75, 0.8, 0.9, 1.0])\n",
        "print(round(percentile, 2))"
      ],
      "metadata": {
        "colab": {
          "base_uri": "https://localhost:8080/"
        },
        "id": "6mG6MpDyf4DL",
        "outputId": "9377da9b-69bc-4ac6-edfa-33423b05a71f"
      },
      "execution_count": 72,
      "outputs": [
        {
          "output_type": "stream",
          "name": "stdout",
          "text": [
            "0.00    3.322924e+06\n",
            "0.10    3.548261e+06\n",
            "0.20    3.831912e+06\n",
            "0.25    3.999556e+06\n",
            "0.30    4.217250e+06\n",
            "0.40    4.758842e+06\n",
            "0.50    5.394246e+06\n",
            "0.60    6.357683e+06\n",
            "0.70    7.854084e+06\n",
            "0.75    9.140774e+06\n",
            "0.80    1.085406e+07\n",
            "0.90    1.738373e+07\n",
            "1.00    1.539738e+09\n",
            "Name: Maximum Open Credit, dtype: float64\n"
          ]
        }
      ]
    },
    {
      "cell_type": "code",
      "source": [
        "credit_data['Maximum Open Credit'][(credit_data['Maximum Open Credit'] > 4000000.00)].sort_values()"
      ],
      "metadata": {
        "colab": {
          "base_uri": "https://localhost:8080/"
        },
        "id": "wUKLyDNYgqej",
        "outputId": "1b3936fb-6b43-4955-8ff9-3c4a691362d5"
      },
      "execution_count": 73,
      "outputs": [
        {
          "output_type": "execute_result",
          "data": {
            "text/plain": [
              "80451    4.000128e+06\n",
              "33420    4.003626e+06\n",
              "27726    4.005166e+06\n",
              "89803    4.008510e+06\n",
              "20651    4.009038e+06\n",
              "             ...     \n",
              "89506    6.324777e+08\n",
              "9156     7.982554e+08\n",
              "99417    9.803053e+08\n",
              "98728    1.304726e+09\n",
              "76405    1.539738e+09\n",
              "Name: Maximum Open Credit, Length: 738, dtype: float64"
            ]
          },
          "metadata": {},
          "execution_count": 73
        }
      ]
    },
    {
      "cell_type": "markdown",
      "source": [
        "Findings : Condiering 4,000,000 as the threshold value above which we can consider all values as outliers. So these 738 points can be considered as outliers. \n",
        "\n",
        "Action : It is less than 1%. So impute with median."
      ],
      "metadata": {
        "id": "cBU_Et6ugIRM"
      }
    },
    {
      "cell_type": "markdown",
      "source": [
        "### 18. Bankruptcies\n",
        "Number of times a customer has gone bankrupt."
      ],
      "metadata": {
        "id": "xtWef-OPhyT1"
      }
    },
    {
      "cell_type": "code",
      "source": [
        "credit_data['Bankruptcies'].isnull().sum() # 175\n",
        "# 175 Null Values"
      ],
      "metadata": {
        "colab": {
          "base_uri": "https://localhost:8080/"
        },
        "id": "bXKwY5vXh4hN",
        "outputId": "0fe1b957-c016-4f55-ce1c-908b8b53a24b"
      },
      "execution_count": 74,
      "outputs": [
        {
          "output_type": "execute_result",
          "data": {
            "text/plain": [
              "175"
            ]
          },
          "metadata": {},
          "execution_count": 74
        }
      ]
    },
    {
      "cell_type": "code",
      "source": [
        "# Discrete Data\n",
        "credit_data['Bankruptcies'].value_counts()"
      ],
      "metadata": {
        "colab": {
          "base_uri": "https://localhost:8080/"
        },
        "id": "7Os3YrlUog1B",
        "outputId": "2f524ff1-1683-4a14-e5e1-06c2b8175b42"
      },
      "execution_count": 75,
      "outputs": [
        {
          "output_type": "execute_result",
          "data": {
            "text/plain": [
              "0.0    73101\n",
              "1.0     8296\n",
              "2.0      329\n",
              "3.0       72\n",
              "4.0       19\n",
              "5.0        5\n",
              "7.0        1\n",
              "6.0        1\n",
              "Name: Bankruptcies, dtype: int64"
            ]
          },
          "metadata": {},
          "execution_count": 75
        }
      ]
    },
    {
      "cell_type": "markdown",
      "source": [
        "Findings : 175 null values which is less than 1%. Impute the null values with median."
      ],
      "metadata": {
        "id": "oC35_FPMpetC"
      }
    },
    {
      "cell_type": "markdown",
      "source": [
        "### 19. Tax Liens\n",
        "Number of times a tax lien has been marked against the customer for failing to pay taxes.\n",
        "\n",
        "A tax lien is a legal claim against the assets of an individual or business that fails to pay taxes owed to the government."
      ],
      "metadata": {
        "id": "a6MFy_nnqOhm"
      }
    },
    {
      "cell_type": "code",
      "source": [
        "credit_data['Tax Liens'].isnull().sum() # 8\n",
        "# 8 null values"
      ],
      "metadata": {
        "colab": {
          "base_uri": "https://localhost:8080/"
        },
        "id": "QryNcDAuqqAy",
        "outputId": "33157c45-57df-49de-c608-fc28b4b7efaf"
      },
      "execution_count": 76,
      "outputs": [
        {
          "output_type": "execute_result",
          "data": {
            "text/plain": [
              "8"
            ]
          },
          "metadata": {},
          "execution_count": 76
        }
      ]
    },
    {
      "cell_type": "code",
      "source": [
        "# Discrete data\n",
        "credit_data['Tax Liens'].value_counts()"
      ],
      "metadata": {
        "colab": {
          "base_uri": "https://localhost:8080/"
        },
        "id": "ymxQgWCPrTqN",
        "outputId": "95a1523e-3a66-4b20-ec91-8bf56d7a84d4"
      },
      "execution_count": 77,
      "outputs": [
        {
          "output_type": "execute_result",
          "data": {
            "text/plain": [
              "0.0     80491\n",
              "1.0      1040\n",
              "2.0       286\n",
              "3.0        93\n",
              "4.0        47\n",
              "5.0        14\n",
              "6.0         9\n",
              "7.0         5\n",
              "9.0         3\n",
              "15.0        1\n",
              "11.0        1\n",
              "10.0        1\n",
              "Name: Tax Liens, dtype: int64"
            ]
          },
          "metadata": {},
          "execution_count": 77
        }
      ]
    },
    {
      "cell_type": "markdown",
      "source": [
        "Findings : Impute the 8 null values with median."
      ],
      "metadata": {
        "id": "Bd4-tQloz-BG"
      }
    },
    {
      "cell_type": "markdown",
      "source": [
        "# DATA CLEANING"
      ],
      "metadata": {
        "id": "s01Kcdtz15vh"
      }
    },
    {
      "cell_type": "markdown",
      "source": [
        "## Categorical Variables Cleaning"
      ],
      "metadata": {
        "id": "tjvFmur82CqA"
      }
    },
    {
      "cell_type": "markdown",
      "source": [
        "### Years in current job"
      ],
      "metadata": {
        "id": "DCMMKEqr2Tlw"
      }
    },
    {
      "cell_type": "code",
      "source": [
        "import warnings\n",
        "warnings.filterwarnings(\"ignore\")"
      ],
      "metadata": {
        "id": "F7DO_UUoQIjB"
      },
      "execution_count": 78,
      "outputs": []
    },
    {
      "cell_type": "code",
      "source": [
        "credit_data['Years in current job'][credit_data['Years in current job'].isnull()==True] = 'Null'\n",
        "credit_data['Years in current job'].value_counts()"
      ],
      "metadata": {
        "colab": {
          "base_uri": "https://localhost:8080/"
        },
        "id": "EMx9kUDq3vPf",
        "outputId": "49302959-f1e9-406f-c1e4-522d871abcf5"
      },
      "execution_count": 79,
      "outputs": [
        {
          "output_type": "execute_result",
          "data": {
            "text/plain": [
              "10+ years    25271\n",
              "2 years       7560\n",
              "< 1 year      6755\n",
              "3 years       6671\n",
              "5 years       5619\n",
              "1 year        5317\n",
              "4 years       5029\n",
              "6 years       4702\n",
              "7 years       4566\n",
              "8 years       3781\n",
              "Null          3508\n",
              "9 years       3220\n",
              "Name: Years in current job, dtype: int64"
            ]
          },
          "metadata": {},
          "execution_count": 79
        }
      ]
    },
    {
      "cell_type": "code",
      "source": [
        "crosstab = pd.crosstab(credit_data['Years in current job'], credit_data['Loan Status'])\n",
        "crosstab\n",
        "crosstab_perc = crosstab.apply(lambda x: x/x.sum(), axis=1)\n",
        "round(crosstab_perc, 2)"
      ],
      "metadata": {
        "colab": {
          "base_uri": "https://localhost:8080/",
          "height": 457
        },
        "id": "Z5-JHl9z2pdm",
        "outputId": "af6c05fa-b701-493e-aee4-8caea7a7c659"
      },
      "execution_count": 80,
      "outputs": [
        {
          "output_type": "execute_result",
          "data": {
            "text/plain": [
              "Loan Status           Charged Off  Fully Paid\n",
              "Years in current job                         \n",
              "1 year                       0.28        0.72\n",
              "10+ years                    0.27        0.73\n",
              "2 years                      0.26        0.74\n",
              "3 years                      0.26        0.74\n",
              "4 years                      0.27        0.73\n",
              "5 years                      0.27        0.73\n",
              "6 years                      0.28        0.72\n",
              "7 years                      0.28        0.72\n",
              "8 years                      0.28        0.72\n",
              "9 years                      0.29        0.71\n",
              "< 1 year                     0.28        0.72\n",
              "Null                         0.36        0.64"
            ],
            "text/html": [
              "\n",
              "  <div id=\"df-0a1b4bdc-2489-4451-87d6-702939831a1d\">\n",
              "    <div class=\"colab-df-container\">\n",
              "      <div>\n",
              "<style scoped>\n",
              "    .dataframe tbody tr th:only-of-type {\n",
              "        vertical-align: middle;\n",
              "    }\n",
              "\n",
              "    .dataframe tbody tr th {\n",
              "        vertical-align: top;\n",
              "    }\n",
              "\n",
              "    .dataframe thead th {\n",
              "        text-align: right;\n",
              "    }\n",
              "</style>\n",
              "<table border=\"1\" class=\"dataframe\">\n",
              "  <thead>\n",
              "    <tr style=\"text-align: right;\">\n",
              "      <th>Loan Status</th>\n",
              "      <th>Charged Off</th>\n",
              "      <th>Fully Paid</th>\n",
              "    </tr>\n",
              "    <tr>\n",
              "      <th>Years in current job</th>\n",
              "      <th></th>\n",
              "      <th></th>\n",
              "    </tr>\n",
              "  </thead>\n",
              "  <tbody>\n",
              "    <tr>\n",
              "      <th>1 year</th>\n",
              "      <td>0.28</td>\n",
              "      <td>0.72</td>\n",
              "    </tr>\n",
              "    <tr>\n",
              "      <th>10+ years</th>\n",
              "      <td>0.27</td>\n",
              "      <td>0.73</td>\n",
              "    </tr>\n",
              "    <tr>\n",
              "      <th>2 years</th>\n",
              "      <td>0.26</td>\n",
              "      <td>0.74</td>\n",
              "    </tr>\n",
              "    <tr>\n",
              "      <th>3 years</th>\n",
              "      <td>0.26</td>\n",
              "      <td>0.74</td>\n",
              "    </tr>\n",
              "    <tr>\n",
              "      <th>4 years</th>\n",
              "      <td>0.27</td>\n",
              "      <td>0.73</td>\n",
              "    </tr>\n",
              "    <tr>\n",
              "      <th>5 years</th>\n",
              "      <td>0.27</td>\n",
              "      <td>0.73</td>\n",
              "    </tr>\n",
              "    <tr>\n",
              "      <th>6 years</th>\n",
              "      <td>0.28</td>\n",
              "      <td>0.72</td>\n",
              "    </tr>\n",
              "    <tr>\n",
              "      <th>7 years</th>\n",
              "      <td>0.28</td>\n",
              "      <td>0.72</td>\n",
              "    </tr>\n",
              "    <tr>\n",
              "      <th>8 years</th>\n",
              "      <td>0.28</td>\n",
              "      <td>0.72</td>\n",
              "    </tr>\n",
              "    <tr>\n",
              "      <th>9 years</th>\n",
              "      <td>0.29</td>\n",
              "      <td>0.71</td>\n",
              "    </tr>\n",
              "    <tr>\n",
              "      <th>&lt; 1 year</th>\n",
              "      <td>0.28</td>\n",
              "      <td>0.72</td>\n",
              "    </tr>\n",
              "    <tr>\n",
              "      <th>Null</th>\n",
              "      <td>0.36</td>\n",
              "      <td>0.64</td>\n",
              "    </tr>\n",
              "  </tbody>\n",
              "</table>\n",
              "</div>\n",
              "      <button class=\"colab-df-convert\" onclick=\"convertToInteractive('df-0a1b4bdc-2489-4451-87d6-702939831a1d')\"\n",
              "              title=\"Convert this dataframe to an interactive table.\"\n",
              "              style=\"display:none;\">\n",
              "        \n",
              "  <svg xmlns=\"http://www.w3.org/2000/svg\" height=\"24px\"viewBox=\"0 0 24 24\"\n",
              "       width=\"24px\">\n",
              "    <path d=\"M0 0h24v24H0V0z\" fill=\"none\"/>\n",
              "    <path d=\"M18.56 5.44l.94 2.06.94-2.06 2.06-.94-2.06-.94-.94-2.06-.94 2.06-2.06.94zm-11 1L8.5 8.5l.94-2.06 2.06-.94-2.06-.94L8.5 2.5l-.94 2.06-2.06.94zm10 10l.94 2.06.94-2.06 2.06-.94-2.06-.94-.94-2.06-.94 2.06-2.06.94z\"/><path d=\"M17.41 7.96l-1.37-1.37c-.4-.4-.92-.59-1.43-.59-.52 0-1.04.2-1.43.59L10.3 9.45l-7.72 7.72c-.78.78-.78 2.05 0 2.83L4 21.41c.39.39.9.59 1.41.59.51 0 1.02-.2 1.41-.59l7.78-7.78 2.81-2.81c.8-.78.8-2.07 0-2.86zM5.41 20L4 18.59l7.72-7.72 1.47 1.35L5.41 20z\"/>\n",
              "  </svg>\n",
              "      </button>\n",
              "      \n",
              "  <style>\n",
              "    .colab-df-container {\n",
              "      display:flex;\n",
              "      flex-wrap:wrap;\n",
              "      gap: 12px;\n",
              "    }\n",
              "\n",
              "    .colab-df-convert {\n",
              "      background-color: #E8F0FE;\n",
              "      border: none;\n",
              "      border-radius: 50%;\n",
              "      cursor: pointer;\n",
              "      display: none;\n",
              "      fill: #1967D2;\n",
              "      height: 32px;\n",
              "      padding: 0 0 0 0;\n",
              "      width: 32px;\n",
              "    }\n",
              "\n",
              "    .colab-df-convert:hover {\n",
              "      background-color: #E2EBFA;\n",
              "      box-shadow: 0px 1px 2px rgba(60, 64, 67, 0.3), 0px 1px 3px 1px rgba(60, 64, 67, 0.15);\n",
              "      fill: #174EA6;\n",
              "    }\n",
              "\n",
              "    [theme=dark] .colab-df-convert {\n",
              "      background-color: #3B4455;\n",
              "      fill: #D2E3FC;\n",
              "    }\n",
              "\n",
              "    [theme=dark] .colab-df-convert:hover {\n",
              "      background-color: #434B5C;\n",
              "      box-shadow: 0px 1px 3px 1px rgba(0, 0, 0, 0.15);\n",
              "      filter: drop-shadow(0px 1px 2px rgba(0, 0, 0, 0.3));\n",
              "      fill: #FFFFFF;\n",
              "    }\n",
              "  </style>\n",
              "\n",
              "      <script>\n",
              "        const buttonEl =\n",
              "          document.querySelector('#df-0a1b4bdc-2489-4451-87d6-702939831a1d button.colab-df-convert');\n",
              "        buttonEl.style.display =\n",
              "          google.colab.kernel.accessAllowed ? 'block' : 'none';\n",
              "\n",
              "        async function convertToInteractive(key) {\n",
              "          const element = document.querySelector('#df-0a1b4bdc-2489-4451-87d6-702939831a1d');\n",
              "          const dataTable =\n",
              "            await google.colab.kernel.invokeFunction('convertToInteractive',\n",
              "                                                     [key], {});\n",
              "          if (!dataTable) return;\n",
              "\n",
              "          const docLinkHtml = 'Like what you see? Visit the ' +\n",
              "            '<a target=\"_blank\" href=https://colab.research.google.com/notebooks/data_table.ipynb>data table notebook</a>'\n",
              "            + ' to learn more about interactive tables.';\n",
              "          element.innerHTML = '';\n",
              "          dataTable['output_type'] = 'display_data';\n",
              "          await google.colab.output.renderOutput(dataTable, element);\n",
              "          const docLink = document.createElement('div');\n",
              "          docLink.innerHTML = docLinkHtml;\n",
              "          element.appendChild(docLink);\n",
              "        }\n",
              "      </script>\n",
              "    </div>\n",
              "  </div>\n",
              "  "
            ]
          },
          "metadata": {},
          "execution_count": 80
        }
      ]
    },
    {
      "cell_type": "code",
      "source": [
        "# Reset the index\n",
        "credit_data = credit_data.reset_index(drop=True)\n",
        "credit_data"
      ],
      "metadata": {
        "colab": {
          "base_uri": "https://localhost:8080/",
          "height": 1000
        },
        "id": "4vcY8cC4F6Ps",
        "outputId": "fbe9a32b-153d-4b9d-bd15-35b1d148794b"
      },
      "execution_count": 81,
      "outputs": [
        {
          "output_type": "execute_result",
          "data": {
            "text/plain": [
              "                                    Loan ID  \\\n",
              "0      00069ff1-a877-4d35-81be-7cd359b99956   \n",
              "1      000a0abe-b839-414d-9b00-8ba33b47ebce   \n",
              "2      000c0c27-1961-4336-b760-a300e1bce9b0   \n",
              "3      000dada0-f2a3-4d6d-b9d2-284939e7cc7d   \n",
              "4      0010c319-7142-47c3-8a68-57e45f54c000   \n",
              "...                                     ...   \n",
              "81994  fda107a5-8d70-4131-9005-12fc53dc432f   \n",
              "81995  fe1b194b-9e7e-4594-9ba5-df6574ea0f39   \n",
              "81996  feada61e-04cf-4370-bb37-2d15e2e8665d   \n",
              "81997  feae7ab6-8af5-4e0f-a732-9900d3d5ca56   \n",
              "81998  8d5a40cc-230c-45f8-91f1-3c3afa7bb97f   \n",
              "\n",
              "                                Customer ID  Loan Status  Current Loan Amount  \\\n",
              "0      ee3c27f2-766a-499c-9a96-d17c4d2faa16   Fully Paid              31526.0   \n",
              "1      b2f4c91c-0157-4529-af67-35ffeac65389   Fully Paid              77176.0   \n",
              "2      881edf98-387c-4eef-ab71-317a7a5e70c1  Charged Off             142186.0   \n",
              "3      f7f2f882-1904-4002-8121-9be4ee9143de   Fully Paid           99999999.0   \n",
              "4      bd2528b4-9602-48f2-9559-a12dcdb72f48  Charged Off             325688.0   \n",
              "...                                     ...          ...                  ...   \n",
              "81994  c9b119d1-7f7e-491d-a187-98ca88b2cb11   Fully Paid             509036.0   \n",
              "81995  7aa4c3f0-f7ba-4ba1-a8dc-2af941f48f33  Charged Off             784564.0   \n",
              "81996  595064e3-4618-4841-b98b-0cb47af71241  Charged Off             398178.0   \n",
              "81997  6d87a641-64ac-475c-ac0f-3bf9890d4828  Charged Off             108922.0   \n",
              "81998  3dc3d4b5-e669-4537-9a07-9bbe017fdd9e   Fully Paid              43032.0   \n",
              "\n",
              "             Term  Credit Score  Annual Income Years in current job  \\\n",
              "0      Short Term         716.0      2065965.0            10+ years   \n",
              "1      Short Term         736.0      1618629.0            10+ years   \n",
              "2      Short Term        7320.0       479712.0               1 year   \n",
              "3      Short Term         740.0      1599629.0              2 years   \n",
              "4      Short Term         744.0      1181325.0               1 year   \n",
              "...           ...           ...            ...                  ...   \n",
              "81994  Short Term           NaN            NaN                 Null   \n",
              "81995   Long Term           NaN            NaN                 Null   \n",
              "81996   Long Term           NaN            NaN                 Null   \n",
              "81997  Short Term           NaN            NaN                 Null   \n",
              "81998  Short Term           NaN            NaN            10+ years   \n",
              "\n",
              "      Home Ownership             Purpose  Monthly Debt  \\\n",
              "0      Home Mortgage   Home Improvements      49927.44   \n",
              "1      Home Mortgage               Other       7229.88   \n",
              "2           Own Home  Debt Consolidation      12032.51   \n",
              "3               Rent  Debt Consolidation      22661.49   \n",
              "4               Rent  Debt Consolidation      18507.33   \n",
              "...              ...                 ...           ...   \n",
              "81994  Home Mortgage  Debt Consolidation      10120.92   \n",
              "81995  Home Mortgage  Debt Consolidation      32829.72   \n",
              "81996  Home Mortgage  Debt Consolidation      32475.75   \n",
              "81997           Rent  Debt Consolidation      14273.18   \n",
              "81998  Home Mortgage  Debt Consolidation        785.46   \n",
              "\n",
              "       Years of Credit History  Months since last delinquent  \\\n",
              "0                         15.1                           5.0   \n",
              "1                         28.6                           2.0   \n",
              "2                         19.9                          74.0   \n",
              "3                         21.1                          16.0   \n",
              "4                         12.9                          38.0   \n",
              "...                        ...                           ...   \n",
              "81994                     16.4                           NaN   \n",
              "81995                     32.7                           NaN   \n",
              "81996                     15.5                           NaN   \n",
              "81997                     11.3                           NaN   \n",
              "81998                     25.1                           NaN   \n",
              "\n",
              "       Number of Open Accounts  Number of Credit Problems  \\\n",
              "0                         22.0                        0.0   \n",
              "1                          6.0                        0.0   \n",
              "2                          9.0                        0.0   \n",
              "3                         22.0                        0.0   \n",
              "4                         10.0                        0.0   \n",
              "...                        ...                        ...   \n",
              "81994                      7.0                        1.0   \n",
              "81995                     10.0                        0.0   \n",
              "81996                     11.0                        0.0   \n",
              "81997                      4.0                        2.0   \n",
              "81998                     14.0                        0.0   \n",
              "\n",
              "       Current Credit Balance  Maximum Open Credit  Bankruptcies  Tax Liens  \\\n",
              "0                    526414.0            1090386.0           0.0        0.0   \n",
              "1                    221217.0             560472.0           0.0        0.0   \n",
              "2                    152475.0             534974.0           0.0        0.0   \n",
              "3                    226556.0             406076.0           0.0        0.0   \n",
              "4                    194617.0             338888.0           0.0        0.0   \n",
              "...                       ...                  ...           ...        ...   \n",
              "81994                458166.0            1026124.0           1.0        0.0   \n",
              "81995                336395.0             785312.0           0.0        0.0   \n",
              "81996                485545.0             871640.0           0.0        0.0   \n",
              "81997                 82175.0             130702.0           1.0        1.0   \n",
              "81998                 87476.0             547558.0           NaN        NaN   \n",
              "\n",
              "       null_count  \n",
              "0               0  \n",
              "1               0  \n",
              "2               0  \n",
              "3               0  \n",
              "4               0  \n",
              "...           ...  \n",
              "81994           4  \n",
              "81995           4  \n",
              "81996           4  \n",
              "81997           4  \n",
              "81998           5  \n",
              "\n",
              "[81999 rows x 20 columns]"
            ],
            "text/html": [
              "\n",
              "  <div id=\"df-fee1da01-2de4-4035-89b6-353f983dffda\">\n",
              "    <div class=\"colab-df-container\">\n",
              "      <div>\n",
              "<style scoped>\n",
              "    .dataframe tbody tr th:only-of-type {\n",
              "        vertical-align: middle;\n",
              "    }\n",
              "\n",
              "    .dataframe tbody tr th {\n",
              "        vertical-align: top;\n",
              "    }\n",
              "\n",
              "    .dataframe thead th {\n",
              "        text-align: right;\n",
              "    }\n",
              "</style>\n",
              "<table border=\"1\" class=\"dataframe\">\n",
              "  <thead>\n",
              "    <tr style=\"text-align: right;\">\n",
              "      <th></th>\n",
              "      <th>Loan ID</th>\n",
              "      <th>Customer ID</th>\n",
              "      <th>Loan Status</th>\n",
              "      <th>Current Loan Amount</th>\n",
              "      <th>Term</th>\n",
              "      <th>Credit Score</th>\n",
              "      <th>Annual Income</th>\n",
              "      <th>Years in current job</th>\n",
              "      <th>Home Ownership</th>\n",
              "      <th>Purpose</th>\n",
              "      <th>Monthly Debt</th>\n",
              "      <th>Years of Credit History</th>\n",
              "      <th>Months since last delinquent</th>\n",
              "      <th>Number of Open Accounts</th>\n",
              "      <th>Number of Credit Problems</th>\n",
              "      <th>Current Credit Balance</th>\n",
              "      <th>Maximum Open Credit</th>\n",
              "      <th>Bankruptcies</th>\n",
              "      <th>Tax Liens</th>\n",
              "      <th>null_count</th>\n",
              "    </tr>\n",
              "  </thead>\n",
              "  <tbody>\n",
              "    <tr>\n",
              "      <th>0</th>\n",
              "      <td>00069ff1-a877-4d35-81be-7cd359b99956</td>\n",
              "      <td>ee3c27f2-766a-499c-9a96-d17c4d2faa16</td>\n",
              "      <td>Fully Paid</td>\n",
              "      <td>31526.0</td>\n",
              "      <td>Short Term</td>\n",
              "      <td>716.0</td>\n",
              "      <td>2065965.0</td>\n",
              "      <td>10+ years</td>\n",
              "      <td>Home Mortgage</td>\n",
              "      <td>Home Improvements</td>\n",
              "      <td>49927.44</td>\n",
              "      <td>15.1</td>\n",
              "      <td>5.0</td>\n",
              "      <td>22.0</td>\n",
              "      <td>0.0</td>\n",
              "      <td>526414.0</td>\n",
              "      <td>1090386.0</td>\n",
              "      <td>0.0</td>\n",
              "      <td>0.0</td>\n",
              "      <td>0</td>\n",
              "    </tr>\n",
              "    <tr>\n",
              "      <th>1</th>\n",
              "      <td>000a0abe-b839-414d-9b00-8ba33b47ebce</td>\n",
              "      <td>b2f4c91c-0157-4529-af67-35ffeac65389</td>\n",
              "      <td>Fully Paid</td>\n",
              "      <td>77176.0</td>\n",
              "      <td>Short Term</td>\n",
              "      <td>736.0</td>\n",
              "      <td>1618629.0</td>\n",
              "      <td>10+ years</td>\n",
              "      <td>Home Mortgage</td>\n",
              "      <td>Other</td>\n",
              "      <td>7229.88</td>\n",
              "      <td>28.6</td>\n",
              "      <td>2.0</td>\n",
              "      <td>6.0</td>\n",
              "      <td>0.0</td>\n",
              "      <td>221217.0</td>\n",
              "      <td>560472.0</td>\n",
              "      <td>0.0</td>\n",
              "      <td>0.0</td>\n",
              "      <td>0</td>\n",
              "    </tr>\n",
              "    <tr>\n",
              "      <th>2</th>\n",
              "      <td>000c0c27-1961-4336-b760-a300e1bce9b0</td>\n",
              "      <td>881edf98-387c-4eef-ab71-317a7a5e70c1</td>\n",
              "      <td>Charged Off</td>\n",
              "      <td>142186.0</td>\n",
              "      <td>Short Term</td>\n",
              "      <td>7320.0</td>\n",
              "      <td>479712.0</td>\n",
              "      <td>1 year</td>\n",
              "      <td>Own Home</td>\n",
              "      <td>Debt Consolidation</td>\n",
              "      <td>12032.51</td>\n",
              "      <td>19.9</td>\n",
              "      <td>74.0</td>\n",
              "      <td>9.0</td>\n",
              "      <td>0.0</td>\n",
              "      <td>152475.0</td>\n",
              "      <td>534974.0</td>\n",
              "      <td>0.0</td>\n",
              "      <td>0.0</td>\n",
              "      <td>0</td>\n",
              "    </tr>\n",
              "    <tr>\n",
              "      <th>3</th>\n",
              "      <td>000dada0-f2a3-4d6d-b9d2-284939e7cc7d</td>\n",
              "      <td>f7f2f882-1904-4002-8121-9be4ee9143de</td>\n",
              "      <td>Fully Paid</td>\n",
              "      <td>99999999.0</td>\n",
              "      <td>Short Term</td>\n",
              "      <td>740.0</td>\n",
              "      <td>1599629.0</td>\n",
              "      <td>2 years</td>\n",
              "      <td>Rent</td>\n",
              "      <td>Debt Consolidation</td>\n",
              "      <td>22661.49</td>\n",
              "      <td>21.1</td>\n",
              "      <td>16.0</td>\n",
              "      <td>22.0</td>\n",
              "      <td>0.0</td>\n",
              "      <td>226556.0</td>\n",
              "      <td>406076.0</td>\n",
              "      <td>0.0</td>\n",
              "      <td>0.0</td>\n",
              "      <td>0</td>\n",
              "    </tr>\n",
              "    <tr>\n",
              "      <th>4</th>\n",
              "      <td>0010c319-7142-47c3-8a68-57e45f54c000</td>\n",
              "      <td>bd2528b4-9602-48f2-9559-a12dcdb72f48</td>\n",
              "      <td>Charged Off</td>\n",
              "      <td>325688.0</td>\n",
              "      <td>Short Term</td>\n",
              "      <td>744.0</td>\n",
              "      <td>1181325.0</td>\n",
              "      <td>1 year</td>\n",
              "      <td>Rent</td>\n",
              "      <td>Debt Consolidation</td>\n",
              "      <td>18507.33</td>\n",
              "      <td>12.9</td>\n",
              "      <td>38.0</td>\n",
              "      <td>10.0</td>\n",
              "      <td>0.0</td>\n",
              "      <td>194617.0</td>\n",
              "      <td>338888.0</td>\n",
              "      <td>0.0</td>\n",
              "      <td>0.0</td>\n",
              "      <td>0</td>\n",
              "    </tr>\n",
              "    <tr>\n",
              "      <th>...</th>\n",
              "      <td>...</td>\n",
              "      <td>...</td>\n",
              "      <td>...</td>\n",
              "      <td>...</td>\n",
              "      <td>...</td>\n",
              "      <td>...</td>\n",
              "      <td>...</td>\n",
              "      <td>...</td>\n",
              "      <td>...</td>\n",
              "      <td>...</td>\n",
              "      <td>...</td>\n",
              "      <td>...</td>\n",
              "      <td>...</td>\n",
              "      <td>...</td>\n",
              "      <td>...</td>\n",
              "      <td>...</td>\n",
              "      <td>...</td>\n",
              "      <td>...</td>\n",
              "      <td>...</td>\n",
              "      <td>...</td>\n",
              "    </tr>\n",
              "    <tr>\n",
              "      <th>81994</th>\n",
              "      <td>fda107a5-8d70-4131-9005-12fc53dc432f</td>\n",
              "      <td>c9b119d1-7f7e-491d-a187-98ca88b2cb11</td>\n",
              "      <td>Fully Paid</td>\n",
              "      <td>509036.0</td>\n",
              "      <td>Short Term</td>\n",
              "      <td>NaN</td>\n",
              "      <td>NaN</td>\n",
              "      <td>Null</td>\n",
              "      <td>Home Mortgage</td>\n",
              "      <td>Debt Consolidation</td>\n",
              "      <td>10120.92</td>\n",
              "      <td>16.4</td>\n",
              "      <td>NaN</td>\n",
              "      <td>7.0</td>\n",
              "      <td>1.0</td>\n",
              "      <td>458166.0</td>\n",
              "      <td>1026124.0</td>\n",
              "      <td>1.0</td>\n",
              "      <td>0.0</td>\n",
              "      <td>4</td>\n",
              "    </tr>\n",
              "    <tr>\n",
              "      <th>81995</th>\n",
              "      <td>fe1b194b-9e7e-4594-9ba5-df6574ea0f39</td>\n",
              "      <td>7aa4c3f0-f7ba-4ba1-a8dc-2af941f48f33</td>\n",
              "      <td>Charged Off</td>\n",
              "      <td>784564.0</td>\n",
              "      <td>Long Term</td>\n",
              "      <td>NaN</td>\n",
              "      <td>NaN</td>\n",
              "      <td>Null</td>\n",
              "      <td>Home Mortgage</td>\n",
              "      <td>Debt Consolidation</td>\n",
              "      <td>32829.72</td>\n",
              "      <td>32.7</td>\n",
              "      <td>NaN</td>\n",
              "      <td>10.0</td>\n",
              "      <td>0.0</td>\n",
              "      <td>336395.0</td>\n",
              "      <td>785312.0</td>\n",
              "      <td>0.0</td>\n",
              "      <td>0.0</td>\n",
              "      <td>4</td>\n",
              "    </tr>\n",
              "    <tr>\n",
              "      <th>81996</th>\n",
              "      <td>feada61e-04cf-4370-bb37-2d15e2e8665d</td>\n",
              "      <td>595064e3-4618-4841-b98b-0cb47af71241</td>\n",
              "      <td>Charged Off</td>\n",
              "      <td>398178.0</td>\n",
              "      <td>Long Term</td>\n",
              "      <td>NaN</td>\n",
              "      <td>NaN</td>\n",
              "      <td>Null</td>\n",
              "      <td>Home Mortgage</td>\n",
              "      <td>Debt Consolidation</td>\n",
              "      <td>32475.75</td>\n",
              "      <td>15.5</td>\n",
              "      <td>NaN</td>\n",
              "      <td>11.0</td>\n",
              "      <td>0.0</td>\n",
              "      <td>485545.0</td>\n",
              "      <td>871640.0</td>\n",
              "      <td>0.0</td>\n",
              "      <td>0.0</td>\n",
              "      <td>4</td>\n",
              "    </tr>\n",
              "    <tr>\n",
              "      <th>81997</th>\n",
              "      <td>feae7ab6-8af5-4e0f-a732-9900d3d5ca56</td>\n",
              "      <td>6d87a641-64ac-475c-ac0f-3bf9890d4828</td>\n",
              "      <td>Charged Off</td>\n",
              "      <td>108922.0</td>\n",
              "      <td>Short Term</td>\n",
              "      <td>NaN</td>\n",
              "      <td>NaN</td>\n",
              "      <td>Null</td>\n",
              "      <td>Rent</td>\n",
              "      <td>Debt Consolidation</td>\n",
              "      <td>14273.18</td>\n",
              "      <td>11.3</td>\n",
              "      <td>NaN</td>\n",
              "      <td>4.0</td>\n",
              "      <td>2.0</td>\n",
              "      <td>82175.0</td>\n",
              "      <td>130702.0</td>\n",
              "      <td>1.0</td>\n",
              "      <td>1.0</td>\n",
              "      <td>4</td>\n",
              "    </tr>\n",
              "    <tr>\n",
              "      <th>81998</th>\n",
              "      <td>8d5a40cc-230c-45f8-91f1-3c3afa7bb97f</td>\n",
              "      <td>3dc3d4b5-e669-4537-9a07-9bbe017fdd9e</td>\n",
              "      <td>Fully Paid</td>\n",
              "      <td>43032.0</td>\n",
              "      <td>Short Term</td>\n",
              "      <td>NaN</td>\n",
              "      <td>NaN</td>\n",
              "      <td>10+ years</td>\n",
              "      <td>Home Mortgage</td>\n",
              "      <td>Debt Consolidation</td>\n",
              "      <td>785.46</td>\n",
              "      <td>25.1</td>\n",
              "      <td>NaN</td>\n",
              "      <td>14.0</td>\n",
              "      <td>0.0</td>\n",
              "      <td>87476.0</td>\n",
              "      <td>547558.0</td>\n",
              "      <td>NaN</td>\n",
              "      <td>NaN</td>\n",
              "      <td>5</td>\n",
              "    </tr>\n",
              "  </tbody>\n",
              "</table>\n",
              "<p>81999 rows × 20 columns</p>\n",
              "</div>\n",
              "      <button class=\"colab-df-convert\" onclick=\"convertToInteractive('df-fee1da01-2de4-4035-89b6-353f983dffda')\"\n",
              "              title=\"Convert this dataframe to an interactive table.\"\n",
              "              style=\"display:none;\">\n",
              "        \n",
              "  <svg xmlns=\"http://www.w3.org/2000/svg\" height=\"24px\"viewBox=\"0 0 24 24\"\n",
              "       width=\"24px\">\n",
              "    <path d=\"M0 0h24v24H0V0z\" fill=\"none\"/>\n",
              "    <path d=\"M18.56 5.44l.94 2.06.94-2.06 2.06-.94-2.06-.94-.94-2.06-.94 2.06-2.06.94zm-11 1L8.5 8.5l.94-2.06 2.06-.94-2.06-.94L8.5 2.5l-.94 2.06-2.06.94zm10 10l.94 2.06.94-2.06 2.06-.94-2.06-.94-.94-2.06-.94 2.06-2.06.94z\"/><path d=\"M17.41 7.96l-1.37-1.37c-.4-.4-.92-.59-1.43-.59-.52 0-1.04.2-1.43.59L10.3 9.45l-7.72 7.72c-.78.78-.78 2.05 0 2.83L4 21.41c.39.39.9.59 1.41.59.51 0 1.02-.2 1.41-.59l7.78-7.78 2.81-2.81c.8-.78.8-2.07 0-2.86zM5.41 20L4 18.59l7.72-7.72 1.47 1.35L5.41 20z\"/>\n",
              "  </svg>\n",
              "      </button>\n",
              "      \n",
              "  <style>\n",
              "    .colab-df-container {\n",
              "      display:flex;\n",
              "      flex-wrap:wrap;\n",
              "      gap: 12px;\n",
              "    }\n",
              "\n",
              "    .colab-df-convert {\n",
              "      background-color: #E8F0FE;\n",
              "      border: none;\n",
              "      border-radius: 50%;\n",
              "      cursor: pointer;\n",
              "      display: none;\n",
              "      fill: #1967D2;\n",
              "      height: 32px;\n",
              "      padding: 0 0 0 0;\n",
              "      width: 32px;\n",
              "    }\n",
              "\n",
              "    .colab-df-convert:hover {\n",
              "      background-color: #E2EBFA;\n",
              "      box-shadow: 0px 1px 2px rgba(60, 64, 67, 0.3), 0px 1px 3px 1px rgba(60, 64, 67, 0.15);\n",
              "      fill: #174EA6;\n",
              "    }\n",
              "\n",
              "    [theme=dark] .colab-df-convert {\n",
              "      background-color: #3B4455;\n",
              "      fill: #D2E3FC;\n",
              "    }\n",
              "\n",
              "    [theme=dark] .colab-df-convert:hover {\n",
              "      background-color: #434B5C;\n",
              "      box-shadow: 0px 1px 3px 1px rgba(0, 0, 0, 0.15);\n",
              "      filter: drop-shadow(0px 1px 2px rgba(0, 0, 0, 0.3));\n",
              "      fill: #FFFFFF;\n",
              "    }\n",
              "  </style>\n",
              "\n",
              "      <script>\n",
              "        const buttonEl =\n",
              "          document.querySelector('#df-fee1da01-2de4-4035-89b6-353f983dffda button.colab-df-convert');\n",
              "        buttonEl.style.display =\n",
              "          google.colab.kernel.accessAllowed ? 'block' : 'none';\n",
              "\n",
              "        async function convertToInteractive(key) {\n",
              "          const element = document.querySelector('#df-fee1da01-2de4-4035-89b6-353f983dffda');\n",
              "          const dataTable =\n",
              "            await google.colab.kernel.invokeFunction('convertToInteractive',\n",
              "                                                     [key], {});\n",
              "          if (!dataTable) return;\n",
              "\n",
              "          const docLinkHtml = 'Like what you see? Visit the ' +\n",
              "            '<a target=\"_blank\" href=https://colab.research.google.com/notebooks/data_table.ipynb>data table notebook</a>'\n",
              "            + ' to learn more about interactive tables.';\n",
              "          element.innerHTML = '';\n",
              "          dataTable['output_type'] = 'display_data';\n",
              "          await google.colab.output.renderOutput(dataTable, element);\n",
              "          const docLink = document.createElement('div');\n",
              "          docLink.innerHTML = docLinkHtml;\n",
              "          element.appendChild(docLink);\n",
              "        }\n",
              "      </script>\n",
              "    </div>\n",
              "  </div>\n",
              "  "
            ]
          },
          "metadata": {},
          "execution_count": 81
        }
      ]
    },
    {
      "cell_type": "code",
      "source": [
        "# Put 2000 records into 10+ years, 750 into 9 years and remaining 758 into 8 years\n",
        "\n",
        "index_list = credit_data[credit_data['Years in current job']=='Null'].index.tolist()\n",
        "print(len(index_list))\n",
        "ind2000 = index_list[0 : 2000]\n",
        "\n",
        "print(len(ind2000))\n",
        "print(min(ind2000))\n",
        "print(max(ind2000))"
      ],
      "metadata": {
        "colab": {
          "base_uri": "https://localhost:8080/"
        },
        "id": "5omeTzmS53Xf",
        "outputId": "49ec9d04-7753-4cf6-ab5e-17b2f76ae264"
      },
      "execution_count": 82,
      "outputs": [
        {
          "output_type": "stream",
          "name": "stdout",
          "text": [
            "3508\n",
            "2000\n",
            "29495\n",
            "68934\n"
          ]
        }
      ]
    },
    {
      "cell_type": "code",
      "source": [
        "credit_data['Years in current job'].iloc[ind2000] = '10+ years'"
      ],
      "metadata": {
        "id": "pZ8yv9nlBgdB"
      },
      "execution_count": 83,
      "outputs": []
    },
    {
      "cell_type": "code",
      "source": [
        "credit_data['Years in current job'].value_counts()"
      ],
      "metadata": {
        "colab": {
          "base_uri": "https://localhost:8080/"
        },
        "id": "tasqgYLMIImX",
        "outputId": "79fd43b5-3fbc-4772-e94e-d5bdff002f6c"
      },
      "execution_count": 84,
      "outputs": [
        {
          "output_type": "execute_result",
          "data": {
            "text/plain": [
              "10+ years    27271\n",
              "2 years       7560\n",
              "< 1 year      6755\n",
              "3 years       6671\n",
              "5 years       5619\n",
              "1 year        5317\n",
              "4 years       5029\n",
              "6 years       4702\n",
              "7 years       4566\n",
              "8 years       3781\n",
              "9 years       3220\n",
              "Null          1508\n",
              "Name: Years in current job, dtype: int64"
            ]
          },
          "metadata": {},
          "execution_count": 84
        }
      ]
    },
    {
      "cell_type": "code",
      "source": [
        "# 750 records into 9 years and remaining into 8 years\n",
        "\n",
        "index_list = credit_data[credit_data['Years in current job']=='Null'].index.tolist()\n",
        "print(len(index_list))\n",
        "ind = index_list[0 : 750]"
      ],
      "metadata": {
        "colab": {
          "base_uri": "https://localhost:8080/"
        },
        "id": "zyq-liNDNm8z",
        "outputId": "819fc673-d9aa-4add-d602-ec48d605eb6a"
      },
      "execution_count": 85,
      "outputs": [
        {
          "output_type": "stream",
          "name": "stdout",
          "text": [
            "1508\n"
          ]
        }
      ]
    },
    {
      "cell_type": "code",
      "source": [
        "credit_data['Years in current job'].iloc[ind] = '9 years'\n",
        "credit_data['Years in current job'][credit_data['Years in current job']=='Null'] = '8 years'\n",
        "credit_data['Years in current job'].value_counts()"
      ],
      "metadata": {
        "colab": {
          "base_uri": "https://localhost:8080/"
        },
        "id": "xBMfhHmNOems",
        "outputId": "dd18dbe7-63de-4ba2-a41c-4bcaa4da09f1"
      },
      "execution_count": 86,
      "outputs": [
        {
          "output_type": "execute_result",
          "data": {
            "text/plain": [
              "10+ years    27271\n",
              "2 years       7560\n",
              "< 1 year      6755\n",
              "3 years       6671\n",
              "5 years       5619\n",
              "1 year        5317\n",
              "4 years       5029\n",
              "6 years       4702\n",
              "7 years       4566\n",
              "8 years       4539\n",
              "9 years       3970\n",
              "Name: Years in current job, dtype: int64"
            ]
          },
          "metadata": {},
          "execution_count": 86
        }
      ]
    },
    {
      "cell_type": "markdown",
      "source": [
        "### Home Ownership"
      ],
      "metadata": {
        "id": "_hC0dTOvPfqX"
      }
    },
    {
      "cell_type": "code",
      "source": [
        "credit_data['Home Ownership'][credit_data['Home Ownership']=='HaveMortgage'] = 'Home Mortgage'\n",
        "credit_data['Home Ownership'].value_counts()"
      ],
      "metadata": {
        "colab": {
          "base_uri": "https://localhost:8080/"
        },
        "id": "V25jKmsjPmNk",
        "outputId": "c0bc723e-6b25-40a8-e2e3-c622a6ad2c8b"
      },
      "execution_count": 87,
      "outputs": [
        {
          "output_type": "execute_result",
          "data": {
            "text/plain": [
              "Home Mortgage    40042\n",
              "Rent             34499\n",
              "Own Home          7458\n",
              "Name: Home Ownership, dtype: int64"
            ]
          },
          "metadata": {},
          "execution_count": 87
        }
      ]
    },
    {
      "cell_type": "markdown",
      "source": [
        "### Purpose"
      ],
      "metadata": {
        "id": "0jysybNIQvBV"
      }
    },
    {
      "cell_type": "code",
      "source": [
        "credit_data['Purpose'][credit_data['Purpose']=='other'] = 'Other'\n",
        "credit_data['Purpose'].value_counts()"
      ],
      "metadata": {
        "colab": {
          "base_uri": "https://localhost:8080/"
        },
        "id": "nGtbg9IkQxqZ",
        "outputId": "6d6f0b94-250a-425d-dd6f-b75949ede5eb"
      },
      "execution_count": 88,
      "outputs": [
        {
          "output_type": "execute_result",
          "data": {
            "text/plain": [
              "Debt Consolidation      64907\n",
              "Other                    7238\n",
              "Home Improvements        4795\n",
              "Business Loan            1229\n",
              "Buy a Car                1081\n",
              "Medical Bills             880\n",
              "Buy House                 519\n",
              "Take a Trip               435\n",
              "major_purchase            303\n",
              "small_business            230\n",
              "moving                    116\n",
              "wedding                    93\n",
              "Educational Expenses       85\n",
              "vacation                   80\n",
              "renewable_energy            8\n",
              "Name: Purpose, dtype: int64"
            ]
          },
          "metadata": {},
          "execution_count": 88
        }
      ]
    },
    {
      "cell_type": "markdown",
      "source": [
        "### Current Loan Amount"
      ],
      "metadata": {
        "id": "w0dDmF9ZRxr2"
      }
    },
    {
      "cell_type": "code",
      "source": [
        "# Flag variable : Available = 1, Missing/Default = 0\n",
        "credit_data['curr_loan_amt_flag'] = 1\n",
        "credit_data['curr_loan_amt_flag'][credit_data['Current Loan Amount']==99999999.0] = 0\n",
        "\n",
        "print(credit_data['curr_loan_amt_flag'].value_counts())\n",
        "print(credit_data['Current Loan Amount'][credit_data['Current Loan Amount']==99999999.0].shape)"
      ],
      "metadata": {
        "colab": {
          "base_uri": "https://localhost:8080/"
        },
        "id": "L5OWlfnFRyML",
        "outputId": "2d3459e7-c9d0-4211-9ba4-6b39ab885091"
      },
      "execution_count": 89,
      "outputs": [
        {
          "output_type": "stream",
          "name": "stdout",
          "text": [
            "1    72311\n",
            "0     9688\n",
            "Name: curr_loan_amt_flag, dtype: int64\n",
            "(9688,)\n"
          ]
        }
      ]
    },
    {
      "cell_type": "code",
      "source": [
        "# Impute default values with median\n",
        "credit_data['Current Loan Amount'][credit_data['Current Loan Amount']==99999999.0] = credit_data['Current Loan Amount'].median()\n",
        "\n",
        "percentile = credit_data['Current Loan Amount'].quantile([0, 0.1, 0.2, 0.25, 0.3, 0.4, 0.5, 0.6, 0.7, 0.75, 0.8, 0.9, 1.0])\n",
        "print(round(percentile, 2))\n",
        "\n",
        "plt.boxplot(credit_data['Current Loan Amount'])\n",
        "plt.show()"
      ],
      "metadata": {
        "colab": {
          "base_uri": "https://localhost:8080/",
          "height": 508
        },
        "id": "tqXLSJPMTwR8",
        "outputId": "9828c1cb-3acc-4af1-cad1-fa1e16f6cb4d"
      },
      "execution_count": 90,
      "outputs": [
        {
          "output_type": "stream",
          "name": "stdout",
          "text": [
            "0.00     10802.0\n",
            "0.10    109423.6\n",
            "0.20    157102.0\n",
            "0.25    179256.0\n",
            "0.30    212374.8\n",
            "0.40    248758.4\n",
            "0.50    307780.0\n",
            "0.60    307780.0\n",
            "0.70    350350.0\n",
            "0.75    396077.0\n",
            "0.80    438284.0\n",
            "0.90    549960.4\n",
            "1.00    789250.0\n",
            "Name: Current Loan Amount, dtype: float64\n"
          ]
        },
        {
          "output_type": "display_data",
          "data": {
            "text/plain": [
              "<Figure size 432x288 with 1 Axes>"
            ],
            "image/png": "[encoded data removed]"
          },
          "metadata": {
            "needs_background": "light"
          }
        }
      ]
    },
    {
      "cell_type": "markdown",
      "source": [
        "### Credit Score"
      ],
      "metadata": {
        "id": "eP3soG_8VKbz"
      }
    },
    {
      "cell_type": "code",
      "source": [
        "# Actipn 1 : Divide values > 751 by 10\n",
        "credit_data['Credit Score'][credit_data['Credit Score']>751] = credit_data['Credit Score']/10\n",
        "credit_data['Credit Score'][credit_data['Credit Score'].isnull()==False].sort_values()"
      ],
      "metadata": {
        "colab": {
          "base_uri": "https://localhost:8080/"
        },
        "id": "g3unszBBVK4w",
        "outputId": "55015585-74a9-40dc-df93-cf7178db06b0"
      },
      "execution_count": 91,
      "outputs": [
        {
          "output_type": "execute_result",
          "data": {
            "text/plain": [
              "46915    585.0\n",
              "2312     585.0\n",
              "29116    585.0\n",
              "7927     585.0\n",
              "60886    585.0\n",
              "         ...  \n",
              "46918    751.0\n",
              "40351    751.0\n",
              "5626     751.0\n",
              "20129    751.0\n",
              "42512    751.0\n",
              "Name: Credit Score, Length: 67052, dtype: float64"
            ]
          },
          "metadata": {},
          "execution_count": 91
        }
      ]
    },
    {
      "cell_type": "code",
      "source": [
        "# Action 2 : Create a flag variable : Available = 1, Missing = 0\n",
        "credit_data['credit_score_flag'] = 1\n",
        "credit_data['credit_score_flag'][credit_data['Credit Score'].isnull()] = 0\n",
        "\n",
        "print(credit_data['credit_score_flag'].value_counts())\n",
        "print(credit_data['Credit Score'].isnull().sum())"
      ],
      "metadata": {
        "colab": {
          "base_uri": "https://localhost:8080/"
        },
        "id": "VQpdgJZ5Vf89",
        "outputId": "7072a54f-c060-4120-85b3-887891f38d23"
      },
      "execution_count": 92,
      "outputs": [
        {
          "output_type": "stream",
          "name": "stdout",
          "text": [
            "1    67052\n",
            "0    14947\n",
            "Name: credit_score_flag, dtype: int64\n",
            "14947\n"
          ]
        }
      ]
    },
    {
      "cell_type": "code",
      "source": [
        "# Impute null values with median\n",
        "credit_data['Credit Score'][credit_data['Credit Score'].isnull()] = credit_data['Credit Score'].median()\n",
        "\n",
        "percentile = credit_data['Credit Score'].quantile([0, 0.1, 0.2, 0.25, 0.3, 0.4, 0.5, 0.6, 0.7, 0.75, 0.8, 0.9, 1.0])\n",
        "print(round(percentile, 2))\n",
        "\n",
        "plt.boxplot(credit_data['Credit Score'])\n",
        "plt.show()"
      ],
      "metadata": {
        "colab": {
          "base_uri": "https://localhost:8080/",
          "height": 508
        },
        "id": "DZIousQyXFzz",
        "outputId": "dfcbdf12-b300-4921-bda3-8bcc1e1e3663"
      },
      "execution_count": 93,
      "outputs": [
        {
          "output_type": "stream",
          "name": "stdout",
          "text": [
            "0.00    585.0\n",
            "0.10    687.0\n",
            "0.20    707.0\n",
            "0.25    713.0\n",
            "0.30    718.0\n",
            "0.40    727.0\n",
            "0.50    727.0\n",
            "0.60    728.0\n",
            "0.70    735.0\n",
            "0.75    738.0\n",
            "0.80    741.0\n",
            "0.90    745.0\n",
            "1.00    751.0\n",
            "Name: Credit Score, dtype: float64\n"
          ]
        },
        {
          "output_type": "display_data",
          "data": {
            "text/plain": [
              "<Figure size 432x288 with 1 Axes>"
            ],
            "image/png": "[encoded data removed]"
          },
          "metadata": {
            "needs_background": "light"
          }
        }
      ]
    },
    {
      "cell_type": "markdown",
      "source": [
        "### Annual Income"
      ],
      "metadata": {
        "id": "-AQO95t7cE48"
      }
    },
    {
      "cell_type": "code",
      "source": [
        "# Create a flag variable : Available = 1, Missing + Outliers = 0\n",
        "credit_data['income_flag'] = 1\n",
        "credit_data['income_flag'][credit_data['Annual Income'].isnull()] = 0\n",
        "credit_data['income_flag'][credit_data['Annual Income'] > 3000000] = 0\n",
        "\n",
        "print(credit_data['income_flag'].value_counts())\n",
        "print(credit_data['Annual Income'][(credit_data['Annual Income'].isnull()) | (credit_data['Annual Income'] > 3000000)].shape)"
      ],
      "metadata": {
        "colab": {
          "base_uri": "https://localhost:8080/"
        },
        "id": "AdWK_-zAcryy",
        "outputId": "990d9ae5-efd8-453b-fbe0-382b243da7e8"
      },
      "execution_count": 94,
      "outputs": [
        {
          "output_type": "stream",
          "name": "stdout",
          "text": [
            "1    64486\n",
            "0    17513\n",
            "Name: income_flag, dtype: int64\n",
            "(17513,)\n"
          ]
        }
      ]
    },
    {
      "cell_type": "code",
      "source": [
        "# Impute values > 3000000 with median\n",
        "credit_data['Annual Income'][credit_data['Annual Income'] > 3000000] = credit_data['Annual Income'].median()"
      ],
      "metadata": {
        "id": "K8yQ5EghbWeu"
      },
      "execution_count": 95,
      "outputs": []
    },
    {
      "cell_type": "code",
      "source": [
        "# Impute null values with median\n",
        "credit_data['Annual Income'][credit_data['Annual Income'].isnull()] = credit_data['Annual Income'].median()\n",
        "\n",
        "percentile = credit_data['Annual Income'].quantile([0, 0.1, 0.2, 0.25, 0.3, 0.4, 0.5, 0.6, 0.7, 0.75, 0.8, 0.9, 1.0])\n",
        "print(round(percentile, 2))\n",
        "\n",
        "plt.boxplot(credit_data['Annual Income'])\n",
        "plt.show()"
      ],
      "metadata": {
        "colab": {
          "base_uri": "https://localhost:8080/",
          "height": 519
        },
        "id": "aM_12scQeeS1",
        "outputId": "339e77d5-8c96-4c24-fd49-b6df8e315fbb"
      },
      "execution_count": 96,
      "outputs": [
        {
          "output_type": "stream",
          "name": "stdout",
          "text": [
            "0.00      76627.0\n",
            "0.10     669024.2\n",
            "0.20     841715.2\n",
            "0.25     927504.0\n",
            "0.30     991465.6\n",
            "0.40    1158924.0\n",
            "0.50    1170609.0\n",
            "0.60    1170628.0\n",
            "0.70    1332793.0\n",
            "0.75    1439402.0\n",
            "0.80    1567952.2\n",
            "0.90    1929868.0\n",
            "1.00    2999264.0\n",
            "Name: Annual Income, dtype: float64\n"
          ]
        },
        {
          "output_type": "display_data",
          "data": {
            "text/plain": [
              "<Figure size 432x288 with 1 Axes>"
            ],
            "image/png": "[encoded data removed]"
          },
          "metadata": {
            "needs_background": "light"
          }
        }
      ]
    },
    {
      "cell_type": "code",
      "source": [
        "credit_data['Annual Income'].median()"
      ],
      "metadata": {
        "colab": {
          "base_uri": "https://localhost:8080/"
        },
        "id": "mYFXz9E0NlaN",
        "outputId": "08979468-78e2-40da-d753-a4626b39e526"
      },
      "execution_count": 97,
      "outputs": [
        {
          "output_type": "execute_result",
          "data": {
            "text/plain": [
              "1170609.0"
            ]
          },
          "metadata": {},
          "execution_count": 97
        }
      ]
    },
    {
      "cell_type": "markdown",
      "source": [
        "\n",
        "### Monthly Debt "
      ],
      "metadata": {
        "id": "L7uq4yUYnCK9"
      }
    },
    {
      "cell_type": "code",
      "source": [
        "### Impute high side outliers with median\n",
        "credit_data['Monthly Debt'][credit_data['Monthly Debt'] > 70000] = credit_data['Monthly Debt'].median()\n",
        "\n",
        "plt.boxplot(credit_data['Monthly Debt'])\n",
        "plt.show()"
      ],
      "metadata": {
        "colab": {
          "base_uri": "https://localhost:8080/",
          "height": 265
        },
        "id": "NmSOpmGvmlyM",
        "outputId": "b932e5ce-30e8-4515-db9e-ee1bf7743bfe"
      },
      "execution_count": 98,
      "outputs": [
        {
          "output_type": "display_data",
          "data": {
            "text/plain": [
              "<Figure size 432x288 with 1 Axes>"
            ],
            "image/png": "[encoded data removed]"
          },
          "metadata": {
            "needs_background": "light"
          }
        }
      ]
    },
    {
      "cell_type": "markdown",
      "source": [
        "### Months since last delinquent"
      ],
      "metadata": {
        "id": "UJn_oRqMqJoY"
      }
    },
    {
      "cell_type": "code",
      "source": [
        "# Create a flag variable : Available = 1, Missing = 0\n",
        "credit_data['delin_month_flag'] = 1\n",
        "credit_data['delin_month_flag'][credit_data['Months since last delinquent'].isnull()] = 0\n",
        "\n",
        "print(credit_data['delin_month_flag'].value_counts())\n",
        "print(credit_data['Months since last delinquent'][credit_data['Months since last delinquent'].isnull()].shape)"
      ],
      "metadata": {
        "colab": {
          "base_uri": "https://localhost:8080/"
        },
        "id": "f9FVca3RqbA-",
        "outputId": "10637fa3-7f1d-4a73-95cf-b2bfcd100ac8"
      },
      "execution_count": 99,
      "outputs": [
        {
          "output_type": "stream",
          "name": "stdout",
          "text": [
            "0    44621\n",
            "1    37378\n",
            "Name: delin_month_flag, dtype: int64\n",
            "(44621,)\n"
          ]
        }
      ]
    },
    {
      "cell_type": "markdown",
      "source": [
        "### Number of Open Accounts"
      ],
      "metadata": {
        "id": "KSeSsl5qqLq-"
      }
    },
    {
      "cell_type": "code",
      "source": [
        "# Impute values > 30 with median\n",
        "credit_data['Number of Open Accounts'][credit_data['Number of Open Accounts'] > 30] = credit_data['Number of Open Accounts'].median()\n",
        "\n",
        "plt.boxplot(credit_data['Number of Open Accounts'])\n",
        "plt.show()"
      ],
      "metadata": {
        "colab": {
          "base_uri": "https://localhost:8080/",
          "height": 265
        },
        "id": "lQhkstofKECs",
        "outputId": "0d13875e-5e66-47d6-b480-5e5a5b12e4ad"
      },
      "execution_count": 100,
      "outputs": [
        {
          "output_type": "display_data",
          "data": {
            "text/plain": [
              "<Figure size 432x288 with 1 Axes>"
            ],
            "image/png": "[encoded data removed]"
          },
          "metadata": {
            "needs_background": "light"
          }
        }
      ]
    },
    {
      "cell_type": "markdown",
      "source": [
        "### Current Credit Balance"
      ],
      "metadata": {
        "id": "QWc0D0XiLA0B"
      }
    },
    {
      "cell_type": "code",
      "source": [
        "# impute values > 3,000,000 with median\n",
        "credit_data['Current Credit Balance'][(credit_data['Current Credit Balance'] > 3000000.00)] = credit_data['Current Credit Balance'].median()\n",
        "\n",
        "plt.boxplot(credit_data['Current Credit Balance'])\n",
        "plt.show()"
      ],
      "metadata": {
        "colab": {
          "base_uri": "https://localhost:8080/",
          "height": 276
        },
        "id": "JMNelw0JLBF_",
        "outputId": "b137673f-64ba-4c32-a218-48b421ec29a0"
      },
      "execution_count": 101,
      "outputs": [
        {
          "output_type": "display_data",
          "data": {
            "text/plain": [
              "<Figure size 432x288 with 1 Axes>"
            ],
            "image/png": "[encoded data removed]"
          },
          "metadata": {
            "needs_background": "light"
          }
        }
      ]
    },
    {
      "cell_type": "markdown",
      "source": [
        "### Maximum Open Credit"
      ],
      "metadata": {
        "id": "KMFtblFoMAP7"
      }
    },
    {
      "cell_type": "code",
      "source": [
        "# Impute null values and values greater than 4,000,000 with median\n",
        "credit_data['Maximum Open Credit'][(credit_data['Maximum Open Credit'] > 4000000) | (credit_data['Maximum Open Credit'].isnull())] = credit_data['Maximum Open Credit'].median()\n",
        "\n",
        "plt.boxplot(credit_data['Maximum Open Credit'])\n",
        "plt.show()"
      ],
      "metadata": {
        "colab": {
          "base_uri": "https://localhost:8080/",
          "height": 276
        },
        "id": "33UaXtc6MAe7",
        "outputId": "ce6e3b71-92e2-4002-8f9c-efa7edde77b6"
      },
      "execution_count": 102,
      "outputs": [
        {
          "output_type": "display_data",
          "data": {
            "text/plain": [
              "<Figure size 432x288 with 1 Axes>"
            ],
            "image/png": "[encoded data removed]"
          },
          "metadata": {
            "needs_background": "light"
          }
        }
      ]
    },
    {
      "cell_type": "markdown",
      "source": [
        "### Bankruptcies"
      ],
      "metadata": {
        "id": "BoPut1ohMw3V"
      }
    },
    {
      "cell_type": "code",
      "source": [
        "# Impute the null values with median\n",
        "credit_data['Bankruptcies'][credit_data['Bankruptcies'].isnull()] = credit_data['Bankruptcies'].median()\n",
        "\n",
        "credit_data['Bankruptcies'].isnull().sum()"
      ],
      "metadata": {
        "colab": {
          "base_uri": "https://localhost:8080/"
        },
        "id": "Rd1LDtfDMxJ6",
        "outputId": "5262d0f3-8da3-4bf9-de6b-375f4c33bc0a"
      },
      "execution_count": 103,
      "outputs": [
        {
          "output_type": "execute_result",
          "data": {
            "text/plain": [
              "0"
            ]
          },
          "metadata": {},
          "execution_count": 103
        }
      ]
    },
    {
      "cell_type": "markdown",
      "source": [
        "### Tax Liens"
      ],
      "metadata": {
        "id": "2_fv1NrHXkfE"
      }
    },
    {
      "cell_type": "code",
      "source": [
        "# Impute null values with median\n",
        "credit_data['Tax Liens'][credit_data['Tax Liens'].isnull()]=credit_data['Tax Liens'].median()\n",
        "credit_data['Tax Liens'].isnull().sum()"
      ],
      "metadata": {
        "colab": {
          "base_uri": "https://localhost:8080/"
        },
        "id": "ubgYojIuXkvB",
        "outputId": "43201e1f-357d-495b-fb0e-4a35a0c37715"
      },
      "execution_count": 104,
      "outputs": [
        {
          "output_type": "execute_result",
          "data": {
            "text/plain": [
              "0"
            ]
          },
          "metadata": {},
          "execution_count": 104
        }
      ]
    },
    {
      "cell_type": "markdown",
      "source": [
        "## Feature Engineering"
      ],
      "metadata": {
        "id": "XflDgNE_aQjh"
      }
    },
    {
      "cell_type": "markdown",
      "source": [
        "### Labelling and Binary encoding"
      ],
      "metadata": {
        "id": "o0x8oX4EcJ00"
      }
    },
    {
      "cell_type": "code",
      "source": [
        "cred_data = credit_data.copy() # Keeping a copy before feature engineering"
      ],
      "metadata": {
        "id": "Os8pOEy1bn9W"
      },
      "execution_count": 105,
      "outputs": []
    },
    {
      "cell_type": "code",
      "source": [
        "# Term : Binary encoding (0, 1)\n",
        "\n",
        "print(credit_data[\"Term\"].value_counts())\n",
        "\n",
        "credit_data['Term'].replace(['Short Term','Long Term'], [0,1], inplace=True)\n",
        "credit_data[\"Term\"].value_counts()"
      ],
      "metadata": {
        "colab": {
          "base_uri": "https://localhost:8080/"
        },
        "id": "JKmxYFO0aTeu",
        "outputId": "f109840e-c2b2-4a8d-a518-f1e5b4726042"
      },
      "execution_count": 106,
      "outputs": [
        {
          "output_type": "stream",
          "name": "stdout",
          "text": [
            "Short Term    61387\n",
            "Long Term     20612\n",
            "Name: Term, dtype: int64\n"
          ]
        },
        {
          "output_type": "execute_result",
          "data": {
            "text/plain": [
              "0    61387\n",
              "1    20612\n",
              "Name: Term, dtype: int64"
            ]
          },
          "metadata": {},
          "execution_count": 106
        }
      ]
    },
    {
      "cell_type": "code",
      "source": [
        "# Years in current job : Labelling\n",
        "\n",
        "print(credit_data[\"Years in current job\"].value_counts())\n",
        "\n",
        "credit_data['Years in current job'].replace(['10+ years','2 years','< 1 year','3 years','5 years','1 year','4 years',\n",
        "                                             '6 years','7 years','8 years','9 years'], [11,2,0,3,5,1,4,6,7,8,9], inplace=True)\n",
        "print(credit_data[\"Years in current job\"].value_counts())"
      ],
      "metadata": {
        "colab": {
          "base_uri": "https://localhost:8080/"
        },
        "id": "cS9ndNbTb9wC",
        "outputId": "69b72454-b295-425c-eeb0-48f413b1cf23"
      },
      "execution_count": 107,
      "outputs": [
        {
          "output_type": "stream",
          "name": "stdout",
          "text": [
            "10+ years    27271\n",
            "2 years       7560\n",
            "< 1 year      6755\n",
            "3 years       6671\n",
            "5 years       5619\n",
            "1 year        5317\n",
            "4 years       5029\n",
            "6 years       4702\n",
            "7 years       4566\n",
            "8 years       4539\n",
            "9 years       3970\n",
            "Name: Years in current job, dtype: int64\n",
            "11    27271\n",
            "2      7560\n",
            "0      6755\n",
            "3      6671\n",
            "5      5619\n",
            "1      5317\n",
            "4      5029\n",
            "6      4702\n",
            "7      4566\n",
            "8      4539\n",
            "9      3970\n",
            "Name: Years in current job, dtype: int64\n"
          ]
        }
      ]
    },
    {
      "cell_type": "code",
      "source": [
        "# Loan Status : Binary encoding (0, 1)\n",
        "print(credit_data['Loan Status'].value_counts())\n",
        "\n",
        "credit_data['Loan Status'].replace(['Fully Paid','Charged Off'], [0,1], inplace=True)\n",
        "print(credit_data['Loan Status'].value_counts())"
      ],
      "metadata": {
        "colab": {
          "base_uri": "https://localhost:8080/"
        },
        "id": "ieBU3WzWeK5M",
        "outputId": "dd89d930-92f5-4501-fe23-47f6da6b9834"
      },
      "execution_count": 108,
      "outputs": [
        {
          "output_type": "stream",
          "name": "stdout",
          "text": [
            "Fully Paid     59360\n",
            "Charged Off    22639\n",
            "Name: Loan Status, dtype: int64\n",
            "0    59360\n",
            "1    22639\n",
            "Name: Loan Status, dtype: int64\n"
          ]
        }
      ]
    },
    {
      "cell_type": "code",
      "source": [
        "# We are keeping null_count column as a part of feature engineering. \n",
        "# It shows how many variables were missing initially for each record."
      ],
      "metadata": {
        "id": "Mivu7Qu9hzod"
      },
      "execution_count": 109,
      "outputs": []
    },
    {
      "cell_type": "markdown",
      "source": [
        "### Renaming all variables to appropriate conventional names"
      ],
      "metadata": {
        "id": "FBbnoaxye82W"
      }
    },
    {
      "cell_type": "code",
      "source": [
        "credit_data.rename(columns = {'Loan ID':'loan_id', 'Customer ID':'cust_id', 'Loan Status':'status_y', 'Current Loan Amount':'loan_amt', \n",
        "                              'Term':'term', 'Credit Score':'cred_score', 'Annual Income':'income', 'Years in current job':'job_years', \n",
        "                              'Home Ownership':'home', 'Purpose':'purpose', 'Monthly Debt':'emi', 'Years of Credit History':'cred_years', \n",
        "                              'Months since last delinquent':'delin_mon', 'Number of Open Accounts':'open_acc', \n",
        "                              'Number of Credit Problems':'cred_prob', 'Current Credit Balance':'curr_bal', 'Maximum Open Credit':'max_cred', \n",
        "                              'Bankruptcies':'bankrupt', 'Tax Liens':'tax_lien'}, inplace=True)"
      ],
      "metadata": {
        "id": "pA54yusJfb9J"
      },
      "execution_count": 110,
      "outputs": []
    },
    {
      "cell_type": "code",
      "source": [
        "credit_data.info()"
      ],
      "metadata": {
        "colab": {
          "base_uri": "https://localhost:8080/"
        },
        "id": "CIeCwCYleX56",
        "outputId": "accfd1e2-6013-40f8-cd0c-b77fc1c8f231"
      },
      "execution_count": 111,
      "outputs": [
        {
          "output_type": "stream",
          "name": "stdout",
          "text": [
            "<class 'pandas.core.frame.DataFrame'>\n",
            "RangeIndex: 81999 entries, 0 to 81998\n",
            "Data columns (total 24 columns):\n",
            " #   Column              Non-Null Count  Dtype  \n",
            "---  ------              --------------  -----  \n",
            " 0   loan_id             81999 non-null  object \n",
            " 1   cust_id             81999 non-null  object \n",
            " 2   status_y            81999 non-null  int64  \n",
            " 3   loan_amt            81999 non-null  float64\n",
            " 4   term                81999 non-null  int64  \n",
            " 5   cred_score          81999 non-null  float64\n",
            " 6   income              81999 non-null  float64\n",
            " 7   job_years           81999 non-null  int64  \n",
            " 8   home                81999 non-null  object \n",
            " 9   purpose             81999 non-null  object \n",
            " 10  emi                 81999 non-null  float64\n",
            " 11  cred_years          81999 non-null  float64\n",
            " 12  delin_mon           37378 non-null  float64\n",
            " 13  open_acc            81999 non-null  float64\n",
            " 14  cred_prob           81999 non-null  float64\n",
            " 15  curr_bal            81999 non-null  float64\n",
            " 16  max_cred            81999 non-null  float64\n",
            " 17  bankrupt            81999 non-null  float64\n",
            " 18  tax_lien            81999 non-null  float64\n",
            " 19  null_count          81999 non-null  int64  \n",
            " 20  curr_loan_amt_flag  81999 non-null  int64  \n",
            " 21  credit_score_flag   81999 non-null  int64  \n",
            " 22  income_flag         81999 non-null  int64  \n",
            " 23  delin_month_flag    81999 non-null  int64  \n",
            "dtypes: float64(12), int64(8), object(4)\n",
            "memory usage: 15.0+ MB\n"
          ]
        }
      ]
    },
    {
      "cell_type": "markdown",
      "source": [
        "### Loan ID and Customer ID\n",
        "We may not need Loan ID and Customer ID because it will really not make much impact on the target. Every value is unique. So, we can drop them when building models.\n",
        "\n",
        "But, if we keep them to preserve customer information then we have to convert them into unique numbers. "
      ],
      "metadata": {
        "id": "z9EJeRnSxHSN"
      }
    },
    {
      "cell_type": "code",
      "source": [
        "credit_data['loan_num'] = np.arange(len(credit_data))\n",
        "credit_data['cust_num'] = np.arange(len(credit_data))\n",
        "credit_data[['loan_num','cust_num']]"
      ],
      "metadata": {
        "colab": {
          "base_uri": "https://localhost:8080/",
          "height": 424
        },
        "id": "ogtdij9GwuKI",
        "outputId": "c3217752-0458-4dc2-e654-37e6e65b97d6"
      },
      "execution_count": 112,
      "outputs": [
        {
          "output_type": "execute_result",
          "data": {
            "text/plain": [
              "       loan_num  cust_num\n",
              "0             0         0\n",
              "1             1         1\n",
              "2             2         2\n",
              "3             3         3\n",
              "4             4         4\n",
              "...         ...       ...\n",
              "81994     81994     81994\n",
              "81995     81995     81995\n",
              "81996     81996     81996\n",
              "81997     81997     81997\n",
              "81998     81998     81998\n",
              "\n",
              "[81999 rows x 2 columns]"
            ],
            "text/html": [
              "\n",
              "  <div id=\"df-bf1b8488-a944-4957-afb6-b4cbeca77696\">\n",
              "    <div class=\"colab-df-container\">\n",
              "      <div>\n",
              "<style scoped>\n",
              "    .dataframe tbody tr th:only-of-type {\n",
              "        vertical-align: middle;\n",
              "    }\n",
              "\n",
              "    .dataframe tbody tr th {\n",
              "        vertical-align: top;\n",
              "    }\n",
              "\n",
              "    .dataframe thead th {\n",
              "        text-align: right;\n",
              "    }\n",
              "</style>\n",
              "<table border=\"1\" class=\"dataframe\">\n",
              "  <thead>\n",
              "    <tr style=\"text-align: right;\">\n",
              "      <th></th>\n",
              "      <th>loan_num</th>\n",
              "      <th>cust_num</th>\n",
              "    </tr>\n",
              "  </thead>\n",
              "  <tbody>\n",
              "    <tr>\n",
              "      <th>0</th>\n",
              "      <td>0</td>\n",
              "      <td>0</td>\n",
              "    </tr>\n",
              "    <tr>\n",
              "      <th>1</th>\n",
              "      <td>1</td>\n",
              "      <td>1</td>\n",
              "    </tr>\n",
              "    <tr>\n",
              "      <th>2</th>\n",
              "      <td>2</td>\n",
              "      <td>2</td>\n",
              "    </tr>\n",
              "    <tr>\n",
              "      <th>3</th>\n",
              "      <td>3</td>\n",
              "      <td>3</td>\n",
              "    </tr>\n",
              "    <tr>\n",
              "      <th>4</th>\n",
              "      <td>4</td>\n",
              "      <td>4</td>\n",
              "    </tr>\n",
              "    <tr>\n",
              "      <th>...</th>\n",
              "      <td>...</td>\n",
              "      <td>...</td>\n",
              "    </tr>\n",
              "    <tr>\n",
              "      <th>81994</th>\n",
              "      <td>81994</td>\n",
              "      <td>81994</td>\n",
              "    </tr>\n",
              "    <tr>\n",
              "      <th>81995</th>\n",
              "      <td>81995</td>\n",
              "      <td>81995</td>\n",
              "    </tr>\n",
              "    <tr>\n",
              "      <th>81996</th>\n",
              "      <td>81996</td>\n",
              "      <td>81996</td>\n",
              "    </tr>\n",
              "    <tr>\n",
              "      <th>81997</th>\n",
              "      <td>81997</td>\n",
              "      <td>81997</td>\n",
              "    </tr>\n",
              "    <tr>\n",
              "      <th>81998</th>\n",
              "      <td>81998</td>\n",
              "      <td>81998</td>\n",
              "    </tr>\n",
              "  </tbody>\n",
              "</table>\n",
              "<p>81999 rows × 2 columns</p>\n",
              "</div>\n",
              "      <button class=\"colab-df-convert\" onclick=\"convertToInteractive('df-bf1b8488-a944-4957-afb6-b4cbeca77696')\"\n",
              "              title=\"Convert this dataframe to an interactive table.\"\n",
              "              style=\"display:none;\">\n",
              "        \n",
              "  <svg xmlns=\"http://www.w3.org/2000/svg\" height=\"24px\"viewBox=\"0 0 24 24\"\n",
              "       width=\"24px\">\n",
              "    <path d=\"M0 0h24v24H0V0z\" fill=\"none\"/>\n",
              "    <path d=\"M18.56 5.44l.94 2.06.94-2.06 2.06-.94-2.06-.94-.94-2.06-.94 2.06-2.06.94zm-11 1L8.5 8.5l.94-2.06 2.06-.94-2.06-.94L8.5 2.5l-.94 2.06-2.06.94zm10 10l.94 2.06.94-2.06 2.06-.94-2.06-.94-.94-2.06-.94 2.06-2.06.94z\"/><path d=\"M17.41 7.96l-1.37-1.37c-.4-.4-.92-.59-1.43-.59-.52 0-1.04.2-1.43.59L10.3 9.45l-7.72 7.72c-.78.78-.78 2.05 0 2.83L4 21.41c.39.39.9.59 1.41.59.51 0 1.02-.2 1.41-.59l7.78-7.78 2.81-2.81c.8-.78.8-2.07 0-2.86zM5.41 20L4 18.59l7.72-7.72 1.47 1.35L5.41 20z\"/>\n",
              "  </svg>\n",
              "      </button>\n",
              "      \n",
              "  <style>\n",
              "    .colab-df-container {\n",
              "      display:flex;\n",
              "      flex-wrap:wrap;\n",
              "      gap: 12px;\n",
              "    }\n",
              "\n",
              "    .colab-df-convert {\n",
              "      background-color: #E8F0FE;\n",
              "      border: none;\n",
              "      border-radius: 50%;\n",
              "      cursor: pointer;\n",
              "      display: none;\n",
              "      fill: #1967D2;\n",
              "      height: 32px;\n",
              "      padding: 0 0 0 0;\n",
              "      width: 32px;\n",
              "    }\n",
              "\n",
              "    .colab-df-convert:hover {\n",
              "      background-color: #E2EBFA;\n",
              "      box-shadow: 0px 1px 2px rgba(60, 64, 67, 0.3), 0px 1px 3px 1px rgba(60, 64, 67, 0.15);\n",
              "      fill: #174EA6;\n",
              "    }\n",
              "\n",
              "    [theme=dark] .colab-df-convert {\n",
              "      background-color: #3B4455;\n",
              "      fill: #D2E3FC;\n",
              "    }\n",
              "\n",
              "    [theme=dark] .colab-df-convert:hover {\n",
              "      background-color: #434B5C;\n",
              "      box-shadow: 0px 1px 3px 1px rgba(0, 0, 0, 0.15);\n",
              "      filter: drop-shadow(0px 1px 2px rgba(0, 0, 0, 0.3));\n",
              "      fill: #FFFFFF;\n",
              "    }\n",
              "  </style>\n",
              "\n",
              "      <script>\n",
              "        const buttonEl =\n",
              "          document.querySelector('#df-bf1b8488-a944-4957-afb6-b4cbeca77696 button.colab-df-convert');\n",
              "        buttonEl.style.display =\n",
              "          google.colab.kernel.accessAllowed ? 'block' : 'none';\n",
              "\n",
              "        async function convertToInteractive(key) {\n",
              "          const element = document.querySelector('#df-bf1b8488-a944-4957-afb6-b4cbeca77696');\n",
              "          const dataTable =\n",
              "            await google.colab.kernel.invokeFunction('convertToInteractive',\n",
              "                                                     [key], {});\n",
              "          if (!dataTable) return;\n",
              "\n",
              "          const docLinkHtml = 'Like what you see? Visit the ' +\n",
              "            '<a target=\"_blank\" href=https://colab.research.google.com/notebooks/data_table.ipynb>data table notebook</a>'\n",
              "            + ' to learn more about interactive tables.';\n",
              "          element.innerHTML = '';\n",
              "          dataTable['output_type'] = 'display_data';\n",
              "          await google.colab.output.renderOutput(dataTable, element);\n",
              "          const docLink = document.createElement('div');\n",
              "          docLink.innerHTML = docLinkHtml;\n",
              "          element.appendChild(docLink);\n",
              "        }\n",
              "      </script>\n",
              "    </div>\n",
              "  </div>\n",
              "  "
            ]
          },
          "metadata": {},
          "execution_count": 112
        }
      ]
    },
    {
      "cell_type": "markdown",
      "source": [
        "### One hot encoding"
      ],
      "metadata": {
        "id": "x55q0qlhiYzN"
      }
    },
    {
      "cell_type": "code",
      "source": [
        "# credit_data['home'] value renaming\n",
        "credit_data['home'].value_counts()\n",
        "\n",
        "credit_data['home'].replace(['Home Mortgage','Rent','Own Home'], ['home_mortgage','home_rent','home_owned'], inplace=True)\n",
        "credit_data['home'].value_counts()"
      ],
      "metadata": {
        "colab": {
          "base_uri": "https://localhost:8080/"
        },
        "id": "BSfXQjuuicG2",
        "outputId": "4ad6f059-363a-4696-e5c0-3f5112a462ae"
      },
      "execution_count": 113,
      "outputs": [
        {
          "output_type": "execute_result",
          "data": {
            "text/plain": [
              "home_mortgage    40042\n",
              "home_rent        34499\n",
              "home_owned        7458\n",
              "Name: home, dtype: int64"
            ]
          },
          "metadata": {},
          "execution_count": 113
        }
      ]
    },
    {
      "cell_type": "code",
      "source": [
        "# credit_data['purpose'] value renaming\n",
        "print(credit_data['purpose'].value_counts())\n",
        "\n",
        "credit_data['purpose'].replace(['Debt Consolidation','Home Improvements','Business Loan','Buy a Car','Medical Bills','Buy House',\n",
        "                                'Take a Trip','Educational Expenses','renewable_energy'], \n",
        "                               ['purp_debt','purp_home','purp_business', 'purp_car', 'purp_medical', 'purp_buy_house', 'purp_trip', \n",
        "                                'purp_edu', 'purp_renew_en'], inplace=True)\n",
        "credit_data['purpose'].value_counts()"
      ],
      "metadata": {
        "colab": {
          "base_uri": "https://localhost:8080/"
        },
        "id": "Q1eh1YSgpXyy",
        "outputId": "1923aabd-fc7a-4bdd-deac-7ac684a828de"
      },
      "execution_count": 114,
      "outputs": [
        {
          "output_type": "stream",
          "name": "stdout",
          "text": [
            "Debt Consolidation      64907\n",
            "Other                    7238\n",
            "Home Improvements        4795\n",
            "Business Loan            1229\n",
            "Buy a Car                1081\n",
            "Medical Bills             880\n",
            "Buy House                 519\n",
            "Take a Trip               435\n",
            "major_purchase            303\n",
            "small_business            230\n",
            "moving                    116\n",
            "wedding                    93\n",
            "Educational Expenses       85\n",
            "vacation                   80\n",
            "renewable_energy            8\n",
            "Name: purpose, dtype: int64\n"
          ]
        },
        {
          "output_type": "execute_result",
          "data": {
            "text/plain": [
              "purp_debt         64907\n",
              "Other              7238\n",
              "purp_home          4795\n",
              "purp_business      1229\n",
              "purp_car           1081\n",
              "purp_medical        880\n",
              "purp_buy_house      519\n",
              "purp_trip           435\n",
              "major_purchase      303\n",
              "small_business      230\n",
              "moving              116\n",
              "wedding              93\n",
              "purp_edu             85\n",
              "vacation             80\n",
              "purp_renew_en         8\n",
              "Name: purpose, dtype: int64"
            ]
          },
          "metadata": {},
          "execution_count": 114
        }
      ]
    },
    {
      "cell_type": "code",
      "source": [
        "onehot_cols = ['home', 'purpose']\n",
        "\n",
        "# get dummy variables\n",
        "for col in onehot_cols:\n",
        " one_hot_data = pd.get_dummies(credit_data[col])\n",
        " credit_data = pd.concat([credit_data, one_hot_data],axis=1)\n",
        "print(\"One hot encoded credit data \\n\", credit_data)\n",
        "print(credit_data.columns)"
      ],
      "metadata": {
        "colab": {
          "base_uri": "https://localhost:8080/"
        },
        "id": "D656XoLfq4Jn",
        "outputId": "e0ffa316-4d3b-4842-9a41-4dcbb71863bd"
      },
      "execution_count": 115,
      "outputs": [
        {
          "output_type": "stream",
          "name": "stdout",
          "text": [
            "One hot encoded credit data \n",
            "                                     loan_id  \\\n",
            "0      00069ff1-a877-4d35-81be-7cd359b99956   \n",
            "1      000a0abe-b839-414d-9b00-8ba33b47ebce   \n",
            "2      000c0c27-1961-4336-b760-a300e1bce9b0   \n",
            "3      000dada0-f2a3-4d6d-b9d2-284939e7cc7d   \n",
            "4      0010c319-7142-47c3-8a68-57e45f54c000   \n",
            "...                                     ...   \n",
            "81994  fda107a5-8d70-4131-9005-12fc53dc432f   \n",
            "81995  fe1b194b-9e7e-4594-9ba5-df6574ea0f39   \n",
            "81996  feada61e-04cf-4370-bb37-2d15e2e8665d   \n",
            "81997  feae7ab6-8af5-4e0f-a732-9900d3d5ca56   \n",
            "81998  8d5a40cc-230c-45f8-91f1-3c3afa7bb97f   \n",
            "\n",
            "                                    cust_id  status_y  loan_amt  term  \\\n",
            "0      ee3c27f2-766a-499c-9a96-d17c4d2faa16         0   31526.0     0   \n",
            "1      b2f4c91c-0157-4529-af67-35ffeac65389         0   77176.0     0   \n",
            "2      881edf98-387c-4eef-ab71-317a7a5e70c1         1  142186.0     0   \n",
            "3      f7f2f882-1904-4002-8121-9be4ee9143de         0  307780.0     0   \n",
            "4      bd2528b4-9602-48f2-9559-a12dcdb72f48         1  325688.0     0   \n",
            "...                                     ...       ...       ...   ...   \n",
            "81994  c9b119d1-7f7e-491d-a187-98ca88b2cb11         0  509036.0     0   \n",
            "81995  7aa4c3f0-f7ba-4ba1-a8dc-2af941f48f33         1  784564.0     1   \n",
            "81996  595064e3-4618-4841-b98b-0cb47af71241         1  398178.0     1   \n",
            "81997  6d87a641-64ac-475c-ac0f-3bf9890d4828         1  108922.0     0   \n",
            "81998  3dc3d4b5-e669-4537-9a07-9bbe017fdd9e         0   43032.0     0   \n",
            "\n",
            "       cred_score     income  job_years           home    purpose  ...  \\\n",
            "0           716.0  2065965.0         11  home_mortgage  purp_home  ...   \n",
            "1           736.0  1618629.0         11  home_mortgage      Other  ...   \n",
            "2           732.0   479712.0          1     home_owned  purp_debt  ...   \n",
            "3           740.0  1599629.0          2      home_rent  purp_debt  ...   \n",
            "4           744.0  1181325.0          1      home_rent  purp_debt  ...   \n",
            "...           ...        ...        ...            ...        ...  ...   \n",
            "81994       727.0  1170609.0          8  home_mortgage  purp_debt  ...   \n",
            "81995       727.0  1170609.0          8  home_mortgage  purp_debt  ...   \n",
            "81996       727.0  1170609.0          8  home_mortgage  purp_debt  ...   \n",
            "81997       727.0  1170609.0          8      home_rent  purp_debt  ...   \n",
            "81998       727.0  1170609.0         11  home_mortgage  purp_debt  ...   \n",
            "\n",
            "       purp_car  purp_debt  purp_edu  purp_home  purp_medical  purp_renew_en  \\\n",
            "0             0          0         0          1             0              0   \n",
            "1             0          0         0          0             0              0   \n",
            "2             0          1         0          0             0              0   \n",
            "3             0          1         0          0             0              0   \n",
            "4             0          1         0          0             0              0   \n",
            "...         ...        ...       ...        ...           ...            ...   \n",
            "81994         0          1         0          0             0              0   \n",
            "81995         0          1         0          0             0              0   \n",
            "81996         0          1         0          0             0              0   \n",
            "81997         0          1         0          0             0              0   \n",
            "81998         0          1         0          0             0              0   \n",
            "\n",
            "       purp_trip  small_business  vacation  wedding  \n",
            "0              0               0         0        0  \n",
            "1              0               0         0        0  \n",
            "2              0               0         0        0  \n",
            "3              0               0         0        0  \n",
            "4              0               0         0        0  \n",
            "...          ...             ...       ...      ...  \n",
            "81994          0               0         0        0  \n",
            "81995          0               0         0        0  \n",
            "81996          0               0         0        0  \n",
            "81997          0               0         0        0  \n",
            "81998          0               0         0        0  \n",
            "\n",
            "[81999 rows x 44 columns]\n",
            "Index(['loan_id', 'cust_id', 'status_y', 'loan_amt', 'term', 'cred_score',\n",
            "       'income', 'job_years', 'home', 'purpose', 'emi', 'cred_years',\n",
            "       'delin_mon', 'open_acc', 'cred_prob', 'curr_bal', 'max_cred',\n",
            "       'bankrupt', 'tax_lien', 'null_count', 'curr_loan_amt_flag',\n",
            "       'credit_score_flag', 'income_flag', 'delin_month_flag', 'loan_num',\n",
            "       'cust_num', 'home_mortgage', 'home_owned', 'home_rent', 'Other',\n",
            "       'major_purchase', 'moving', 'purp_business', 'purp_buy_house',\n",
            "       'purp_car', 'purp_debt', 'purp_edu', 'purp_home', 'purp_medical',\n",
            "       'purp_renew_en', 'purp_trip', 'small_business', 'vacation', 'wedding'],\n",
            "      dtype='object')\n"
          ]
        }
      ]
    },
    {
      "cell_type": "markdown",
      "source": [
        "### Infinite VIF variable handling : Multicollinearity check\n",
        "\n",
        "When we perform one hot encoding on a variable, then all the new columns created are linearly dependent on each other. The sum of their values row-wise is always equal to 1. Therefore, all the new columns are perfectly colliear. Hence, VIF for each of these new columns will be Infinite. \n",
        "\n",
        "To avoid infinite VIF we have to drop one of the new columns for each variable on which one-hot-encoding was done. "
      ],
      "metadata": {
        "id": "50nc5Jjhs0vM"
      }
    },
    {
      "cell_type": "code",
      "source": [
        "cred_data1 = credit_data.drop(['loan_id','cust_id','delin_mon','home','purpose'], axis=1)\n",
        "cred_data1.info()"
      ],
      "metadata": {
        "colab": {
          "base_uri": "https://localhost:8080/"
        },
        "id": "SRI1RHQSy8vx",
        "outputId": "75361c04-ed61-4dd3-a9c7-645c45f54747"
      },
      "execution_count": 116,
      "outputs": [
        {
          "output_type": "stream",
          "name": "stdout",
          "text": [
            "<class 'pandas.core.frame.DataFrame'>\n",
            "RangeIndex: 81999 entries, 0 to 81998\n",
            "Data columns (total 39 columns):\n",
            " #   Column              Non-Null Count  Dtype  \n",
            "---  ------              --------------  -----  \n",
            " 0   status_y            81999 non-null  int64  \n",
            " 1   loan_amt            81999 non-null  float64\n",
            " 2   term                81999 non-null  int64  \n",
            " 3   cred_score          81999 non-null  float64\n",
            " 4   income              81999 non-null  float64\n",
            " 5   job_years           81999 non-null  int64  \n",
            " 6   emi                 81999 non-null  float64\n",
            " 7   cred_years          81999 non-null  float64\n",
            " 8   open_acc            81999 non-null  float64\n",
            " 9   cred_prob           81999 non-null  float64\n",
            " 10  curr_bal            81999 non-null  float64\n",
            " 11  max_cred            81999 non-null  float64\n",
            " 12  bankrupt            81999 non-null  float64\n",
            " 13  tax_lien            81999 non-null  float64\n",
            " 14  null_count          81999 non-null  int64  \n",
            " 15  curr_loan_amt_flag  81999 non-null  int64  \n",
            " 16  credit_score_flag   81999 non-null  int64  \n",
            " 17  income_flag         81999 non-null  int64  \n",
            " 18  delin_month_flag    81999 non-null  int64  \n",
            " 19  loan_num            81999 non-null  int64  \n",
            " 20  cust_num            81999 non-null  int64  \n",
            " 21  home_mortgage       81999 non-null  uint8  \n",
            " 22  home_owned          81999 non-null  uint8  \n",
            " 23  home_rent           81999 non-null  uint8  \n",
            " 24  Other               81999 non-null  uint8  \n",
            " 25  major_purchase      81999 non-null  uint8  \n",
            " 26  moving              81999 non-null  uint8  \n",
            " 27  purp_business       81999 non-null  uint8  \n",
            " 28  purp_buy_house      81999 non-null  uint8  \n",
            " 29  purp_car            81999 non-null  uint8  \n",
            " 30  purp_debt           81999 non-null  uint8  \n",
            " 31  purp_edu            81999 non-null  uint8  \n",
            " 32  purp_home           81999 non-null  uint8  \n",
            " 33  purp_medical        81999 non-null  uint8  \n",
            " 34  purp_renew_en       81999 non-null  uint8  \n",
            " 35  purp_trip           81999 non-null  uint8  \n",
            " 36  small_business      81999 non-null  uint8  \n",
            " 37  vacation            81999 non-null  uint8  \n",
            " 38  wedding             81999 non-null  uint8  \n",
            "dtypes: float64(11), int64(10), uint8(18)\n",
            "memory usage: 14.5 MB\n"
          ]
        }
      ]
    },
    {
      "cell_type": "code",
      "source": [
        "# Infinite VIF check\n",
        "import statsmodels.formula.api as sm\n",
        "\n",
        "def vif_cal(input_data, dependent_col):\n",
        "    x_vars=input_data.drop([dependent_col], axis=1)\n",
        "    xvar_names=x_vars.columns\n",
        "    for i in range(0,xvar_names.shape[0]):\n",
        "        y=x_vars[xvar_names[i]] \n",
        "        x=x_vars[xvar_names.drop(xvar_names[i])]\n",
        "        #print(xvar_names[i])\n",
        "        rsq=sm.ols(formula=\"y~x\", data=x_vars).fit().rsquared  \n",
        "        vif=round(1/(1-rsq),2)\n",
        "        print (xvar_names[i], \" VIF = \" , vif)\n",
        "\n",
        "vif_cal(input_data = cred_data1, dependent_col='status_y')"
      ],
      "metadata": {
        "colab": {
          "base_uri": "https://localhost:8080/"
        },
        "id": "vKVQTXS5ueFi",
        "outputId": "df472119-36b0-4f06-972c-0befddffd664"
      },
      "execution_count": 117,
      "outputs": [
        {
          "output_type": "stream",
          "name": "stdout",
          "text": [
            "loan_amt  VIF =  1.64\n",
            "term  VIF =  1.45\n",
            "cred_score  VIF =  1.42\n",
            "income  VIF =  1.52\n",
            "job_years  VIF =  1.14\n",
            "emi  VIF =  1.89\n",
            "cred_years  VIF =  1.23\n",
            "open_acc  VIF =  1.38\n",
            "cred_prob  VIF =  7.76\n",
            "curr_bal  VIF =  2.18\n",
            "max_cred  VIF =  2.25\n",
            "bankrupt  VIF =  5.12\n",
            "tax_lien  VIF =  3.35\n",
            "null_count  VIF =  27.66\n",
            "curr_loan_amt_flag  VIF =  1.06\n",
            "credit_score_flag  VIF =  21.81\n",
            "income_flag  VIF =  6.45\n",
            "delin_month_flag  VIF =  7.42\n",
            "loan_num  VIF =  inf\n",
            "cust_num  VIF =  inf\n",
            "home_mortgage  VIF =  inf\n",
            "home_owned  VIF =  inf\n",
            "home_rent  VIF =  inf\n",
            "Other  VIF =  inf\n",
            "major_purchase  VIF =  inf\n",
            "moving  VIF =  inf\n",
            "purp_business  VIF =  inf\n",
            "purp_buy_house  VIF =  inf\n",
            "purp_car  VIF =  inf\n",
            "purp_debt  VIF =  inf\n",
            "purp_edu  VIF =  inf\n",
            "purp_home  VIF =  inf\n",
            "purp_medical  VIF =  inf\n",
            "purp_renew_en  VIF =  inf\n",
            "purp_trip  VIF =  inf\n",
            "small_business  VIF =  inf\n",
            "vacation  VIF =  inf\n",
            "wedding  VIF =  inf\n"
          ]
        }
      ]
    },
    {
      "cell_type": "code",
      "source": [
        "# Drop home_mortgage, Other, loan_num\n",
        "# loan_num = cust_num : so it has to be dropped\n",
        "cred_data1.drop(['home_mortgage','Other','loan_num'], axis=1, inplace = True)"
      ],
      "metadata": {
        "id": "CqVxo3HesCvG"
      },
      "execution_count": 118,
      "outputs": []
    },
    {
      "cell_type": "code",
      "source": [
        "cred_data1.shape"
      ],
      "metadata": {
        "colab": {
          "base_uri": "https://localhost:8080/"
        },
        "id": "OCy-lSm-3tkN",
        "outputId": "a7699a16-aa98-43f4-dbf1-742d42e63674"
      },
      "execution_count": 119,
      "outputs": [
        {
          "output_type": "execute_result",
          "data": {
            "text/plain": [
              "(81999, 36)"
            ]
          },
          "metadata": {},
          "execution_count": 119
        }
      ]
    },
    {
      "cell_type": "code",
      "source": [
        "# Infinite VIF check\n",
        "import statsmodels.formula.api as sm\n",
        "\n",
        "def vif_cal(input_data, dependent_col):\n",
        "    x_vars=input_data.drop([dependent_col], axis=1)\n",
        "    xvar_names=x_vars.columns\n",
        "    for i in range(0,xvar_names.shape[0]):\n",
        "        y=x_vars[xvar_names[i]] \n",
        "        x=x_vars[xvar_names.drop(xvar_names[i])]\n",
        "        #print(xvar_names[i])\n",
        "        rsq=sm.ols(formula=\"y~x\", data=x_vars).fit().rsquared  \n",
        "        vif=round(1/(1-rsq),2)\n",
        "        print (xvar_names[i], \" VIF = \" , vif)\n",
        "\n",
        "vif_cal(input_data = cred_data1, dependent_col='status_y')"
      ],
      "metadata": {
        "colab": {
          "base_uri": "https://localhost:8080/"
        },
        "id": "ULFnRLWy4Dqe",
        "outputId": "ec20235b-c091-4720-99f6-a4e974ba52b8"
      },
      "execution_count": 120,
      "outputs": [
        {
          "output_type": "stream",
          "name": "stdout",
          "text": [
            "loan_amt  VIF =  1.64\n",
            "term  VIF =  1.45\n",
            "cred_score  VIF =  1.42\n",
            "income  VIF =  1.52\n",
            "job_years  VIF =  1.14\n",
            "emi  VIF =  1.89\n",
            "cred_years  VIF =  1.23\n",
            "open_acc  VIF =  1.38\n",
            "cred_prob  VIF =  7.76\n",
            "curr_bal  VIF =  2.18\n",
            "max_cred  VIF =  2.25\n",
            "bankrupt  VIF =  5.12\n",
            "tax_lien  VIF =  3.35\n",
            "null_count  VIF =  27.66\n",
            "curr_loan_amt_flag  VIF =  1.06\n",
            "credit_score_flag  VIF =  21.81\n",
            "income_flag  VIF =  6.45\n",
            "delin_month_flag  VIF =  7.42\n",
            "cust_num  VIF =  5.63\n",
            "home_owned  VIF =  1.11\n",
            "home_rent  VIF =  1.27\n",
            "major_purchase  VIF =  1.04\n",
            "moving  VIF =  1.02\n",
            "purp_business  VIF =  1.16\n",
            "purp_buy_house  VIF =  1.07\n",
            "purp_car  VIF =  1.14\n",
            "purp_debt  VIF =  2.19\n",
            "purp_edu  VIF =  1.01\n",
            "purp_home  VIF =  1.63\n",
            "purp_medical  VIF =  1.11\n",
            "purp_renew_en  VIF =  1.0\n",
            "purp_trip  VIF =  1.06\n",
            "small_business  VIF =  1.03\n",
            "vacation  VIF =  1.01\n",
            "wedding  VIF =  1.01\n"
          ]
        }
      ]
    },
    {
      "cell_type": "markdown",
      "source": [
        "No more infinite VIF. Infinite VIF has been handled."
      ],
      "metadata": {
        "id": "g9CXFVgr4il9"
      }
    },
    {
      "cell_type": "markdown",
      "source": [
        "# MODEL BUILDING"
      ],
      "metadata": {
        "id": "hbnuAmfE44LZ"
      }
    },
    {
      "cell_type": "markdown",
      "source": [
        "## Getting Train and Test data"
      ],
      "metadata": {
        "id": "pLaiL3CC44Wz"
      }
    },
    {
      "cell_type": "code",
      "source": [
        "cred_data1.columns"
      ],
      "metadata": {
        "colab": {
          "base_uri": "https://localhost:8080/"
        },
        "id": "1AKftJXo7CJ2",
        "outputId": "05339c74-59a6-45f4-97f3-c8343c0909a1"
      },
      "execution_count": 121,
      "outputs": [
        {
          "output_type": "execute_result",
          "data": {
            "text/plain": [
              "Index(['status_y', 'loan_amt', 'term', 'cred_score', 'income', 'job_years',\n",
              "       'emi', 'cred_years', 'open_acc', 'cred_prob', 'curr_bal', 'max_cred',\n",
              "       'bankrupt', 'tax_lien', 'null_count', 'curr_loan_amt_flag',\n",
              "       'credit_score_flag', 'income_flag', 'delin_month_flag', 'cust_num',\n",
              "       'home_owned', 'home_rent', 'major_purchase', 'moving', 'purp_business',\n",
              "       'purp_buy_house', 'purp_car', 'purp_debt', 'purp_edu', 'purp_home',\n",
              "       'purp_medical', 'purp_renew_en', 'purp_trip', 'small_business',\n",
              "       'vacation', 'wedding'],\n",
              "      dtype='object')"
            ]
          },
          "metadata": {},
          "execution_count": 121
        }
      ]
    },
    {
      "cell_type": "code",
      "source": [
        "from sklearn.model_selection import train_test_split\n",
        "\n",
        "features = ['cust_num', 'loan_amt', 'curr_loan_amt_flag', 'term', 'cred_score', 'credit_score_flag', 'income', 'income_flag', \n",
        "            'job_years', 'delin_month_flag', 'emi', 'cred_years', 'open_acc', 'cred_prob', 'curr_bal', 'max_cred', 'bankrupt', \n",
        "            'tax_lien', 'null_count', 'home_owned', 'home_rent', 'major_purchase', 'moving', 'purp_business', 'purp_buy_house', \n",
        "            'purp_car', 'purp_debt', 'purp_edu', 'purp_home', 'purp_medical', 'purp_renew_en', 'purp_trip', 'small_business', \n",
        "            'vacation', 'wedding']\n",
        "\n",
        "X = cred_data1[features]\n",
        "print(X.shape)\n",
        "y = credit_data['status_y']\n",
        "print(y.shape)\n",
        "\n",
        "X_train, X_test, y_train, y_test = train_test_split(X, y, train_size = 0.8, random_state = 10)\n",
        "\n",
        "print(X_train.shape)\n",
        "print(X_test.shape)\n",
        "print(y_train.shape)\n",
        "print(y_test.shape)"
      ],
      "metadata": {
        "colab": {
          "base_uri": "https://localhost:8080/"
        },
        "id": "Rd2IGjkY645Y",
        "outputId": "fcf317fa-5d45-4f47-9ed5-624ecf4aa7f3"
      },
      "execution_count": 122,
      "outputs": [
        {
          "output_type": "stream",
          "name": "stdout",
          "text": [
            "(81999, 35)\n",
            "(81999,)\n",
            "(65599, 35)\n",
            "(16400, 35)\n",
            "(65599,)\n",
            "(16400,)\n"
          ]
        }
      ]
    },
    {
      "cell_type": "code",
      "source": [
        "# Keeping a copy of the unbalanced data before going for balancing it\n",
        "\n",
        "cred_data2 = cred_data1.copy()\n",
        "X_train2 = X_train.copy()\n",
        "y_train2 = y_train.copy()\n",
        "\n",
        "print(cred_data2.shape)"
      ],
      "metadata": {
        "colab": {
          "base_uri": "https://localhost:8080/"
        },
        "id": "jZdZoZER4feh",
        "outputId": "976081c6-eca6-48c0-c7bc-5f877948a13f"
      },
      "execution_count": 123,
      "outputs": [
        {
          "output_type": "stream",
          "name": "stdout",
          "text": [
            "(81999, 36)\n"
          ]
        }
      ]
    },
    {
      "cell_type": "markdown",
      "source": [
        "## Handling Class Imbalance\n",
        "In the target variable Loan Status, Class 1 (Charge Off) is important to us to predict the loss."
      ],
      "metadata": {
        "id": "oUxCFZfS-qau"
      }
    },
    {
      "cell_type": "code",
      "source": [
        "# Percentage of class 1 and class 0 in train data\n",
        "y_cnt = y_train.value_counts()\n",
        "y_train.value_counts()*100/y_cnt.sum()"
      ],
      "metadata": {
        "colab": {
          "base_uri": "https://localhost:8080/"
        },
        "id": "GjrvleL4_Ci_",
        "outputId": "456c8e30-a11b-49ae-c1d2-1750aaf149f4"
      },
      "execution_count": 124,
      "outputs": [
        {
          "output_type": "execute_result",
          "data": {
            "text/plain": [
              "0    72.516349\n",
              "1    27.483651\n",
              "Name: status_y, dtype: float64"
            ]
          },
          "metadata": {},
          "execution_count": 124
        }
      ]
    },
    {
      "cell_type": "markdown",
      "source": [
        "Class 1 has 27% records, so we have class imbalance."
      ],
      "metadata": {
        "id": "SiNML4Fh_5tm"
      }
    },
    {
      "cell_type": "code",
      "source": [
        "# Splitting data by target variable classes 0 and 1\n",
        "train_data = pd.concat([X_train, y_train], axis=1)\n",
        "print(train_data.shape)\n",
        "\n",
        "train_class0 = train_data[train_data['status_y'] == 0]\n",
        "train_class1 = train_data[train_data['status_y'] == 1]\n",
        "\n",
        "print(train_class0.shape)\n",
        "print(train_class1.shape)"
      ],
      "metadata": {
        "colab": {
          "base_uri": "https://localhost:8080/"
        },
        "id": "_1ZH9nzY-l4J",
        "outputId": "bf13858a-5fa3-4fb7-b0ee-43b877b4f8a5"
      },
      "execution_count": 125,
      "outputs": [
        {
          "output_type": "stream",
          "name": "stdout",
          "text": [
            "(65599, 36)\n",
            "(47570, 36)\n",
            "(18029, 36)\n"
          ]
        }
      ]
    },
    {
      "cell_type": "markdown",
      "source": [
        "### Oversampling of minority class 1"
      ],
      "metadata": {
        "id": "S9XVZuFvAT1c"
      }
    },
    {
      "cell_type": "code",
      "source": [
        "# Oversampling of minority class 1\n",
        "\n",
        "train_class1_over = train_class1.sample(int(len(train_class1)*2.5), replace=True)\n",
        "print(train_class1_over.shape)\n",
        "\n",
        "train_data_bal = pd.concat([train_class0, train_class1_over])\n",
        "print(train_data_bal.shape)"
      ],
      "metadata": {
        "colab": {
          "base_uri": "https://localhost:8080/"
        },
        "id": "_eAR-JiuARyF",
        "outputId": "0e832d38-b89d-47a3-a725-d413ece0b18e"
      },
      "execution_count": 126,
      "outputs": [
        {
          "output_type": "stream",
          "name": "stdout",
          "text": [
            "(45072, 36)\n",
            "(92642, 36)\n"
          ]
        }
      ]
    },
    {
      "cell_type": "markdown",
      "source": [
        "We can also use undersampling of majority class i.e. class 0 and SMOTE technique as well. \n",
        "\n",
        "Undersampling will reduce the number of records and I want to preserve the maximum data. Therefore I am not using it.\n",
        "\n",
        "SMOTE will create records with synthetic data. When used especially with one-hot encoded data, it can create new records in which data is inconsistent with one-hot encoding logic. So I am not using SMOTE technique here."
      ],
      "metadata": {
        "id": "WsZFAMpKn2iH"
      }
    },
    {
      "cell_type": "markdown",
      "source": [
        "## Datasets for model building and validation"
      ],
      "metadata": {
        "id": "piRNbuMsB0oQ"
      }
    },
    {
      "cell_type": "code",
      "source": [
        "# Train data\n",
        "X_train = train_data_bal[features]\n",
        "y_train = train_data_bal['status_y']\n",
        "print('X train', X_train.shape)\n",
        "print('y train', y_train.shape)\n",
        "\n",
        "# Full train data\n",
        "print('Full train', train_data_bal.shape)\n",
        "\n",
        "# Test data\n",
        "print('X test', X_test.shape)\n",
        "print('y test', y_test.shape)\n",
        "\n",
        "# Full test data\n",
        "test_data_bal = pd.concat([X_test, y_test], axis=1)\n",
        "print('Full test', test_data_bal.shape)"
      ],
      "metadata": {
        "colab": {
          "base_uri": "https://localhost:8080/"
        },
        "id": "IefIiYGdB0_A",
        "outputId": "e96f5e4d-ec2f-454d-ba85-4f1d7a446938"
      },
      "execution_count": 127,
      "outputs": [
        {
          "output_type": "stream",
          "name": "stdout",
          "text": [
            "X train (92642, 35)\n",
            "y train (92642,)\n",
            "Full train (92642, 36)\n",
            "X test (16400, 35)\n",
            "y test (16400,)\n",
            "Full test (16400, 36)\n"
          ]
        }
      ]
    },
    {
      "cell_type": "markdown",
      "source": [
        "# MODEL 1 : Logistic Regression"
      ],
      "metadata": {
        "id": "aOUWzDGBEykh"
      }
    },
    {
      "cell_type": "markdown",
      "source": [
        "## Multicollinerity check and dropping high VIF variables\n",
        "We are going for Multicollinerity check before building the model because anyway the interdependency between X-variables (predictor variables) is not affected by the Target variable."
      ],
      "metadata": {
        "id": "wvsBVSooE4rX"
      }
    },
    {
      "cell_type": "code",
      "source": [
        "# Train and test data for logistic regression\n",
        "\n",
        "# We are again reating separate datasets because few features will be dropped \n",
        "# based on VIF (Variance Inflation Factor) and P-value (impact on target).\n",
        "\n",
        "train_data_bal_logistic = train_data_bal.drop(['status_y'], axis=1)\n",
        "test_data_bal_logistic = test_data_bal.copy()"
      ],
      "metadata": {
        "id": "p7tN65qsGTwr"
      },
      "execution_count": 128,
      "outputs": []
    },
    {
      "cell_type": "code",
      "source": [
        "# Function based on OLS (Ordinary Least Squares) to check VIF\n",
        "\n",
        "def vif_cal(input_data):\n",
        "    x_vars=input_data\n",
        "    xvar_names=x_vars.columns\n",
        "    max_vif = 0\n",
        "    max_xvar ='_none'\n",
        "    for i in range(0,xvar_names.shape[0]):\n",
        "        y=x_vars[xvar_names[i]] \n",
        "        x=x_vars[xvar_names.drop(xvar_names[i])]\n",
        "        rsq=sm.ols(formula=\"y~x\", data=x_vars).fit().rsquared  \n",
        "        vif=round(1/(1-rsq),2)\n",
        "        print (xvar_names[i], \" VIF = \" , vif)\n",
        "        if vif >= max_vif:\n",
        "          max_vif = vif\n",
        "          max_xvar = str(xvar_names[i])\n",
        "    print('Max VIF = ', max_vif, ' Var = ', max_xvar)\n",
        "\n",
        "# Calling the function\n",
        "vif_cal(input_data = train_data_bal_logistic)"
      ],
      "metadata": {
        "colab": {
          "base_uri": "https://localhost:8080/"
        },
        "id": "GpNktpaVEx6q",
        "outputId": "37d877bf-9c2d-4dc2-f7be-935aecff4bfe"
      },
      "execution_count": 129,
      "outputs": [
        {
          "output_type": "stream",
          "name": "stdout",
          "text": [
            "cust_num  VIF =  5.79\n",
            "loan_amt  VIF =  1.72\n",
            "curr_loan_amt_flag  VIF =  1.05\n",
            "term  VIF =  1.46\n",
            "cred_score  VIF =  1.42\n",
            "credit_score_flag  VIF =  22.82\n",
            "income  VIF =  1.54\n",
            "income_flag  VIF =  7.41\n",
            "job_years  VIF =  1.13\n",
            "delin_month_flag  VIF =  6.99\n",
            "emi  VIF =  1.9\n",
            "cred_years  VIF =  1.23\n",
            "open_acc  VIF =  1.39\n",
            "cred_prob  VIF =  8.2\n",
            "curr_bal  VIF =  2.3\n",
            "max_cred  VIF =  2.39\n",
            "bankrupt  VIF =  5.24\n",
            "tax_lien  VIF =  3.6\n",
            "null_count  VIF =  27.44\n",
            "home_owned  VIF =  1.11\n",
            "home_rent  VIF =  1.28\n",
            "major_purchase  VIF =  1.04\n",
            "moving  VIF =  1.02\n",
            "purp_business  VIF =  1.18\n",
            "purp_buy_house  VIF =  1.07\n",
            "purp_car  VIF =  1.13\n",
            "purp_debt  VIF =  2.2\n",
            "purp_edu  VIF =  1.01\n",
            "purp_home  VIF =  1.63\n",
            "purp_medical  VIF =  1.12\n",
            "purp_renew_en  VIF =  1.0\n",
            "purp_trip  VIF =  1.06\n",
            "small_business  VIF =  1.04\n",
            "vacation  VIF =  1.01\n",
            "wedding  VIF =  1.01\n",
            "Max VIF =  27.44  Var =  null_count\n"
          ]
        }
      ]
    },
    {
      "cell_type": "code",
      "source": [
        "# Dropping high VIF variable from Train and Test data\n",
        "\n",
        "train_data_bal_logistic.drop(['null_count'], axis=1, inplace=True)\n",
        "test_data_bal_logistic.drop(['null_count'], axis=1, inplace=True)\n",
        "\n",
        "# Check VIF\n",
        "vif_cal(input_data = train_data_bal_logistic)"
      ],
      "metadata": {
        "colab": {
          "base_uri": "https://localhost:8080/"
        },
        "id": "AK6sec4bHWol",
        "outputId": "03900b19-01c3-43b3-fd39-3500288b8591"
      },
      "execution_count": 130,
      "outputs": [
        {
          "output_type": "stream",
          "name": "stdout",
          "text": [
            "cust_num  VIF =  4.71\n",
            "loan_amt  VIF =  1.72\n",
            "curr_loan_amt_flag  VIF =  1.05\n",
            "term  VIF =  1.46\n",
            "cred_score  VIF =  1.42\n",
            "credit_score_flag  VIF =  9.52\n",
            "income  VIF =  1.53\n",
            "income_flag  VIF =  7.4\n",
            "job_years  VIF =  1.1\n",
            "delin_month_flag  VIF =  2.62\n",
            "emi  VIF =  1.9\n",
            "cred_years  VIF =  1.21\n",
            "open_acc  VIF =  1.39\n",
            "cred_prob  VIF =  8.2\n",
            "curr_bal  VIF =  2.3\n",
            "max_cred  VIF =  2.39\n",
            "bankrupt  VIF =  5.24\n",
            "tax_lien  VIF =  3.6\n",
            "home_owned  VIF =  1.11\n",
            "home_rent  VIF =  1.28\n",
            "major_purchase  VIF =  1.04\n",
            "moving  VIF =  1.02\n",
            "purp_business  VIF =  1.18\n",
            "purp_buy_house  VIF =  1.07\n",
            "purp_car  VIF =  1.13\n",
            "purp_debt  VIF =  2.2\n",
            "purp_edu  VIF =  1.01\n",
            "purp_home  VIF =  1.63\n",
            "purp_medical  VIF =  1.12\n",
            "purp_renew_en  VIF =  1.0\n",
            "purp_trip  VIF =  1.06\n",
            "small_business  VIF =  1.04\n",
            "vacation  VIF =  1.01\n",
            "wedding  VIF =  1.01\n",
            "Max VIF =  9.52  Var =  credit_score_flag\n"
          ]
        }
      ]
    },
    {
      "cell_type": "code",
      "source": [
        "# Dropping high VIF variable from Train and Test data\n",
        "\n",
        "train_data_bal_logistic.drop(['credit_score_flag'], axis=1, inplace=True)\n",
        "test_data_bal_logistic.drop(['credit_score_flag'], axis=1, inplace=True)\n",
        "\n",
        "# Check VIF\n",
        "vif_cal(input_data = train_data_bal_logistic)"
      ],
      "metadata": {
        "colab": {
          "base_uri": "https://localhost:8080/"
        },
        "id": "7crnH8EjIAlW",
        "outputId": "dd0c8f71-cc9a-448a-ada1-3e1ae2efc05e"
      },
      "execution_count": 131,
      "outputs": [
        {
          "output_type": "stream",
          "name": "stdout",
          "text": [
            "cust_num  VIF =  3.59\n",
            "loan_amt  VIF =  1.7\n",
            "curr_loan_amt_flag  VIF =  1.05\n",
            "term  VIF =  1.45\n",
            "cred_score  VIF =  1.42\n",
            "income  VIF =  1.48\n",
            "income_flag  VIF =  2.43\n",
            "job_years  VIF =  1.1\n",
            "delin_month_flag  VIF =  2.3\n",
            "emi  VIF =  1.85\n",
            "cred_years  VIF =  1.21\n",
            "open_acc  VIF =  1.39\n",
            "cred_prob  VIF =  8.2\n",
            "curr_bal  VIF =  2.3\n",
            "max_cred  VIF =  2.39\n",
            "bankrupt  VIF =  5.24\n",
            "tax_lien  VIF =  3.6\n",
            "home_owned  VIF =  1.11\n",
            "home_rent  VIF =  1.28\n",
            "major_purchase  VIF =  1.04\n",
            "moving  VIF =  1.02\n",
            "purp_business  VIF =  1.18\n",
            "purp_buy_house  VIF =  1.07\n",
            "purp_car  VIF =  1.13\n",
            "purp_debt  VIF =  2.19\n",
            "purp_edu  VIF =  1.01\n",
            "purp_home  VIF =  1.62\n",
            "purp_medical  VIF =  1.12\n",
            "purp_renew_en  VIF =  1.0\n",
            "purp_trip  VIF =  1.06\n",
            "small_business  VIF =  1.04\n",
            "vacation  VIF =  1.01\n",
            "wedding  VIF =  1.01\n",
            "Max VIF =  8.2  Var =  cred_prob\n"
          ]
        }
      ]
    },
    {
      "cell_type": "code",
      "source": [
        "# Dropping high VIF variable from Train and Test data\n",
        "\n",
        "train_data_bal_logistic.drop(['cred_prob'], axis=1, inplace=True)\n",
        "test_data_bal_logistic.drop(['cred_prob'], axis=1, inplace=True)\n",
        "\n",
        "# Check VIF\n",
        "vif_cal(input_data = train_data_bal_logistic)"
      ],
      "metadata": {
        "colab": {
          "base_uri": "https://localhost:8080/"
        },
        "id": "Jkwdz4L-InMR",
        "outputId": "7dea654b-02b3-4ae2-f385-85cd58eaf4f9"
      },
      "execution_count": 132,
      "outputs": [
        {
          "output_type": "stream",
          "name": "stdout",
          "text": [
            "cust_num  VIF =  3.59\n",
            "loan_amt  VIF =  1.7\n",
            "curr_loan_amt_flag  VIF =  1.05\n",
            "term  VIF =  1.45\n",
            "cred_score  VIF =  1.42\n",
            "income  VIF =  1.48\n",
            "income_flag  VIF =  2.43\n",
            "job_years  VIF =  1.1\n",
            "delin_month_flag  VIF =  2.29\n",
            "emi  VIF =  1.85\n",
            "cred_years  VIF =  1.21\n",
            "open_acc  VIF =  1.39\n",
            "curr_bal  VIF =  2.3\n",
            "max_cred  VIF =  2.39\n",
            "bankrupt  VIF =  1.06\n",
            "tax_lien  VIF =  1.01\n",
            "home_owned  VIF =  1.11\n",
            "home_rent  VIF =  1.28\n",
            "major_purchase  VIF =  1.04\n",
            "moving  VIF =  1.02\n",
            "purp_business  VIF =  1.18\n",
            "purp_buy_house  VIF =  1.07\n",
            "purp_car  VIF =  1.13\n",
            "purp_debt  VIF =  2.19\n",
            "purp_edu  VIF =  1.01\n",
            "purp_home  VIF =  1.62\n",
            "purp_medical  VIF =  1.12\n",
            "purp_renew_en  VIF =  1.0\n",
            "purp_trip  VIF =  1.06\n",
            "small_business  VIF =  1.04\n",
            "vacation  VIF =  1.01\n",
            "wedding  VIF =  1.01\n",
            "Max VIF =  3.59  Var =  cust_num\n"
          ]
        }
      ]
    },
    {
      "cell_type": "code",
      "source": [
        "# Adding the target variable back to train data\n",
        "train_data_bal_logistic = pd.concat([train_data_bal_logistic, y_train], axis=1)\n",
        "print(train_data_bal_logistic.shape)"
      ],
      "metadata": {
        "colab": {
          "base_uri": "https://localhost:8080/"
        },
        "id": "q4NOIJ9IKPUO",
        "outputId": "3be8e031-9d66-4e12-deca-fff0ecc68111"
      },
      "execution_count": 133,
      "outputs": [
        {
          "output_type": "stream",
          "name": "stdout",
          "text": [
            "(92642, 33)\n"
          ]
        }
      ]
    },
    {
      "cell_type": "code",
      "source": [
        "train_data_bal_logistic.columns"
      ],
      "metadata": {
        "colab": {
          "base_uri": "https://localhost:8080/"
        },
        "id": "Jmw8jhlIMvg3",
        "outputId": "07823e95-e44d-4a0c-8e26-dbd7faaf219a"
      },
      "execution_count": 134,
      "outputs": [
        {
          "output_type": "execute_result",
          "data": {
            "text/plain": [
              "Index(['cust_num', 'loan_amt', 'curr_loan_amt_flag', 'term', 'cred_score',\n",
              "       'income', 'income_flag', 'job_years', 'delin_month_flag', 'emi',\n",
              "       'cred_years', 'open_acc', 'curr_bal', 'max_cred', 'bankrupt',\n",
              "       'tax_lien', 'home_owned', 'home_rent', 'major_purchase', 'moving',\n",
              "       'purp_business', 'purp_buy_house', 'purp_car', 'purp_debt', 'purp_edu',\n",
              "       'purp_home', 'purp_medical', 'purp_renew_en', 'purp_trip',\n",
              "       'small_business', 'vacation', 'wedding', 'status_y'],\n",
              "      dtype='object')"
            ]
          },
          "metadata": {},
          "execution_count": 134
        }
      ]
    },
    {
      "cell_type": "markdown",
      "source": [
        "## Logistic Regression with unbalanced data"
      ],
      "metadata": {
        "id": "SoSj46LkR2t2"
      }
    },
    {
      "cell_type": "code",
      "source": [
        "# Using unbalanced train data\n",
        "\n",
        "# cred_data2\n",
        "# X_train2\n",
        "# y_train2\n",
        "train_data_unbal_logis = pd.concat([X_train2, y_train2], axis=1)\n",
        "print(train_data_unbal_logis.shape)\n",
        "train_data_unbal_logis"
      ],
      "metadata": {
        "colab": {
          "base_uri": "https://localhost:8080/",
          "height": 505
        },
        "id": "DsKo0aO1SjLJ",
        "outputId": "2ddc88c0-c98a-4242-9443-7684193d2610"
      },
      "execution_count": 143,
      "outputs": [
        {
          "output_type": "stream",
          "name": "stdout",
          "text": [
            "(65599, 36)\n"
          ]
        },
        {
          "output_type": "execute_result",
          "data": {
            "text/plain": [
              "       cust_num  loan_amt  curr_loan_amt_flag  term  cred_score  \\\n",
              "53149     53149  365838.0                   1     0       722.0   \n",
              "29637     29637  221408.0                   1     1       742.0   \n",
              "10228     10228  199430.0                   1     0       728.0   \n",
              "81695     81695  221826.0                   1     0       727.0   \n",
              "49385     49385  278740.0                   1     1       739.0   \n",
              "...         ...       ...                 ...   ...         ...   \n",
              "17904     17904  206272.0                   1     0       687.0   \n",
              "37597     37597  367400.0                   1     0       748.0   \n",
              "10201     10201   79662.0                   1     0       718.0   \n",
              "9372       9372  769692.0                   1     1       723.0   \n",
              "50496     50496  755986.0                   1     1       684.0   \n",
              "\n",
              "       credit_score_flag     income  income_flag  job_years  delin_month_flag  \\\n",
              "53149                  1   848844.0            1          5                 0   \n",
              "29637                  1  1099492.0            1          0                 0   \n",
              "10228                  1   956840.0            1         11                 1   \n",
              "81695                  0  1170609.0            0          8                 0   \n",
              "49385                  1   720271.0            1          9                 0   \n",
              "...                  ...        ...          ...        ...               ...   \n",
              "17904                  1  1553706.0            1         11                 1   \n",
              "37597                  1  2711414.0            1          0                 0   \n",
              "10201                  1  1138860.0            1         11                 1   \n",
              "9372                   1  2089164.0            1          7                 1   \n",
              "50496                  1  2159768.0            1          8                 0   \n",
              "\n",
              "       ...  purp_debt  purp_edu  purp_home  purp_medical  purp_renew_en  \\\n",
              "53149  ...          0         0          0             0              0   \n",
              "29637  ...          1         0          0             0              0   \n",
              "10228  ...          1         0          0             0              0   \n",
              "81695  ...          0         0          1             0              0   \n",
              "49385  ...          1         0          0             0              0   \n",
              "...    ...        ...       ...        ...           ...            ...   \n",
              "17904  ...          1         0          0             0              0   \n",
              "37597  ...          1         0          0             0              0   \n",
              "10201  ...          1         0          0             0              0   \n",
              "9372   ...          1         0          0             0              0   \n",
              "50496  ...          1         0          0             0              0   \n",
              "\n",
              "       purp_trip  small_business  vacation  wedding  status_y  \n",
              "53149          0               0         0        0         0  \n",
              "29637          0               0         0        0         0  \n",
              "10228          0               0         0        0         1  \n",
              "81695          0               0         0        0         1  \n",
              "49385          0               0         0        0         1  \n",
              "...          ...             ...       ...      ...       ...  \n",
              "17904          0               0         0        0         0  \n",
              "37597          0               0         0        0         0  \n",
              "10201          0               0         0        0         0  \n",
              "9372           0               0         0        0         1  \n",
              "50496          0               0         0        0         0  \n",
              "\n",
              "[65599 rows x 36 columns]"
            ],
            "text/html": [
              "\n",
              "  <div id=\"df-3775704d-b2e6-46f5-aa41-e6833031e3a0\">\n",
              "    <div class=\"colab-df-container\">\n",
              "      <div>\n",
              "<style scoped>\n",
              "    .dataframe tbody tr th:only-of-type {\n",
              "        vertical-align: middle;\n",
              "    }\n",
              "\n",
              "    .dataframe tbody tr th {\n",
              "        vertical-align: top;\n",
              "    }\n",
              "\n",
              "    .dataframe thead th {\n",
              "        text-align: right;\n",
              "    }\n",
              "</style>\n",
              "<table border=\"1\" class=\"dataframe\">\n",
              "  <thead>\n",
              "    <tr style=\"text-align: right;\">\n",
              "      <th></th>\n",
              "      <th>cust_num</th>\n",
              "      <th>loan_amt</th>\n",
              "      <th>curr_loan_amt_flag</th>\n",
              "      <th>term</th>\n",
              "      <th>cred_score</th>\n",
              "      <th>credit_score_flag</th>\n",
              "      <th>income</th>\n",
              "      <th>income_flag</th>\n",
              "      <th>job_years</th>\n",
              "      <th>delin_month_flag</th>\n",
              "      <th>...</th>\n",
              "      <th>purp_debt</th>\n",
              "      <th>purp_edu</th>\n",
              "      <th>purp_home</th>\n",
              "      <th>purp_medical</th>\n",
              "      <th>purp_renew_en</th>\n",
              "      <th>purp_trip</th>\n",
              "      <th>small_business</th>\n",
              "      <th>vacation</th>\n",
              "      <th>wedding</th>\n",
              "      <th>status_y</th>\n",
              "    </tr>\n",
              "  </thead>\n",
              "  <tbody>\n",
              "    <tr>\n",
              "      <th>53149</th>\n",
              "      <td>53149</td>\n",
              "      <td>365838.0</td>\n",
              "      <td>1</td>\n",
              "      <td>0</td>\n",
              "      <td>722.0</td>\n",
              "      <td>1</td>\n",
              "      <td>848844.0</td>\n",
              "      <td>1</td>\n",
              "      <td>5</td>\n",
              "      <td>0</td>\n",
              "      <td>...</td>\n",
              "      <td>0</td>\n",
              "      <td>0</td>\n",
              "      <td>0</td>\n",
              "      <td>0</td>\n",
              "      <td>0</td>\n",
              "      <td>0</td>\n",
              "      <td>0</td>\n",
              "      <td>0</td>\n",
              "      <td>0</td>\n",
              "      <td>0</td>\n",
              "    </tr>\n",
              "    <tr>\n",
              "      <th>29637</th>\n",
              "      <td>29637</td>\n",
              "      <td>221408.0</td>\n",
              "      <td>1</td>\n",
              "      <td>1</td>\n",
              "      <td>742.0</td>\n",
              "      <td>1</td>\n",
              "      <td>1099492.0</td>\n",
              "      <td>1</td>\n",
              "      <td>0</td>\n",
              "      <td>0</td>\n",
              "      <td>...</td>\n",
              "      <td>1</td>\n",
              "      <td>0</td>\n",
              "      <td>0</td>\n",
              "      <td>0</td>\n",
              "      <td>0</td>\n",
              "      <td>0</td>\n",
              "      <td>0</td>\n",
              "      <td>0</td>\n",
              "      <td>0</td>\n",
              "      <td>0</td>\n",
              "    </tr>\n",
              "    <tr>\n",
              "      <th>10228</th>\n",
              "      <td>10228</td>\n",
              "      <td>199430.0</td>\n",
              "      <td>1</td>\n",
              "      <td>0</td>\n",
              "      <td>728.0</td>\n",
              "      <td>1</td>\n",
              "      <td>956840.0</td>\n",
              "      <td>1</td>\n",
              "      <td>11</td>\n",
              "      <td>1</td>\n",
              "      <td>...</td>\n",
              "      <td>1</td>\n",
              "      <td>0</td>\n",
              "      <td>0</td>\n",
              "      <td>0</td>\n",
              "      <td>0</td>\n",
              "      <td>0</td>\n",
              "      <td>0</td>\n",
              "      <td>0</td>\n",
              "      <td>0</td>\n",
              "      <td>1</td>\n",
              "    </tr>\n",
              "    <tr>\n",
              "      <th>81695</th>\n",
              "      <td>81695</td>\n",
              "      <td>221826.0</td>\n",
              "      <td>1</td>\n",
              "      <td>0</td>\n",
              "      <td>727.0</td>\n",
              "      <td>0</td>\n",
              "      <td>1170609.0</td>\n",
              "      <td>0</td>\n",
              "      <td>8</td>\n",
              "      <td>0</td>\n",
              "      <td>...</td>\n",
              "      <td>0</td>\n",
              "      <td>0</td>\n",
              "      <td>1</td>\n",
              "      <td>0</td>\n",
              "      <td>0</td>\n",
              "      <td>0</td>\n",
              "      <td>0</td>\n",
              "      <td>0</td>\n",
              "      <td>0</td>\n",
              "      <td>1</td>\n",
              "    </tr>\n",
              "    <tr>\n",
              "      <th>49385</th>\n",
              "      <td>49385</td>\n",
              "      <td>278740.0</td>\n",
              "      <td>1</td>\n",
              "      <td>1</td>\n",
              "      <td>739.0</td>\n",
              "      <td>1</td>\n",
              "      <td>720271.0</td>\n",
              "      <td>1</td>\n",
              "      <td>9</td>\n",
              "      <td>0</td>\n",
              "      <td>...</td>\n",
              "      <td>1</td>\n",
              "      <td>0</td>\n",
              "      <td>0</td>\n",
              "      <td>0</td>\n",
              "      <td>0</td>\n",
              "      <td>0</td>\n",
              "      <td>0</td>\n",
              "      <td>0</td>\n",
              "      <td>0</td>\n",
              "      <td>1</td>\n",
              "    </tr>\n",
              "    <tr>\n",
              "      <th>...</th>\n",
              "      <td>...</td>\n",
              "      <td>...</td>\n",
              "      <td>...</td>\n",
              "      <td>...</td>\n",
              "      <td>...</td>\n",
              "      <td>...</td>\n",
              "      <td>...</td>\n",
              "      <td>...</td>\n",
              "      <td>...</td>\n",
              "      <td>...</td>\n",
              "      <td>...</td>\n",
              "      <td>...</td>\n",
              "      <td>...</td>\n",
              "      <td>...</td>\n",
              "      <td>...</td>\n",
              "      <td>...</td>\n",
              "      <td>...</td>\n",
              "      <td>...</td>\n",
              "      <td>...</td>\n",
              "      <td>...</td>\n",
              "      <td>...</td>\n",
              "    </tr>\n",
              "    <tr>\n",
              "      <th>17904</th>\n",
              "      <td>17904</td>\n",
              "      <td>206272.0</td>\n",
              "      <td>1</td>\n",
              "      <td>0</td>\n",
              "      <td>687.0</td>\n",
              "      <td>1</td>\n",
              "      <td>1553706.0</td>\n",
              "      <td>1</td>\n",
              "      <td>11</td>\n",
              "      <td>1</td>\n",
              "      <td>...</td>\n",
              "      <td>1</td>\n",
              "      <td>0</td>\n",
              "      <td>0</td>\n",
              "      <td>0</td>\n",
              "      <td>0</td>\n",
              "      <td>0</td>\n",
              "      <td>0</td>\n",
              "      <td>0</td>\n",
              "      <td>0</td>\n",
              "      <td>0</td>\n",
              "    </tr>\n",
              "    <tr>\n",
              "      <th>37597</th>\n",
              "      <td>37597</td>\n",
              "      <td>367400.0</td>\n",
              "      <td>1</td>\n",
              "      <td>0</td>\n",
              "      <td>748.0</td>\n",
              "      <td>1</td>\n",
              "      <td>2711414.0</td>\n",
              "      <td>1</td>\n",
              "      <td>0</td>\n",
              "      <td>0</td>\n",
              "      <td>...</td>\n",
              "      <td>1</td>\n",
              "      <td>0</td>\n",
              "      <td>0</td>\n",
              "      <td>0</td>\n",
              "      <td>0</td>\n",
              "      <td>0</td>\n",
              "      <td>0</td>\n",
              "      <td>0</td>\n",
              "      <td>0</td>\n",
              "      <td>0</td>\n",
              "    </tr>\n",
              "    <tr>\n",
              "      <th>10201</th>\n",
              "      <td>10201</td>\n",
              "      <td>79662.0</td>\n",
              "      <td>1</td>\n",
              "      <td>0</td>\n",
              "      <td>718.0</td>\n",
              "      <td>1</td>\n",
              "      <td>1138860.0</td>\n",
              "      <td>1</td>\n",
              "      <td>11</td>\n",
              "      <td>1</td>\n",
              "      <td>...</td>\n",
              "      <td>1</td>\n",
              "      <td>0</td>\n",
              "      <td>0</td>\n",
              "      <td>0</td>\n",
              "      <td>0</td>\n",
              "      <td>0</td>\n",
              "      <td>0</td>\n",
              "      <td>0</td>\n",
              "      <td>0</td>\n",
              "      <td>0</td>\n",
              "    </tr>\n",
              "    <tr>\n",
              "      <th>9372</th>\n",
              "      <td>9372</td>\n",
              "      <td>769692.0</td>\n",
              "      <td>1</td>\n",
              "      <td>1</td>\n",
              "      <td>723.0</td>\n",
              "      <td>1</td>\n",
              "      <td>2089164.0</td>\n",
              "      <td>1</td>\n",
              "      <td>7</td>\n",
              "      <td>1</td>\n",
              "      <td>...</td>\n",
              "      <td>1</td>\n",
              "      <td>0</td>\n",
              "      <td>0</td>\n",
              "      <td>0</td>\n",
              "      <td>0</td>\n",
              "      <td>0</td>\n",
              "      <td>0</td>\n",
              "      <td>0</td>\n",
              "      <td>0</td>\n",
              "      <td>1</td>\n",
              "    </tr>\n",
              "    <tr>\n",
              "      <th>50496</th>\n",
              "      <td>50496</td>\n",
              "      <td>755986.0</td>\n",
              "      <td>1</td>\n",
              "      <td>1</td>\n",
              "      <td>684.0</td>\n",
              "      <td>1</td>\n",
              "      <td>2159768.0</td>\n",
              "      <td>1</td>\n",
              "      <td>8</td>\n",
              "      <td>0</td>\n",
              "      <td>...</td>\n",
              "      <td>1</td>\n",
              "      <td>0</td>\n",
              "      <td>0</td>\n",
              "      <td>0</td>\n",
              "      <td>0</td>\n",
              "      <td>0</td>\n",
              "      <td>0</td>\n",
              "      <td>0</td>\n",
              "      <td>0</td>\n",
              "      <td>0</td>\n",
              "    </tr>\n",
              "  </tbody>\n",
              "</table>\n",
              "<p>65599 rows × 36 columns</p>\n",
              "</div>\n",
              "      <button class=\"colab-df-convert\" onclick=\"convertToInteractive('df-3775704d-b2e6-46f5-aa41-e6833031e3a0')\"\n",
              "              title=\"Convert this dataframe to an interactive table.\"\n",
              "              style=\"display:none;\">\n",
              "        \n",
              "  <svg xmlns=\"http://www.w3.org/2000/svg\" height=\"24px\"viewBox=\"0 0 24 24\"\n",
              "       width=\"24px\">\n",
              "    <path d=\"M0 0h24v24H0V0z\" fill=\"none\"/>\n",
              "    <path d=\"M18.56 5.44l.94 2.06.94-2.06 2.06-.94-2.06-.94-.94-2.06-.94 2.06-2.06.94zm-11 1L8.5 8.5l.94-2.06 2.06-.94-2.06-.94L8.5 2.5l-.94 2.06-2.06.94zm10 10l.94 2.06.94-2.06 2.06-.94-2.06-.94-.94-2.06-.94 2.06-2.06.94z\"/><path d=\"M17.41 7.96l-1.37-1.37c-.4-.4-.92-.59-1.43-.59-.52 0-1.04.2-1.43.59L10.3 9.45l-7.72 7.72c-.78.78-.78 2.05 0 2.83L4 21.41c.39.39.9.59 1.41.59.51 0 1.02-.2 1.41-.59l7.78-7.78 2.81-2.81c.8-.78.8-2.07 0-2.86zM5.41 20L4 18.59l7.72-7.72 1.47 1.35L5.41 20z\"/>\n",
              "  </svg>\n",
              "      </button>\n",
              "      \n",
              "  <style>\n",
              "    .colab-df-container {\n",
              "      display:flex;\n",
              "      flex-wrap:wrap;\n",
              "      gap: 12px;\n",
              "    }\n",
              "\n",
              "    .colab-df-convert {\n",
              "      background-color: #E8F0FE;\n",
              "      border: none;\n",
              "      border-radius: 50%;\n",
              "      cursor: pointer;\n",
              "      display: none;\n",
              "      fill: #1967D2;\n",
              "      height: 32px;\n",
              "      padding: 0 0 0 0;\n",
              "      width: 32px;\n",
              "    }\n",
              "\n",
              "    .colab-df-convert:hover {\n",
              "      background-color: #E2EBFA;\n",
              "      box-shadow: 0px 1px 2px rgba(60, 64, 67, 0.3), 0px 1px 3px 1px rgba(60, 64, 67, 0.15);\n",
              "      fill: #174EA6;\n",
              "    }\n",
              "\n",
              "    [theme=dark] .colab-df-convert {\n",
              "      background-color: #3B4455;\n",
              "      fill: #D2E3FC;\n",
              "    }\n",
              "\n",
              "    [theme=dark] .colab-df-convert:hover {\n",
              "      background-color: #434B5C;\n",
              "      box-shadow: 0px 1px 3px 1px rgba(0, 0, 0, 0.15);\n",
              "      filter: drop-shadow(0px 1px 2px rgba(0, 0, 0, 0.3));\n",
              "      fill: #FFFFFF;\n",
              "    }\n",
              "  </style>\n",
              "\n",
              "      <script>\n",
              "        const buttonEl =\n",
              "          document.querySelector('#df-3775704d-b2e6-46f5-aa41-e6833031e3a0 button.colab-df-convert');\n",
              "        buttonEl.style.display =\n",
              "          google.colab.kernel.accessAllowed ? 'block' : 'none';\n",
              "\n",
              "        async function convertToInteractive(key) {\n",
              "          const element = document.querySelector('#df-3775704d-b2e6-46f5-aa41-e6833031e3a0');\n",
              "          const dataTable =\n",
              "            await google.colab.kernel.invokeFunction('convertToInteractive',\n",
              "                                                     [key], {});\n",
              "          if (!dataTable) return;\n",
              "\n",
              "          const docLinkHtml = 'Like what you see? Visit the ' +\n",
              "            '<a target=\"_blank\" href=https://colab.research.google.com/notebooks/data_table.ipynb>data table notebook</a>'\n",
              "            + ' to learn more about interactive tables.';\n",
              "          element.innerHTML = '';\n",
              "          dataTable['output_type'] = 'display_data';\n",
              "          await google.colab.output.renderOutput(dataTable, element);\n",
              "          const docLink = document.createElement('div');\n",
              "          docLink.innerHTML = docLinkHtml;\n",
              "          element.appendChild(docLink);\n",
              "        }\n",
              "      </script>\n",
              "    </div>\n",
              "  </div>\n",
              "  "
            ]
          },
          "metadata": {},
          "execution_count": 143
        }
      ]
    },
    {
      "cell_type": "code",
      "source": [
        "from sklearn.linear_model import LogisticRegression\n",
        "logistic = LogisticRegression()\n",
        "\n",
        "# Fitting logistic regression on train data\n",
        "logistic.fit(train_data_unbal_logis[['cust_num']+['loan_amt']+['curr_loan_amt_flag']+['term']+['cred_score']+['income']+['income_flag']+\n",
        "                            ['job_years']+['delin_month_flag']+['emi']+['cred_years']+['open_acc']+['curr_bal']+['max_cred']+\n",
        "                            ['bankrupt']+['tax_lien']+['home_owned']+['home_rent']+['major_purchase']+['moving']+['purp_business']+\n",
        "                            ['purp_buy_house']+['purp_car']+['purp_debt']+['purp_edu']+['purp_home']+['purp_medical']+['purp_renew_en']+\n",
        "                            ['purp_trip']+['small_business']+['vacation']+['wedding']], train_data_unbal_logis[['status_y']])\n",
        "\n",
        "# Values of coefficients and intercept for the Logistic equation \n",
        "print(\"Intercept\", logistic.intercept_)\n",
        "print(\"Coefficients\", logistic.coef_)"
      ],
      "metadata": {
        "colab": {
          "base_uri": "https://localhost:8080/"
        },
        "id": "Vqlq3-sWUl_f",
        "outputId": "a0030052-c169-476b-d94d-7e84305e4af8"
      },
      "execution_count": 144,
      "outputs": [
        {
          "output_type": "stream",
          "name": "stdout",
          "text": [
            "Intercept [-1.78218193e-06]\n",
            "Coefficients [[ 7.32239668e-06  1.55674845e-06  2.22875511e-06  3.30802520e-06\n",
            "  -1.45708829e-03 -5.67396383e-07 -2.77768448e-06 -7.63528690e-06\n",
            "  -5.33207477e-07  1.28748575e-05 -3.39167630e-05 -5.09910488e-06\n",
            "   3.02649938e-07 -5.95280821e-07 -3.49503926e-07  1.99736851e-07\n",
            "  -2.32861457e-07 -4.72773468e-08 -1.22027424e-09  1.35876791e-08\n",
            "   2.03633977e-07 -4.36492147e-09 -1.30803434e-07 -1.76776085e-06\n",
            "  -1.29040189e-08 -1.42065069e-07  4.31628513e-08  4.82502861e-09\n",
            "  -1.21038007e-08  8.41894496e-08  2.80567721e-09 -4.31309141e-09]]\n"
          ]
        }
      ]
    },
    {
      "cell_type": "code",
      "source": [
        "# PREDICTING ON TRAIN DATA\n",
        "# Predict output using X variables\n",
        "predict1 = logistic.predict(train_data_unbal_logis[['cust_num']+['loan_amt']+['curr_loan_amt_flag']+['term']+['cred_score']+['income']+['income_flag']+\n",
        "                            ['job_years']+['delin_month_flag']+['emi']+['cred_years']+['open_acc']+['curr_bal']+['max_cred']+\n",
        "                            ['bankrupt']+['tax_lien']+['home_owned']+['home_rent']+['major_purchase']+['moving']+['purp_business']+\n",
        "                            ['purp_buy_house']+['purp_car']+['purp_debt']+['purp_edu']+['purp_home']+['purp_medical']+['purp_renew_en']+\n",
        "                            ['purp_trip']+['small_business']+['vacation']+['wedding']])\n",
        "\n",
        "# Create confusion matrix and compare predicted values vs actual values of target variable\n",
        "from sklearn.metrics import confusion_matrix\n",
        "\n",
        "cm = confusion_matrix(train_data_unbal_logis[['status_y']], predict1)\n",
        "print('Confusion Matrix : \\n',cm)\n",
        "\n",
        "# Accuracy on train data\n",
        "total=sum(sum(cm))\n",
        "accuracy=(cm[0,0]+cm[1,1])/total\n",
        "print('accuracy =',accuracy)"
      ],
      "metadata": {
        "colab": {
          "base_uri": "https://localhost:8080/"
        },
        "id": "oYntxXN2U7-G",
        "outputId": "c2e343f7-90ea-429d-92b2-40baa3ea0463"
      },
      "execution_count": 147,
      "outputs": [
        {
          "output_type": "stream",
          "name": "stdout",
          "text": [
            "Confusion Matrix : \n",
            " [[47301   269]\n",
            " [17783   246]]\n",
            "accuracy = 0.7248128782450952\n"
          ]
        }
      ]
    },
    {
      "cell_type": "code",
      "source": [
        "# Test data is anyway not balanced. It has the same distribution of target variable as the original dataset\n",
        "test_data_unbal_logistic = test_data_bal_logistic.copy()"
      ],
      "metadata": {
        "id": "9I9RlKGaWNef"
      },
      "execution_count": 150,
      "outputs": []
    },
    {
      "cell_type": "code",
      "source": [
        "# PREDICTING ON TEST DATA\n",
        "# Predict output using X variables\n",
        "predict1 = logistic.predict(test_data_unbal_logistic[['cust_num']+['loan_amt']+['curr_loan_amt_flag']+['term']+['cred_score']+['income']+['income_flag']+\n",
        "                            ['job_years']+['delin_month_flag']+['emi']+['cred_years']+['open_acc']+['curr_bal']+['max_cred']+\n",
        "                            ['bankrupt']+['tax_lien']+['home_owned']+['home_rent']+['major_purchase']+['moving']+['purp_business']+\n",
        "                            ['purp_buy_house']+['purp_car']+['purp_debt']+['purp_edu']+['purp_home']+['purp_medical']+['purp_renew_en']+\n",
        "                            ['purp_trip']+['small_business']+['vacation']+['wedding']])\n",
        "\n",
        "# Create confusion matrix and compare predicted values vs actual values of target variable\n",
        "cm = confusion_matrix(test_data_unbal_logistic[['status_y']], predict1)\n",
        "print('Confusion Matrix : \\n',cm)\n",
        "\n",
        "# Accuracy on train data\n",
        "total=sum(sum(cm))\n",
        "accuracy=(cm[0,0]+cm[1,1])/total\n",
        "print('accuracy =',accuracy)"
      ],
      "metadata": {
        "colab": {
          "base_uri": "https://localhost:8080/"
        },
        "id": "MwiT7aj0Vgzt",
        "outputId": "bb3fbb1c-b8a2-4e82-8176-a056f30604f9"
      },
      "execution_count": 151,
      "outputs": [
        {
          "output_type": "stream",
          "name": "stdout",
          "text": [
            "Confusion Matrix : \n",
            " [[11729    61]\n",
            " [ 4539    71]]\n",
            "accuracy = 0.7195121951219512\n"
          ]
        }
      ]
    },
    {
      "cell_type": "markdown",
      "source": [
        "Accuracy is about 72% for both train and test data, but let us check the model validation parameters for class-wise accuracy."
      ],
      "metadata": {
        "id": "8oiEY518WorR"
      }
    },
    {
      "cell_type": "markdown",
      "source": [
        "## Model Validation Parameters"
      ],
      "metadata": {
        "id": "XuSIGJVzW0tQ"
      }
    },
    {
      "cell_type": "code",
      "source": [
        "# Confusion Matrix = cm\n",
        "\n",
        "# Sensitivity (Recall of Class 0)\n",
        "sensitivity1 = cm[0,0]/(cm[0,0]+cm[0,1])\n",
        "print('Sensitivity / Recall(0) : ', sensitivity1 )\n",
        "\n",
        "# Precision of Class 0\n",
        "precision1_0 = cm[0,0]/(cm[0,0]+cm[1,0])\n",
        "print('Precision Class 0 : ', precision1_0 )\n",
        "\n",
        "# F1 Score of Class 0\n",
        "F1_class0 = 2/((1/precision1_0)+(1/sensitivity1))\n",
        "print('F1 Score of CLass 0 : ', F1_class0 )\n",
        "\n",
        "# Specificity (Recall of Class 1)\n",
        "specificity1 = cm[1,1]/(cm[1,0]+cm[1,1])\n",
        "print('Specificity / Recall(1) : ', specificity1)\n",
        "\n",
        "# Precision of Class 1\n",
        "precision1_1 = cm[1,1]/(cm[0,1]+cm[1,1])\n",
        "print('Precision Class 1 : ', precision1_1 )\n",
        "\n",
        "# F1 Score of Class 1\n",
        "F1_class1 = 2/((1/precision1_1)+(1/specificity1))\n",
        "print('F1 Score of CLass 1 : ', F1_class1 )"
      ],
      "metadata": {
        "colab": {
          "base_uri": "https://localhost:8080/"
        },
        "id": "aZSgUTjUWz5s",
        "outputId": "92577e41-518a-4da5-9f36-3a2ef4986c09"
      },
      "execution_count": 152,
      "outputs": [
        {
          "output_type": "stream",
          "name": "stdout",
          "text": [
            "Sensitivity / Recall(0) :  0.9948261238337575\n",
            "Precision Class 0 :  0.7209859847553479\n",
            "F1 Score of CLass 0 :  0.8360538883740822\n",
            "Specificity / Recall(1) :  0.015401301518438179\n",
            "Precision Class 1 :  0.5378787878787878\n",
            "F1 Score of CLass 1 :  0.029945170814002525\n"
          ]
        }
      ]
    },
    {
      "cell_type": "markdown",
      "source": [
        "Findings : Sensitivity, which is Class 0 accuracy, is very high at 99.5%, but we are more interested in Class 1. Class 1 accuracy, Specificity, is at a dismal mere 1.5%. This model has not learned the patterns from the minority class (Class 1) data. We need to handle class imbalance and train the model on balanced dataset."
      ],
      "metadata": {
        "id": "fl40dT1BXl18"
      }
    },
    {
      "cell_type": "markdown",
      "source": [
        "## Logistic Regression with balanced data"
      ],
      "metadata": {
        "id": "2zeZzrCtJEIV"
      }
    },
    {
      "cell_type": "code",
      "source": [
        "from sklearn.linear_model import LogisticRegression\n",
        "logistic = LogisticRegression()\n",
        "\n",
        "# Fitting logistic regression on train data\n",
        "logistic.fit(train_data_bal_logistic[['cust_num']+['loan_amt']+['curr_loan_amt_flag']+['term']+['cred_score']+['income']+['income_flag']+\n",
        "                            ['job_years']+['delin_month_flag']+['emi']+['cred_years']+['open_acc']+['curr_bal']+['max_cred']+\n",
        "                            ['bankrupt']+['tax_lien']+['home_owned']+['home_rent']+['major_purchase']+['moving']+['purp_business']+\n",
        "                            ['purp_buy_house']+['purp_car']+['purp_debt']+['purp_edu']+['purp_home']+['purp_medical']+['purp_renew_en']+\n",
        "                            ['purp_trip']+['small_business']+['vacation']+['wedding']], train_data_bal_logistic[['status_y']])\n",
        "\n",
        "# Values of coefficients and intercept for the Logistic equation \n",
        "print(\"Intercept\", logistic.intercept_)\n",
        "print(\"Coefficients\", logistic.coef_)"
      ],
      "metadata": {
        "colab": {
          "base_uri": "https://localhost:8080/"
        },
        "id": "FF81H7xKJstJ",
        "outputId": "46717ec9-2ed5-483c-a81e-0af4cbad2736"
      },
      "execution_count": null,
      "outputs": [
        {
          "output_type": "stream",
          "name": "stdout",
          "text": [
            "Intercept [5.58143644e-11]\n",
            "Coefficients [[ 6.06185835e-06  1.56166718e-06  2.43967546e-09  2.08390848e-09\n",
            "  -7.60871664e-08 -6.31008014e-07 -3.46441026e-10  1.10289914e-09\n",
            "   7.04050304e-10  1.27997610e-05 -4.72362843e-09  8.01527304e-09\n",
            "   4.23188718e-07 -6.41431943e-07  2.13384982e-11  1.47509551e-10\n",
            "   3.16948658e-11  8.35084965e-10 -3.46194538e-13  8.77009023e-12\n",
            "   1.24420428e-10 -3.85288363e-12 -6.10068063e-11 -2.16307669e-10\n",
            "  -4.11670842e-12 -6.41452299e-11  5.45789696e-11  3.24349016e-12\n",
            "   5.42089414e-12  6.60410829e-11  6.54235551e-12 -1.34576349e-12]]\n"
          ]
        }
      ]
    },
    {
      "cell_type": "code",
      "source": [
        "# PREDICTING ON TRAIN DATA\n",
        "# Predict output using X variables\n",
        "predict = logistic.predict(train_data_bal_logistic[['cust_num']+['loan_amt']+['curr_loan_amt_flag']+['term']+['cred_score']+['income']+['income_flag']+\n",
        "                            ['job_years']+['delin_month_flag']+['emi']+['cred_years']+['open_acc']+['curr_bal']+['max_cred']+\n",
        "                            ['bankrupt']+['tax_lien']+['home_owned']+['home_rent']+['major_purchase']+['moving']+['purp_business']+\n",
        "                            ['purp_buy_house']+['purp_car']+['purp_debt']+['purp_edu']+['purp_home']+['purp_medical']+['purp_renew_en']+\n",
        "                            ['purp_trip']+['small_business']+['vacation']+['wedding']])\n",
        "\n",
        "# Create confusion matrix and compare predicted values vs actual values of target variable\n",
        "from sklearn.metrics import confusion_matrix\n",
        "\n",
        "cm = confusion_matrix(train_data_bal_logistic[['status_y']], predict)\n",
        "print('Confusion Matrix : \\n',cm)\n",
        "\n",
        "# Accuracy on train data\n",
        "total=sum(sum(cm))\n",
        "accuracy=(cm[0,0]+cm[1,1])/total\n",
        "print('accuracy =',accuracy)"
      ],
      "metadata": {
        "colab": {
          "base_uri": "https://localhost:8080/"
        },
        "id": "EWuhJR32DI8_",
        "outputId": "e5c0e3fe-e66b-4d1b-f7f6-7174d2c22777"
      },
      "execution_count": null,
      "outputs": [
        {
          "output_type": "stream",
          "name": "stdout",
          "text": [
            "Confusion Matrix : \n",
            " [[28483 19087]\n",
            " [19647 25425]]\n",
            "accuracy = 0.5818959003475745\n"
          ]
        }
      ]
    },
    {
      "cell_type": "markdown",
      "source": [
        "## Individual Impact of Variables"
      ],
      "metadata": {
        "id": "nyGcj00QD-wF"
      }
    },
    {
      "cell_type": "code",
      "source": [
        "# Using the stats model logit function to get summary results\n",
        "\n",
        "import statsmodels.api as sm\n",
        "logit_reg = sm.Logit(train_data_bal_logistic[['status_y']], \n",
        "                     train_data_bal_logistic[['cust_num']+['loan_amt']+['curr_loan_amt_flag']+['term']+['cred_score']+['income']+['income_flag']+\n",
        "                            ['job_years']+['delin_month_flag']+['emi']+['cred_years']+['open_acc']+['curr_bal']+['max_cred']+\n",
        "                            ['bankrupt']+['tax_lien']+['home_owned']+['home_rent']+['major_purchase']+['moving']+['purp_business']+\n",
        "                            ['purp_buy_house']+['purp_car']+['purp_debt']+['purp_edu']+['purp_home']+['purp_medical']+['purp_renew_en']+\n",
        "                            ['purp_trip']+['small_business']+['vacation']+['wedding']])\n",
        "\n",
        "logit_reg.fit()\n",
        "print(logit_reg.fit().summary())"
      ],
      "metadata": {
        "colab": {
          "base_uri": "https://localhost:8080/"
        },
        "id": "pklR8qjpD7xk",
        "outputId": "78ed7caa-653c-4260-ec0e-08fabff8ffb2"
      },
      "execution_count": null,
      "outputs": [
        {
          "output_type": "stream",
          "name": "stdout",
          "text": [
            "Optimization terminated successfully.\n",
            "         Current function value: 0.599746\n",
            "         Iterations 9\n",
            "Optimization terminated successfully.\n",
            "         Current function value: 0.599746\n",
            "         Iterations 9\n",
            "                           Logit Regression Results                           \n",
            "==============================================================================\n",
            "Dep. Variable:               status_y   No. Observations:                92642\n",
            "Model:                          Logit   Df Residuals:                    92610\n",
            "Method:                           MLE   Df Model:                           31\n",
            "Date:                Mon, 07 Nov 2022   Pseudo R-squ.:                  0.1343\n",
            "Time:                        11:45:27   Log-Likelihood:                -55562.\n",
            "converged:                       True   LL-Null:                       -64181.\n",
            "Covariance Type:            nonrobust   LLR p-value:                     0.000\n",
            "======================================================================================\n",
            "                         coef    std err          z      P>|z|      [0.025      0.975]\n",
            "--------------------------------------------------------------------------------------\n",
            "cust_num            8.727e-06   5.66e-07     15.415      0.000    7.62e-06    9.84e-06\n",
            "loan_amt            6.636e-07   5.23e-08     12.683      0.000    5.61e-07    7.66e-07\n",
            "curr_loan_amt_flag     5.3354      0.140     38.217      0.000       5.062       5.609\n",
            "term                   0.6250      0.018     34.224      0.000       0.589       0.661\n",
            "cred_score            -0.0078      0.000    -38.963      0.000      -0.008      -0.007\n",
            "income             -5.571e-07   1.84e-08    -30.215      0.000   -5.93e-07   -5.21e-07\n",
            "income_flag            0.0174      0.026      0.668      0.504      -0.034       0.068\n",
            "job_years              0.0069      0.002      3.633      0.000       0.003       0.011\n",
            "delin_month_flag       0.2210      0.021     10.360      0.000       0.179       0.263\n",
            "emi                 7.531e-06   8.87e-07      8.491      0.000    5.79e-06    9.27e-06\n",
            "cred_years            -0.0068      0.001     -6.129      0.000      -0.009      -0.005\n",
            "open_acc               0.0198      0.002     11.112      0.000       0.016       0.023\n",
            "curr_bal            4.759e-07   4.22e-08     11.285      0.000    3.93e-07    5.59e-07\n",
            "max_cred           -5.337e-07   2.39e-08    -22.376      0.000    -5.8e-07   -4.87e-07\n",
            "bankrupt               0.0047      0.021      0.222      0.825      -0.037       0.046\n",
            "tax_lien               0.1324      0.028      4.677      0.000       0.077       0.188\n",
            "home_owned             0.1572      0.026      6.060      0.000       0.106       0.208\n",
            "home_rent              0.2955      0.016     18.236      0.000       0.264       0.327\n",
            "major_purchase        -0.0391      0.125     -0.314      0.754      -0.283       0.205\n",
            "moving                 0.1524      0.188      0.811      0.417      -0.216       0.521\n",
            "purp_business          0.4168      0.062      6.676      0.000       0.294       0.539\n",
            "purp_buy_house        -0.2074      0.097     -2.148      0.032      -0.397      -0.018\n",
            "purp_car              -0.4378      0.071     -6.144      0.000      -0.577      -0.298\n",
            "purp_debt             -0.0786      0.026     -3.010      0.003      -0.130      -0.027\n",
            "purp_edu              -0.2842      0.230     -1.237      0.216      -0.734       0.166\n",
            "purp_home             -0.0366      0.040     -0.923      0.356      -0.114       0.041\n",
            "purp_medical           0.2061      0.072      2.847      0.004       0.064       0.348\n",
            "purp_renew_en          1.7947      0.795      2.258      0.024       0.237       3.353\n",
            "purp_trip             -0.0659      0.101     -0.650      0.515      -0.264       0.133\n",
            "small_business         1.1002      0.143      7.689      0.000       0.820       1.381\n",
            "vacation               0.1826      0.214      0.853      0.394      -0.237       0.602\n",
            "wedding               -0.0578      0.220     -0.263      0.792      -0.488       0.372\n",
            "======================================================================================\n"
          ]
        }
      ]
    },
    {
      "cell_type": "code",
      "source": [
        "# Dropping low impact variable : major_purchase\n",
        "\n",
        "logit_reg = sm.Logit(train_data_bal_logistic[['status_y']], \n",
        "                     train_data_bal_logistic[['cust_num']+['loan_amt']+['curr_loan_amt_flag']+['term']+['cred_score']+['income']+['income_flag']+\n",
        "                            ['job_years']+['delin_month_flag']+['emi']+['cred_years']+['open_acc']+['curr_bal']+['max_cred']+\n",
        "                            ['bankrupt']+['tax_lien']+['home_owned']+['home_rent']+['moving']+['purp_business']+\n",
        "                            ['purp_buy_house']+['purp_car']+['purp_debt']+['purp_edu']+['purp_home']+['purp_medical']+['purp_renew_en']+\n",
        "                            ['purp_trip']+['small_business']+['vacation']+['wedding']])\n",
        "\n",
        "logit_reg.fit()\n",
        "print(logit_reg.fit().summary())"
      ],
      "metadata": {
        "colab": {
          "base_uri": "https://localhost:8080/"
        },
        "id": "a6k9AUKHHONN",
        "outputId": "7fc71c27-776e-47f9-87f1-919269701e28"
      },
      "execution_count": null,
      "outputs": [
        {
          "output_type": "stream",
          "name": "stdout",
          "text": [
            "Optimization terminated successfully.\n",
            "         Current function value: 0.599747\n",
            "         Iterations 9\n",
            "Optimization terminated successfully.\n",
            "         Current function value: 0.599747\n",
            "         Iterations 9\n",
            "                           Logit Regression Results                           \n",
            "==============================================================================\n",
            "Dep. Variable:               status_y   No. Observations:                92642\n",
            "Model:                          Logit   Df Residuals:                    92611\n",
            "Method:                           MLE   Df Model:                           30\n",
            "Date:                Mon, 07 Nov 2022   Pseudo R-squ.:                  0.1343\n",
            "Time:                        11:45:28   Log-Likelihood:                -55562.\n",
            "converged:                       True   LL-Null:                       -64181.\n",
            "Covariance Type:            nonrobust   LLR p-value:                     0.000\n",
            "======================================================================================\n",
            "                         coef    std err          z      P>|z|      [0.025      0.975]\n",
            "--------------------------------------------------------------------------------------\n",
            "cust_num            8.726e-06   5.66e-07     15.414      0.000    7.62e-06    9.84e-06\n",
            "loan_amt            6.635e-07   5.23e-08     12.681      0.000    5.61e-07    7.66e-07\n",
            "curr_loan_amt_flag     5.3354      0.140     38.217      0.000       5.062       5.609\n",
            "term                   0.6249      0.018     34.223      0.000       0.589       0.661\n",
            "cred_score            -0.0078      0.000    -38.997      0.000      -0.008      -0.007\n",
            "income             -5.571e-07   1.84e-08    -30.216      0.000   -5.93e-07   -5.21e-07\n",
            "income_flag            0.0174      0.026      0.668      0.504      -0.034       0.068\n",
            "job_years              0.0069      0.002      3.637      0.000       0.003       0.011\n",
            "delin_month_flag       0.2210      0.021     10.360      0.000       0.179       0.263\n",
            "emi                 7.531e-06   8.87e-07      8.492      0.000    5.79e-06    9.27e-06\n",
            "cred_years            -0.0068      0.001     -6.129      0.000      -0.009      -0.005\n",
            "open_acc               0.0198      0.002     11.115      0.000       0.016       0.023\n",
            "curr_bal            4.761e-07   4.22e-08     11.292      0.000    3.93e-07    5.59e-07\n",
            "max_cred           -5.337e-07   2.38e-08    -22.379      0.000    -5.8e-07   -4.87e-07\n",
            "bankrupt               0.0047      0.021      0.223      0.824      -0.037       0.046\n",
            "tax_lien               0.1324      0.028      4.677      0.000       0.077       0.188\n",
            "home_owned             0.1571      0.026      6.059      0.000       0.106       0.208\n",
            "home_rent              0.2955      0.016     18.241      0.000       0.264       0.327\n",
            "moving                 0.1538      0.188      0.819      0.413      -0.214       0.522\n",
            "purp_business          0.4183      0.062      6.719      0.000       0.296       0.540\n",
            "purp_buy_house        -0.2059      0.096     -2.135      0.033      -0.395      -0.017\n",
            "purp_car              -0.4363      0.071     -6.137      0.000      -0.576      -0.297\n",
            "purp_debt             -0.0771      0.026     -3.003      0.003      -0.127      -0.027\n",
            "purp_edu              -0.2827      0.230     -1.231      0.218      -0.733       0.167\n",
            "purp_home             -0.0351      0.039     -0.892      0.373      -0.112       0.042\n",
            "purp_medical           0.2076      0.072      2.873      0.004       0.066       0.349\n",
            "purp_renew_en          1.7962      0.795      2.260      0.024       0.238       3.354\n",
            "purp_trip             -0.0644      0.101     -0.637      0.524      -0.263       0.134\n",
            "small_business         1.1017      0.143      7.703      0.000       0.821       1.382\n",
            "vacation               0.1840      0.214      0.860      0.390      -0.236       0.604\n",
            "wedding               -0.0563      0.219     -0.256      0.798      -0.486       0.374\n",
            "======================================================================================\n"
          ]
        }
      ]
    },
    {
      "cell_type": "code",
      "source": [
        "# Dropping low impact variable : vacation\n",
        "\n",
        "logit_reg = sm.Logit(train_data_bal_logistic[['status_y']], \n",
        "                     train_data_bal_logistic[['cust_num']+['loan_amt']+['curr_loan_amt_flag']+['term']+['cred_score']+['income']+['income_flag']+\n",
        "                            ['job_years']+['delin_month_flag']+['emi']+['cred_years']+['open_acc']+['curr_bal']+['max_cred']+\n",
        "                            ['bankrupt']+['tax_lien']+['home_owned']+['home_rent']+['moving']+['purp_business']+\n",
        "                            ['purp_buy_house']+['purp_car']+['purp_debt']+['purp_edu']+['purp_home']+['purp_medical']+['purp_renew_en']+\n",
        "                            ['purp_trip']+['small_business']+['wedding']])\n",
        "\n",
        "logit_reg.fit()\n",
        "print(logit_reg.fit().summary())"
      ],
      "metadata": {
        "colab": {
          "base_uri": "https://localhost:8080/"
        },
        "id": "0_fg6cQlHrRi",
        "outputId": "1d48a6ee-f9f2-4850-bbca-6de89b1999b4"
      },
      "execution_count": null,
      "outputs": [
        {
          "output_type": "stream",
          "name": "stdout",
          "text": [
            "Optimization terminated successfully.\n",
            "         Current function value: 0.599751\n",
            "         Iterations 9\n",
            "Optimization terminated successfully.\n",
            "         Current function value: 0.599751\n",
            "         Iterations 9\n",
            "                           Logit Regression Results                           \n",
            "==============================================================================\n",
            "Dep. Variable:               status_y   No. Observations:                92642\n",
            "Model:                          Logit   Df Residuals:                    92612\n",
            "Method:                           MLE   Df Model:                           29\n",
            "Date:                Mon, 07 Nov 2022   Pseudo R-squ.:                  0.1343\n",
            "Time:                        11:45:30   Log-Likelihood:                -55562.\n",
            "converged:                       True   LL-Null:                       -64181.\n",
            "Covariance Type:            nonrobust   LLR p-value:                     0.000\n",
            "======================================================================================\n",
            "                         coef    std err          z      P>|z|      [0.025      0.975]\n",
            "--------------------------------------------------------------------------------------\n",
            "cust_num            8.729e-06   5.66e-07     15.418      0.000    7.62e-06    9.84e-06\n",
            "loan_amt             6.63e-07   5.23e-08     12.673      0.000     5.6e-07    7.66e-07\n",
            "curr_loan_amt_flag     5.3361      0.140     38.214      0.000       5.062       5.610\n",
            "term                   0.6248      0.018     34.220      0.000       0.589       0.661\n",
            "cred_score            -0.0078      0.000    -38.983      0.000      -0.008      -0.007\n",
            "income              -5.57e-07   1.84e-08    -30.212      0.000   -5.93e-07   -5.21e-07\n",
            "income_flag            0.0173      0.026      0.665      0.506      -0.034       0.068\n",
            "job_years              0.0069      0.002      3.644      0.000       0.003       0.011\n",
            "delin_month_flag       0.2211      0.021     10.367      0.000       0.179       0.263\n",
            "emi                 7.531e-06   8.87e-07      8.491      0.000    5.79e-06    9.27e-06\n",
            "cred_years            -0.0068      0.001     -6.137      0.000      -0.009      -0.005\n",
            "open_acc               0.0198      0.002     11.123      0.000       0.016       0.023\n",
            "curr_bal            4.763e-07   4.22e-08     11.297      0.000    3.94e-07    5.59e-07\n",
            "max_cred           -5.339e-07   2.38e-08    -22.387      0.000   -5.81e-07   -4.87e-07\n",
            "bankrupt               0.0046      0.021      0.220      0.826      -0.037       0.046\n",
            "tax_lien               0.1324      0.028      4.677      0.000       0.077       0.188\n",
            "home_owned             0.1571      0.026      6.057      0.000       0.106       0.208\n",
            "home_rent              0.2957      0.016     18.253      0.000       0.264       0.327\n",
            "moving                 0.1515      0.188      0.807      0.420      -0.217       0.520\n",
            "purp_business          0.4161      0.062      6.690      0.000       0.294       0.538\n",
            "purp_buy_house        -0.2081      0.096     -2.158      0.031      -0.397      -0.019\n",
            "purp_car              -0.4386      0.071     -6.173      0.000      -0.578      -0.299\n",
            "purp_debt             -0.0794      0.026     -3.106      0.002      -0.129      -0.029\n",
            "purp_edu              -0.2850      0.230     -1.241      0.215      -0.735       0.165\n",
            "purp_home             -0.0372      0.039     -0.949      0.343      -0.114       0.040\n",
            "purp_medical           0.2053      0.072      2.843      0.004       0.064       0.347\n",
            "purp_renew_en          1.7940      0.795      2.257      0.024       0.236       3.352\n",
            "purp_trip             -0.0668      0.101     -0.660      0.509      -0.265       0.131\n",
            "small_business         1.0995      0.143      7.689      0.000       0.819       1.380\n",
            "wedding               -0.0586      0.219     -0.267      0.790      -0.489       0.372\n",
            "======================================================================================\n"
          ]
        }
      ]
    },
    {
      "cell_type": "code",
      "source": [
        "# Dropping low impact variable : wedding\n",
        "\n",
        "logit_reg = sm.Logit(train_data_bal_logistic[['status_y']], \n",
        "                     train_data_bal_logistic[['cust_num']+['loan_amt']+['curr_loan_amt_flag']+['term']+['cred_score']+['income']+\n",
        "                            ['job_years']+['delin_month_flag']+['emi']+['cred_years']+['open_acc']+['curr_bal']+['max_cred']+\n",
        "                            ['bankrupt']+['tax_lien']+['home_owned']+['home_rent']+['moving']+['purp_business']+['income_flag']+\n",
        "                            ['purp_buy_house']+['purp_car']+['purp_debt']+['purp_edu']+['purp_home']+['purp_medical']+['purp_renew_en']+\n",
        "                            ['purp_trip']+['small_business']])\n",
        "\n",
        "logit_reg.fit()\n",
        "print(logit_reg.fit().summary())"
      ],
      "metadata": {
        "colab": {
          "base_uri": "https://localhost:8080/"
        },
        "id": "eAgxNEC5H3Af",
        "outputId": "f297194a-b8ef-48de-a999-ea1deaaa8116"
      },
      "execution_count": null,
      "outputs": [
        {
          "output_type": "stream",
          "name": "stdout",
          "text": [
            "Optimization terminated successfully.\n",
            "         Current function value: 0.599751\n",
            "         Iterations 9\n",
            "Optimization terminated successfully.\n",
            "         Current function value: 0.599751\n",
            "         Iterations 9\n",
            "                           Logit Regression Results                           \n",
            "==============================================================================\n",
            "Dep. Variable:               status_y   No. Observations:                92642\n",
            "Model:                          Logit   Df Residuals:                    92613\n",
            "Method:                           MLE   Df Model:                           28\n",
            "Date:                Mon, 07 Nov 2022   Pseudo R-squ.:                  0.1343\n",
            "Time:                        11:45:31   Log-Likelihood:                -55562.\n",
            "converged:                       True   LL-Null:                       -64181.\n",
            "Covariance Type:            nonrobust   LLR p-value:                     0.000\n",
            "======================================================================================\n",
            "                         coef    std err          z      P>|z|      [0.025      0.975]\n",
            "--------------------------------------------------------------------------------------\n",
            "cust_num            8.729e-06   5.66e-07     15.418      0.000    7.62e-06    9.84e-06\n",
            "loan_amt            6.629e-07   5.23e-08     12.671      0.000     5.6e-07    7.65e-07\n",
            "curr_loan_amt_flag     5.3359      0.140     38.216      0.000       5.062       5.610\n",
            "term                   0.6248      0.018     34.221      0.000       0.589       0.661\n",
            "cred_score            -0.0078      0.000    -38.993      0.000      -0.008      -0.007\n",
            "income              -5.57e-07   1.84e-08    -30.214      0.000   -5.93e-07   -5.21e-07\n",
            "job_years              0.0069      0.002      3.647      0.000       0.003       0.011\n",
            "delin_month_flag       0.2211      0.021     10.366      0.000       0.179       0.263\n",
            "emi                 7.532e-06   8.87e-07      8.492      0.000    5.79e-06    9.27e-06\n",
            "cred_years            -0.0068      0.001     -6.136      0.000      -0.009      -0.005\n",
            "open_acc               0.0198      0.002     11.122      0.000       0.016       0.023\n",
            "curr_bal            4.763e-07   4.22e-08     11.297      0.000    3.94e-07    5.59e-07\n",
            "max_cred           -5.339e-07   2.38e-08    -22.387      0.000   -5.81e-07   -4.87e-07\n",
            "bankrupt               0.0047      0.021      0.221      0.825      -0.037       0.046\n",
            "tax_lien               0.1324      0.028      4.678      0.000       0.077       0.188\n",
            "home_owned             0.1571      0.026      6.056      0.000       0.106       0.208\n",
            "home_rent              0.2957      0.016     18.252      0.000       0.264       0.327\n",
            "moving                 0.1522      0.188      0.810      0.418      -0.216       0.520\n",
            "purp_business          0.4168      0.062      6.706      0.000       0.295       0.539\n",
            "income_flag            0.0173      0.026      0.665      0.506      -0.034       0.068\n",
            "purp_buy_house        -0.2074      0.096     -2.152      0.031      -0.396      -0.019\n",
            "purp_car              -0.4379      0.071     -6.168      0.000      -0.577      -0.299\n",
            "purp_debt             -0.0787      0.025     -3.094      0.002      -0.129      -0.029\n",
            "purp_edu              -0.2843      0.230     -1.238      0.216      -0.734       0.166\n",
            "purp_home             -0.0366      0.039     -0.934      0.351      -0.113       0.040\n",
            "purp_medical           0.2059      0.072      2.854      0.004       0.065       0.347\n",
            "purp_renew_en          1.7946      0.795      2.258      0.024       0.237       3.353\n",
            "purp_trip             -0.0661      0.101     -0.654      0.513      -0.264       0.132\n",
            "small_business         1.1002      0.143      7.695      0.000       0.820       1.380\n",
            "======================================================================================\n"
          ]
        }
      ]
    },
    {
      "cell_type": "code",
      "source": [
        "# Dropping low impact variable : purp_buy_house\n",
        "\n",
        "logit_reg = sm.Logit(train_data_bal_logistic[['status_y']], \n",
        "                     train_data_bal_logistic[['cust_num']+['loan_amt']+['curr_loan_amt_flag']+['term']+['cred_score']+['income']+\n",
        "                            ['job_years']+['delin_month_flag']+['emi']+['cred_years']+['open_acc']+['curr_bal']+['max_cred']+\n",
        "                            ['bankrupt']+['tax_lien']+['home_owned']+['home_rent']+['moving']+['purp_business']+['income_flag']+\n",
        "                            ['purp_car']+['purp_debt']+['purp_edu']+['purp_home']+['purp_medical']+['purp_renew_en']+\n",
        "                            ['purp_trip']+['small_business']])\n",
        "\n",
        "logit_reg.fit()\n",
        "print(logit_reg.fit().summary())"
      ],
      "metadata": {
        "colab": {
          "base_uri": "https://localhost:8080/"
        },
        "id": "7L66ys6KIo8u",
        "outputId": "3439006d-17f7-4239-cd95-3936915173ef"
      },
      "execution_count": null,
      "outputs": [
        {
          "output_type": "stream",
          "name": "stdout",
          "text": [
            "Optimization terminated successfully.\n",
            "         Current function value: 0.599776\n",
            "         Iterations 9\n",
            "Optimization terminated successfully.\n",
            "         Current function value: 0.599776\n",
            "         Iterations 9\n",
            "                           Logit Regression Results                           \n",
            "==============================================================================\n",
            "Dep. Variable:               status_y   No. Observations:                92642\n",
            "Model:                          Logit   Df Residuals:                    92614\n",
            "Method:                           MLE   Df Model:                           27\n",
            "Date:                Mon, 07 Nov 2022   Pseudo R-squ.:                  0.1343\n",
            "Time:                        11:45:33   Log-Likelihood:                -55564.\n",
            "converged:                       True   LL-Null:                       -64181.\n",
            "Covariance Type:            nonrobust   LLR p-value:                     0.000\n",
            "======================================================================================\n",
            "                         coef    std err          z      P>|z|      [0.025      0.975]\n",
            "--------------------------------------------------------------------------------------\n",
            "cust_num            8.735e-06   5.66e-07     15.430      0.000    7.63e-06    9.84e-06\n",
            "loan_amt            6.578e-07   5.23e-08     12.587      0.000    5.55e-07     7.6e-07\n",
            "curr_loan_amt_flag     5.3301      0.139     38.251      0.000       5.057       5.603\n",
            "term                   0.6248      0.018     34.221      0.000       0.589       0.661\n",
            "cred_score            -0.0078      0.000    -39.100      0.000      -0.008      -0.007\n",
            "income             -5.572e-07   1.84e-08    -30.224      0.000   -5.93e-07   -5.21e-07\n",
            "job_years              0.0069      0.002      3.670      0.000       0.003       0.011\n",
            "delin_month_flag       0.2211      0.021     10.366      0.000       0.179       0.263\n",
            "emi                 7.558e-06   8.87e-07      8.522      0.000    5.82e-06     9.3e-06\n",
            "cred_years            -0.0068      0.001     -6.123      0.000      -0.009      -0.005\n",
            "open_acc               0.0198      0.002     11.117      0.000       0.016       0.023\n",
            "curr_bal            4.778e-07   4.22e-08     11.333      0.000    3.95e-07     5.6e-07\n",
            "max_cred           -5.343e-07   2.38e-08    -22.405      0.000   -5.81e-07   -4.88e-07\n",
            "bankrupt               0.0043      0.021      0.205      0.837      -0.037       0.046\n",
            "tax_lien               0.1321      0.028      4.666      0.000       0.077       0.188\n",
            "home_owned             0.1565      0.026      6.035      0.000       0.106       0.207\n",
            "home_rent              0.2954      0.016     18.234      0.000       0.264       0.327\n",
            "moving                 0.1642      0.188      0.875      0.382      -0.204       0.532\n",
            "purp_business          0.4294      0.062      6.942      0.000       0.308       0.551\n",
            "income_flag            0.0175      0.026      0.672      0.502      -0.033       0.068\n",
            "purp_car              -0.4258      0.071     -6.016      0.000      -0.565      -0.287\n",
            "purp_debt             -0.0662      0.025     -2.674      0.007      -0.115      -0.018\n",
            "purp_edu              -0.2725      0.230     -1.187      0.235      -0.722       0.177\n",
            "purp_home             -0.0241      0.039     -0.621      0.534      -0.100       0.052\n",
            "purp_medical           0.2178      0.072      3.027      0.002       0.077       0.359\n",
            "purp_renew_en          1.8066      0.795      2.273      0.023       0.249       3.365\n",
            "purp_trip             -0.0543      0.101     -0.538      0.591      -0.252       0.144\n",
            "small_business         1.1128      0.143      7.790      0.000       0.833       1.393\n",
            "======================================================================================\n"
          ]
        }
      ]
    },
    {
      "cell_type": "code",
      "source": [
        "# Dropping low impact variable : purp_trip\n",
        "\n",
        "logit_reg = sm.Logit(train_data_bal_logistic[['status_y']], \n",
        "                     train_data_bal_logistic[['cust_num']+['loan_amt']+['curr_loan_amt_flag']+['term']+['cred_score']+['income']+\n",
        "                            ['job_years']+['delin_month_flag']+['emi']+['cred_years']+['open_acc']+['curr_bal']+['max_cred']+\n",
        "                            ['bankrupt']+['tax_lien']+['home_owned']+['home_rent']+['moving']+['purp_business']+['income_flag']+\n",
        "                            ['purp_car']+['purp_debt']+['purp_edu']+['purp_home']+['purp_medical']+['purp_renew_en']+\n",
        "                            ['small_business']])\n",
        "\n",
        "logit_reg.fit()\n",
        "print(logit_reg.fit().summary())"
      ],
      "metadata": {
        "colab": {
          "base_uri": "https://localhost:8080/"
        },
        "id": "Kzg-vlT9Iz5P",
        "outputId": "ce821f0a-8296-427d-b982-3f1203d722ec"
      },
      "execution_count": null,
      "outputs": [
        {
          "output_type": "stream",
          "name": "stdout",
          "text": [
            "Optimization terminated successfully.\n",
            "         Current function value: 0.599777\n",
            "         Iterations 9\n",
            "Optimization terminated successfully.\n",
            "         Current function value: 0.599777\n",
            "         Iterations 9\n",
            "                           Logit Regression Results                           \n",
            "==============================================================================\n",
            "Dep. Variable:               status_y   No. Observations:                92642\n",
            "Model:                          Logit   Df Residuals:                    92615\n",
            "Method:                           MLE   Df Model:                           26\n",
            "Date:                Mon, 07 Nov 2022   Pseudo R-squ.:                  0.1342\n",
            "Time:                        11:45:34   Log-Likelihood:                -55565.\n",
            "converged:                       True   LL-Null:                       -64181.\n",
            "Covariance Type:            nonrobust   LLR p-value:                     0.000\n",
            "======================================================================================\n",
            "                         coef    std err          z      P>|z|      [0.025      0.975]\n",
            "--------------------------------------------------------------------------------------\n",
            "cust_num            8.736e-06   5.66e-07     15.432      0.000    7.63e-06    9.85e-06\n",
            "loan_amt            6.586e-07   5.22e-08     12.609      0.000    5.56e-07    7.61e-07\n",
            "curr_loan_amt_flag     5.3291      0.139     38.259      0.000       5.056       5.602\n",
            "term                   0.6248      0.018     34.222      0.000       0.589       0.661\n",
            "cred_score            -0.0078      0.000    -39.134      0.000      -0.008      -0.007\n",
            "income             -5.573e-07   1.84e-08    -30.227      0.000   -5.93e-07   -5.21e-07\n",
            "job_years              0.0069      0.002      3.663      0.000       0.003       0.011\n",
            "delin_month_flag       0.2211      0.021     10.366      0.000       0.179       0.263\n",
            "emi                 7.552e-06   8.87e-07      8.517      0.000    5.81e-06    9.29e-06\n",
            "cred_years            -0.0068      0.001     -6.115      0.000      -0.009      -0.005\n",
            "open_acc               0.0198      0.002     11.113      0.000       0.016       0.023\n",
            "curr_bal            4.777e-07   4.22e-08     11.332      0.000    3.95e-07     5.6e-07\n",
            "max_cred           -5.343e-07   2.38e-08    -22.405      0.000   -5.81e-07   -4.88e-07\n",
            "bankrupt               0.0043      0.021      0.206      0.837      -0.037       0.046\n",
            "tax_lien               0.1321      0.028      4.666      0.000       0.077       0.188\n",
            "home_owned             0.1566      0.026      6.037      0.000       0.106       0.207\n",
            "home_rent              0.2953      0.016     18.231      0.000       0.264       0.327\n",
            "moving                 0.1670      0.188      0.890      0.373      -0.201       0.535\n",
            "purp_business          0.4321      0.062      7.006      0.000       0.311       0.553\n",
            "income_flag            0.0174      0.026      0.671      0.502      -0.034       0.068\n",
            "purp_car              -0.4231      0.071     -5.993      0.000      -0.561      -0.285\n",
            "purp_debt             -0.0635      0.024     -2.619      0.009      -0.111      -0.016\n",
            "purp_edu              -0.2697      0.229     -1.175      0.240      -0.720       0.180\n",
            "purp_home             -0.0214      0.038     -0.557      0.578      -0.097       0.054\n",
            "purp_medical           0.2206      0.072      3.073      0.002       0.080       0.361\n",
            "purp_renew_en          1.8094      0.795      2.276      0.023       0.251       3.367\n",
            "small_business         1.1154      0.143      7.813      0.000       0.836       1.395\n",
            "======================================================================================\n"
          ]
        }
      ]
    },
    {
      "cell_type": "code",
      "source": [
        "# Dropping low impact variable : purp_home\n",
        "\n",
        "logit_reg = sm.Logit(train_data_bal_logistic[['status_y']], \n",
        "                     train_data_bal_logistic[['cust_num']+['loan_amt']+['curr_loan_amt_flag']+['term']+['cred_score']+['income']+\n",
        "                            ['job_years']+['delin_month_flag']+['emi']+['cred_years']+['open_acc']+['curr_bal']+['max_cred']+\n",
        "                            ['bankrupt']+['tax_lien']+['home_owned']+['home_rent']+['moving']+['purp_business']+['income_flag']+\n",
        "                            ['purp_car']+['purp_debt']+['purp_edu']+['purp_medical']+['purp_renew_en']+\n",
        "                            ['small_business']])\n",
        "\n",
        "logit_reg.fit()\n",
        "print(logit_reg.fit().summary())"
      ],
      "metadata": {
        "colab": {
          "base_uri": "https://localhost:8080/"
        },
        "id": "rYY8ZXhGI_Z1",
        "outputId": "ba394034-78ca-4e20-e49d-594635bf9428"
      },
      "execution_count": null,
      "outputs": [
        {
          "output_type": "stream",
          "name": "stdout",
          "text": [
            "Optimization terminated successfully.\n",
            "         Current function value: 0.599779\n",
            "         Iterations 9\n",
            "Optimization terminated successfully.\n",
            "         Current function value: 0.599779\n",
            "         Iterations 9\n",
            "                           Logit Regression Results                           \n",
            "==============================================================================\n",
            "Dep. Variable:               status_y   No. Observations:                92642\n",
            "Model:                          Logit   Df Residuals:                    92616\n",
            "Method:                           MLE   Df Model:                           25\n",
            "Date:                Mon, 07 Nov 2022   Pseudo R-squ.:                  0.1342\n",
            "Time:                        11:45:36   Log-Likelihood:                -55565.\n",
            "converged:                       True   LL-Null:                       -64181.\n",
            "Covariance Type:            nonrobust   LLR p-value:                     0.000\n",
            "======================================================================================\n",
            "                         coef    std err          z      P>|z|      [0.025      0.975]\n",
            "--------------------------------------------------------------------------------------\n",
            "cust_num            8.742e-06   5.66e-07     15.444      0.000    7.63e-06    9.85e-06\n",
            "loan_amt            6.566e-07   5.21e-08     12.600      0.000    5.54e-07    7.59e-07\n",
            "curr_loan_amt_flag     5.3293      0.139     38.258      0.000       5.056       5.602\n",
            "term                   0.6245      0.018     34.218      0.000       0.589       0.660\n",
            "cred_score            -0.0078      0.000    -39.385      0.000      -0.008      -0.007\n",
            "income             -5.573e-07   1.84e-08    -30.231      0.000   -5.93e-07   -5.21e-07\n",
            "job_years              0.0069      0.002      3.661      0.000       0.003       0.011\n",
            "delin_month_flag       0.2211      0.021     10.368      0.000       0.179       0.263\n",
            "emi                 7.559e-06   8.87e-07      8.526      0.000    5.82e-06     9.3e-06\n",
            "cred_years            -0.0068      0.001     -6.113      0.000      -0.009      -0.005\n",
            "open_acc               0.0198      0.002     11.107      0.000       0.016       0.023\n",
            "curr_bal            4.783e-07   4.21e-08     11.350      0.000    3.96e-07    5.61e-07\n",
            "max_cred           -5.342e-07   2.38e-08    -22.404      0.000   -5.81e-07   -4.88e-07\n",
            "bankrupt               0.0039      0.021      0.184      0.854      -0.037       0.045\n",
            "tax_lien               0.1321      0.028      4.667      0.000       0.077       0.188\n",
            "home_owned             0.1569      0.026      6.050      0.000       0.106       0.208\n",
            "home_rent              0.2966      0.016     18.519      0.000       0.265       0.328\n",
            "moving                 0.1736      0.187      0.927      0.354      -0.193       0.541\n",
            "purp_business          0.4395      0.060      7.300      0.000       0.321       0.558\n",
            "income_flag            0.0177      0.026      0.679      0.497      -0.033       0.069\n",
            "purp_car              -0.4159      0.069     -5.992      0.000      -0.552      -0.280\n",
            "purp_debt             -0.0560      0.020     -2.777      0.005      -0.096      -0.016\n",
            "purp_edu              -0.2630      0.229     -1.147      0.251      -0.712       0.186\n",
            "purp_medical           0.2277      0.071      3.225      0.001       0.089       0.366\n",
            "purp_renew_en          1.8168      0.795      2.286      0.022       0.259       3.374\n",
            "small_business         1.1228      0.142      7.898      0.000       0.844       1.401\n",
            "======================================================================================\n"
          ]
        }
      ]
    },
    {
      "cell_type": "code",
      "source": [
        "# Dropping low impact variable : income_flag\n",
        "\n",
        "logit_reg = sm.Logit(train_data_bal_logistic[['status_y']], \n",
        "                     train_data_bal_logistic[['cust_num']+['loan_amt']+['curr_loan_amt_flag']+['term']+['cred_score']+['income']+\n",
        "                            ['job_years']+['delin_month_flag']+['emi']+['cred_years']+['open_acc']+['curr_bal']+['max_cred']+\n",
        "                            ['bankrupt']+['tax_lien']+['home_owned']+['home_rent']+['moving']+['purp_business']+\n",
        "                            ['purp_car']+['purp_debt']+['purp_edu']+['purp_medical']+['purp_renew_en']+['small_business']])\n",
        "                            \n",
        "logit_reg.fit()\n",
        "print(logit_reg.fit().summary())"
      ],
      "metadata": {
        "colab": {
          "base_uri": "https://localhost:8080/"
        },
        "id": "6j1w6J-YJcGx",
        "outputId": "91b974f0-e154-486d-9816-1a9f6ca98e4e"
      },
      "execution_count": null,
      "outputs": [
        {
          "output_type": "stream",
          "name": "stdout",
          "text": [
            "Optimization terminated successfully.\n",
            "         Current function value: 0.599782\n",
            "         Iterations 9\n",
            "Optimization terminated successfully.\n",
            "         Current function value: 0.599782\n",
            "         Iterations 9\n",
            "                           Logit Regression Results                           \n",
            "==============================================================================\n",
            "Dep. Variable:               status_y   No. Observations:                92642\n",
            "Model:                          Logit   Df Residuals:                    92617\n",
            "Method:                           MLE   Df Model:                           24\n",
            "Date:                Mon, 07 Nov 2022   Pseudo R-squ.:                  0.1342\n",
            "Time:                        11:45:37   Log-Likelihood:                -55565.\n",
            "converged:                       True   LL-Null:                       -64181.\n",
            "Covariance Type:            nonrobust   LLR p-value:                     0.000\n",
            "======================================================================================\n",
            "                         coef    std err          z      P>|z|      [0.025      0.975]\n",
            "--------------------------------------------------------------------------------------\n",
            "cust_num            8.448e-06   3.65e-07     23.158      0.000    7.73e-06    9.16e-06\n",
            "loan_amt            6.544e-07    5.2e-08     12.581      0.000    5.52e-07    7.56e-07\n",
            "curr_loan_amt_flag     5.3415      0.139     38.498      0.000       5.070       5.613\n",
            "term                   0.6255      0.018     34.370      0.000       0.590       0.661\n",
            "cred_score            -0.0078      0.000    -39.662      0.000      -0.008      -0.007\n",
            "income             -5.563e-07   1.84e-08    -30.273      0.000   -5.92e-07    -5.2e-07\n",
            "job_years              0.0070      0.002      3.746      0.000       0.003       0.011\n",
            "delin_month_flag       0.2132      0.018     11.929      0.000       0.178       0.248\n",
            "emi                 7.491e-06   8.81e-07      8.503      0.000    5.76e-06    9.22e-06\n",
            "cred_years            -0.0068      0.001     -6.106      0.000      -0.009      -0.005\n",
            "open_acc               0.0198      0.002     11.152      0.000       0.016       0.023\n",
            "curr_bal            4.783e-07   4.22e-08     11.346      0.000    3.96e-07    5.61e-07\n",
            "max_cred           -5.351e-07   2.38e-08    -22.468      0.000   -5.82e-07   -4.88e-07\n",
            "bankrupt               0.0040      0.021      0.189      0.850      -0.037       0.045\n",
            "tax_lien               0.1318      0.028      4.657      0.000       0.076       0.187\n",
            "home_owned             0.1575      0.026      6.078      0.000       0.107       0.208\n",
            "home_rent              0.2971      0.016     18.562      0.000       0.266       0.328\n",
            "moving                 0.1742      0.187      0.930      0.352      -0.193       0.541\n",
            "purp_business          0.4398      0.060      7.305      0.000       0.322       0.558\n",
            "purp_car              -0.4156      0.069     -5.988      0.000      -0.552      -0.280\n",
            "purp_debt             -0.0555      0.020     -2.753      0.006      -0.095      -0.016\n",
            "purp_edu              -0.2605      0.229     -1.137      0.256      -0.710       0.189\n",
            "purp_medical           0.2279      0.071      3.228      0.001       0.090       0.366\n",
            "purp_renew_en          1.8156      0.795      2.284      0.022       0.258       3.373\n",
            "small_business         1.1227      0.142      7.898      0.000       0.844       1.401\n",
            "======================================================================================\n"
          ]
        }
      ]
    },
    {
      "cell_type": "code",
      "source": [
        "# Dropping low impact variable : purp_medical\n",
        "\n",
        "logit_reg = sm.Logit(train_data_bal_logistic[['status_y']], \n",
        "                     train_data_bal_logistic[['cust_num']+['loan_amt']+['curr_loan_amt_flag']+['term']+['cred_score']+['income']+\n",
        "                            ['job_years']+['delin_month_flag']+['emi']+['cred_years']+['open_acc']+['curr_bal']+['max_cred']+\n",
        "                            ['bankrupt']+['tax_lien']+['home_owned']+['home_rent']+['moving']+['purp_business']+\n",
        "                            ['purp_car']+['purp_debt']+['purp_edu']+['purp_renew_en']+['small_business']])\n",
        "                            \n",
        "logit_reg.fit()\n",
        "print(logit_reg.fit().summary())"
      ],
      "metadata": {
        "colab": {
          "base_uri": "https://localhost:8080/"
        },
        "id": "33KzkOk-KI76",
        "outputId": "2016edfc-709f-40e7-8b2b-c75a60191f83"
      },
      "execution_count": null,
      "outputs": [
        {
          "output_type": "stream",
          "name": "stdout",
          "text": [
            "Optimization terminated successfully.\n",
            "         Current function value: 0.599838\n",
            "         Iterations 9\n",
            "Optimization terminated successfully.\n",
            "         Current function value: 0.599838\n",
            "         Iterations 9\n",
            "                           Logit Regression Results                           \n",
            "==============================================================================\n",
            "Dep. Variable:               status_y   No. Observations:                92642\n",
            "Model:                          Logit   Df Residuals:                    92618\n",
            "Method:                           MLE   Df Model:                           23\n",
            "Date:                Mon, 07 Nov 2022   Pseudo R-squ.:                  0.1342\n",
            "Time:                        11:45:39   Log-Likelihood:                -55570.\n",
            "converged:                       True   LL-Null:                       -64181.\n",
            "Covariance Type:            nonrobust   LLR p-value:                     0.000\n",
            "======================================================================================\n",
            "                         coef    std err          z      P>|z|      [0.025      0.975]\n",
            "--------------------------------------------------------------------------------------\n",
            "cust_num            8.445e-06   3.65e-07     23.151      0.000    7.73e-06    9.16e-06\n",
            "loan_amt            6.479e-07    5.2e-08     12.467      0.000    5.46e-07     7.5e-07\n",
            "curr_loan_amt_flag     5.3537      0.139     38.448      0.000       5.081       5.627\n",
            "term                   0.6253      0.018     34.348      0.000       0.590       0.661\n",
            "cred_score            -0.0078      0.000    -39.509      0.000      -0.008      -0.007\n",
            "income              -5.56e-07   1.84e-08    -30.259      0.000   -5.92e-07    -5.2e-07\n",
            "job_years              0.0070      0.002      3.744      0.000       0.003       0.011\n",
            "delin_month_flag       0.2131      0.018     11.925      0.000       0.178       0.248\n",
            "emi                 7.529e-06   8.81e-07      8.548      0.000     5.8e-06    9.26e-06\n",
            "cred_years            -0.0067      0.001     -6.046      0.000      -0.009      -0.005\n",
            "open_acc               0.0199      0.002     11.185      0.000       0.016       0.023\n",
            "curr_bal            4.802e-07   4.22e-08     11.392      0.000    3.98e-07    5.63e-07\n",
            "max_cred            -5.36e-07   2.38e-08    -22.510      0.000   -5.83e-07   -4.89e-07\n",
            "bankrupt               0.0039      0.021      0.185      0.853      -0.037       0.045\n",
            "tax_lien               0.1318      0.028      4.658      0.000       0.076       0.187\n",
            "home_owned             0.1579      0.026      6.095      0.000       0.107       0.209\n",
            "home_rent              0.2978      0.016     18.610      0.000       0.266       0.329\n",
            "moving                 0.1589      0.187      0.849      0.396      -0.208       0.526\n",
            "purp_business          0.4256      0.060      7.088      0.000       0.308       0.543\n",
            "purp_car              -0.4305      0.069     -6.217      0.000      -0.566      -0.295\n",
            "purp_debt             -0.0699      0.020     -3.559      0.000      -0.108      -0.031\n",
            "purp_edu              -0.2759      0.229     -1.204      0.228      -0.725       0.173\n",
            "purp_renew_en          1.8000      0.795      2.265      0.024       0.242       3.358\n",
            "small_business         1.1087      0.142      7.802      0.000       0.830       1.387\n",
            "======================================================================================\n"
          ]
        }
      ]
    },
    {
      "cell_type": "code",
      "source": [
        "# Dropping low impact variable : moving\n",
        "\n",
        "logit_reg = sm.Logit(train_data_bal_logistic[['status_y']], \n",
        "                     train_data_bal_logistic[['cust_num']+['loan_amt']+['curr_loan_amt_flag']+['term']+['cred_score']+['income']+\n",
        "                            ['job_years']+['delin_month_flag']+['emi']+['cred_years']+['open_acc']+['curr_bal']+['max_cred']+\n",
        "                            ['bankrupt']+['tax_lien']+['home_owned']+['home_rent']+['purp_business']+\n",
        "                            ['purp_car']+['purp_debt']+['purp_edu']+['purp_renew_en']+['small_business']])\n",
        "                            \n",
        "logit_reg.fit()\n",
        "print(logit_reg.fit().summary())"
      ],
      "metadata": {
        "colab": {
          "base_uri": "https://localhost:8080/"
        },
        "id": "8MsMxATkKW1M",
        "outputId": "b02472cb-ea6d-4fca-b878-c6c3ff507a86"
      },
      "execution_count": null,
      "outputs": [
        {
          "output_type": "stream",
          "name": "stdout",
          "text": [
            "Optimization terminated successfully.\n",
            "         Current function value: 0.599842\n",
            "         Iterations 9\n",
            "Optimization terminated successfully.\n",
            "         Current function value: 0.599842\n",
            "         Iterations 9\n",
            "                           Logit Regression Results                           \n",
            "==============================================================================\n",
            "Dep. Variable:               status_y   No. Observations:                92642\n",
            "Model:                          Logit   Df Residuals:                    92619\n",
            "Method:                           MLE   Df Model:                           22\n",
            "Date:                Mon, 07 Nov 2022   Pseudo R-squ.:                  0.1342\n",
            "Time:                        11:45:40   Log-Likelihood:                -55571.\n",
            "converged:                       True   LL-Null:                       -64181.\n",
            "Covariance Type:            nonrobust   LLR p-value:                     0.000\n",
            "======================================================================================\n",
            "                         coef    std err          z      P>|z|      [0.025      0.975]\n",
            "--------------------------------------------------------------------------------------\n",
            "cust_num            8.445e-06   3.65e-07     23.152      0.000    7.73e-06    9.16e-06\n",
            "loan_amt            6.476e-07    5.2e-08     12.461      0.000    5.46e-07    7.49e-07\n",
            "curr_loan_amt_flag     5.3549      0.139     38.444      0.000       5.082       5.628\n",
            "term                   0.6253      0.018     34.347      0.000       0.590       0.661\n",
            "cred_score            -0.0078      0.000    -39.496      0.000      -0.008      -0.007\n",
            "income              -5.56e-07   1.84e-08    -30.258      0.000   -5.92e-07    -5.2e-07\n",
            "job_years              0.0070      0.002      3.743      0.000       0.003       0.011\n",
            "delin_month_flag       0.2131      0.018     11.924      0.000       0.178       0.248\n",
            "emi                 7.537e-06   8.81e-07      8.557      0.000    5.81e-06    9.26e-06\n",
            "cred_years            -0.0067      0.001     -6.044      0.000      -0.009      -0.005\n",
            "open_acc               0.0199      0.002     11.184      0.000       0.016       0.023\n",
            "curr_bal            4.802e-07   4.21e-08     11.392      0.000    3.98e-07    5.63e-07\n",
            "max_cred            -5.36e-07   2.38e-08    -22.510      0.000   -5.83e-07   -4.89e-07\n",
            "bankrupt               0.0038      0.021      0.182      0.856      -0.038       0.045\n",
            "tax_lien               0.1318      0.028      4.659      0.000       0.076       0.187\n",
            "home_owned             0.1578      0.026      6.092      0.000       0.107       0.209\n",
            "home_rent              0.2983      0.016     18.649      0.000       0.267       0.330\n",
            "purp_business          0.4243      0.060      7.068      0.000       0.307       0.542\n",
            "purp_car              -0.4319      0.069     -6.239      0.000      -0.568      -0.296\n",
            "purp_debt             -0.0713      0.020     -3.642      0.000      -0.110      -0.033\n",
            "purp_edu              -0.2774      0.229     -1.211      0.226      -0.726       0.172\n",
            "purp_renew_en          1.7986      0.795      2.263      0.024       0.241       3.356\n",
            "small_business         1.1073      0.142      7.793      0.000       0.829       1.386\n",
            "======================================================================================\n"
          ]
        }
      ]
    },
    {
      "cell_type": "code",
      "source": [
        "# Dropping low impact variable : purp_renew_en\n",
        "\n",
        "logit_reg = sm.Logit(train_data_bal_logistic[['status_y']], \n",
        "                     train_data_bal_logistic[['cust_num']+['loan_amt']+['curr_loan_amt_flag']+['term']+['cred_score']+['income']+\n",
        "                            ['job_years']+['delin_month_flag']+['emi']+['cred_years']+['open_acc']+['curr_bal']+['max_cred']+\n",
        "                            ['bankrupt']+['tax_lien']+['home_owned']+['home_rent']+['purp_business']+\n",
        "                            ['purp_car']+['purp_debt']+['purp_edu']+['small_business']])\n",
        "                            \n",
        "logit_reg.fit()\n",
        "print(logit_reg.fit().summary())"
      ],
      "metadata": {
        "colab": {
          "base_uri": "https://localhost:8080/"
        },
        "id": "NM0qRwQiKgO_",
        "outputId": "7462dccf-e7da-40f4-e18d-f8e8b481a4c8"
      },
      "execution_count": null,
      "outputs": [
        {
          "output_type": "stream",
          "name": "stdout",
          "text": [
            "Optimization terminated successfully.\n",
            "         Current function value: 0.599879\n",
            "         Iterations 9\n",
            "Optimization terminated successfully.\n",
            "         Current function value: 0.599879\n",
            "         Iterations 9\n",
            "                           Logit Regression Results                           \n",
            "==============================================================================\n",
            "Dep. Variable:               status_y   No. Observations:                92642\n",
            "Model:                          Logit   Df Residuals:                    92620\n",
            "Method:                           MLE   Df Model:                           21\n",
            "Date:                Mon, 07 Nov 2022   Pseudo R-squ.:                  0.1341\n",
            "Time:                        11:45:41   Log-Likelihood:                -55574.\n",
            "converged:                       True   LL-Null:                       -64181.\n",
            "Covariance Type:            nonrobust   LLR p-value:                     0.000\n",
            "======================================================================================\n",
            "                         coef    std err          z      P>|z|      [0.025      0.975]\n",
            "--------------------------------------------------------------------------------------\n",
            "cust_num            8.452e-06   3.65e-07     23.172      0.000    7.74e-06    9.17e-06\n",
            "loan_amt            6.465e-07    5.2e-08     12.440      0.000    5.45e-07    7.48e-07\n",
            "curr_loan_amt_flag     5.3540      0.139     38.451      0.000       5.081       5.627\n",
            "term                   0.6255      0.018     34.361      0.000       0.590       0.661\n",
            "cred_score            -0.0078      0.000    -39.499      0.000      -0.008      -0.007\n",
            "income             -5.558e-07   1.84e-08    -30.249      0.000   -5.92e-07    -5.2e-07\n",
            "job_years              0.0070      0.002      3.730      0.000       0.003       0.011\n",
            "delin_month_flag       0.2133      0.018     11.933      0.000       0.178       0.248\n",
            "emi                 7.527e-06   8.81e-07      8.546      0.000     5.8e-06    9.25e-06\n",
            "cred_years            -0.0067      0.001     -6.010      0.000      -0.009      -0.005\n",
            "open_acc               0.0199      0.002     11.186      0.000       0.016       0.023\n",
            "curr_bal            4.799e-07   4.21e-08     11.386      0.000    3.97e-07    5.62e-07\n",
            "max_cred           -5.359e-07   2.38e-08    -22.507      0.000   -5.83e-07   -4.89e-07\n",
            "bankrupt               0.0035      0.021      0.167      0.868      -0.038       0.045\n",
            "tax_lien               0.1318      0.028      4.656      0.000       0.076       0.187\n",
            "home_owned             0.1583      0.026      6.112      0.000       0.108       0.209\n",
            "home_rent              0.2983      0.016     18.649      0.000       0.267       0.330\n",
            "purp_business          0.4231      0.060      7.048      0.000       0.305       0.541\n",
            "purp_car              -0.4333      0.069     -6.259      0.000      -0.569      -0.298\n",
            "purp_debt             -0.0725      0.020     -3.702      0.000      -0.111      -0.034\n",
            "purp_edu              -0.2788      0.229     -1.217      0.223      -0.728       0.170\n",
            "small_business         1.1061      0.142      7.785      0.000       0.828       1.385\n",
            "======================================================================================\n"
          ]
        }
      ]
    },
    {
      "cell_type": "markdown",
      "source": [
        "## Highest Impact Variables\n",
        "The higher the absolute value of Z i.e. |Z|, the more impactful the variable is.\n",
        "### Top 5 most impactful variables are\n",
        "1. cred_score (Credit Score) : |Z|= 39.3\n",
        "2. curr_loan_amt_flag (Current Loan Amount flag) : |Z|= 38.7\n",
        "3. term (Term) : |Z|= 34.7\n",
        "4. income (Annual Income) : |Z|= 31.8\n",
        "5. max_cred (Maximum Open Credit) : |Z|= 22.2"
      ],
      "metadata": {
        "id": "wSOkYKoXjVDy"
      }
    },
    {
      "cell_type": "markdown",
      "source": [
        "## Rebuilding Model on these Variables"
      ],
      "metadata": {
        "id": "FzBP_x-jK-DR"
      }
    },
    {
      "cell_type": "code",
      "source": [
        "logistic = LogisticRegression()\n",
        "\n",
        "# Fitting logistic regression on train data\n",
        "logistic.fit(train_data_bal_logistic[['cust_num']+['loan_amt']+['curr_loan_amt_flag']+['term']+['cred_score']+['income']+\n",
        "                            ['job_years']+['delin_month_flag']+['emi']+['cred_years']+['open_acc']+['curr_bal']+['max_cred']+\n",
        "                            ['bankrupt']+['tax_lien']+['home_owned']+['home_rent']+['purp_business']+\n",
        "                            ['purp_car']+['purp_debt']+['purp_edu']+['small_business']], train_data_bal_logistic[['status_y']])\n",
        "\n",
        "# Values of coefficients and intercept for the Logistic equation \n",
        "print(\"Intercept\", logistic.intercept_)\n",
        "print(\"Coefficients\", logistic.coef_)"
      ],
      "metadata": {
        "colab": {
          "base_uri": "https://localhost:8080/"
        },
        "id": "rZVqysDhLNR-",
        "outputId": "49ac89d1-1eae-4f5f-d793-3b37565f31fe"
      },
      "execution_count": null,
      "outputs": [
        {
          "output_type": "stream",
          "name": "stdout",
          "text": [
            "Intercept [5.58143643e-11]\n",
            "Coefficients [[ 6.06185835e-06  1.56166718e-06  2.43967546e-09  2.08390848e-09\n",
            "  -7.60871663e-08 -6.31008014e-07  1.10289914e-09  7.04050304e-10\n",
            "   1.27997610e-05 -4.72362842e-09  8.01527303e-09  4.23188718e-07\n",
            "  -6.41431943e-07  2.13384982e-11  1.47509550e-10  3.16948657e-11\n",
            "   8.35084964e-10  1.24420428e-10 -6.10068063e-11 -2.16307669e-10\n",
            "  -4.11670841e-12  6.60410829e-11]]\n"
          ]
        }
      ]
    },
    {
      "cell_type": "code",
      "source": [
        "# PREDICTING ON TRAIN DATA\n",
        "# Predict output using X variables\n",
        "predict = logistic.predict(train_data_bal_logistic[['cust_num']+['loan_amt']+['curr_loan_amt_flag']+['term']+['cred_score']+['income']+\n",
        "                            ['job_years']+['delin_month_flag']+['emi']+['cred_years']+['open_acc']+['curr_bal']+['max_cred']+\n",
        "                            ['bankrupt']+['tax_lien']+['home_owned']+['home_rent']+['purp_business']+\n",
        "                            ['purp_car']+['purp_debt']+['purp_edu']+['small_business']])\n",
        "\n",
        "# Create confusion matrix and compare predicted values vs actual values of target variable\n",
        "\n",
        "cm = confusion_matrix(train_data_bal_logistic[['status_y']], predict)\n",
        "print('Confusion Matrix : \\n',cm)\n",
        "\n",
        "# Accuracy on train data\n",
        "total=sum(sum(cm))\n",
        "accuracy=(cm[0,0]+cm[1,1])/total\n",
        "print('accuracy =',accuracy)"
      ],
      "metadata": {
        "colab": {
          "base_uri": "https://localhost:8080/"
        },
        "id": "U1e5OgEVMOzR",
        "outputId": "739184c8-1e92-419b-e31d-06042edd5096"
      },
      "execution_count": null,
      "outputs": [
        {
          "output_type": "stream",
          "name": "stdout",
          "text": [
            "Confusion Matrix : \n",
            " [[28483 19087]\n",
            " [19647 25425]]\n",
            "accuracy = 0.5818959003475745\n"
          ]
        }
      ]
    },
    {
      "cell_type": "markdown",
      "source": [
        "The accuracy remains unchanged after dropping low impact varibales"
      ],
      "metadata": {
        "id": "bH27IlMxOd8K"
      }
    },
    {
      "cell_type": "code",
      "source": [
        "# PREDICTING ON TEST DATA\n",
        "# Predict output using X variables\n",
        "predict = logistic.predict(test_data_bal_logistic[['cust_num']+['loan_amt']+['curr_loan_amt_flag']+['term']+['cred_score']+['income']+\n",
        "                            ['job_years']+['delin_month_flag']+['emi']+['cred_years']+['open_acc']+['curr_bal']+['max_cred']+\n",
        "                            ['bankrupt']+['tax_lien']+['home_owned']+['home_rent']+['purp_business']+\n",
        "                            ['purp_car']+['purp_debt']+['purp_edu']+['small_business']])\n",
        "\n",
        "# Create confusion matrix and compare predicted values vs actual values of target variable\n",
        "cm = confusion_matrix(test_data_bal_logistic[['status_y']], predict)\n",
        "print('Confusion Matrix : \\n',cm)\n",
        "\n",
        "# Accuracy on train data\n",
        "total=sum(sum(cm))\n",
        "accuracy=(cm[0,0]+cm[1,1])/total\n",
        "print('accuracy =',accuracy)"
      ],
      "metadata": {
        "colab": {
          "base_uri": "https://localhost:8080/"
        },
        "id": "eCJRaZBEPMq3",
        "outputId": "2577ea74-6049-4268-f1bf-6a5bb4becb94"
      },
      "execution_count": null,
      "outputs": [
        {
          "output_type": "stream",
          "name": "stdout",
          "text": [
            "Confusion Matrix : \n",
            " [[6914 4876]\n",
            " [2038 2572]]\n",
            "accuracy = 0.5784146341463414\n"
          ]
        }
      ]
    },
    {
      "cell_type": "markdown",
      "source": [
        "Model accuracy = Test data accuracy. We can conclude that the model accuracy is 58%."
      ],
      "metadata": {
        "id": "kMMZHnPQP5Qr"
      }
    },
    {
      "cell_type": "markdown",
      "source": [
        "## Model Validation Parameters"
      ],
      "metadata": {
        "id": "RuK0bPCzP9o3"
      }
    },
    {
      "cell_type": "code",
      "source": [
        "# Confusion Matrix for Model 1 = cm\n",
        "\n",
        "# Sensitivity (Recall of Class 0)\n",
        "sensitivity1 = cm[0,0]/(cm[0,0]+cm[0,1])\n",
        "print('Sensitivity / Recall(0) : ', sensitivity1 )\n",
        "\n",
        "# Precision of Class 0\n",
        "precision1_0 = cm[0,0]/(cm[0,0]+cm[1,0])\n",
        "print('Precision Class 0 : ', precision1_0 )\n",
        "\n",
        "# F1 Score of Class 0\n",
        "F1_class0 = 2/((1/precision1_0)+(1/sensitivity1))\n",
        "print('F1 Score of CLass 0 : ', F1_class0 )\n",
        "\n",
        "# Specificity (Recall of Class 1)\n",
        "specificity1 = cm[1,1]/(cm[1,0]+cm[1,1])\n",
        "print('Specificity / Recall(1) : ', specificity1)\n",
        "\n",
        "# Precision of Class 1\n",
        "precision1_1 = cm[1,1]/(cm[0,1]+cm[1,1])\n",
        "print('Precision Class 1 : ', precision1_1 )\n",
        "\n",
        "# F1 Score of Class 1\n",
        "F1_class1 = 2/((1/precision1_1)+(1/specificity1))\n",
        "print('F1 Score of CLass 1 : ', F1_class1 )"
      ],
      "metadata": {
        "colab": {
          "base_uri": "https://localhost:8080/"
        },
        "id": "MnZWB3W8QDXD",
        "outputId": "612e8012-74cb-4631-c89e-642d48b3a364"
      },
      "execution_count": null,
      "outputs": [
        {
          "output_type": "stream",
          "name": "stdout",
          "text": [
            "Sensitivity / Recall(0) :  0.5864291772688719\n",
            "Precision Class 0 :  0.7723413762287757\n",
            "F1 Score of CLass 0 :  0.6666666666666666\n",
            "Specificity / Recall(1) :  0.5579175704989154\n",
            "Precision Class 1 :  0.34532760472610097\n",
            "F1 Score of CLass 1 :  0.42660474373859675\n"
          ]
        }
      ]
    },
    {
      "cell_type": "markdown",
      "source": [
        "Important class = Class 1. Parameter is Specificity = 55.6%. \n",
        "\n",
        "From 1.5% to 55.6% is a big leap in specificity. Sensitivity has declined, but it is not that important."
      ],
      "metadata": {
        "id": "c_II7rloQXn_"
      }
    },
    {
      "cell_type": "markdown",
      "source": [
        "# MODEL 2 : Logistic Regression with Threshold variation\n",
        "\n",
        "Build model on unbalanced data\n"
      ],
      "metadata": {
        "id": "QRcFTHWeQmc4"
      }
    },
    {
      "cell_type": "code",
      "source": [
        "# Feature engineered data with class imbalance\n",
        "cred_data2['status_y'].value_counts()"
      ],
      "metadata": {
        "colab": {
          "base_uri": "https://localhost:8080/"
        },
        "id": "q4t8FHwuRbVe",
        "outputId": "a20f1de2-7200-45e3-d9d3-fbf97051725e"
      },
      "execution_count": null,
      "outputs": [
        {
          "output_type": "execute_result",
          "data": {
            "text/plain": [
              "0    59360\n",
              "1    22639\n",
              "Name: status_y, dtype: int64"
            ]
          },
          "metadata": {},
          "execution_count": 151
        }
      ]
    },
    {
      "cell_type": "code",
      "source": [
        "# Build continuous prediction model\n",
        "model_formula = 'status_y ~ cust_num + loan_amt + curr_loan_amt_flag + term + cred_score + income + job_years + delin_month_flag + emi + cred_years + open_acc + curr_bal + max_cred + bankrupt + tax_lien + home_owned + home_rent + purp_business + purp_car + purp_debt + purp_edu + small_business'\n",
        "\n",
        "import statsmodels.formula.api as sm\n",
        "\n",
        "prediction_model=sm.logit(model_formula, data=cred_data2)\n",
        "results=prediction_model.fit()\n",
        "\n",
        "predictions = results.predict()\n",
        "# We got the continuous predicted values of the logistic regression model for all the records"
      ],
      "metadata": {
        "colab": {
          "base_uri": "https://localhost:8080/"
        },
        "id": "z7uytOmrRtnm",
        "outputId": "c4eb7692-c4d2-4b45-b43d-fbd3cb714a82"
      },
      "execution_count": null,
      "outputs": [
        {
          "output_type": "stream",
          "name": "stdout",
          "text": [
            "Warning: Maximum number of iterations has been exceeded.\n",
            "         Current function value: 0.520330\n",
            "         Iterations: 35\n"
          ]
        },
        {
          "output_type": "stream",
          "name": "stderr",
          "text": [
            "/usr/local/lib/python3.7/dist-packages/statsmodels/base/model.py:568: ConvergenceWarning: Maximum Likelihood optimization failed to converge. Check mle_retvals\n",
            "  ConvergenceWarning)\n"
          ]
        }
      ]
    },
    {
      "cell_type": "code",
      "source": [
        "print(prediction_model.fit().summary())"
      ],
      "metadata": {
        "colab": {
          "base_uri": "https://localhost:8080/"
        },
        "id": "LnFdz1OT5mzr",
        "outputId": "3ee12490-f661-45f1-f013-91c751974e18"
      },
      "execution_count": null,
      "outputs": [
        {
          "output_type": "stream",
          "name": "stdout",
          "text": [
            "Warning: Maximum number of iterations has been exceeded.\n",
            "         Current function value: 0.520330\n",
            "         Iterations: 35\n"
          ]
        },
        {
          "output_type": "stream",
          "name": "stderr",
          "text": [
            "/usr/local/lib/python3.7/dist-packages/statsmodels/base/model.py:568: ConvergenceWarning: Maximum Likelihood optimization failed to converge. Check mle_retvals\n",
            "  ConvergenceWarning)\n"
          ]
        },
        {
          "output_type": "stream",
          "name": "stdout",
          "text": [
            "                           Logit Regression Results                           \n",
            "==============================================================================\n",
            "Dep. Variable:               status_y   No. Observations:                81999\n",
            "Model:                          Logit   Df Residuals:                    81976\n",
            "Method:                           MLE   Df Model:                           22\n",
            "Date:                Mon, 07 Nov 2022   Pseudo R-squ.:                  0.1169\n",
            "Time:                        11:56:00   Log-Likelihood:                -42667.\n",
            "converged:                      False   LL-Null:                       -48316.\n",
            "Covariance Type:            nonrobust   LLR p-value:                     0.000\n",
            "======================================================================================\n",
            "                         coef    std err          z      P>|z|      [0.025      0.975]\n",
            "--------------------------------------------------------------------------------------\n",
            "Intercept            -21.8464   2473.730     -0.009      0.993   -4870.269    4826.576\n",
            "cust_num            8.645e-06   4.25e-07     20.356      0.000    7.81e-06    9.48e-06\n",
            "loan_amt             6.98e-07   6.07e-08     11.496      0.000    5.79e-07    8.17e-07\n",
            "curr_loan_amt_flag    23.8522   2473.730      0.010      0.992   -4824.570    4872.274\n",
            "term                   0.6885      0.022     31.606      0.000       0.646       0.731\n",
            "cred_score            -0.0045      0.000    -12.324      0.000      -0.005      -0.004\n",
            "income             -5.732e-07   2.19e-08    -26.173      0.000   -6.16e-07    -5.3e-07\n",
            "job_years              0.0074      0.002      3.397      0.001       0.003       0.012\n",
            "delin_month_flag       0.2378      0.021     11.480      0.000       0.197       0.278\n",
            "emi                 7.379e-06      1e-06      7.356      0.000    5.41e-06    9.35e-06\n",
            "cred_years            -0.0044      0.001     -3.373      0.001      -0.007      -0.002\n",
            "open_acc               0.0216      0.002     10.640      0.000       0.018       0.026\n",
            "curr_bal            4.225e-07    4.6e-08      9.182      0.000    3.32e-07    5.13e-07\n",
            "max_cred           -5.331e-07   2.77e-08    -19.252      0.000   -5.87e-07   -4.79e-07\n",
            "bankrupt              -0.0117      0.025     -0.477      0.634      -0.060       0.036\n",
            "tax_lien               0.1182      0.031      3.853      0.000       0.058       0.178\n",
            "home_owned             0.1683      0.030      5.578      0.000       0.109       0.227\n",
            "home_rent              0.3152      0.019     16.870      0.000       0.279       0.352\n",
            "purp_business          0.4288      0.066      6.522      0.000       0.300       0.558\n",
            "purp_car              -0.4286      0.084     -5.088      0.000      -0.594      -0.263\n",
            "purp_debt             -0.0791      0.023     -3.502      0.000      -0.123      -0.035\n",
            "purp_edu              -0.2776      0.279     -0.995      0.320      -0.824       0.269\n",
            "small_business         1.0234      0.148      6.931      0.000       0.734       1.313\n",
            "======================================================================================\n",
            "\n",
            "Possibly complete quasi-separation: A fraction 0.12 of observations can be\n",
            "perfectly predicted. This might indicate that there is complete\n",
            "quasi-separation. In this case some parameters will not be identified.\n"
          ]
        }
      ]
    },
    {
      "cell_type": "markdown",
      "source": [
        "## ROC Curve and AUC"
      ],
      "metadata": {
        "id": "2qAOFqufVlIL"
      }
    },
    {
      "cell_type": "code",
      "source": [
        "from sklearn.metrics import roc_curve, auc\n",
        "import matplotlib.pyplot as plt\n",
        "\n",
        "actual = cred_data2['status_y']\n",
        "false_positive_rate, true_positive_rate, thresholds = roc_curve(actual, predictions)\n",
        "\n",
        "plt.title('ROC Curve')\n",
        "#Drawing ROC Curve\n",
        "plt.plot(false_positive_rate, true_positive_rate)\n",
        "\n",
        "#X and Y  Axis Limits \n",
        "plt.xlim([-0,1])\n",
        "plt.ylim([-0,1])\n",
        "\n",
        "# Labels \n",
        "plt.ylabel('True Positive Rate (Sensitivity)')\n",
        "plt.xlabel('False Positive Rate (1 - Specificity)')\n",
        "plt.show()\n",
        "\n",
        "roc_auc = auc(false_positive_rate, true_positive_rate)\n",
        "print('AUC : ', roc_auc)"
      ],
      "metadata": {
        "colab": {
          "base_uri": "https://localhost:8080/",
          "height": 312
        },
        "id": "8BBs5dlJVqZh",
        "outputId": "123141f5-eb7f-4416-d755-67af74e659b9"
      },
      "execution_count": null,
      "outputs": [
        {
          "output_type": "display_data",
          "data": {
            "text/plain": [
              "<Figure size 432x288 with 1 Axes>"
            ],
            "image/png": "[encoded data removed]"
          },
          "metadata": {
            "needs_background": "light"
          }
        },
        {
          "output_type": "stream",
          "name": "stdout",
          "text": [
            "AUC :  0.7073495921095541\n"
          ]
        }
      ]
    },
    {
      "cell_type": "markdown",
      "source": [
        "## Handling Class Imbalance with Threshold variation"
      ],
      "metadata": {
        "id": "vDAr3Wy5ZYTj"
      }
    },
    {
      "cell_type": "code",
      "source": [
        "# Converting predicted values into classes using new threshold\n",
        "threshold=0.25\n",
        "predicted_class=[ 0 if x < threshold else 1 for x in predictions]\n",
        "\n",
        "# Confusion matrix and Accuracy\n",
        "\n",
        "cm = confusion_matrix(cred_data2['status_y'], predicted_class)\n",
        "print('Confusion Matrix : \\n', cm)\n",
        "\n",
        "total=sum(sum(cm))\n",
        "\n",
        "accuracy=(cm[0,0]+cm[1,1])/total\n",
        "print ('Accuracy : ', accuracy)"
      ],
      "metadata": {
        "colab": {
          "base_uri": "https://localhost:8080/"
        },
        "id": "NZoO6cS3Za34",
        "outputId": "8ac6e1b5-89c1-4565-83b6-7daf380e9479"
      },
      "execution_count": null,
      "outputs": [
        {
          "output_type": "stream",
          "name": "stdout",
          "text": [
            "Confusion Matrix : \n",
            " [[27771 31589]\n",
            " [ 4339 18300]]\n",
            "Accuracy :  0.5618483152233564\n"
          ]
        }
      ]
    },
    {
      "cell_type": "markdown",
      "source": [
        "## Model Validation Parameters"
      ],
      "metadata": {
        "id": "srILbf1iaf3k"
      }
    },
    {
      "cell_type": "code",
      "source": [
        "# Sensitivity (Recall of Class 0)\n",
        "sensitivity = cm[0,0]/(cm[0,0]+cm[0,1])\n",
        "print('Sensitivity / Recall(0) : ', sensitivity )\n",
        "\n",
        "# Precision of Class 0\n",
        "precision_0 = cm[0,0]/(cm[0,0]+cm[1,0])\n",
        "print('Precision Class 0 : ', precision_0 )\n",
        "\n",
        "# F1 Score of Class 0\n",
        "F1_class0 = 2/((1/precision_0)+(1/sensitivity))\n",
        "print('F1 Score of CLass 0 : ', F1_class0 )\n",
        "\n",
        "# Specificity (Recall of Class 1)\n",
        "specificity = cm[1,1]/(cm[1,0]+cm[1,1])\n",
        "print('Specificity / Recall(1) : ', specificity)\n",
        "\n",
        "# Precision of Class 1\n",
        "precision_1 = cm[1,1]/(cm[0,1]+cm[1,1])\n",
        "print('Precision Class 1 : ', precision_1 )\n",
        "\n",
        "# F1 Score of Class 1\n",
        "F1_class1 = 2/((1/precision_1)+(1/specificity))\n",
        "print('F1 Score of CLass 1 : ', F1_class1 )"
      ],
      "metadata": {
        "colab": {
          "base_uri": "https://localhost:8080/"
        },
        "id": "FXC1yOeOapU1",
        "outputId": "30401080-7307-42c1-866f-aae7cf86ead3"
      },
      "execution_count": null,
      "outputs": [
        {
          "output_type": "stream",
          "name": "stdout",
          "text": [
            "Sensitivity / Recall(0) :  0.4678402964959569\n",
            "Precision Class 0 :  0.8648707567735908\n",
            "F1 Score of CLass 0 :  0.607215480485405\n",
            "Specificity / Recall(1) :  0.8083395909713327\n",
            "Precision Class 1 :  0.36681432780773315\n",
            "F1 Score of CLass 1 :  0.5046326935804103\n"
          ]
        }
      ]
    },
    {
      "cell_type": "markdown",
      "source": [
        "FINDINGS : At Threshold = 0.25 we are getting Specificity of 80.8% with sensitivity as 46.8%."
      ],
      "metadata": {
        "id": "FaTZamvWcJDg"
      }
    },
    {
      "cell_type": "markdown",
      "source": [
        "# MODEL 3 : Decision Tree"
      ],
      "metadata": {
        "id": "D71JhFd-eWNl"
      }
    },
    {
      "cell_type": "markdown",
      "source": [
        "## Decision Tree with unbalanced data"
      ],
      "metadata": {
        "id": "SrEVXPKaZE6z"
      }
    },
    {
      "cell_type": "code",
      "source": [
        "# Building a Decision Tree with unbalanced data\n",
        "\n",
        "from sklearn import tree\n",
        "\n",
        "dtree_model = tree.DecisionTreeClassifier(max_leaf_nodes = 12) # 18, 12\n",
        "dtree_model.fit(X_train2, y_train2)\n",
        "\n",
        "train_acc= dtree_model.score(X_train2, y_train2)\n",
        "print(\"train_accuracy\", train_acc)\n",
        "\n",
        "test_acc= dtree_model.score(X_test,y_test)\n",
        "print(\"test_accuracy\", test_acc)\n",
        "\n",
        "print(\"Difference %\", round((train_acc-test_acc)*100, 4))"
      ],
      "metadata": {
        "colab": {
          "base_uri": "https://localhost:8080/"
        },
        "id": "vagymw6MZLA0",
        "outputId": "05434314-99fd-400e-d220-a85a1e7baed1"
      },
      "execution_count": 167,
      "outputs": [
        {
          "output_type": "stream",
          "name": "stdout",
          "text": [
            "train_accuracy 0.7360935380112502\n",
            "test_accuracy 0.7323780487804878\n",
            "Difference % 0.3715\n"
          ]
        }
      ]
    },
    {
      "cell_type": "code",
      "source": [
        "# Predict on test data and create a confusion matrix\n",
        "\n",
        "predict = dtree_model.predict(X_test)\n",
        "\n",
        "cm = confusion_matrix(y_test, predict)\n",
        "print('Confusion matrix : \\n', cm)"
      ],
      "metadata": {
        "colab": {
          "base_uri": "https://localhost:8080/"
        },
        "id": "qtbtlUqLaUZM",
        "outputId": "0662aec1-bbda-404f-a5a3-66402a8853cd"
      },
      "execution_count": 168,
      "outputs": [
        {
          "output_type": "stream",
          "name": "stdout",
          "text": [
            "Confusion matrix : \n",
            " [[11587   203]\n",
            " [ 4186   424]]\n"
          ]
        }
      ]
    },
    {
      "cell_type": "markdown",
      "source": [
        "## Model Validation Parameters"
      ],
      "metadata": {
        "id": "r_A2E1DZaxq7"
      }
    },
    {
      "cell_type": "code",
      "source": [
        "# Sensitivity (Recall of Class 0)\n",
        "sensitivity = cm[0,0]/(cm[0,0]+cm[0,1])\n",
        "print('Sensitivity / Recall(0) : ', sensitivity )\n",
        "\n",
        "# Precision of Class 0\n",
        "precision_0 = cm[0,0]/(cm[0,0]+cm[1,0])\n",
        "print('Precision Class 0 : ', precision_0 )\n",
        "\n",
        "# F1 Score of Class 0\n",
        "F1_class0 = 2/((1/precision_0)+(1/sensitivity))\n",
        "print('F1 Score of CLass 0 : ', F1_class0 )\n",
        "\n",
        "# Specificity (Recall of Class 1)\n",
        "specificity = cm[1,1]/(cm[1,0]+cm[1,1])\n",
        "print('Specificity / Recall(1) : ', specificity)\n",
        "\n",
        "# Precision of Class 1\n",
        "precision_1 = cm[1,1]/(cm[0,1]+cm[1,1])\n",
        "print('Precision Class 1 : ', precision_1 )\n",
        "\n",
        "# F1 Score of Class 1\n",
        "F1_class1 = 2/((1/precision_1)+(1/specificity))\n",
        "print('F1 Score of CLass 1 : ', F1_class1 )"
      ],
      "metadata": {
        "colab": {
          "base_uri": "https://localhost:8080/"
        },
        "id": "RY6Nnwtza2Z_",
        "outputId": "82b43df8-f5fb-4720-bcdc-16f823f6e4ea"
      },
      "execution_count": 169,
      "outputs": [
        {
          "output_type": "stream",
          "name": "stdout",
          "text": [
            "Sensitivity / Recall(0) :  0.9827820186598812\n",
            "Precision Class 0 :  0.7346097761998351\n",
            "F1 Score of CLass 0 :  0.8407647933824328\n",
            "Specificity / Recall(1) :  0.09197396963123644\n",
            "Precision Class 1 :  0.6762360446570973\n",
            "F1 Score of CLass 1 :  0.16192476608745465\n"
          ]
        }
      ]
    },
    {
      "cell_type": "markdown",
      "source": [
        "Findings : Model accuracy is 73.2 %. But if we check the class wise accuracy we find that sensitivity is very high at 98.3%. But, like Logistic regression, specificity is very low at 9.2%. We need to build the model with balanced train data so that it can pick up the patterns in minority class 1, which is important to us."
      ],
      "metadata": {
        "id": "OYn5cZl2a_x6"
      }
    },
    {
      "cell_type": "markdown",
      "source": [
        "## Decision Tree with balanced data"
      ],
      "metadata": {
        "id": "XZFC9Z1Ca__a"
      }
    },
    {
      "cell_type": "code",
      "source": [
        "# Building a Decision Tree with unbalanced data\n",
        "\n",
        "from sklearn import tree\n",
        "\n",
        "dtree_model = tree.DecisionTreeClassifier(max_leaf_nodes = 12) # 18, 12\n",
        "dtree_model.fit(X_train,y_train)\n",
        "\n",
        "train_acc= dtree_model.score(X_train,y_train)\n",
        "print(\"train_accuracy\", train_acc)\n",
        "\n",
        "test_acc= dtree_model.score(X_test,y_test)\n",
        "print(\"test_accuracy\", test_acc)\n",
        "\n",
        "print(\"Difference %\", round((train_acc-test_acc)*100, 4))"
      ],
      "metadata": {
        "colab": {
          "base_uri": "https://localhost:8080/"
        },
        "id": "pfUvT7Y36bMy",
        "outputId": "e4652ded-4e80-4993-c2e3-9f1e896697b7"
      },
      "execution_count": null,
      "outputs": [
        {
          "output_type": "stream",
          "name": "stdout",
          "text": [
            "train_accuracy 0.6371624101379504\n",
            "test_accuracy 0.6222560975609757\n",
            "Difference % 1.4906\n"
          ]
        }
      ]
    },
    {
      "cell_type": "markdown",
      "source": [
        "Decision Tree with max_leaf_nodes = 12 gives the highest accuracy of 62.2%."
      ],
      "metadata": {
        "id": "TbLGf9zb_5hV"
      }
    },
    {
      "cell_type": "code",
      "source": [
        "# Create confusion matrix\n",
        "\n",
        "predict = dtree_model.predict(X_test)\n",
        "\n",
        "cm = confusion_matrix(y_test, predict)\n",
        "print('Confusion matrix : \\n', cm)"
      ],
      "metadata": {
        "colab": {
          "base_uri": "https://localhost:8080/"
        },
        "id": "mHY6gFlD6boD",
        "outputId": "8b8cb4c5-fc02-40e7-c14e-ad6372c0cd24"
      },
      "execution_count": null,
      "outputs": [
        {
          "output_type": "stream",
          "name": "stdout",
          "text": [
            "Confusion matrix : \n",
            " [[7143 4647]\n",
            " [1548 3062]]\n"
          ]
        }
      ]
    },
    {
      "cell_type": "markdown",
      "source": [
        "## Model Validation Parameters"
      ],
      "metadata": {
        "id": "UXDnRU_SCJvG"
      }
    },
    {
      "cell_type": "code",
      "source": [
        "# Sensitivity (Recall of Class 0)\n",
        "sensitivity = cm[0,0]/(cm[0,0]+cm[0,1])\n",
        "print('Sensitivity / Recall(0) : ', sensitivity )\n",
        "\n",
        "# Precision of Class 0\n",
        "precision_0 = cm[0,0]/(cm[0,0]+cm[1,0])\n",
        "print('Precision Class 0 : ', precision_0 )\n",
        "\n",
        "# F1 Score of Class 0\n",
        "F1_class0 = 2/((1/precision_0)+(1/sensitivity))\n",
        "print('F1 Score of CLass 0 : ', F1_class0 )\n",
        "\n",
        "# Specificity (Recall of Class 1)\n",
        "specificity = cm[1,1]/(cm[1,0]+cm[1,1])\n",
        "print('Specificity / Recall(1) : ', specificity)\n",
        "\n",
        "# Precision of Class 1\n",
        "precision_1 = cm[1,1]/(cm[0,1]+cm[1,1])\n",
        "print('Precision Class 1 : ', precision_1 )\n",
        "\n",
        "# F1 Score of Class 1\n",
        "F1_class1 = 2/((1/precision_1)+(1/specificity))\n",
        "print('F1 Score of CLass 1 : ', F1_class1 )"
      ],
      "metadata": {
        "colab": {
          "base_uri": "https://localhost:8080/"
        },
        "id": "3WHfBN2t6cYd",
        "outputId": "834f3b90-d21b-4fb8-9e5d-c8a54eed7f47"
      },
      "execution_count": null,
      "outputs": [
        {
          "output_type": "stream",
          "name": "stdout",
          "text": [
            "Sensitivity / Recall(0) :  0.6058524173027989\n",
            "Precision Class 0 :  0.8218847083189507\n",
            "F1 Score of CLass 0 :  0.6975245349348177\n",
            "Specificity / Recall(1) :  0.6642082429501085\n",
            "Precision Class 1 :  0.3971980801660397\n",
            "F1 Score of CLass 1 :  0.49711827258706065\n"
          ]
        }
      ]
    },
    {
      "cell_type": "markdown",
      "source": [
        "## K-Fold validation\n",
        "10 fold validation"
      ],
      "metadata": {
        "id": "DO09bsS9dGrS"
      }
    },
    {
      "cell_type": "code",
      "source": [
        "tree_KF = tree.DecisionTreeClassifier()\n",
        "\n",
        "#Simple K-Fold cross validation. 10 folds on Test data.\n",
        "from sklearn.model_selection import KFold\n",
        "kfold_models = KFold(n_splits=10)\n",
        "\n",
        "from sklearn import model_selection\n",
        "scores = model_selection.cross_val_score(tree_KF,X_test, y_test,cv=kfold_models)\n",
        "print(scores)\n",
        "print(\"Avg K-Fold Accuracy\", scores.mean())"
      ],
      "metadata": {
        "colab": {
          "base_uri": "https://localhost:8080/"
        },
        "id": "gq7jGwiHdHKJ",
        "outputId": "f69fda07-2dfc-423e-ab0f-8d59dd7302b4"
      },
      "execution_count": null,
      "outputs": [
        {
          "output_type": "stream",
          "name": "stdout",
          "text": [
            "[0.64207317 0.65731707 0.67317073 0.65914634 0.65365854 0.62987805\n",
            " 0.63170732 0.63414634 0.6554878  0.65853659]\n",
            "Avg K-Fold Accuracy 0.6495121951219512\n"
          ]
        }
      ]
    },
    {
      "cell_type": "markdown",
      "source": [
        "The optimum accuracy we can obtain from this dataset using decision trees is around 65%. We obtained accuracy of 62.2% which is close to this."
      ],
      "metadata": {
        "id": "RLndM0E8d6fY"
      }
    },
    {
      "cell_type": "markdown",
      "source": [
        "## Plotting the Decision Tree"
      ],
      "metadata": {
        "id": "c5w-jj4NbyHf"
      }
    },
    {
      "cell_type": "code",
      "source": [
        "##Plotting the trees \n",
        "import matplotlib.pyplot as plt\n",
        "from sklearn.tree import plot_tree, export_text\n",
        "plt.figure(figsize=(18,12))\n",
        "plot_tree(dtree_model, filled=True, \n",
        "                     rounded=True,\n",
        "                     impurity=False,\n",
        "                     feature_names = features)\n",
        "print( export_text(dtree_model, feature_names = features))"
      ],
      "metadata": {
        "colab": {
          "base_uri": "https://localhost:8080/",
          "height": 1000
        },
        "id": "9aFEGbT2ZliK",
        "outputId": "47bd41b9-1b55-4c84-f38c-7871d614ef3b"
      },
      "execution_count": null,
      "outputs": [
        {
          "output_type": "stream",
          "name": "stdout",
          "text": [
            "|--- curr_loan_amt_flag <= 0.50\n",
            "|   |--- class: 0\n",
            "|--- curr_loan_amt_flag >  0.50\n",
            "|   |--- term <= 0.50\n",
            "|   |   |--- cred_score <= 739.50\n",
            "|   |   |   |--- income <= 1121798.00\n",
            "|   |   |   |   |--- class: 1\n",
            "|   |   |   |--- income >  1121798.00\n",
            "|   |   |   |   |--- max_cred <= 382118.00\n",
            "|   |   |   |   |   |--- cust_num <= 65806.50\n",
            "|   |   |   |   |   |   |--- class: 0\n",
            "|   |   |   |   |   |--- cust_num >  65806.50\n",
            "|   |   |   |   |   |   |--- class: 1\n",
            "|   |   |   |   |--- max_cred >  382118.00\n",
            "|   |   |   |   |   |--- class: 0\n",
            "|   |   |--- cred_score >  739.50\n",
            "|   |   |   |--- cred_score <= 746.50\n",
            "|   |   |   |   |--- income <= 1138518.00\n",
            "|   |   |   |   |   |--- class: 0\n",
            "|   |   |   |   |--- income >  1138518.00\n",
            "|   |   |   |   |   |--- class: 0\n",
            "|   |   |   |--- cred_score >  746.50\n",
            "|   |   |   |   |--- class: 0\n",
            "|   |--- term >  0.50\n",
            "|   |   |--- credit_score_flag <= 0.50\n",
            "|   |   |   |--- class: 1\n",
            "|   |   |--- credit_score_flag >  0.50\n",
            "|   |   |   |--- income <= 1167863.50\n",
            "|   |   |   |   |--- class: 1\n",
            "|   |   |   |--- income >  1167863.50\n",
            "|   |   |   |   |--- cred_score <= 698.50\n",
            "|   |   |   |   |   |--- class: 1\n",
            "|   |   |   |   |--- cred_score >  698.50\n",
            "|   |   |   |   |   |--- class: 1\n",
            "\n"
          ]
        },
        {
          "output_type": "display_data",
          "data": {
            "text/plain": [
              "<Figure size 1296x864 with 1 Axes>"
            ],
            "image/png": "[encoded data removed]"
          },
          "metadata": {
            "needs_background": "light"
          }
        }
      ]
    },
    {
      "cell_type": "markdown",
      "source": [
        "# MODEL FINALIZATION"
      ],
      "metadata": {
        "id": "MJTeTioQcQ16"
      }
    },
    {
      "cell_type": "markdown",
      "source": [
        "## Model Comparison\n",
        "\n",
        "\n",
        "|Model no\t|Model Description\t\t\t\t|Accuracy\t|Sensitivity\t|Specificity\t|\n",
        "|:----------|:------------------------------|:----------|:--------------|:--------------|\n",
        "|1\t\t\t|Logistic Regression\t\t\t|58.0\t\t|59.2\t\t\t|55.0\t\t\t|\n",
        "|2\t\t\t|Logistic Reg. threshold = 0.25\t|56.2\t\t|46.8\t\t    |80.8           |\n",
        "|3\t\t\t|Decision Tree\t\t\t\t\t|62.2\t\t|60.6\t\t    |66.4           |\n",
        "\n",
        "\n",
        "\n",
        "##### From this data we can select MODEL-3 Decision Tree as the best model considering overall results.\n",
        "------------------\n"
      ],
      "metadata": {
        "id": "Qcg5EcpdcWUR"
      }
    }
  ]
}